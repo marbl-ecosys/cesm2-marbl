{
 "cells": [
  {
   "cell_type": "code",
   "execution_count": 1,
   "id": "polish-pursuit",
   "metadata": {},
   "outputs": [],
   "source": [
    "%load_ext autoreload\n",
    "%autoreload 2"
   ]
  },
  {
   "cell_type": "code",
   "execution_count": 2,
   "id": "about-moscow",
   "metadata": {},
   "outputs": [],
   "source": [
    "import os\n",
    "\n",
    "from itertools import product\n",
    "\n",
    "import pandas as pd\n",
    "import numpy as np\n",
    "import xarray as xr\n",
    "\n",
    "import matplotlib.pyplot as plt\n",
    "import matplotlib.gridspec as gridspec\n",
    "import matplotlib.colors as colors\n",
    "import cmocean\n",
    "\n",
    "import cartopy\n",
    "import cartopy.crs as ccrs\n",
    "\n",
    "import xpersist as xp\n",
    "cache_dir = '/glade/p/cgd/oce/projects/cesm2-marbl/xpersist_cache/3d_fields'\n",
    "if (os.path.isdir(cache_dir)):\n",
    "    xp.settings['cache_dir'] = cache_dir\n",
    "os.makedirs(cache_dir, exist_ok=True)\n",
    "\n",
    "os.environ['CESMDATAROOT'] = '/glade/scratch/mclong/inputdata'\n",
    "import pop_tools\n",
    "\n",
    "import climo_utils as cu\n",
    "import utils\n",
    "import calc\n",
    "\n",
    "import plot"
   ]
  },
  {
   "cell_type": "code",
   "execution_count": 3,
   "id": "senior-current",
   "metadata": {},
   "outputs": [
    {
     "data": {
      "text/html": [
       "<table style=\"border: 2px solid white;\">\n",
       "<tr>\n",
       "<td style=\"vertical-align: top; border: 0px solid white\">\n",
       "<h3 style=\"text-align: left;\">Client</h3>\n",
       "<ul style=\"text-align: left; list-style: none; margin: 0; padding: 0;\">\n",
       "  <li><b>Scheduler: </b>tcp://10.12.205.24:45593</li>\n",
       "  <li><b>Dashboard: </b><a href='https://jupyterhub.hpc.ucar.edu/stable/user/mclong/proxy/8787/status' target='_blank'>https://jupyterhub.hpc.ucar.edu/stable/user/mclong/proxy/8787/status</a>\n",
       "</ul>\n",
       "</td>\n",
       "<td style=\"vertical-align: top; border: 0px solid white\">\n",
       "<h3 style=\"text-align: left;\">Cluster</h3>\n",
       "<ul style=\"text-align: left; list-style:none; margin: 0; padding: 0;\">\n",
       "  <li><b>Workers: </b>0</li>\n",
       "  <li><b>Cores: </b>0</li>\n",
       "  <li><b>Memory: </b>0 B</li>\n",
       "</ul>\n",
       "</td>\n",
       "</tr>\n",
       "</table>"
      ],
      "text/plain": [
       "<Client: 'tcp://10.12.205.24:45593' processes=0 threads=0, memory=0 B>"
      ]
     },
     "execution_count": 3,
     "metadata": {},
     "output_type": "execute_result"
    }
   ],
   "source": [
    "cluster, client = utils.get_ClusterClient()\n",
    "cluster.scale(12) #adapt(minimum_jobs=0, maximum_jobs=24)\n",
    "client"
   ]
  },
  {
   "cell_type": "code",
   "execution_count": 4,
   "id": "rapid-serial",
   "metadata": {},
   "outputs": [
    {
     "name": "stderr",
     "output_type": "stream",
     "text": [
      "/glade/work/mclong/miniconda3/envs/co2-hole/lib/python3.7/site-packages/numba/np/ufunc/parallel.py:363: NumbaWarning: The TBB threading layer requires TBB version 2019.5 or later i.e., TBB_INTERFACE_VERSION >= 11005. Found TBB_INTERFACE_VERSION = 6103. The TBB threading layer is disabled.\n",
      "  warnings.warn(problem)\n"
     ]
    }
   ],
   "source": [
    "ds_grid = pop_tools.get_grid('POP_gx1v7')"
   ]
  },
  {
   "cell_type": "code",
   "execution_count": 5,
   "id": "objective-short",
   "metadata": {},
   "outputs": [],
   "source": [
    "def monthly_clim(ds):\n",
    "    return ds.groupby('time.month').mean('time')"
   ]
  },
  {
   "cell_type": "code",
   "execution_count": 6,
   "id": "curious-adrian",
   "metadata": {},
   "outputs": [
    {
     "name": "stdout",
     "output_type": "stream",
     "text": [
      "assuming cache is correct\n",
      "reading cached file: /glade/p/cgd/oce/projects/cesm2-marbl/xpersist_cache/3d_fields/mld-moc-TEMP.nc\n",
      "assuming cache is correct\n",
      "reading cached file: /glade/p/cgd/oce/projects/cesm2-marbl/xpersist_cache/3d_fields/mld-moc-SALT.nc\n"
     ]
    }
   ],
   "source": [
    "time_slice = slice(\"1990-01-15\", \"2015-01-15\")\n",
    "varlist = [\n",
    "    'TEMP',\n",
    "    'SALT',    \n",
    "]\n",
    "ds_list = []\n",
    "for variable in varlist:\n",
    "    xp_func = xp.persist_ds(cu.read_CESM_var, name=f'mld-moc-{variable}', trust_cache=True)    \n",
    "    ds_list.append(xp_func(\n",
    "        time_slice, \n",
    "        variable, \n",
    "        postprocess=monthly_clim,\n",
    "    ))\n",
    "    \n",
    "ds = xr.merge(ds_list)\n",
    "#dsp = utils.pop_add_cyclic(ds)\n",
    "#dsp.info()"
   ]
  },
  {
   "cell_type": "code",
   "execution_count": null,
   "id": "stuck-strap",
   "metadata": {},
   "outputs": [],
   "source": [
    "xp_func = xp.persist_ds(calc.mld_dsigma, name='historical-mld-moc-MLD_03', trust_cache=True)    \n",
    "mld_03 = xp_func(ds.SALT, ds.TEMP, ds_grid.KMT, dsigma=0.03)\n",
    "mld_03"
   ]
  },
  {
   "cell_type": "code",
   "execution_count": null,
   "id": "green-hardware",
   "metadata": {},
   "outputs": [],
   "source": [
    "xp_func = xp.persist_ds(calc.mld_dsigma, name='historical-mld-moc-MLD_125', trust_cache=True)    \n",
    "mld_125 = xp_func(ds.SALT, ds.TEMP, ds_grid.KMT, dsigma=0.125)\n",
    "mld_125"
   ]
  },
  {
   "cell_type": "code",
   "execution_count": null,
   "id": "incoming-special",
   "metadata": {},
   "outputs": [],
   "source": []
  },
  {
   "cell_type": "code",
   "execution_count": null,
   "id": "signed-twist",
   "metadata": {},
   "outputs": [],
   "source": []
  },
  {
   "cell_type": "code",
   "execution_count": null,
   "id": "eleven-bibliography",
   "metadata": {},
   "outputs": [],
   "source": []
  }
 ],
 "metadata": {
  "kernelspec": {
   "display_name": "Python [conda env:miniconda3-co2-hole]",
   "language": "python",
   "name": "conda-env-miniconda3-co2-hole-py"
  },
  "language_info": {
   "codemirror_mode": {
    "name": "ipython",
    "version": 3
   },
   "file_extension": ".py",
   "mimetype": "text/x-python",
   "name": "python",
   "nbconvert_exporter": "python",
   "pygments_lexer": "ipython3",
   "version": "3.7.8"
  }
 },
 "nbformat": 4,
 "nbformat_minor": 5
}
