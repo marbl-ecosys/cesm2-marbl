{
 "cells": [
  {
   "cell_type": "markdown",
   "metadata": {},
   "source": [
    "# Data collections used in this project\n",
    "\n",
    "This notebook documents some basic commands to access collections."
   ]
  },
  {
   "cell_type": "code",
   "execution_count": 1,
   "metadata": {},
   "outputs": [],
   "source": [
    "import intake\n",
    "import intake_esm"
   ]
  },
  {
   "cell_type": "markdown",
   "metadata": {},
   "source": [
    "`intake_esm` has a configuration file: .intake_esm/config.yaml\n",
    "\n",
    "This specifies the location of collection files."
   ]
  },
  {
   "cell_type": "code",
   "execution_count": 2,
   "metadata": {},
   "outputs": [
    {
     "name": "stdout",
     "output_type": "stream",
     "text": [
      "data-cache-directory: /glade/p/cgd/oce/projects/cesm2-marbl/intake-esm-data\n",
      "database-directory: /glade/p/cgd/oce/projects/cesm2-marbl/collections\n"
     ]
    }
   ],
   "source": [
    "for key in ['data-cache-directory', 'database-directory']:\n",
    "    print(f'{key}: {intake_esm.config.get(key)}')"
   ]
  },
  {
   "cell_type": "markdown",
   "metadata": {},
   "source": [
    "## Collections"
   ]
  },
  {
   "cell_type": "code",
   "execution_count": 3,
   "metadata": {},
   "outputs": [
    {
     "data": {
      "text/html": [
       "<div>\n",
       "<style scoped>\n",
       "    .dataframe tbody tr th:only-of-type {\n",
       "        vertical-align: middle;\n",
       "    }\n",
       "\n",
       "    .dataframe tbody tr th {\n",
       "        vertical-align: top;\n",
       "    }\n",
       "\n",
       "    .dataframe thead th {\n",
       "        text-align: right;\n",
       "    }\n",
       "</style>\n",
       "<table border=\"1\" class=\"dataframe\">\n",
       "  <thead>\n",
       "    <tr style=\"text-align: right;\">\n",
       "      <th></th>\n",
       "      <th>resource</th>\n",
       "      <th>resource_type</th>\n",
       "      <th>direct_access</th>\n",
       "      <th>experiment</th>\n",
       "      <th>case</th>\n",
       "      <th>component</th>\n",
       "      <th>stream</th>\n",
       "      <th>variable</th>\n",
       "      <th>date_range</th>\n",
       "      <th>member_id</th>\n",
       "      <th>file_fullpath</th>\n",
       "      <th>file_basename</th>\n",
       "      <th>ctrl_branch_year</th>\n",
       "      <th>year_offset</th>\n",
       "      <th>sequence_order</th>\n",
       "      <th>grid</th>\n",
       "    </tr>\n",
       "    <tr>\n",
       "      <th>index</th>\n",
       "      <th></th>\n",
       "      <th></th>\n",
       "      <th></th>\n",
       "      <th></th>\n",
       "      <th></th>\n",
       "      <th></th>\n",
       "      <th></th>\n",
       "      <th></th>\n",
       "      <th></th>\n",
       "      <th></th>\n",
       "      <th></th>\n",
       "      <th></th>\n",
       "      <th></th>\n",
       "      <th></th>\n",
       "      <th></th>\n",
       "      <th></th>\n",
       "    </tr>\n",
       "  </thead>\n",
       "  <tbody>\n",
       "    <tr>\n",
       "      <td>0</td>\n",
       "      <td>esm-piControl:glade:posix:/glade/collections/c...</td>\n",
       "      <td>posix</td>\n",
       "      <td>True</td>\n",
       "      <td>esm-piControl</td>\n",
       "      <td>b.e21.B1850.f09_g17.CMIP6-esm-piControl.001</td>\n",
       "      <td>atm</td>\n",
       "      <td>cam.h1</td>\n",
       "      <td>ACTNL</td>\n",
       "      <td>00010101-00101231</td>\n",
       "      <td>0</td>\n",
       "      <td>/glade/collections/cdg/timeseries-cmip6/b.e21....</td>\n",
       "      <td>b.e21.B1850.f09_g17.CMIP6-esm-piControl.001.ca...</td>\n",
       "      <td>501</td>\n",
       "      <td>NaN</td>\n",
       "      <td>0</td>\n",
       "      <td></td>\n",
       "    </tr>\n",
       "    <tr>\n",
       "      <td>1</td>\n",
       "      <td>esm-piControl:glade:posix:/glade/collections/c...</td>\n",
       "      <td>posix</td>\n",
       "      <td>True</td>\n",
       "      <td>esm-piControl</td>\n",
       "      <td>b.e21.B1850.f09_g17.CMIP6-esm-piControl.001</td>\n",
       "      <td>atm</td>\n",
       "      <td>cam.h1</td>\n",
       "      <td>ACTNL</td>\n",
       "      <td>00110101-00201231</td>\n",
       "      <td>0</td>\n",
       "      <td>/glade/collections/cdg/timeseries-cmip6/b.e21....</td>\n",
       "      <td>b.e21.B1850.f09_g17.CMIP6-esm-piControl.001.ca...</td>\n",
       "      <td>501</td>\n",
       "      <td>NaN</td>\n",
       "      <td>0</td>\n",
       "      <td></td>\n",
       "    </tr>\n",
       "    <tr>\n",
       "      <td>2</td>\n",
       "      <td>esm-piControl:glade:posix:/glade/collections/c...</td>\n",
       "      <td>posix</td>\n",
       "      <td>True</td>\n",
       "      <td>esm-piControl</td>\n",
       "      <td>b.e21.B1850.f09_g17.CMIP6-esm-piControl.001</td>\n",
       "      <td>atm</td>\n",
       "      <td>cam.h1</td>\n",
       "      <td>ACTNL</td>\n",
       "      <td>00210101-00301231</td>\n",
       "      <td>0</td>\n",
       "      <td>/glade/collections/cdg/timeseries-cmip6/b.e21....</td>\n",
       "      <td>b.e21.B1850.f09_g17.CMIP6-esm-piControl.001.ca...</td>\n",
       "      <td>501</td>\n",
       "      <td>NaN</td>\n",
       "      <td>0</td>\n",
       "      <td></td>\n",
       "    </tr>\n",
       "    <tr>\n",
       "      <td>3</td>\n",
       "      <td>esm-piControl:glade:posix:/glade/collections/c...</td>\n",
       "      <td>posix</td>\n",
       "      <td>True</td>\n",
       "      <td>esm-piControl</td>\n",
       "      <td>b.e21.B1850.f09_g17.CMIP6-esm-piControl.001</td>\n",
       "      <td>atm</td>\n",
       "      <td>cam.h1</td>\n",
       "      <td>ACTNL</td>\n",
       "      <td>00310101-00401231</td>\n",
       "      <td>0</td>\n",
       "      <td>/glade/collections/cdg/timeseries-cmip6/b.e21....</td>\n",
       "      <td>b.e21.B1850.f09_g17.CMIP6-esm-piControl.001.ca...</td>\n",
       "      <td>501</td>\n",
       "      <td>NaN</td>\n",
       "      <td>0</td>\n",
       "      <td></td>\n",
       "    </tr>\n",
       "    <tr>\n",
       "      <td>4</td>\n",
       "      <td>esm-piControl:glade:posix:/glade/collections/c...</td>\n",
       "      <td>posix</td>\n",
       "      <td>True</td>\n",
       "      <td>esm-piControl</td>\n",
       "      <td>b.e21.B1850.f09_g17.CMIP6-esm-piControl.001</td>\n",
       "      <td>atm</td>\n",
       "      <td>cam.h1</td>\n",
       "      <td>ACTNL</td>\n",
       "      <td>00410101-00501231</td>\n",
       "      <td>0</td>\n",
       "      <td>/glade/collections/cdg/timeseries-cmip6/b.e21....</td>\n",
       "      <td>b.e21.B1850.f09_g17.CMIP6-esm-piControl.001.ca...</td>\n",
       "      <td>501</td>\n",
       "      <td>NaN</td>\n",
       "      <td>0</td>\n",
       "      <td></td>\n",
       "    </tr>\n",
       "  </tbody>\n",
       "</table>\n",
       "</div>"
      ],
      "text/plain": [
       "                                                resource resource_type  \\\n",
       "index                                                                    \n",
       "0      esm-piControl:glade:posix:/glade/collections/c...         posix   \n",
       "1      esm-piControl:glade:posix:/glade/collections/c...         posix   \n",
       "2      esm-piControl:glade:posix:/glade/collections/c...         posix   \n",
       "3      esm-piControl:glade:posix:/glade/collections/c...         posix   \n",
       "4      esm-piControl:glade:posix:/glade/collections/c...         posix   \n",
       "\n",
       "       direct_access     experiment  \\\n",
       "index                                 \n",
       "0               True  esm-piControl   \n",
       "1               True  esm-piControl   \n",
       "2               True  esm-piControl   \n",
       "3               True  esm-piControl   \n",
       "4               True  esm-piControl   \n",
       "\n",
       "                                              case component  stream variable  \\\n",
       "index                                                                           \n",
       "0      b.e21.B1850.f09_g17.CMIP6-esm-piControl.001       atm  cam.h1    ACTNL   \n",
       "1      b.e21.B1850.f09_g17.CMIP6-esm-piControl.001       atm  cam.h1    ACTNL   \n",
       "2      b.e21.B1850.f09_g17.CMIP6-esm-piControl.001       atm  cam.h1    ACTNL   \n",
       "3      b.e21.B1850.f09_g17.CMIP6-esm-piControl.001       atm  cam.h1    ACTNL   \n",
       "4      b.e21.B1850.f09_g17.CMIP6-esm-piControl.001       atm  cam.h1    ACTNL   \n",
       "\n",
       "              date_range  member_id  \\\n",
       "index                                 \n",
       "0      00010101-00101231          0   \n",
       "1      00110101-00201231          0   \n",
       "2      00210101-00301231          0   \n",
       "3      00310101-00401231          0   \n",
       "4      00410101-00501231          0   \n",
       "\n",
       "                                           file_fullpath  \\\n",
       "index                                                      \n",
       "0      /glade/collections/cdg/timeseries-cmip6/b.e21....   \n",
       "1      /glade/collections/cdg/timeseries-cmip6/b.e21....   \n",
       "2      /glade/collections/cdg/timeseries-cmip6/b.e21....   \n",
       "3      /glade/collections/cdg/timeseries-cmip6/b.e21....   \n",
       "4      /glade/collections/cdg/timeseries-cmip6/b.e21....   \n",
       "\n",
       "                                           file_basename  ctrl_branch_year  \\\n",
       "index                                                                        \n",
       "0      b.e21.B1850.f09_g17.CMIP6-esm-piControl.001.ca...               501   \n",
       "1      b.e21.B1850.f09_g17.CMIP6-esm-piControl.001.ca...               501   \n",
       "2      b.e21.B1850.f09_g17.CMIP6-esm-piControl.001.ca...               501   \n",
       "3      b.e21.B1850.f09_g17.CMIP6-esm-piControl.001.ca...               501   \n",
       "4      b.e21.B1850.f09_g17.CMIP6-esm-piControl.001.ca...               501   \n",
       "\n",
       "       year_offset  sequence_order grid  \n",
       "index                                    \n",
       "0              NaN               0       \n",
       "1              NaN               0       \n",
       "2              NaN               0       \n",
       "3              NaN               0       \n",
       "4              NaN               0       "
      ]
     },
     "execution_count": 3,
     "metadata": {},
     "output_type": "execute_result"
    }
   ],
   "source": [
    "cesm2 = intake.open_esm_metadatastore(collection_name='CESM2-CMIP6')\n",
    "cesm2.df.head()"
   ]
  },
  {
   "cell_type": "markdown",
   "metadata": {},
   "source": [
    "## Experiments contained in this collection"
   ]
  },
  {
   "cell_type": "code",
   "execution_count": 4,
   "metadata": {},
   "outputs": [
    {
     "data": {
      "text/plain": [
       "['esm-piControl',\n",
       " 'piControl',\n",
       " '1pctCO2-bgc',\n",
       " '1pctCO2',\n",
       " 'abrupt-4xCO2',\n",
       " 'historical',\n",
       " 'esm-hist',\n",
       " 'piControl-waccm',\n",
       " 'historical-waccm',\n",
       " 'SSP5-8.5']"
      ]
     },
     "execution_count": 4,
     "metadata": {},
     "output_type": "execute_result"
    }
   ],
   "source": [
    "cesm2.df.experiment.unique().tolist()"
   ]
  },
  {
   "cell_type": "markdown",
   "metadata": {},
   "source": [
    "## Components"
   ]
  },
  {
   "cell_type": "code",
   "execution_count": 5,
   "metadata": {},
   "outputs": [
    {
     "data": {
      "text/plain": [
       "['atm', 'glc', 'ice', 'lnd', 'ocn', 'rof']"
      ]
     },
     "execution_count": 5,
     "metadata": {},
     "output_type": "execute_result"
    }
   ],
   "source": [
    "cesm2.df.component.unique().tolist()"
   ]
  },
  {
   "cell_type": "markdown",
   "metadata": {},
   "source": [
    "## Variables"
   ]
  },
  {
   "cell_type": "code",
   "execution_count": 6,
   "metadata": {},
   "outputs": [
    {
     "name": "stdout",
     "output_type": "stream",
     "text": [
      "[CaCO3_form_zint_2, DpCO2_2, ECOSYS_IFRAC_2, ECOSYS_XKW_2, FG_CO2_2, STF_O2_2, diatC_zint_100m, diatChl_SURF, diazC_zint_100m, diazChl_SURF, photoC_diat_zint_2, photoC_diaz_zint_2, photoC_sp_zint_2, spC_zint_100m, spCaCO3_zint_100m, spChl_SURF, zooC_zint_100m, HMXL_DR_2, SSS, SST, SST2, XMXL_2, ABIO_ALK_SURF, ABIO_CO2STAR, ABIO_D14Catm, ABIO_D14Cocn, ABIO_DCO2STAR, ABIO_DIC, ABIO_DIC14, ABIO_DpCO2, ABIO_PH_SURF, ABIO_pCO2, ABIO_pCO2SURF, ADVS, ADVS_ISOP, ADVS_SUBM, ADVT, ADVT_ISOP, ADVT_SUBM, ADV_3D_SALT, ADV_3D_TEMP, ALK, ALK_ALT_CO2, ALK_ALT_CO2_RESTORE_TEND, ALK_ALT_CO2_RIV_FLUX, ALK_RESTORE_TEND, ALK_RIV_FLUX, AOU, ATM_ALT_CO2, ATM_BLACK_CARBON_FLUX_CPL, ATM_CO2, ATM_COARSE_DUST_FLUX_CPL, ATM_FINE_DUST_FLUX_CPL, BSF, CO2STAR, CO2STAR_ALT_CO2, CO3, CaCO3_FLUX_100m, CaCO3_PROD_zint, CaCO3_PROD_zint_100m, CaCO3_REMIN_zint, CaCO3_REMIN_zint_100m, CaCO3_form_zint, CaCO3_form_zint_100m, DCO2STAR, DCO2STAR_ALT_CO2, DENITRIF, DIA_DEPTH, DIA_IMPVF_SALT, DIA_IMPVF_TEMP, DIC, DIC_ALT_CO2, DIC_ALT_CO2_RIV_FLUX, DIC_RIV_FLUX, DOC, DOC_RIV_FLUX, DOC_prod, DOC_prod_zint, DOC_prod_zint_100m, DOC_remin_zint, DOC_remin_zint_100m, DOCr, DOCr_RIV_FLUX, DOCr_remin_zint, DOCr_remin_zint_100m, DON, DON_RIV_FLUX, DON_prod, DONr, DONr_RIV_FLUX, DOP, DOP_RIV_FLUX, DOP_diat_uptake, DOP_diaz_uptake, DOP_prod, DOP_sp_uptake, DOPr, DOPr_RIV_FLUX, DpCO2, DpCO2_ALT_CO2, ECOSYS_ATM_PRESS, ECOSYS_IFRAC, ECOSYS_XKW, EVAP_F, FG_ABIO_DIC, FG_ABIO_DIC14, FG_ALT_CO2, FG_CO2, FRACR_BIN_01, FRACR_BIN_02, FRACR_BIN_03, FRACR_BIN_04, FRACR_BIN_05, FRACR_BIN_06, FW, Fe, Fe_RIV_FLUX, Fe_scavenge, Fe_scavenge_rate, Fefree, FvICE_ABIO_DIC, FvICE_ABIO_DIC14, FvICE_ALK, FvICE_ALK_ALT_CO2, FvICE_DIC, FvICE_DIC_ALT_CO2, FvPER_ABIO_DIC, FvPER_ABIO_DIC14, FvPER_ALK, FvPER_ALK_ALT_CO2, FvPER_DIC, FvPER_DIC_ALT_CO2, H2CO3, HBLT, HCO3, HDIFS, HDIFT, HLS_SUBM, HMXL, HMXL_DR, HMXL_DR2, HOR_DIFF, IAGE, IFRAC, INT_DEPTH, IOFF_F, IRON_FLUX, ISOP_ADV_TEND_SALT, ISOP_ADV_TEND_TEMP, J_DIC, J_DIC_ALT_CO2, Jint_100m_ALK, Jint_100m_ALK_ALT_CO2, Jint_100m_DIC, Jint_100m_DIC_ALT_CO2, Jint_100m_DOC, Jint_100m_DOCr, Jint_100m_Fe, Jint_100m_NH4, Jint_100m_NO3, Jint_100m_O2, Jint_100m_PO4, Jint_100m_SiO3, Jint_ABIO_DIC14, KAPPA_ISOP, KAPPA_THIC, KVMIX, KVMIX_M, LWDN_F, LWUP_F, Lig, Lig_deg, Lig_loss, Lig_photochem, Lig_prod, Lig_scavenge, MELTH_F, MELT_F, MOC, NH4, NHx_SURFACE_EMIS, NHy_FLUX, NITRIF, NO3, NO3_RESTORE_TEND, NO3_RIV_FLUX, NOx_FLUX, N_HEAT, N_SALT, O2, O2SAT, O2_CONSUMPTION, O2_PRODUCTION, O2_ZMIN, O2_ZMIN_DEPTH, PAR_avg, PD, PH, PH_ALT_CO2, PO4, PO4_RESTORE_TEND, PO4_RIV_FLUX, PO4_diat_uptake, PO4_diaz_uptake, PO4_sp_uptake, POC_FLUX_100m, POC_FLUX_IN, POC_PROD, POC_PROD_zint, POC_PROD_zint_100m, POC_REMIN_DIC_zint, POC_REMIN_DIC_zint_100m, POC_REMIN_DOCr_zint, POC_REMIN_DOCr_zint_100m, POP_FLUX_100m, POP_FLUX_IN, POP_PROD, PREC_F, PV, P_iron_FLUX_100m, P_iron_FLUX_IN, P_iron_PROD, P_iron_REMIN, Q, QFLUX, QSW_3D, QSW_BIN_01, QSW_BIN_02, QSW_BIN_03, QSW_BIN_04, QSW_BIN_05, QSW_BIN_06, QSW_HBL, QSW_HTP, RESID_S, RESID_T, RF_TEND_SALT, RF_TEND_TEMP, RHO, RHO_VINT, ROFF_F, Redi_TEND_SALT, Redi_TEND_TEMP, SALT, SALT_F, SCHMIDT_CO2, SCHMIDT_O2, SEAICE_BLACK_CARBON_FLUX_CPL, SEAICE_DUST_FLUX_CPL, SENH_F, SFWF, SFWF_WRST, SHF, SHF_QSW, SNOW_F, SSH, SSH2, SSS2, STF_ABIO_DIC, STF_ABIO_DIC14, STF_ALK, STF_ALK_ALT_CO2, STF_O2, SU, SUBM_ADV_TEND_SALT, SUBM_ADV_TEND_TEMP, SV, S_FLUX_EXCH_INTRF, S_FLUX_ROFF_VSF_SRF, SedDenitrif, SiO2_FLUX_100m, SiO2_FLUX_IN, SiO2_PROD, SiO3, SiO3_RESTORE_TEND, SiO3_RIV_FLUX, TAUX, TAUX2, TAUY, TAUY2, TBLT, TEMP, TEMP2, TEND_SALT, TEND_TEMP, TFW_S, TFW_T, TIDAL_DIFF, TLT, TMXL, TMXL_DR, TPOWER, T_FLUX_EXCH_INTRF, UES, UET, UISOP, USUBM, UVEL, UVEL2, VDC_S, VDC_T, VISOP, VNS, VNS_ISOP, VNS_SUBM, VNT, VNT_ISOP, VNT_SUBM, VSUBM, VVC, VVEL, VVEL2, WISOP, WSUBM, WTS, WTT, WVEL, WVEL2, XBLT, XMXL, XMXL_DR, bSi_form, bsiToSed, calcToSed, calcToSed_ALT_CO2, co3_sat_arag, co3_sat_calc, dTEMP_NEG_2D, dTEMP_POS_2D, diatC, diatChl, diatFe, diatP, diatSi, diat_Fe_lim_Cweight_avg_100m, diat_Fe_lim_surf, diat_N_lim_Cweight_avg_100m, diat_N_lim_surf, diat_P_lim_Cweight_avg_100m, diat_P_lim_surf, diat_Qp, diat_SiO3_lim_Cweight_avg_100m, diat_SiO3_lim_surf, diat_agg, diat_agg_zint, diat_agg_zint_100m, diat_light_lim_Cweight_avg_100m, diat_light_lim_surf, diat_loss_doc_zint, diat_loss_doc_zint_100m, diat_loss_poc_zint, diat_loss_poc_zint_100m, diat_loss_zint, diat_loss_zint_100m, diazC, diazChl, diazFe, diazP, diaz_Fe_lim_Cweight_avg_100m, diaz_Fe_lim_surf, diaz_Nfix, diaz_P_lim_Cweight_avg_100m, diaz_P_lim_surf, diaz_Qp, diaz_agg, diaz_agg_zint, diaz_agg_zint_100m, diaz_light_lim_Cweight_avg_100m, diaz_light_lim_surf, diaz_loss_doc_zint, diaz_loss_doc_zint_100m, diaz_loss_poc_zint, diaz_loss_poc_zint_100m, diaz_loss_zint, diaz_loss_zint_100m, dustToSed, dust_FLUX_IN, dust_REMIN, graze_diat_doc_zint, graze_diat_doc_zint_100m, graze_diat_poc_zint, graze_diat_poc_zint_100m, graze_diat_zint, graze_diat_zint_100m, graze_diat_zoo_zint, graze_diat_zoo_zint_100m, graze_diaz_doc_zint, graze_diaz_doc_zint_100m, graze_diaz_poc_zint, graze_diaz_poc_zint_100m, graze_diaz_zint, graze_diaz_zint_100m, graze_diaz_zoo_zint, graze_diaz_zoo_zint_100m, graze_sp_doc_zint, graze_sp_doc_zint_100m, graze_sp_poc_zint, graze_sp_poc_zint_100m, graze_sp_zint, graze_sp_zint_100m, graze_sp_zoo_zint, graze_sp_zoo_zint_100m, insitu_temp, pCO2SURF, pH_3D, pfeToSed, photoC_NO3_TOT, photoC_NO3_TOT_zint, photoC_NO3_TOT_zint_100m, photoC_TOT, photoC_TOT_zint, photoC_TOT_zint_100m, photoC_diat_zint, photoC_diat_zint_100m, photoC_diaz_zint, photoC_diaz_zint_100m, photoC_sp_zint, photoC_sp_zint_100m, photoFe_diat, photoFe_diaz, photoFe_sp, photoNH4_diat, photoNH4_diaz, photoNH4_sp, photoNO3_diat, photoNO3_diaz, photoNO3_sp, pocToSed, ponToSed, popToSed, spC, spCaCO3, spChl, spFe, spP, sp_Fe_lim_Cweight_avg_100m, sp_Fe_lim_surf, sp_N_lim_Cweight_avg_100m, sp_N_lim_surf, sp_P_lim_Cweight_avg_100m, sp_P_lim_surf, sp_Qp, sp_agg, sp_agg_zint, sp_agg_zint_100m, sp_light_lim_Cweight_avg_100m, sp_light_lim_surf, sp_loss_doc_zint, sp_loss_doc_zint_100m, sp_loss_poc_zint, sp_loss_poc_zint_100m, sp_loss_zint, sp_loss_zint_100m, tend_zint_100m_ALK, tend_zint_100m_ALK_ALT_CO2, tend_zint_100m_DIC, tend_zint_100m_DIC_ALT_CO2, tend_zint_100m_DOC, tend_zint_100m_DOCr, tend_zint_100m_Fe, tend_zint_100m_NH4, tend_zint_100m_NO3, tend_zint_100m_O2, tend_zint_100m_PO4, tend_zint_100m_SiO3, zooC, zoo_loss_doc_zint, zoo_loss_doc_zint_100m, zoo_loss_poc_zint, zoo_loss_poc_zint_100m, zoo_loss_zint, zoo_loss_zint_100m, zsatarag, zsatcalc, CaCO3_ALT_CO2_FLUX_IN, CaCO3_ALT_CO2_REMIN, CaCO3_FLUX_IN, CaCO3_PROD, CaCO3_REMIN, CaCO3_form, DIA_IMPVF_DIC, DIA_IMPVF_DIC_ALT_CO2, DIA_IMPVF_DOC, DIA_IMPVF_DOCr, DIA_IMPVF_Fe, DIA_IMPVF_O2, DOC_remin, DOCr_remin, DON_remin, DONr_remin, DOP_remin, DOPr_remin, HDIFB_DIC, HDIFB_DIC_ALT_CO2, HDIFB_DOC, HDIFB_DOCr, HDIFB_Fe, HDIFB_O2, HDIFE_DIC, HDIFE_DIC_ALT_CO2, HDIFE_DOC, HDIFE_DOCr, HDIFE_Fe, HDIFE_O2, HDIFN_DIC, HDIFN_DIC_ALT_CO2, HDIFN_DOC, HDIFN_DOCr, HDIFN_Fe, HDIFN_O2, J_ALK, J_ALK_ALT_CO2, J_Fe, J_NH4, J_NO3, J_PO4, J_SiO3, KPP_SRC_DIC, KPP_SRC_DIC_ALT_CO2, KPP_SRC_Fe, KPP_SRC_O2, POC_REMIN_DIC, POC_REMIN_DOCr, PON_REMIN_DONr, PON_REMIN_NH4, POP_REMIN_DOPr, POP_REMIN_PO4, RF_TEND_DIC, RF_TEND_DIC_ALT_CO2, RF_TEND_DOC, RF_TEND_DOCr, RF_TEND_Fe, RF_TEND_O2, TEND_DIC, TEND_DIC_ALT_CO2, TEND_DOC, TEND_DOCr, TEND_Fe, TEND_O2, UE_DIC, UE_DIC_ALT_CO2, UE_DOC, UE_DOCr, UE_Fe, UE_O2, VN_DIC, VN_DIC_ALT_CO2, VN_DOC, VN_DOCr, VN_Fe, VN_O2, WT_DIC, WT_DIC_ALT_CO2, WT_DOC, WT_DOCr, WT_Fe, WT_O2, graze_auto_TOT, J_ABIO_DIC14, CFC11, CFC12, CFC_ATM_PRESS, CFC_IFRAC, CFC_XKW, SF6, SF6_ATM_PRESS, SF6_IFRAC, SF6_XKW, STF_CFC11, STF_CFC12, STF_SF6, ADVU, ADVV, GRADX, GRADY, HDIFFU, HDIFFV, VDIFFU, VDIFFV]\n"
     ]
    }
   ],
   "source": [
    "print('[%s]' % ', '.join(map(str, cesm2.search(component='ocn').df.variable.unique().tolist())))"
   ]
  },
  {
   "cell_type": "code",
   "execution_count": null,
   "metadata": {},
   "outputs": [],
   "source": []
  }
 ],
 "metadata": {
  "kernelspec": {
   "display_name": "Python [conda env:miniconda3-cesm2-marbl]",
   "language": "python",
   "name": "conda-env-miniconda3-cesm2-marbl-py"
  },
  "language_info": {
   "codemirror_mode": {
    "name": "ipython",
    "version": 3
   },
   "file_extension": ".py",
   "mimetype": "text/x-python",
   "name": "python",
   "nbconvert_exporter": "python",
   "pygments_lexer": "ipython3",
   "version": "3.7.3"
  }
 },
 "nbformat": 4,
 "nbformat_minor": 4
}
