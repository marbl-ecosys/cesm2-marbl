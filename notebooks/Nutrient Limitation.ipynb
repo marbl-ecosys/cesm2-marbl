{
 "cells": [
  {
   "cell_type": "markdown",
   "metadata": {},
   "source": [
    "## Nutrient Limitation\n",
    "\n",
    "From [issue ticket](https://github.com/marbl-ecosys/cesm2-marbl/issues/5), we want\n",
    "\n",
    "> Compute biomass-weighted-mean limitation terms in the upper ocean (i.e., top 150 m).\n",
    "> \n",
    "> Make 3 panel plot: maps of most limiting nutrient for each phytoplankton taxa (diatom, small phyto, diazotrophs).\n",
    "\n",
    "Process (from that same link):\n",
    "\n",
    "> 1. Compute vertical, biomass-weighted mean limitation term for N, P, Si, Fe for each taxa yielding an array with [time, lim_term, lat, lon] dims.\n",
    "> 2. Average in time, yielding a lim_term, lat, lon] dims.\n",
    "> 3. Find the index of the min over the first dimension, yielding a 2D array."
   ]
  },
  {
   "cell_type": "code",
   "execution_count": 1,
   "metadata": {},
   "outputs": [
    {
     "name": "stdout",
     "output_type": "stream",
     "text": [
      "xpersist      0.0.post25\n",
      "cartopy       0.17.0\n",
      "cftime        1.0.3.4\n",
      "ncar_jobqueue 2020.3.4\n",
      "xarray        0.15.0\n",
      "numpy         1.18.1\n",
      "intake_esm    2020.3.16.2.post4\n",
      "intake        0.5.4\n",
      "Mike Levy 2020-04-01 \n",
      "\n",
      "compiler   : GCC 7.3.0\n",
      "system     : Linux\n",
      "release    : 3.10.0-693.21.1.el7.x86_64\n",
      "machine    : x86_64\n",
      "processor  : x86_64\n",
      "CPU cores  : 72\n",
      "interpreter: 64bit\n",
      "host name  : casper21\n",
      "Git hash   : 7801d2039f61623e6915aa8a3b25042611702b06\n"
     ]
    }
   ],
   "source": [
    "%matplotlib inline\n",
    "import os\n",
    "\n",
    "import cftime\n",
    "\n",
    "import xarray as xr\n",
    "import numpy as np\n",
    "\n",
    "import matplotlib.pyplot as plt\n",
    "import matplotlib.colors as colors\n",
    "\n",
    "import cartopy\n",
    "import cartopy.crs as ccrs\n",
    "\n",
    "import intake\n",
    "import intake_esm\n",
    "import ann_avg_utils as aau\n",
    "\n",
    "import ncar_jobqueue\n",
    "from dask.distributed import Client\n",
    "\n",
    "import xpersist as xp\n",
    "# Set up xperist cache\n",
    "cache_dir = os.path.join(os.path.sep, 'glade', 'p', 'cgd', 'oce', 'projects', 'cesm2-marbl', 'xpersist_cache')\n",
    "if (os.path.isdir(cache_dir)):\n",
    "    xp.settings['cache_dir'] = cache_dir\n",
    "xp_dir = 'nutrient_limitation'\n",
    "os.makedirs(os.path.join(xp.settings['cache_dir'], xp_dir), exist_ok=True)\n",
    "\n",
    "%load_ext watermark\n",
    "%watermark -a \"Mike Levy\" -d -iv -m -g -h"
   ]
  },
  {
   "cell_type": "code",
   "execution_count": 2,
   "metadata": {},
   "outputs": [
    {
     "data": {
      "text/html": [
       "<table style=\"border: 2px solid white;\">\n",
       "<tr>\n",
       "<td style=\"vertical-align: top; border: 0px solid white\">\n",
       "<h3 style=\"text-align: left;\">Client</h3>\n",
       "<ul style=\"text-align: left; list-style: none; margin: 0; padding: 0;\">\n",
       "  <li><b>Scheduler: </b>tcp://10.12.205.30:39675</li>\n",
       "  <li><b>Dashboard: </b><a href='https://jupyterhub.ucar.edu/dav/user/mlevy/proxy/8787/status' target='_blank'>https://jupyterhub.ucar.edu/dav/user/mlevy/proxy/8787/status</a>\n",
       "</ul>\n",
       "</td>\n",
       "<td style=\"vertical-align: top; border: 0px solid white\">\n",
       "<h3 style=\"text-align: left;\">Cluster</h3>\n",
       "<ul style=\"text-align: left; list-style:none; margin: 0; padding: 0;\">\n",
       "  <li><b>Workers: </b>0</li>\n",
       "  <li><b>Cores: </b>0</li>\n",
       "  <li><b>Memory: </b>0 B</li>\n",
       "</ul>\n",
       "</td>\n",
       "</tr>\n",
       "</table>"
      ],
      "text/plain": [
       "<Client: 'tcp://10.12.205.30:39675' processes=0 threads=0, memory=0 B>"
      ]
     },
     "execution_count": 2,
     "metadata": {},
     "output_type": "execute_result"
    }
   ],
   "source": [
    "cluster = ncar_jobqueue.NCARCluster(project='P93300606')\n",
    "cluster.adapt(minimum_jobs=0, maximum_jobs=4)\n",
    "client = Client(cluster)\n",
    "client"
   ]
  },
  {
   "cell_type": "code",
   "execution_count": 3,
   "metadata": {},
   "outputs": [],
   "source": [
    "global_vars = aau.global_vars()\n",
    "\n",
    "exp = 'cesm2_hist'\n",
    "time_slices = global_vars['time_slices']\n",
    "experiment_dict = global_vars['experiment_dict']"
   ]
  },
  {
   "cell_type": "code",
   "execution_count": 4,
   "metadata": {},
   "outputs": [
    {
     "name": "stdout",
     "output_type": "stream",
     "text": [
      "assuming cache is correct\n",
      "reading cached file: /glade/p/cgd/oce/projects/cesm2-marbl/xpersist_cache/nutrient_limitation/sp_lim.nc\n",
      "assuming cache is correct\n",
      "reading cached file: /glade/p/cgd/oce/projects/cesm2-marbl/xpersist_cache/nutrient_limitation/diat_lim.nc\n",
      "assuming cache is correct\n",
      "reading cached file: /glade/p/cgd/oce/projects/cesm2-marbl/xpersist_cache/nutrient_limitation/diaz_lim.nc\n",
      "CPU times: user 44.5 ms, sys: 35.8 ms, total: 80.3 ms\n",
      "Wall time: 489 ms\n"
     ]
    }
   ],
   "source": [
    "%%time\n",
    "\n",
    "def _get_all_limitation_vars(autotroph):\n",
    "    catalog = intake.open_esm_datastore('data/campaign-cesm2-cmip6-timeseries.json')\n",
    "\n",
    "    darrays = []\n",
    "    nutrient_dim = []\n",
    "    for nutrient in nutrients:\n",
    "        if (autotroph, nutrient) not in omit:\n",
    "            var = f'{autotroph}_{nutrient}_lim_Cweight_avg_100m'\n",
    "            print(f'Reading data for {var}')\n",
    "            # Looking at historical run\n",
    "            darrays.append(catalog.search(experiment=experiment_dict[exp][1], variable=var).to_dataset_dict(cdf_kwargs={'chunks':{'time' : 180}})['ocn.historical.pop.h'].drop(['ULAT', 'ULONG']).sel(time=time_slices[exp])[var].mean(['time', 'member_id']))\n",
    "            variables.append(var)\n",
    "            nutrient_dim.append(nutrient)\n",
    "        else:\n",
    "            print(f'Will not pair {autotroph} and {nutrient}')\n",
    "    datasets = xr.concat([da.to_dataset(name=f'{autotroph}_lim') for da in darrays], dim='nutrient')\n",
    "    datasets['nutrient'] = nutrient_dim\n",
    "    return(datasets.compute())\n",
    "\n",
    "variables = []\n",
    "nutrients = ['P', 'Fe', 'N', 'SiO3']\n",
    "omit = [('sp', 'SiO3'), ('diaz', 'SiO3'), ('diaz', 'N')]\n",
    "darrays = dict()\n",
    "datasets = dict()\n",
    "for autotroph in ['sp', 'diat', 'diaz']:\n",
    "    xp_func = xp.persist_ds(_get_all_limitation_vars, name=f'{xp_dir}/{autotroph}_lim', trust_cache=True)\n",
    "    datasets[autotroph] = xp_func(autotroph)\n"
   ]
  },
  {
   "cell_type": "code",
   "execution_count": 5,
   "metadata": {},
   "outputs": [
    {
     "data": {
      "image/png": "[encoded data removed]",
      "text/plain": [
       "<Figure size 864x252 with 4 Axes>"
      ]
     },
     "metadata": {
      "needs_background": "light"
     },
     "output_type": "display_data"
    }
   ],
   "source": [
    "fig = plt.figure(figsize=(12,3.5))\n",
    "\n",
    "ocn_mask = np.where(np.isnan(datasets['sp']['sp_lim'].isel(nutrient=0).data), False, True)\n",
    "levels = np.arange(5)\n",
    "norm = colors.BoundaryNorm(levels, ncolors=4)\n",
    "for n, autotroph in enumerate(['sp', 'diat', 'diaz']):\n",
    "    ds = datasets[autotroph]\n",
    "    da = ds[f'{autotroph}_lim']\n",
    "    ax = fig.add_subplot(1,3,n+1, projection=ccrs.PlateCarree())\n",
    "    ax.set_title(f'{autotroph} nut lim', fontsize=12)\n",
    "    pc = ax.pcolormesh(ds['TLONG'].data,\n",
    "                       ds['TLAT'].data,\n",
    "                       da.argmin(dim='nutrient', skipna=False).where(ocn_mask).data,\n",
    "                       norm=norm,\n",
    "                       cmap=plt.cm.get_cmap('Dark2_r', 4),\n",
    "                       transform=ccrs.PlateCarree())\n",
    "\n",
    "# fig.subplots_adjust(right=0.8)\n",
    "cbar_ax = fig.add_axes([0.15, 0.15, 0.7, 0.05])\n",
    "cbar = fig.colorbar(pc, cax=cbar_ax, ticks=levels+.5, orientation='horizontal')\n",
    "cbar.ax.set_xticklabels([f'{nutrient} lim' for nutrient in nutrients]);"
   ]
  }
 ],
 "metadata": {
  "kernelspec": {
   "display_name": "Python [conda env:cesm2-marbl]",
   "language": "python",
   "name": "conda-env-cesm2-marbl-py"
  },
  "language_info": {
   "codemirror_mode": {
    "name": "ipython",
    "version": 3
   },
   "file_extension": ".py",
   "mimetype": "text/x-python",
   "name": "python",
   "nbconvert_exporter": "python",
   "pygments_lexer": "ipython3",
   "version": "3.7.6"
  }
 },
 "nbformat": 4,
 "nbformat_minor": 4
}
