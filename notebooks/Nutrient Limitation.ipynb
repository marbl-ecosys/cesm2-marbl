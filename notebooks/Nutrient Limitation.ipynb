{
 "cells": [
  {
   "cell_type": "markdown",
   "metadata": {},
   "source": [
    "## Nutrient Limitation\n",
    "\n",
    "From [issue ticket](https://github.com/marbl-ecosys/cesm2-marbl/issues/5), we want\n",
    "\n",
    "> Compute biomass-weighted-mean limitation terms in the upper ocean (i.e., top 150 m).\n",
    "> \n",
    "> Make 3 panel plot: maps of most limiting nutrient for each phytoplankton taxa (diatom, small phyto, diazotrophs).\n",
    "\n",
    "Process (from that same link):\n",
    "\n",
    "> 1. Compute vertical, biomass-weighted mean limitation term for N, P, Si, Fe for each taxa yielding an array with [time, lim_term, lat, lon] dims.\n",
    "> 2. Average in time, yielding a lim_term, lat, lon] dims.\n",
    "> 3. Find the index of the min over the first dimension, yielding a 2D array."
   ]
  },
  {
   "cell_type": "code",
   "execution_count": 1,
   "metadata": {},
   "outputs": [
    {
     "name": "stdout",
     "output_type": "stream",
     "text": [
      "intake_esm 2019.12.13\n",
      "cartopy    0.17.0\n",
      "xarray     0.14.0\n",
      "intake     0.5.3\n",
      "matplotlib 3.1.2\n",
      "cftime     1.0.3.4\n",
      "numpy      1.17.3\n",
      "Mike Levy 2020-03-04 \n",
      "\n",
      "compiler   : GCC 7.3.0\n",
      "system     : Linux\n",
      "release    : 3.10.0-693.21.1.el7.x86_64\n",
      "machine    : x86_64\n",
      "processor  : x86_64\n",
      "CPU cores  : 72\n",
      "interpreter: 64bit\n",
      "host name  : casper20\n",
      "Git hash   : 4cdaf2274bd239879b59e810eba2c6a147d3ef9d\n"
     ]
    }
   ],
   "source": [
    "%matplotlib inline\n",
    "import os\n",
    "\n",
    "import cftime\n",
    "\n",
    "import xarray as xr\n",
    "import numpy as np\n",
    "\n",
    "import matplotlib.pyplot as plt\n",
    "import matplotlib.colors as colors\n",
    "\n",
    "import cartopy\n",
    "import cartopy.crs as ccrs\n",
    "\n",
    "import intake\n",
    "import intake_esm\n",
    "import ann_avg_utils as aau\n",
    "\n",
    "import ncar_jobqueue\n",
    "from dask.distributed import Client\n",
    "\n",
    "%load_ext watermark\n",
    "%watermark -a \"Mike Levy\" -d -iv -m -g -h"
   ]
  },
  {
   "cell_type": "code",
   "execution_count": 6,
   "metadata": {},
   "outputs": [
    {
     "data": {
      "text/html": [
       "<table style=\"border: 2px solid white;\">\n",
       "<tr>\n",
       "<td style=\"vertical-align: top; border: 0px solid white\">\n",
       "<h3 style=\"text-align: left;\">Client</h3>\n",
       "<ul style=\"text-align: left; list-style: none; margin: 0; padding: 0;\">\n",
       "  <li><b>Scheduler: </b>tcp://128.117.181.226:44935</li>\n",
       "  <li><b>Dashboard: </b><a href='https://jupyterhub.ucar.edu/dav/user/mlevy/proxy/8787/status' target='_blank'>https://jupyterhub.ucar.edu/dav/user/mlevy/proxy/8787/status</a>\n",
       "</ul>\n",
       "</td>\n",
       "<td style=\"vertical-align: top; border: 0px solid white\">\n",
       "<h3 style=\"text-align: left;\">Cluster</h3>\n",
       "<ul style=\"text-align: left; list-style:none; margin: 0; padding: 0;\">\n",
       "  <li><b>Workers: </b>0</li>\n",
       "  <li><b>Cores: </b>0</li>\n",
       "  <li><b>Memory: </b>0 B</li>\n",
       "</ul>\n",
       "</td>\n",
       "</tr>\n",
       "</table>"
      ],
      "text/plain": [
       "<Client: 'tcp://128.117.181.226:44935' processes=0 threads=0, memory=0 B>"
      ]
     },
     "execution_count": 6,
     "metadata": {},
     "output_type": "execute_result"
    }
   ],
   "source": [
    "cluster = ncar_jobqueue.NCARCluster(project='P93300606')\n",
    "cluster.adapt(minimum_jobs=0, maximum_jobs=4)\n",
    "client = Client(cluster)\n",
    "client"
   ]
  },
  {
   "cell_type": "code",
   "execution_count": 2,
   "metadata": {},
   "outputs": [],
   "source": [
    "global_vars = aau.global_vars()\n",
    "exp = 'cesm2_hist'\n",
    "time_slices = global_vars['time_slices']\n",
    "experiment_dict = global_vars['experiment_dict']"
   ]
  },
  {
   "cell_type": "code",
   "execution_count": 3,
   "metadata": {},
   "outputs": [
    {
     "name": "stdout",
     "output_type": "stream",
     "text": [
      "Reading data for sp_P_lim_Cweight_avg_100m\n",
      "Progress: |███████████████████████████████████████████████████████████████████████████████| 100.0% \n",
      "\n",
      "--> The keys in the returned dictionary of datasets are constructed as follows:\n",
      "\t'component.experiment.stream'\n",
      "             \n",
      "--> There are 1 group(s)\n",
      "Reading data for sp_Fe_lim_Cweight_avg_100m\n",
      "Progress: |███████████████████████████████████████████████████████████████████████████████| 100.0% \n",
      "\n",
      "--> The keys in the returned dictionary of datasets are constructed as follows:\n",
      "\t'component.experiment.stream'\n",
      "             \n",
      "--> There are 1 group(s)\n",
      "Reading data for sp_N_lim_Cweight_avg_100m\n",
      "Progress: |███████████████████████████████████████████████████████████████████████████████| 100.0% \n",
      "\n",
      "--> The keys in the returned dictionary of datasets are constructed as follows:\n",
      "\t'component.experiment.stream'\n",
      "             \n",
      "--> There are 1 group(s)\n",
      "Will not pair sp and SiO3\n",
      "Reading data for diat_P_lim_Cweight_avg_100m\n",
      "Progress: |███████████████████████████████████████████████████████████████████████████████| 100.0% \n",
      "\n",
      "--> The keys in the returned dictionary of datasets are constructed as follows:\n",
      "\t'component.experiment.stream'\n",
      "             \n",
      "--> There are 1 group(s)\n",
      "Reading data for diat_Fe_lim_Cweight_avg_100m\n",
      "Progress: |███████████████████████████████████████████████████████████████████████████████| 100.0% \n",
      "\n",
      "--> The keys in the returned dictionary of datasets are constructed as follows:\n",
      "\t'component.experiment.stream'\n",
      "             \n",
      "--> There are 1 group(s)\n",
      "Reading data for diat_N_lim_Cweight_avg_100m\n",
      "Progress: |███████████████████████████████████████████████████████████████████████████████| 100.0% \n",
      "\n",
      "--> The keys in the returned dictionary of datasets are constructed as follows:\n",
      "\t'component.experiment.stream'\n",
      "             \n",
      "--> There are 1 group(s)\n",
      "Reading data for diat_SiO3_lim_Cweight_avg_100m\n",
      "Progress: |███████████████████████████████████████████████████████████████████████████████| 100.0% \n",
      "\n",
      "--> The keys in the returned dictionary of datasets are constructed as follows:\n",
      "\t'component.experiment.stream'\n",
      "             \n",
      "--> There are 1 group(s)\n",
      "Reading data for diaz_P_lim_Cweight_avg_100m\n",
      "Progress: |███████████████████████████████████████████████████████████████████████████████| 100.0% \n",
      "\n",
      "--> The keys in the returned dictionary of datasets are constructed as follows:\n",
      "\t'component.experiment.stream'\n",
      "             \n",
      "--> There are 1 group(s)\n",
      "Reading data for diaz_Fe_lim_Cweight_avg_100m\n",
      "Progress: |███████████████████████████████████████████████████████████████████████████████| 100.0% \n",
      "\n",
      "--> The keys in the returned dictionary of datasets are constructed as follows:\n",
      "\t'component.experiment.stream'\n",
      "             \n",
      "--> There are 1 group(s)\n",
      "Will not pair diaz and N\n",
      "Will not pair diaz and SiO3\n"
     ]
    }
   ],
   "source": [
    "# Looking at historical run\n",
    "catalog = intake.open_esm_datastore('/glade/collections/cmip/catalog/intake-esm-datastore/catalogs/campaign-cesm2-cmip6-timeseries.json')\n",
    "\n",
    "variables = []\n",
    "nutrients = ['P', 'Fe', 'N', 'SiO3']\n",
    "omit = [('sp', 'SiO3'), ('diaz', 'SiO3'), ('diaz', 'N')]\n",
    "darrays = dict()\n",
    "datasets = dict()\n",
    "for autotroph in ['sp', 'diat', 'diaz']:\n",
    "    darrays[autotroph] = []\n",
    "    for nutrient in nutrients:\n",
    "        if (autotroph, nutrient) not in omit:\n",
    "            var = f'{autotroph}_{nutrient}_lim_Cweight_avg_100m'\n",
    "            print(f'Reading data for {var}')\n",
    "            darrays[autotroph].append(catalog.search(experiment=experiment_dict[exp][1], variable=var).to_dataset_dict(cdf_kwargs={'chunks':{'time' : 180}})['ocn.historical.pop.h'].drop(['ULAT', 'ULONG']).sel(time=time_slices[exp])[var].mean(['time', 'member_id']))\n",
    "            variables.append(var)\n",
    "        else:\n",
    "            print(f'Will not pair {autotroph} and {nutrient}')\n",
    "    datasets[autotroph] = xr.concat([da.to_dataset(name=f'{autotroph}_lim') for da in darrays[autotroph]], dim='nutrient')\n",
    "    datasets[autotroph]['nutrient'] = nutrients[:len(darrays[autotroph])]"
   ]
  },
  {
   "cell_type": "code",
   "execution_count": 7,
   "metadata": {},
   "outputs": [
    {
     "data": {
      "text/plain": [
       "<matplotlib.collections.QuadMesh at 0x2ba6127e84a8>"
      ]
     },
     "execution_count": 7,
     "metadata": {},
     "output_type": "execute_result"
    },
    {
     "data": {
      "image/png": "[encoded data removed]",
      "text/plain": [
       "<Figure size 432x288 with 2 Axes>"
      ]
     },
     "metadata": {
      "needs_background": "light"
     },
     "output_type": "display_data"
    }
   ],
   "source": [
    "datasets['sp']['sp_lim'].argmin(dim='nutrient', skipna=False).plot()"
   ]
  },
  {
   "cell_type": "code",
   "execution_count": 8,
   "metadata": {},
   "outputs": [
    {
     "data": {
      "text/plain": [
       "<matplotlib.collections.QuadMesh at 0x2ba6126d29b0>"
      ]
     },
     "execution_count": 8,
     "metadata": {},
     "output_type": "execute_result"
    },
    {
     "data": {
      "image/png": "[encoded data removed]",
      "text/plain": [
       "<Figure size 432x288 with 2 Axes>"
      ]
     },
     "metadata": {
      "needs_background": "light"
     },
     "output_type": "display_data"
    }
   ],
   "source": [
    "datasets['diat']['diat_lim'].argmin(dim='nutrient', skipna=False).plot()"
   ]
  },
  {
   "cell_type": "code",
   "execution_count": 9,
   "metadata": {},
   "outputs": [
    {
     "data": {
      "text/plain": [
       "<matplotlib.collections.QuadMesh at 0x2ba612c83438>"
      ]
     },
     "execution_count": 9,
     "metadata": {},
     "output_type": "execute_result"
    },
    {
     "data": {
      "image/png": "[encoded data removed]",
      "text/plain": [
       "<Figure size 432x288 with 2 Axes>"
      ]
     },
     "metadata": {
      "needs_background": "light"
     },
     "output_type": "display_data"
    }
   ],
   "source": [
    "datasets['diaz']['diaz_lim'].argmin(dim='nutrient', skipna=False).plot()"
   ]
  }
 ],
 "metadata": {
  "kernelspec": {
   "display_name": "Python [conda env:cesm2-marbl]",
   "language": "python",
   "name": "conda-env-cesm2-marbl-py"
  },
  "language_info": {
   "codemirror_mode": {
    "name": "ipython",
    "version": 3
   },
   "file_extension": ".py",
   "mimetype": "text/x-python",
   "name": "python",
   "nbconvert_exporter": "python",
   "pygments_lexer": "ipython3",
   "version": "3.7.3"
  }
 },
 "nbformat": 4,
 "nbformat_minor": 4
}
