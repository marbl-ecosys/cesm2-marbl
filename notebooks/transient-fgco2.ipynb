{
 "cells": [
  {
   "cell_type": "code",
   "execution_count": 1,
   "id": "civic-norwegian",
   "metadata": {},
   "outputs": [],
   "source": [
    "%load_ext autoreload\n",
    "%autoreload 2"
   ]
  },
  {
   "cell_type": "code",
   "execution_count": 2,
   "id": "consolidated-myanmar",
   "metadata": {},
   "outputs": [],
   "source": [
    "import os\n",
    "\n",
    "from itertools import product\n",
    "\n",
    "import pandas as pd\n",
    "import numpy as np\n",
    "import xarray as xr\n",
    "\n",
    "import matplotlib.pyplot as plt\n",
    "import matplotlib.gridspec as gridspec\n",
    "import matplotlib.colors as colors\n",
    "import cmocean\n",
    "\n",
    "import cartopy\n",
    "import cartopy.crs as ccrs\n",
    "\n",
    "import xpersist as xp\n",
    "cache_dir = '/glade/p/cgd/oce/projects/cesm2-marbl/xpersist_cache/3d_fields'\n",
    "if (os.path.isdir(cache_dir)):\n",
    "    xp.settings['cache_dir'] = cache_dir\n",
    "os.makedirs(cache_dir, exist_ok=True)\n",
    "\n",
    "os.environ['CESMDATAROOT'] = '/glade/scratch/mclong/inputdata'\n",
    "import pop_tools\n",
    "\n",
    "import utils\n",
    "import data_collections\n",
    "import plot\n"
   ]
  },
  {
   "cell_type": "code",
   "execution_count": 3,
   "id": "national-south",
   "metadata": {},
   "outputs": [
    {
     "data": {
      "text/html": [
       "<table style=\"border: 2px solid white;\">\n",
       "<tr>\n",
       "<td style=\"vertical-align: top; border: 0px solid white\">\n",
       "<h3 style=\"text-align: left;\">Client</h3>\n",
       "<ul style=\"text-align: left; list-style: none; margin: 0; padding: 0;\">\n",
       "  <li><b>Scheduler: </b>tcp://10.12.206.15:43140</li>\n",
       "  <li><b>Dashboard: </b><a href='https://jupyterhub.hpc.ucar.edu/stable/user/mclong/proxy/8787/status' target='_blank'>https://jupyterhub.hpc.ucar.edu/stable/user/mclong/proxy/8787/status</a>\n",
       "</ul>\n",
       "</td>\n",
       "<td style=\"vertical-align: top; border: 0px solid white\">\n",
       "<h3 style=\"text-align: left;\">Cluster</h3>\n",
       "<ul style=\"text-align: left; list-style:none; margin: 0; padding: 0;\">\n",
       "  <li><b>Workers: </b>0</li>\n",
       "  <li><b>Cores: </b>0</li>\n",
       "  <li><b>Memory: </b>0 B</li>\n",
       "</ul>\n",
       "</td>\n",
       "</tr>\n",
       "</table>"
      ],
      "text/plain": [
       "<Client: 'tcp://10.12.206.15:43140' processes=0 threads=0, memory=0 B>"
      ]
     },
     "execution_count": 3,
     "metadata": {},
     "output_type": "execute_result"
    }
   ],
   "source": [
    "cluster, client = utils.get_ClusterClient()\n",
    "cluster.scale(24) #adapt(minimum_jobs=0, maximum_jobs=24)\n",
    "client"
   ]
  },
  {
   "cell_type": "code",
   "execution_count": 4,
   "id": "designing-playing",
   "metadata": {},
   "outputs": [],
   "source": [
    "experiments = [\n",
    "    'historical',\n",
    "    'SSP1-2.6',\n",
    "    'SSP2-4.5',\n",
    "    'SSP3-7.0',\n",
    "    'SSP5-8.5',\n",
    "]"
   ]
  },
  {
   "cell_type": "code",
   "execution_count": 5,
   "id": "ruled-thong",
   "metadata": {},
   "outputs": [
    {
     "data": {
      "text/plain": [
       "{ 'esm_collection': 'data/campaign-cesm2-cmip6-timeseries.json',\n",
       "  'name': 'global_integral_timeseries_ann',\n",
       "  'operator_kwargs': [ { },\n",
       "                       { 'include_ms': False,\n",
       "                         'normalize': False},\n",
       "                       { }],\n",
       "  'operators': [ 'center_time',\n",
       "                 'global_mean',\n",
       "                 'resample_ann'],\n",
       "  'preprocess': None}"
      ]
     },
     "execution_count": 5,
     "metadata": {},
     "output_type": "execute_result"
    }
   ],
   "source": [
    "query = dict(\n",
    "    experiment=experiments,\n",
    "    stream='pop.h',\n",
    ")\n",
    "glb_int = data_collections.global_integral_timeseries_ann(query)\n",
    "glb_avg = data_collections.global_mean_timeseries_ann(query)\n",
    "glb_int"
   ]
  },
  {
   "cell_type": "code",
   "execution_count": 6,
   "id": "divided-disclaimer",
   "metadata": {},
   "outputs": [
    {
     "name": "stdout",
     "output_type": "stream",
     "text": [
      "\n",
      "--> The keys in the returned dictionary of datasets are constructed as follows:\n",
      "\t'component.experiment.stream'\n"
     ]
    },
    {
     "data": {
      "text/html": [
       "\n",
       "    <div>\n",
       "        <style>\n",
       "            /* Turns off some styling */\n",
       "            progress {\n",
       "                /* gets rid of default border in Firefox and Opera. */\n",
       "                border: none;\n",
       "                /* Needs to be in here for Safari polyfill so background images work as expected. */\n",
       "                background-size: auto;\n",
       "            }\n",
       "            .progress-bar-interrupted, .progress-bar-interrupted::-webkit-progress-bar {\n",
       "                background: #F44336;\n",
       "            }\n",
       "        </style>\n",
       "      <progress value='1' class='' max='1' style='width:300px; height:20px; vertical-align: middle;'></progress>\n",
       "      100.00% [1/1 00:00<00:00]\n",
       "    </div>\n",
       "    "
      ],
      "text/plain": [
       "<IPython.core.display.HTML object>"
      ]
     },
     "metadata": {},
     "output_type": "display_data"
    },
    {
     "name": "stdout",
     "output_type": "stream",
     "text": [
      "\n",
      "--> The keys in the returned dictionary of datasets are constructed as follows:\n",
      "\t'component.experiment.stream'\n"
     ]
    },
    {
     "data": {
      "text/html": [
       "\n",
       "    <div>\n",
       "        <style>\n",
       "            /* Turns off some styling */\n",
       "            progress {\n",
       "                /* gets rid of default border in Firefox and Opera. */\n",
       "                border: none;\n",
       "                /* Needs to be in here for Safari polyfill so background images work as expected. */\n",
       "                background-size: auto;\n",
       "            }\n",
       "            .progress-bar-interrupted, .progress-bar-interrupted::-webkit-progress-bar {\n",
       "                background: #F44336;\n",
       "            }\n",
       "        </style>\n",
       "      <progress value='1' class='' max='1' style='width:300px; height:20px; vertical-align: middle;'></progress>\n",
       "      100.00% [1/1 00:00<00:00]\n",
       "    </div>\n",
       "    "
      ],
      "text/plain": [
       "<IPython.core.display.HTML object>"
      ]
     },
     "metadata": {},
     "output_type": "display_data"
    },
    {
     "name": "stdout",
     "output_type": "stream",
     "text": [
      "\n",
      "--> The keys in the returned dictionary of datasets are constructed as follows:\n",
      "\t'component.experiment.stream'\n"
     ]
    },
    {
     "data": {
      "text/html": [
       "\n",
       "    <div>\n",
       "        <style>\n",
       "            /* Turns off some styling */\n",
       "            progress {\n",
       "                /* gets rid of default border in Firefox and Opera. */\n",
       "                border: none;\n",
       "                /* Needs to be in here for Safari polyfill so background images work as expected. */\n",
       "                background-size: auto;\n",
       "            }\n",
       "            .progress-bar-interrupted, .progress-bar-interrupted::-webkit-progress-bar {\n",
       "                background: #F44336;\n",
       "            }\n",
       "        </style>\n",
       "      <progress value='1' class='' max='1' style='width:300px; height:20px; vertical-align: middle;'></progress>\n",
       "      100.00% [1/1 00:00<00:00]\n",
       "    </div>\n",
       "    "
      ],
      "text/plain": [
       "<IPython.core.display.HTML object>"
      ]
     },
     "metadata": {},
     "output_type": "display_data"
    },
    {
     "name": "stdout",
     "output_type": "stream",
     "text": [
      "\n",
      "--> The keys in the returned dictionary of datasets are constructed as follows:\n",
      "\t'component.experiment.stream'\n"
     ]
    },
    {
     "data": {
      "text/html": [
       "\n",
       "    <div>\n",
       "        <style>\n",
       "            /* Turns off some styling */\n",
       "            progress {\n",
       "                /* gets rid of default border in Firefox and Opera. */\n",
       "                border: none;\n",
       "                /* Needs to be in here for Safari polyfill so background images work as expected. */\n",
       "                background-size: auto;\n",
       "            }\n",
       "            .progress-bar-interrupted, .progress-bar-interrupted::-webkit-progress-bar {\n",
       "                background: #F44336;\n",
       "            }\n",
       "        </style>\n",
       "      <progress value='1' class='' max='1' style='width:300px; height:20px; vertical-align: middle;'></progress>\n",
       "      100.00% [1/1 00:00<00:00]\n",
       "    </div>\n",
       "    "
      ],
      "text/plain": [
       "<IPython.core.display.HTML object>"
      ]
     },
     "metadata": {},
     "output_type": "display_data"
    },
    {
     "name": "stdout",
     "output_type": "stream",
     "text": [
      "\n",
      "--> The keys in the returned dictionary of datasets are constructed as follows:\n",
      "\t'component.experiment.stream'\n"
     ]
    },
    {
     "data": {
      "text/html": [
       "\n",
       "    <div>\n",
       "        <style>\n",
       "            /* Turns off some styling */\n",
       "            progress {\n",
       "                /* gets rid of default border in Firefox and Opera. */\n",
       "                border: none;\n",
       "                /* Needs to be in here for Safari polyfill so background images work as expected. */\n",
       "                background-size: auto;\n",
       "            }\n",
       "            .progress-bar-interrupted, .progress-bar-interrupted::-webkit-progress-bar {\n",
       "                background: #F44336;\n",
       "            }\n",
       "        </style>\n",
       "      <progress value='1' class='' max='1' style='width:300px; height:20px; vertical-align: middle;'></progress>\n",
       "      100.00% [1/1 00:00<00:00]\n",
       "    </div>\n",
       "    "
      ],
      "text/plain": [
       "<IPython.core.display.HTML object>"
      ]
     },
     "metadata": {},
     "output_type": "display_data"
    },
    {
     "name": "stdout",
     "output_type": "stream",
     "text": [
      "\n",
      "--> The keys in the returned dictionary of datasets are constructed as follows:\n",
      "\t'component.experiment.stream'\n"
     ]
    },
    {
     "data": {
      "text/html": [
       "\n",
       "    <div>\n",
       "        <style>\n",
       "            /* Turns off some styling */\n",
       "            progress {\n",
       "                /* gets rid of default border in Firefox and Opera. */\n",
       "                border: none;\n",
       "                /* Needs to be in here for Safari polyfill so background images work as expected. */\n",
       "                background-size: auto;\n",
       "            }\n",
       "            .progress-bar-interrupted, .progress-bar-interrupted::-webkit-progress-bar {\n",
       "                background: #F44336;\n",
       "            }\n",
       "        </style>\n",
       "      <progress value='1' class='' max='1' style='width:300px; height:20px; vertical-align: middle;'></progress>\n",
       "      100.00% [1/1 00:00<00:00]\n",
       "    </div>\n",
       "    "
      ],
      "text/plain": [
       "<IPython.core.display.HTML object>"
      ]
     },
     "metadata": {},
     "output_type": "display_data"
    },
    {
     "name": "stdout",
     "output_type": "stream",
     "text": [
      "\n",
      "--> The keys in the returned dictionary of datasets are constructed as follows:\n",
      "\t'component.experiment.stream'\n"
     ]
    },
    {
     "data": {
      "text/html": [
       "\n",
       "    <div>\n",
       "        <style>\n",
       "            /* Turns off some styling */\n",
       "            progress {\n",
       "                /* gets rid of default border in Firefox and Opera. */\n",
       "                border: none;\n",
       "                /* Needs to be in here for Safari polyfill so background images work as expected. */\n",
       "                background-size: auto;\n",
       "            }\n",
       "            .progress-bar-interrupted, .progress-bar-interrupted::-webkit-progress-bar {\n",
       "                background: #F44336;\n",
       "            }\n",
       "        </style>\n",
       "      <progress value='1' class='' max='1' style='width:300px; height:20px; vertical-align: middle;'></progress>\n",
       "      100.00% [1/1 00:00<00:00]\n",
       "    </div>\n",
       "    "
      ],
      "text/plain": [
       "<IPython.core.display.HTML object>"
      ]
     },
     "metadata": {},
     "output_type": "display_data"
    },
    {
     "name": "stdout",
     "output_type": "stream",
     "text": [
      "\n",
      "--> The keys in the returned dictionary of datasets are constructed as follows:\n",
      "\t'component.experiment.stream'\n"
     ]
    },
    {
     "data": {
      "text/html": [
       "\n",
       "    <div>\n",
       "        <style>\n",
       "            /* Turns off some styling */\n",
       "            progress {\n",
       "                /* gets rid of default border in Firefox and Opera. */\n",
       "                border: none;\n",
       "                /* Needs to be in here for Safari polyfill so background images work as expected. */\n",
       "                background-size: auto;\n",
       "            }\n",
       "            .progress-bar-interrupted, .progress-bar-interrupted::-webkit-progress-bar {\n",
       "                background: #F44336;\n",
       "            }\n",
       "        </style>\n",
       "      <progress value='1' class='' max='1' style='width:300px; height:20px; vertical-align: middle;'></progress>\n",
       "      100.00% [1/1 00:00<00:00]\n",
       "    </div>\n",
       "    "
      ],
      "text/plain": [
       "<IPython.core.display.HTML object>"
      ]
     },
     "metadata": {},
     "output_type": "display_data"
    },
    {
     "name": "stdout",
     "output_type": "stream",
     "text": [
      "\n",
      "--> The keys in the returned dictionary of datasets are constructed as follows:\n",
      "\t'component.experiment.stream'\n"
     ]
    },
    {
     "data": {
      "text/html": [
       "\n",
       "    <div>\n",
       "        <style>\n",
       "            /* Turns off some styling */\n",
       "            progress {\n",
       "                /* gets rid of default border in Firefox and Opera. */\n",
       "                border: none;\n",
       "                /* Needs to be in here for Safari polyfill so background images work as expected. */\n",
       "                background-size: auto;\n",
       "            }\n",
       "            .progress-bar-interrupted, .progress-bar-interrupted::-webkit-progress-bar {\n",
       "                background: #F44336;\n",
       "            }\n",
       "        </style>\n",
       "      <progress value='1' class='' max='1' style='width:300px; height:20px; vertical-align: middle;'></progress>\n",
       "      100.00% [1/1 00:00<00:00]\n",
       "    </div>\n",
       "    "
      ],
      "text/plain": [
       "<IPython.core.display.HTML object>"
      ]
     },
     "metadata": {},
     "output_type": "display_data"
    },
    {
     "name": "stdout",
     "output_type": "stream",
     "text": [
      "\n",
      "--> The keys in the returned dictionary of datasets are constructed as follows:\n",
      "\t'component.experiment.stream'\n"
     ]
    },
    {
     "data": {
      "text/html": [
       "\n",
       "    <div>\n",
       "        <style>\n",
       "            /* Turns off some styling */\n",
       "            progress {\n",
       "                /* gets rid of default border in Firefox and Opera. */\n",
       "                border: none;\n",
       "                /* Needs to be in here for Safari polyfill so background images work as expected. */\n",
       "                background-size: auto;\n",
       "            }\n",
       "            .progress-bar-interrupted, .progress-bar-interrupted::-webkit-progress-bar {\n",
       "                background: #F44336;\n",
       "            }\n",
       "        </style>\n",
       "      <progress value='1' class='' max='1' style='width:300px; height:20px; vertical-align: middle;'></progress>\n",
       "      100.00% [1/1 00:00<00:00]\n",
       "    </div>\n",
       "    "
      ],
      "text/plain": [
       "<IPython.core.display.HTML object>"
      ]
     },
     "metadata": {},
     "output_type": "display_data"
    },
    {
     "name": "stdout",
     "output_type": "stream",
     "text": [
      "\n",
      "--> The keys in the returned dictionary of datasets are constructed as follows:\n",
      "\t'component.experiment.stream'\n"
     ]
    },
    {
     "data": {
      "text/html": [
       "\n",
       "    <div>\n",
       "        <style>\n",
       "            /* Turns off some styling */\n",
       "            progress {\n",
       "                /* gets rid of default border in Firefox and Opera. */\n",
       "                border: none;\n",
       "                /* Needs to be in here for Safari polyfill so background images work as expected. */\n",
       "                background-size: auto;\n",
       "            }\n",
       "            .progress-bar-interrupted, .progress-bar-interrupted::-webkit-progress-bar {\n",
       "                background: #F44336;\n",
       "            }\n",
       "        </style>\n",
       "      <progress value='1' class='' max='1' style='width:300px; height:20px; vertical-align: middle;'></progress>\n",
       "      100.00% [1/1 00:00<00:00]\n",
       "    </div>\n",
       "    "
      ],
      "text/plain": [
       "<IPython.core.display.HTML object>"
      ]
     },
     "metadata": {},
     "output_type": "display_data"
    },
    {
     "name": "stdout",
     "output_type": "stream",
     "text": [
      "\n",
      "--> The keys in the returned dictionary of datasets are constructed as follows:\n",
      "\t'component.experiment.stream'\n"
     ]
    },
    {
     "data": {
      "text/html": [
       "\n",
       "    <div>\n",
       "        <style>\n",
       "            /* Turns off some styling */\n",
       "            progress {\n",
       "                /* gets rid of default border in Firefox and Opera. */\n",
       "                border: none;\n",
       "                /* Needs to be in here for Safari polyfill so background images work as expected. */\n",
       "                background-size: auto;\n",
       "            }\n",
       "            .progress-bar-interrupted, .progress-bar-interrupted::-webkit-progress-bar {\n",
       "                background: #F44336;\n",
       "            }\n",
       "        </style>\n",
       "      <progress value='1' class='' max='1' style='width:300px; height:20px; vertical-align: middle;'></progress>\n",
       "      100.00% [1/1 00:00<00:00]\n",
       "    </div>\n",
       "    "
      ],
      "text/plain": [
       "<IPython.core.display.HTML object>"
      ]
     },
     "metadata": {},
     "output_type": "display_data"
    },
    {
     "name": "stdout",
     "output_type": "stream",
     "text": [
      "\n",
      "--> The keys in the returned dictionary of datasets are constructed as follows:\n",
      "\t'component.experiment.stream'\n"
     ]
    },
    {
     "data": {
      "text/html": [
       "\n",
       "    <div>\n",
       "        <style>\n",
       "            /* Turns off some styling */\n",
       "            progress {\n",
       "                /* gets rid of default border in Firefox and Opera. */\n",
       "                border: none;\n",
       "                /* Needs to be in here for Safari polyfill so background images work as expected. */\n",
       "                background-size: auto;\n",
       "            }\n",
       "            .progress-bar-interrupted, .progress-bar-interrupted::-webkit-progress-bar {\n",
       "                background: #F44336;\n",
       "            }\n",
       "        </style>\n",
       "      <progress value='1' class='' max='1' style='width:300px; height:20px; vertical-align: middle;'></progress>\n",
       "      100.00% [1/1 00:00<00:00]\n",
       "    </div>\n",
       "    "
      ],
      "text/plain": [
       "<IPython.core.display.HTML object>"
      ]
     },
     "metadata": {},
     "output_type": "display_data"
    },
    {
     "name": "stdout",
     "output_type": "stream",
     "text": [
      "\n",
      "--> The keys in the returned dictionary of datasets are constructed as follows:\n",
      "\t'component.experiment.stream'\n"
     ]
    },
    {
     "data": {
      "text/html": [
       "\n",
       "    <div>\n",
       "        <style>\n",
       "            /* Turns off some styling */\n",
       "            progress {\n",
       "                /* gets rid of default border in Firefox and Opera. */\n",
       "                border: none;\n",
       "                /* Needs to be in here for Safari polyfill so background images work as expected. */\n",
       "                background-size: auto;\n",
       "            }\n",
       "            .progress-bar-interrupted, .progress-bar-interrupted::-webkit-progress-bar {\n",
       "                background: #F44336;\n",
       "            }\n",
       "        </style>\n",
       "      <progress value='1' class='' max='1' style='width:300px; height:20px; vertical-align: middle;'></progress>\n",
       "      100.00% [1/1 00:00<00:00]\n",
       "    </div>\n",
       "    "
      ],
      "text/plain": [
       "<IPython.core.display.HTML object>"
      ]
     },
     "metadata": {},
     "output_type": "display_data"
    },
    {
     "name": "stdout",
     "output_type": "stream",
     "text": [
      "\n",
      "--> The keys in the returned dictionary of datasets are constructed as follows:\n",
      "\t'component.experiment.stream'\n"
     ]
    },
    {
     "data": {
      "text/html": [
       "\n",
       "    <div>\n",
       "        <style>\n",
       "            /* Turns off some styling */\n",
       "            progress {\n",
       "                /* gets rid of default border in Firefox and Opera. */\n",
       "                border: none;\n",
       "                /* Needs to be in here for Safari polyfill so background images work as expected. */\n",
       "                background-size: auto;\n",
       "            }\n",
       "            .progress-bar-interrupted, .progress-bar-interrupted::-webkit-progress-bar {\n",
       "                background: #F44336;\n",
       "            }\n",
       "        </style>\n",
       "      <progress value='1' class='' max='1' style='width:300px; height:20px; vertical-align: middle;'></progress>\n",
       "      100.00% [1/1 00:00<00:00]\n",
       "    </div>\n",
       "    "
      ],
      "text/plain": [
       "<IPython.core.display.HTML object>"
      ]
     },
     "metadata": {},
     "output_type": "display_data"
    },
    {
     "data": {
      "text/plain": [
       "{'ocn.SSP1-2.6.pop.h': <xarray.Dataset>\n",
       " Dimensions:                 (lat_aux_grid: 395, member_id: 3, moc_comp: 3, moc_z: 61, nlat: 384, nlon: 320, time: 86, transport_comp: 5, transport_reg: 2, z_t: 60, z_t_150m: 15, z_w: 60, z_w_bot: 60, z_w_top: 60)\n",
       " Coordinates:\n",
       "   * z_t                     (z_t) float32 500.0 1.5e+03 ... 5.125e+05 5.375e+05\n",
       "   * z_w                     (z_w) float32 0.0 1e+03 2e+03 ... 5e+05 5.25e+05\n",
       "   * member_id               (member_id) int64 4 10 11\n",
       "   * z_w_bot                 (z_w_bot) float32 1e+03 2e+03 ... 5.25e+05 5.5e+05\n",
       "   * lat_aux_grid            (lat_aux_grid) float32 -79.49 -78.95 ... 89.47 90.0\n",
       "   * z_t_150m                (z_t_150m) float32 500.0 1.5e+03 ... 1.45e+04\n",
       "   * moc_z                   (moc_z) float32 0.0 1e+03 2e+03 ... 5.25e+05 5.5e+05\n",
       "   * z_w_top                 (z_w_top) float32 0.0 1e+03 2e+03 ... 5e+05 5.25e+05\n",
       "   * time                    (time) int64 2015 2016 2017 2018 ... 2098 2099 2100\n",
       " Dimensions without coordinates: moc_comp, nlat, nlon, transport_comp, transport_reg\n",
       " Data variables: (12/60)\n",
       "     omega                   float64 7.292e-05\n",
       "     DXT                     (nlat, nlon) float64 1.894e+06 ... 1.473e+06\n",
       "     vonkar                  float64 0.4\n",
       "     radius                  float64 6.371e+08\n",
       "     cp_air                  float64 1.005e+03\n",
       "     DYT                     (nlat, nlon) float64 5.94e+06 5.94e+06 ... 5.046e+06\n",
       "     ...                      ...\n",
       "     ULAT                    (nlat, nlon) float64 -78.95 -78.95 ... 72.41 72.41\n",
       "     ULONG                   (nlat, nlon) float64 321.1 322.3 ... 319.6 320.0\n",
       "     latent_heat_fusion_mks  float64 3.337e+05\n",
       "     FG_CO2                  (time, member_id) float64 2.562 2.518 ... 0.336 0.54\n",
       "     ATM_CO2                 (time, member_id) float64 400.0 400.0 ... 445.6\n",
       "     SST                     (time, member_id) float64 18.96 19.15 ... 20.08,\n",
       " 'ocn.SSP2-4.5.pop.h': <xarray.Dataset>\n",
       " Dimensions:                 (lat_aux_grid: 395, member_id: 3, moc_comp: 3, moc_z: 61, nlat: 384, nlon: 320, time: 86, transport_comp: 5, transport_reg: 2, z_t: 60, z_t_150m: 15, z_w: 60, z_w_bot: 60, z_w_top: 60)\n",
       " Coordinates:\n",
       "   * z_t                     (z_t) float32 500.0 1.5e+03 ... 5.125e+05 5.375e+05\n",
       "   * z_w                     (z_w) float32 0.0 1e+03 2e+03 ... 5e+05 5.25e+05\n",
       "   * member_id               (member_id) int64 4 10 11\n",
       "   * z_w_bot                 (z_w_bot) float32 1e+03 2e+03 ... 5.25e+05 5.5e+05\n",
       "   * lat_aux_grid            (lat_aux_grid) float32 -79.49 -78.95 ... 89.47 90.0\n",
       "   * z_t_150m                (z_t_150m) float32 500.0 1.5e+03 ... 1.45e+04\n",
       "   * moc_z                   (moc_z) float32 0.0 1e+03 2e+03 ... 5.25e+05 5.5e+05\n",
       "   * z_w_top                 (z_w_top) float32 0.0 1e+03 2e+03 ... 5e+05 5.25e+05\n",
       "   * time                    (time) int64 2015 2016 2017 2018 ... 2098 2099 2100\n",
       " Dimensions without coordinates: moc_comp, nlat, nlon, transport_comp, transport_reg\n",
       " Data variables: (12/60)\n",
       "     omega                   float64 7.292e-05\n",
       "     DXT                     (nlat, nlon) float64 1.894e+06 ... 1.473e+06\n",
       "     vonkar                  float64 0.4\n",
       "     radius                  float64 6.371e+08\n",
       "     cp_air                  float64 1.005e+03\n",
       "     DYT                     (nlat, nlon) float64 5.94e+06 5.94e+06 ... 5.046e+06\n",
       "     ...                      ...\n",
       "     ULAT                    (nlat, nlon) float64 -78.95 -78.95 ... 72.41 72.41\n",
       "     ULONG                   (nlat, nlon) float64 321.1 322.3 ... 319.6 320.0\n",
       "     latent_heat_fusion_mks  float64 3.337e+05\n",
       "     FG_CO2                  (time, member_id) float64 2.623 2.493 ... 2.195\n",
       "     ATM_CO2                 (time, member_id) float64 400.0 400.0 ... 602.8\n",
       "     SST                     (time, member_id) float64 18.98 19.14 ... 20.77,\n",
       " 'ocn.SSP3-7.0.pop.h': <xarray.Dataset>\n",
       " Dimensions:                 (lat_aux_grid: 395, member_id: 3, moc_comp: 3, moc_z: 61, nlat: 384, nlon: 320, time: 86, transport_comp: 5, transport_reg: 2, z_t: 60, z_t_150m: 15, z_w: 60, z_w_bot: 60, z_w_top: 60)\n",
       " Coordinates:\n",
       "   * z_t                     (z_t) float32 500.0 1.5e+03 ... 5.125e+05 5.375e+05\n",
       "   * z_w                     (z_w) float32 0.0 1e+03 2e+03 ... 5e+05 5.25e+05\n",
       "   * member_id               (member_id) int64 4 10 11\n",
       "   * z_w_bot                 (z_w_bot) float32 1e+03 2e+03 ... 5.25e+05 5.5e+05\n",
       "   * lat_aux_grid            (lat_aux_grid) float32 -79.49 -78.95 ... 89.47 90.0\n",
       "   * z_t_150m                (z_t_150m) float32 500.0 1.5e+03 ... 1.45e+04\n",
       "   * moc_z                   (moc_z) float32 0.0 1e+03 2e+03 ... 5.25e+05 5.5e+05\n",
       "   * z_w_top                 (z_w_top) float32 0.0 1e+03 2e+03 ... 5e+05 5.25e+05\n",
       "   * time                    (time) int64 2015 2016 2017 2018 ... 2098 2099 2100\n",
       " Dimensions without coordinates: moc_comp, nlat, nlon, transport_comp, transport_reg\n",
       " Data variables: (12/60)\n",
       "     omega                   float64 7.292e-05\n",
       "     DXT                     (nlat, nlon) float64 1.894e+06 ... 1.473e+06\n",
       "     vonkar                  float64 0.4\n",
       "     radius                  float64 6.371e+08\n",
       "     cp_air                  float64 1.005e+03\n",
       "     DYT                     (nlat, nlon) float64 5.94e+06 5.94e+06 ... 5.046e+06\n",
       "     ...                      ...\n",
       "     ULAT                    (nlat, nlon) float64 -78.95 -78.95 ... 72.41 72.41\n",
       "     ULONG                   (nlat, nlon) float64 321.1 322.3 ... 319.6 320.0\n",
       "     latent_heat_fusion_mks  float64 3.337e+05\n",
       "     FG_CO2                  (time, member_id) float64 2.564 2.499 ... 4.529\n",
       "     ATM_CO2                 (time, member_id) float64 400.0 400.0 ... 867.2\n",
       "     SST                     (time, member_id) float64 19.05 19.17 ... 21.64,\n",
       " 'ocn.SSP5-8.5.pop.h': <xarray.Dataset>\n",
       " Dimensions:                 (lat_aux_grid: 395, member_id: 3, moc_comp: 3, moc_z: 61, nlat: 384, nlon: 320, time: 86, transport_comp: 5, transport_reg: 2, z_t: 60, z_t_150m: 15, z_w: 60, z_w_bot: 60, z_w_top: 60)\n",
       " Coordinates:\n",
       "   * z_t                     (z_t) float32 500.0 1.5e+03 ... 5.125e+05 5.375e+05\n",
       "   * z_w                     (z_w) float32 0.0 1e+03 2e+03 ... 5e+05 5.25e+05\n",
       "   * member_id               (member_id) int64 4 10 11\n",
       "   * z_w_bot                 (z_w_bot) float32 1e+03 2e+03 ... 5.25e+05 5.5e+05\n",
       "   * lat_aux_grid            (lat_aux_grid) float32 -79.49 -78.95 ... 89.47 90.0\n",
       "   * z_t_150m                (z_t_150m) float32 500.0 1.5e+03 ... 1.45e+04\n",
       "   * moc_z                   (moc_z) float32 0.0 1e+03 2e+03 ... 5.25e+05 5.5e+05\n",
       "   * z_w_top                 (z_w_top) float32 0.0 1e+03 2e+03 ... 5e+05 5.25e+05\n",
       "   * time                    (time) int64 2015 2016 2017 2018 ... 2098 2099 2100\n",
       " Dimensions without coordinates: moc_comp, nlat, nlon, transport_comp, transport_reg\n",
       " Data variables: (12/60)\n",
       "     omega                   float64 7.292e-05\n",
       "     DXT                     (nlat, nlon) float64 1.894e+06 ... 1.473e+06\n",
       "     vonkar                  float64 0.4\n",
       "     radius                  float64 6.371e+08\n",
       "     cp_air                  float64 1.005e+03\n",
       "     DYT                     (nlat, nlon) float64 5.94e+06 5.94e+06 ... 5.046e+06\n",
       "     ...                      ...\n",
       "     ULAT                    (nlat, nlon) float64 -78.95 -78.95 ... 72.41 72.41\n",
       "     ULONG                   (nlat, nlon) float64 321.1 322.3 ... 319.6 320.0\n",
       "     latent_heat_fusion_mks  float64 3.337e+05\n",
       "     FG_CO2                  (time, member_id) float64 2.643 2.534 ... 5.154\n",
       "     ATM_CO2                 (time, member_id) float64 400.0 400.0 ... 1.135e+03\n",
       "     SST                     (time, member_id) float64 18.97 19.09 ... 22.85,\n",
       " 'ocn.historical.pop.h': <xarray.Dataset>\n",
       " Dimensions:                 (lat_aux_grid: 395, member_id: 11, moc_comp: 3, moc_z: 61, nlat: 384, nlon: 320, time: 165, transport_comp: 5, transport_reg: 2, z_t: 60, z_t_150m: 15, z_w: 60, z_w_bot: 60, z_w_top: 60)\n",
       " Coordinates:\n",
       "   * z_t                     (z_t) float32 500.0 1.5e+03 ... 5.125e+05 5.375e+05\n",
       "   * z_w                     (z_w) float32 0.0 1e+03 2e+03 ... 5e+05 5.25e+05\n",
       "   * member_id               (member_id) int64 1 2 3 4 5 6 7 8 9 10 11\n",
       "   * z_w_bot                 (z_w_bot) float32 1e+03 2e+03 ... 5.25e+05 5.5e+05\n",
       "   * lat_aux_grid            (lat_aux_grid) float32 -79.49 -78.95 ... 89.47 90.0\n",
       "   * z_t_150m                (z_t_150m) float32 500.0 1.5e+03 ... 1.45e+04\n",
       "   * moc_z                   (moc_z) float32 0.0 1e+03 2e+03 ... 5.25e+05 5.5e+05\n",
       "   * z_w_top                 (z_w_top) float32 0.0 1e+03 2e+03 ... 5e+05 5.25e+05\n",
       "   * time                    (time) int64 1850 1851 1852 1853 ... 2012 2013 2014\n",
       " Dimensions without coordinates: moc_comp, nlat, nlon, transport_comp, transport_reg\n",
       " Data variables: (12/60)\n",
       "     omega                   float64 7.292e-05\n",
       "     DXT                     (nlat, nlon) float64 1.894e+06 ... 1.473e+06\n",
       "     vonkar                  float64 0.4\n",
       "     radius                  float64 6.371e+08\n",
       "     cp_air                  float64 1.005e+03\n",
       "     DYT                     (nlat, nlon) float64 5.94e+06 5.94e+06 ... 5.046e+06\n",
       "     ...                      ...\n",
       "     ULAT                    (nlat, nlon) float64 -78.95 -78.95 ... 72.41 72.41\n",
       "     ULONG                   (nlat, nlon) float64 321.1 322.3 ... 319.6 320.0\n",
       "     latent_heat_fusion_mks  float64 3.337e+05\n",
       "     FG_CO2                  (time, member_id) float64 -0.09154 -0.1373 ... 2.472\n",
       "     ATM_CO2                 (time, member_id) float64 284.3 284.3 ... 397.3\n",
       "     SST                     (time, member_id) float64 18.34 18.31 ... 19.01}"
      ]
     },
     "execution_count": 6,
     "metadata": {},
     "output_type": "execute_result"
    }
   ],
   "source": [
    "dsets_int = glb_int.to_dataset_dict('FG_CO2', clobber=False)\n",
    "dsets_avg = glb_avg.to_dataset_dict(['ATM_CO2', 'SST',], prefer_derived=True, clobber=False)\n",
    "\n",
    "assert dsets_int.keys() == dsets_avg.keys()\n",
    "\n",
    "dsets = {}\n",
    "for key in dsets_int.keys():\n",
    "    dsets[key] = xr.merge((dsets_int[key].compute(), dsets_avg[key].compute()))\n",
    "\n",
    "dsets"
   ]
  },
  {
   "cell_type": "code",
   "execution_count": 7,
   "id": "modified-unknown",
   "metadata": {},
   "outputs": [],
   "source": [
    "del client\n",
    "del cluster"
   ]
  },
  {
   "cell_type": "code",
   "execution_count": 8,
   "id": "integrated-bacteria",
   "metadata": {},
   "outputs": [
    {
     "data": {
      "image/png": "[encoded data removed]",
      "text/plain": [
       "<Figure size 576x72 with 1 Axes>"
      ]
     },
     "metadata": {
      "needs_background": "light"
     },
     "output_type": "display_data"
    }
   ],
   "source": [
    "import seaborn as sns\n",
    "\n",
    "current_palette = sns.color_palette('colorblind', 8)\n",
    "sns.palplot(current_palette)\n",
    "\n",
    "exp_colors = {\n",
    "    'PI': current_palette.as_hex()[-1],\n",
    "    'historical': 'k',\n",
    "    'SSP1-2.6': current_palette.as_hex()[0],\n",
    "    'SSP2-4.5': current_palette.as_hex()[1],\n",
    "    'SSP3-7.0': current_palette.as_hex()[2],\n",
    "    'SSP5-8.5': current_palette.as_hex()[3],\n",
    "}"
   ]
  },
  {
   "cell_type": "code",
   "execution_count": 9,
   "id": "promising-nitrogen",
   "metadata": {},
   "outputs": [],
   "source": [
    "variable_labels = dict(\n",
    "    year='Year',\n",
    "    FG_CO2='Air-sea CO$_2$ flux [Pg C yr$^{-1}$]',\n",
    "    photoC_TOT_zint_100m='NPP (z > -100m) [Pg C yr$^{-1}$]',\n",
    "    photoC_TOT_zint='NPP [Pg C yr$^{-1}$]',\n",
    "    POC_FLUX_100m='POC flux (100 m) [Pg C yr$^{-1}$]',\n",
    "    ATM_CO2='Atmospheric CO$_2$ [ppm]',\n",
    "    SST='Temperature [°C]',\n",
    "    time='',\n",
    ")"
   ]
  },
  {
   "cell_type": "code",
   "execution_count": 10,
   "id": "vital-mediterranean",
   "metadata": {},
   "outputs": [
    {
     "data": {
      "image/png": "[encoded data removed]",
      "text/plain": [
       "<Figure size 864x648 with 4 Axes>"
      ]
     },
     "metadata": {
      "needs_background": "light"
     },
     "output_type": "display_data"
    }
   ],
   "source": [
    "y = 'FG_CO2'\n",
    "x = 'SST'\n",
    "\n",
    "nrow = 2\n",
    "ncol = 2\n",
    "#fig, axs = plt.subplots(nrow, ncol, figsize=(4*ncol, 3*nrow), constrained_layout=False)\n",
    "\n",
    "fig = plt.figure(figsize=(12, 9))\n",
    "gs = gridspec.GridSpec(\n",
    "    nrows=2, ncols=2, \n",
    "    hspace=0.25,\n",
    "    wspace=0.22,\n",
    ")\n",
    "axs = np.empty((2, 2)).astype(object)\n",
    "for i, j in product(range(2), range(2)):\n",
    "    axs[i, j] = plt.subplot(gs[i, j])\n",
    "\n",
    "\n",
    "\n",
    "X = [['time', 'time'], ['time', 'ATM_CO2'],]\n",
    "Y = [['ATM_CO2', 'SST'], ['FG_CO2', 'FG_CO2'],]\n",
    "\n",
    "for i, j in product(range(2), range(2)):\n",
    "    ax = axs[i, j]\n",
    "    x = X[i][j]\n",
    "    y = Y[i][j]\n",
    "    for exp in experiments:\n",
    "        ds = dsets[f'ocn.{exp}.pop.h']\n",
    "        #for member_id in ds.member_id.values:\n",
    "        #    ax.plot(ds.time, ds[v].sel(member_id=member_id), '-', alpha=0.25, linewidth=1, color=exp_colors[exp])\n",
    "        ax.plot(ds.mean('member_id')[x], ds.mean('member_id')[y], '-', linewidth=2, color=exp_colors[exp], label=exp)\n",
    "        \n",
    "    ax.set_ylabel(variable_labels[y])    \n",
    "    ax.legend()\n",
    "    ax.set_xlabel(variable_labels[x])\n",
    "utils.label_plots(fig, [ax for ax in axs.ravel()], xoff=-0.03, yoff=0.015)   \n",
    "\n",
    "utils.savefig(f'global-timeseries-FG_CO2')"
   ]
  },
  {
   "cell_type": "code",
   "execution_count": 11,
   "id": "stopped-catering",
   "metadata": {},
   "outputs": [
    {
     "name": "stdout",
     "output_type": "stream",
     "text": [
      "ocn.SSP1-2.6.pop.h: 1.72\n",
      "ocn.SSP2-4.5.pop.h: 2.54\n",
      "ocn.SSP3-7.0.pop.h: 3.33\n",
      "ocn.SSP5-8.5.pop.h: 4.60\n"
     ]
    }
   ],
   "source": [
    "baseline = dsets['ocn.historical.pop.h'].SST.isel(time=slice(0, 10)).mean()\n",
    "for exp, ds in dsets.items():\n",
    "    if 'SSP' in exp:\n",
    "        warming = ds.SST.isel(time=-1).mean() - baseline\n",
    "        print(f'{exp}: {warming.values:0.2f}')\n"
   ]
  },
  {
   "cell_type": "code",
   "execution_count": null,
   "id": "serial-strain",
   "metadata": {},
   "outputs": [],
   "source": []
  }
 ],
 "metadata": {
  "kernelspec": {
   "display_name": "Python [conda env:miniconda3-cesm2-marbl]",
   "language": "python",
   "name": "conda-env-miniconda3-cesm2-marbl-py"
  },
  "language_info": {
   "codemirror_mode": {
    "name": "ipython",
    "version": 3
   },
   "file_extension": ".py",
   "mimetype": "text/x-python",
   "name": "python",
   "nbconvert_exporter": "python",
   "pygments_lexer": "ipython3",
   "version": "3.7.10"
  }
 },
 "nbformat": 4,
 "nbformat_minor": 5
}
