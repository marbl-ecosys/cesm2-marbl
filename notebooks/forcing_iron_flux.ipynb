{
 "cells": [
  {
   "cell_type": "code",
   "execution_count": 1,
   "metadata": {},
   "outputs": [],
   "source": [
    "%matplotlib inline\n",
    "import os\n",
    "\n",
    "import cftime\n",
    "\n",
    "import xarray as xr\n",
    "import numpy as np\n",
    "\n",
    "import matplotlib.pyplot as plt\n",
    "import matplotlib.colors as colors\n",
    "import cmocean\n",
    "\n",
    "import cartopy\n",
    "import cartopy.crs as ccrs\n",
    "\n",
    "# NOTE: issues in esmlab are being actively fixed, so using local install instead of release version\n",
    "import esmlab\n",
    "\n",
    "import intake\n",
    "# NOTE: installed from master because last released version is buggy\n",
    "import intake_esm"
   ]
  },
  {
   "cell_type": "code",
   "execution_count": 2,
   "metadata": {},
   "outputs": [
    {
     "data": {
      "text/html": [
       "<div>\n",
       "<style scoped>\n",
       "    .dataframe tbody tr th:only-of-type {\n",
       "        vertical-align: middle;\n",
       "    }\n",
       "\n",
       "    .dataframe tbody tr th {\n",
       "        vertical-align: top;\n",
       "    }\n",
       "\n",
       "    .dataframe thead th {\n",
       "        text-align: right;\n",
       "    }\n",
       "</style>\n",
       "<table border=\"1\" class=\"dataframe\">\n",
       "  <thead>\n",
       "    <tr style=\"text-align: right;\">\n",
       "      <th></th>\n",
       "      <th>experiment</th>\n",
       "      <th>case</th>\n",
       "      <th>component</th>\n",
       "      <th>stream</th>\n",
       "      <th>variable</th>\n",
       "      <th>date_range</th>\n",
       "      <th>member_id</th>\n",
       "      <th>path</th>\n",
       "      <th>year_offset</th>\n",
       "    </tr>\n",
       "  </thead>\n",
       "  <tbody>\n",
       "    <tr>\n",
       "      <th>0</th>\n",
       "      <td>esm-piControl</td>\n",
       "      <td>b.e21.B1850.f09_g17.CMIP6-esm-piControl.001</td>\n",
       "      <td>atm</td>\n",
       "      <td>cam.h1</td>\n",
       "      <td>ACTNL</td>\n",
       "      <td>00010101-00101231</td>\n",
       "      <td>0</td>\n",
       "      <td>/glade/collections/cdg/timeseries-cmip6/b.e21....</td>\n",
       "      <td>NaN</td>\n",
       "    </tr>\n",
       "    <tr>\n",
       "      <th>1</th>\n",
       "      <td>esm-piControl</td>\n",
       "      <td>b.e21.B1850.f09_g17.CMIP6-esm-piControl.001</td>\n",
       "      <td>atm</td>\n",
       "      <td>cam.h1</td>\n",
       "      <td>ACTNL</td>\n",
       "      <td>00110101-00201231</td>\n",
       "      <td>0</td>\n",
       "      <td>/glade/collections/cdg/timeseries-cmip6/b.e21....</td>\n",
       "      <td>NaN</td>\n",
       "    </tr>\n",
       "    <tr>\n",
       "      <th>2</th>\n",
       "      <td>esm-piControl</td>\n",
       "      <td>b.e21.B1850.f09_g17.CMIP6-esm-piControl.001</td>\n",
       "      <td>atm</td>\n",
       "      <td>cam.h1</td>\n",
       "      <td>ACTNL</td>\n",
       "      <td>00210101-00301231</td>\n",
       "      <td>0</td>\n",
       "      <td>/glade/collections/cdg/timeseries-cmip6/b.e21....</td>\n",
       "      <td>NaN</td>\n",
       "    </tr>\n",
       "    <tr>\n",
       "      <th>3</th>\n",
       "      <td>esm-piControl</td>\n",
       "      <td>b.e21.B1850.f09_g17.CMIP6-esm-piControl.001</td>\n",
       "      <td>atm</td>\n",
       "      <td>cam.h1</td>\n",
       "      <td>ACTNL</td>\n",
       "      <td>00310101-00401231</td>\n",
       "      <td>0</td>\n",
       "      <td>/glade/collections/cdg/timeseries-cmip6/b.e21....</td>\n",
       "      <td>NaN</td>\n",
       "    </tr>\n",
       "    <tr>\n",
       "      <th>4</th>\n",
       "      <td>esm-piControl</td>\n",
       "      <td>b.e21.B1850.f09_g17.CMIP6-esm-piControl.001</td>\n",
       "      <td>atm</td>\n",
       "      <td>cam.h1</td>\n",
       "      <td>ACTNL</td>\n",
       "      <td>00410101-00501231</td>\n",
       "      <td>0</td>\n",
       "      <td>/glade/collections/cdg/timeseries-cmip6/b.e21....</td>\n",
       "      <td>NaN</td>\n",
       "    </tr>\n",
       "  </tbody>\n",
       "</table>\n",
       "</div>"
      ],
      "text/plain": [
       "      experiment                                         case component  \\\n",
       "0  esm-piControl  b.e21.B1850.f09_g17.CMIP6-esm-piControl.001       atm   \n",
       "1  esm-piControl  b.e21.B1850.f09_g17.CMIP6-esm-piControl.001       atm   \n",
       "2  esm-piControl  b.e21.B1850.f09_g17.CMIP6-esm-piControl.001       atm   \n",
       "3  esm-piControl  b.e21.B1850.f09_g17.CMIP6-esm-piControl.001       atm   \n",
       "4  esm-piControl  b.e21.B1850.f09_g17.CMIP6-esm-piControl.001       atm   \n",
       "\n",
       "   stream variable         date_range  member_id  \\\n",
       "0  cam.h1    ACTNL  00010101-00101231          0   \n",
       "1  cam.h1    ACTNL  00110101-00201231          0   \n",
       "2  cam.h1    ACTNL  00210101-00301231          0   \n",
       "3  cam.h1    ACTNL  00310101-00401231          0   \n",
       "4  cam.h1    ACTNL  00410101-00501231          0   \n",
       "\n",
       "                                                path  year_offset  \n",
       "0  /glade/collections/cdg/timeseries-cmip6/b.e21....          NaN  \n",
       "1  /glade/collections/cdg/timeseries-cmip6/b.e21....          NaN  \n",
       "2  /glade/collections/cdg/timeseries-cmip6/b.e21....          NaN  \n",
       "3  /glade/collections/cdg/timeseries-cmip6/b.e21....          NaN  \n",
       "4  /glade/collections/cdg/timeseries-cmip6/b.e21....          NaN  "
      ]
     },
     "execution_count": 2,
     "metadata": {},
     "output_type": "execute_result"
    }
   ],
   "source": [
    "cesm2 = intake.open_esm_datastore('/glade/work/mlevy/CMIP6-CESM2_only-NOT_CMORIZED.json')\n",
    "cesm2.df.head()"
   ]
  },
  {
   "cell_type": "code",
   "execution_count": 3,
   "metadata": {},
   "outputs": [
    {
     "data": {
      "text/plain": [
       "Index(['experiment', 'case', 'component', 'stream', 'variable', 'date_range',\n",
       "       'member_id', 'path', 'year_offset'],\n",
       "      dtype='object')"
      ]
     },
     "execution_count": 3,
     "metadata": {},
     "output_type": "execute_result"
    }
   ],
   "source": [
    "cesm2.df.columns"
   ]
  },
  {
   "cell_type": "code",
   "execution_count": null,
   "metadata": {},
   "outputs": [],
   "source": [
    "cmip5 = intake.open_esm_datastore('/glade/collections/cmip/catalog/intake-esm-datastore/catalogs/glade-cmip5.json')\n",
    "cesm1 = cmip5.search(model='CESM1-BGC')\n",
    "cesm1.df.head()"
   ]
  },
  {
   "cell_type": "code",
   "execution_count": 4,
   "metadata": {},
   "outputs": [],
   "source": [
    "keep_vars = ['TAREA', 'TLONG', 'TLAT', 'IRON_FLUX', 'time', 'time_bound', 'member_id']"
   ]
  },
  {
   "cell_type": "code",
   "execution_count": 5,
   "metadata": {},
   "outputs": [
    {
     "data": {
      "text/plain": [
       "member_id  date_range   \n",
       "1          185001-201412    /glade/collections/cdg/timeseries-cmip6/b.e21....\n",
       "2          185001-201412    /glade/collections/cdg/timeseries-cmip6/b.e21....\n",
       "3          185001-201412    /glade/collections/cdg/timeseries-cmip6/b.e21....\n",
       "4          185001-201412    /glade/collections/cdg/timeseries-cmip6/b.e21....\n",
       "5          185001-201412    /glade/collections/cdg/timeseries-cmip6/b.e21....\n",
       "6          185001-201412    /glade/collections/cdg/timeseries-cmip6/b.e21....\n",
       "7          185001-189912    /glade/collections/cdg/timeseries-cmip6/b.e21....\n",
       "           190001-194912    /glade/collections/cdg/timeseries-cmip6/b.e21....\n",
       "           195001-199912    /glade/collections/cdg/timeseries-cmip6/b.e21....\n",
       "           200001-201412    /glade/collections/cdg/timeseries-cmip6/b.e21....\n",
       "8          185001-189912    /glade/collections/cdg/timeseries-cmip6/b.e21....\n",
       "           190001-194912    /glade/collections/cdg/timeseries-cmip6/b.e21....\n",
       "           195001-199912    /glade/collections/cdg/timeseries-cmip6/b.e21....\n",
       "           200001-201412    /glade/collections/cdg/timeseries-cmip6/b.e21....\n",
       "9          185001-189912    /glade/collections/cdg/timeseries-cmip6/b.e21....\n",
       "           190001-194912    /glade/collections/cdg/timeseries-cmip6/b.e21....\n",
       "           195001-199912    /glade/collections/cdg/timeseries-cmip6/b.e21....\n",
       "           200001-201412    /glade/collections/cdg/timeseries-cmip6/b.e21....\n",
       "10         185001-189912    /glade/collections/cdg/timeseries-cmip6/b.e21....\n",
       "           190001-194912    /glade/collections/cdg/timeseries-cmip6/b.e21....\n",
       "           195001-199912    /glade/collections/cdg/timeseries-cmip6/b.e21....\n",
       "           200001-201412    /glade/collections/cdg/timeseries-cmip6/b.e21....\n",
       "11         185001-189912    /glade/collections/cdg/timeseries-cmip6/b.e21....\n",
       "           190001-194912    /glade/collections/cdg/timeseries-cmip6/b.e21....\n",
       "           195001-199912    /glade/collections/cdg/timeseries-cmip6/b.e21....\n",
       "           200001-201412    /glade/collections/cdg/timeseries-cmip6/b.e21....\n",
       "Name: path, dtype: object"
      ]
     },
     "execution_count": 5,
     "metadata": {},
     "output_type": "execute_result"
    }
   ],
   "source": [
    "# WORKAROUND FOR intake-esm ISSUE: limit to members with only a single file\n",
    "\n",
    "cat = cesm2.search(experiment=['historical'], variable='IRON_FLUX')\n",
    "cat.df.set_index(['member_id', 'date_range'])['path']"
   ]
  },
  {
   "cell_type": "code",
   "execution_count": 6,
   "metadata": {},
   "outputs": [
    {
     "name": "stdout",
     "output_type": "stream",
     "text": [
      "--> The keys in the returned dictionary of datasets are constructed as follows:\n",
      "\t'component.experiment.stream'\n",
      "\n",
      "--> There will be 1 group(s)\n"
     ]
    },
    {
     "data": {
      "text/plain": [
       "<xarray.Dataset>\n",
       "Dimensions:     (d2: 2, member_id: 6, nlat: 384, nlon: 320, time: 1980)\n",
       "Coordinates:\n",
       "  * member_id   (member_id) int64 1 2 3 4 5 6\n",
       "  * time        (time) object 1850-02-01 00:00:00 ... 2015-01-01 00:00:00\n",
       "Dimensions without coordinates: d2, nlat, nlon\n",
       "Data variables:\n",
       "    TLONG       (nlat, nlon) float64 dask.array<chunksize=(384, 320), meta=np.ndarray>\n",
       "    TLAT        (nlat, nlon) float64 dask.array<chunksize=(384, 320), meta=np.ndarray>\n",
       "    TAREA       (nlat, nlon) float64 dask.array<chunksize=(384, 320), meta=np.ndarray>\n",
       "    time_bound  (time, d2) object dask.array<chunksize=(48, 2), meta=np.ndarray>\n",
       "    IRON_FLUX   (member_id, time, nlat, nlon) float32 dask.array<chunksize=(1, 48, 384, 320), meta=np.ndarray>\n",
       "Attributes:\n",
       "    cell_methods:      cell_methods = time: mean ==> the variable values are ...\n",
       "    model_doi_url:     https://doi.org/10.5065/D67H1H0V\n",
       "    revision:          $Id: tavg.F90 89644 2018-08-04 14:26:01Z klindsay $\n",
       "    history:           none\n",
       "    calendar:          All years have exactly  365 days.\n",
       "    source:            CCSM POP2, the CCSM Ocean Component\n",
       "    contents:          Diagnostic and Prognostic Variables\n",
       "    Conventions:       CF-1.0; http://www.cgd.ucar.edu/cms/eaton/netcdf/CF-cu...\n",
       "    time_period_freq:  month_1"
      ]
     },
     "execution_count": 6,
     "metadata": {},
     "output_type": "execute_result"
    }
   ],
   "source": [
    "# TODO: eventually we should be able to remove the member_id from the search\n",
    "#dq = cesm2.search(experiment=['historical'], variable='IRON_FLUX', member_id=[1,2,3,4,5,6]).to_dataset_dict(cdf_kwargs={'chunks':{'time': 48}, 'decode_times' : False})\n",
    "#dq = cesm2.search(experiment=['historical'], variable='IRON_FLUX', member_id=[1,2,3,4,5,6]).to_dataset_dict(cdf_kwargs={'decode_times' : False})\n",
    "dq = cesm2.search(experiment=['historical'], variable='IRON_FLUX', member_id=[1,2,3,4,5,6]).to_dataset_dict(cdf_kwargs={'chunks':{'time': 48}})\n",
    "#dq = cesm2.search(experiment=['historical'], variable='IRON_FLUX', member_id=[1,2,3,4,5,6]).to_dataset_dict()\n",
    "\n",
    "_, ds2 = dq.popitem()\n",
    "ds2 = ds2.drop([v for v in ds2.variables if v not in keep_vars])\n",
    "ds2"
   ]
  },
  {
   "cell_type": "code",
   "execution_count": null,
   "metadata": {},
   "outputs": [],
   "source": [
    "dq = cesm1.search(experiment='historical', variable='IRON_FLUX').to_xarray(chunks={'time': 48})\n",
    "_, ds1 = dq.popitem()\n",
    "ds1 = ds1.drop([v for v in ds1.variables if v not in keep_vars])\n",
    "ds1"
   ]
  },
  {
   "cell_type": "code",
   "execution_count": 7,
   "metadata": {},
   "outputs": [
    {
     "name": "stderr",
     "output_type": "stream",
     "text": [
      "/glade/work/mlevy/miniconda3/envs/cesm2-marbl/lib/python3.7/site-packages/xarray/core/nanops.py:140: RuntimeWarning: Mean of empty slice\n",
      "  return np.nanmean(a, axis=axis, dtype=dtype)\n"
     ]
    },
    {
     "data": {
      "text/plain": [
       "<xarray.Dataset>\n",
       "Dimensions:     (d2: 2, member_id: 6, nlat: 384, nlon: 320, time: 165, year: 165)\n",
       "Coordinates:\n",
       "  * member_id   (member_id) int64 1 2 3 4 5 6\n",
       "    time        (year) object 1850-07-01 17:05:00 ... 2014-07-01 17:00:00\n",
       "  * year        (year) int64 1850 1851 1852 1853 1854 ... 2011 2012 2013 2014\n",
       "Dimensions without coordinates: d2, nlat, nlon\n",
       "Data variables:\n",
       "    time_bound  (d2, time) object 1850-01-01 02:00:00 ... 2015-01-01 00:00:00\n",
       "    IRON_FLUX   (member_id, time, nlat, nlon) float64 dask.array<chunksize=(1, 1, 384, 320), meta=np.ndarray>\n",
       "    TLONG       (nlat, nlon) float64 dask.array<chunksize=(384, 320), meta=np.ndarray>\n",
       "    TLAT        (nlat, nlon) float64 dask.array<chunksize=(384, 320), meta=np.ndarray>\n",
       "    TAREA       (nlat, nlon) float64 dask.array<chunksize=(384, 320), meta=np.ndarray>\n",
       "Attributes:\n",
       "    history:  \\n2019-10-24 18:50:29.482511 esmlab.resample(<DATASET>, freq=\"a..."
      ]
     },
     "execution_count": 7,
     "metadata": {},
     "output_type": "execute_result"
    }
   ],
   "source": [
    "ds2_ann = esmlab.resample(ds2, freq='ann')\n",
    "ds2_ann"
   ]
  },
  {
   "cell_type": "code",
   "execution_count": null,
   "metadata": {},
   "outputs": [],
   "source": [
    "ds1_ann = esmlab.resample(ds1, freq='ann')\n",
    "ds1_ann"
   ]
  },
  {
   "cell_type": "code",
   "execution_count": 8,
   "metadata": {},
   "outputs": [
    {
     "name": "stderr",
     "output_type": "stream",
     "text": [
      "/glade/work/mlevy/miniconda3/envs/cesm2-marbl/lib/python3.7/site-packages/dask/array/numpy_compat.py:40: RuntimeWarning: invalid value encountered in true_divide\n",
      "  x = np.divide(x1, x2, out)\n"
     ]
    },
    {
     "data": {
      "text/plain": [
       "<xarray.DataArray (member_id: 6, time: 165)>\n",
       "array([[ 9.2300802 ,  8.26259593,  8.22607918,  7.94831515,  7.88280388,\n",
       "         7.49080318,  6.75696343,  7.85591485,  7.81419803,  8.59692022,\n",
       "         8.12089366,  8.22557846,  9.6780805 ,  8.92432879,  8.3751256 ,\n",
       "         7.8618162 ,  7.56687237,  7.39395779,  8.67322271,  8.86996462,\n",
       "         7.65686672,  8.72962031,  9.5959185 ,  7.22743907,  7.24450034,\n",
       "         7.29863268,  7.44995764,  7.28187819,  8.39862499,  9.5151268 ,\n",
       "         9.38601212, 10.01326079,  7.95809805,  8.61060457,  7.33875934,\n",
       "         8.30995142,  7.53541575,  8.18925207,  7.48939006,  7.67206898,\n",
       "         8.62467447,  9.05118261,  7.90275396,  7.78647719,  7.99137948,\n",
       "         8.06789184,  7.66945093,  8.32406104,  8.15178372,  8.67115548,\n",
       "         7.39226166,  8.92200807,  8.74344425,  7.77033766,  7.60297688,\n",
       "         8.03955709,  8.48621707,  7.85128169,  7.98370579,  8.63537833,\n",
       "         8.23317911,  8.83387672,  8.04049896,  7.76695642,  7.06868029,\n",
       "         7.70823863,  8.43200697,  7.62941724,  8.84904876,  7.21330121,\n",
       "         8.0214248 ,  8.13254881,  8.63584674,  7.3317637 ,  7.75766438,\n",
       "         8.44163912,  8.10570033,  7.47368406,  8.09598037,  8.79100319,\n",
       "         8.77830657,  8.80484317,  7.87245291,  8.20731156,  8.33509861,\n",
       "         9.51126716,  9.47731583,  8.66416794,  7.87893474,  7.13622056,\n",
       "         8.07784282,  8.17452297,  7.50764691,  8.53053509,  8.19630031,\n",
       "         8.87695693,  8.55220741,  8.62239055,  8.68377372,  7.19016455,\n",
       "         8.1919276 ,  7.75826031,  8.12651625,  8.97653353,  9.13415289,\n",
       "         8.09168297,  9.27090963,  8.26628236,  8.26676053,  8.50750265,\n",
       "         8.98533351,  9.4584043 ,  9.34231203,  8.55957298,  9.30517752,\n",
       "         7.60488936,  8.41131459,  8.16727608,  8.19695196,  7.4984128 ,\n",
       "         8.72248869,  8.64954931,  9.73221132,  8.04096927,  8.45916919,\n",
       "         7.97161987,  8.59600849,  7.92766446,  8.55319295,  9.34752448,\n",
       "         8.75537649,  8.57178589, 10.42131249,  8.40352644,  8.35499559,\n",
       "         8.05147506,  9.36955735,  8.00924916,  8.46942626,  7.92572859,\n",
       "         9.88474529,  8.87933772,  8.57736418,  7.72501809,  8.02440452,\n",
       "         8.80272614,  7.70272047,  6.80706811,  8.13799668,  7.637156  ,\n",
       "         7.43863504,  9.42155565,  8.06041117,  8.09316171,  7.93200081,\n",
       "         7.38726204,  7.29865982,  7.31836281,  8.88720284,  8.5838143 ,\n",
       "         8.84949042,  8.51249532,  8.87160024,  8.82485228,  8.11518775],\n",
       "       [ 8.32685797,  7.26389874,  8.52567667,  7.78874953,  7.43390823,\n",
       "         7.46754941,  7.80104595,  6.95186289,  8.01432337,  7.78296149,\n",
       "         7.64358545,  8.68759192,  8.40385276,  8.70606547,  7.84888387,\n",
       "         8.0962115 ,  7.81403825,  7.50678516,  8.13277895,  8.37480303,\n",
       "         8.63641151,  7.13348096,  8.43864905,  7.66646591,  6.390701  ,\n",
       "         7.17510424,  8.2994306 ,  7.60439793,  7.92508647,  8.04132656,\n",
       "         7.76122388,  7.72200537,  7.31952949,  7.96521221,  8.2416742 ,\n",
       "         8.73419426,  8.51627637,  7.07119138,  7.57251612,  8.79972454,\n",
       "         9.61809797,  8.69294129,  8.25115585,  7.69305923,  8.09864576,\n",
       "         7.73893141,  7.33994152,  8.06526238,  8.9806635 ,  7.78794764,\n",
       "         8.23051306,  7.57609231,  8.73593411,  7.27764034,  8.69217992,\n",
       "         7.15485066,  8.05893494,  8.25546472,  6.94527967,  8.46620169,\n",
       "         7.48631279,  8.04943217,  8.0712515 ,  8.5212461 ,  8.46666782,\n",
       "         8.85112068,  8.07991052,  8.54512837,  8.68664945,  8.53675503,\n",
       "         9.17920174,  8.40191812,  8.54768115,  7.9640539 ,  8.38815724,\n",
       "         7.92087411,  7.96509039,  8.50933145,  7.71284861,  8.16576433,\n",
       "         7.59560894,  8.32111926,  8.99707978,  8.4734975 ,  8.95660947,\n",
       "         9.41192441,  8.21420011,  8.47978253,  8.31040074,  7.56703695,\n",
       "         7.59993537,  8.33750521,  9.46420075,  8.97026207,  8.86083353,\n",
       "         8.65509052,  8.00529613,  7.56083418,  8.99685497,  7.58650436,\n",
       "         8.31534951,  9.73140185,  7.98362629,  8.75168232,  8.30875818,\n",
       "         7.47382893,  8.37544187,  8.92766284,  8.18327015,  8.5818398 ,\n",
       "         8.6079961 ,  7.31055839,  9.37864261,  8.38757622,  8.56734711,\n",
       "         7.9385291 ,  8.64551573,  8.23956672,  8.29212459,  7.50116025,\n",
       "         7.28589909,  8.85095187,  8.75951752,  8.47693336,  9.90087691,\n",
       "         9.10269852,  8.02922229,  8.05584135,  7.86128752,  8.70223463,\n",
       "         8.64115867,  8.27635978,  8.58311428,  8.60085852,  9.44053427,\n",
       "         8.38387671,  8.24923296,  8.30707236,  8.39990684,  8.99519939,\n",
       "         8.63482284,  8.93464423,  8.47090036,  8.38331759,  8.60801202,\n",
       "         8.3045317 ,  8.26844514,  7.60182909,  7.98927737,  7.53992688,\n",
       "         7.58141151,  7.85871943,  7.92864154,  9.10756104,  8.18197134,\n",
       "         8.34330178,  8.14936376,  8.03392872,  7.4790083 ,  8.02020894,\n",
       "         7.74474927,  8.249485  ,  8.69017733,  9.25795746,  8.37191988],\n",
       "       [ 8.1106605 ,  8.38003757,  8.23106228,  8.73716008,  8.20173197,\n",
       "         8.16928804,  7.78674841,  8.00599839,  7.80428862,  8.61471404,\n",
       "         8.82306974,  7.5246606 ,  7.44297334,  8.04396623,  7.88528127,\n",
       "         8.74080773,  9.07344379,  8.23034662,  8.87639635,  8.23033082,\n",
       "         7.53749051,  8.48692103,  7.60311985,  8.08211372,  7.97810823,\n",
       "         8.504965  ,  8.68165308,  7.94927809,  8.69582117,  7.89713448,\n",
       "         8.28277424,  8.06706759,  7.90957673,  7.10467376,  8.11176691,\n",
       "         8.82950145,  8.57478602,  8.20325317,  8.88365707,  9.47122127,\n",
       "         7.83522254,  8.98183152,  8.2333904 ,  7.74374462,  8.75564164,\n",
       "         8.41798987,  6.99505598,  7.77873875,  7.74235403,  7.41482941,\n",
       "         8.55554483,  7.47331959,  7.86748488,  7.86506773,  8.6741234 ,\n",
       "         8.91163394,  8.35252307,  7.87118417,  8.35777642,  7.80084329,\n",
       "         8.82508766,  8.19670505,  7.25739111,  7.36724455,  8.29241458,\n",
       "         8.36377883,  7.33691257,  7.95538581,  8.08439571,  7.66780958,\n",
       "         7.62250311,  8.77003067,  7.73972924,  7.48282088,  8.06377081,\n",
       "         8.11327312,  7.87239521,  8.02090017,  7.6587082 ,  8.27857742,\n",
       "         7.57758189,  8.40010406,  8.18489113,  8.06502209,  8.69847321,\n",
       "         8.38900651,  7.96518028,  9.69250126, 10.39585198,  8.24573719,\n",
       "         8.44564218,  7.48669297,  8.44707523,  8.82819461,  8.19435793,\n",
       "         8.06532009,  7.54067234, 10.04234938,  8.16660623,  8.28957509,\n",
       "         8.11862023,  9.01337515,  8.41860432,  8.50816162,  9.29951349,\n",
       "         8.54566488,  8.57176312,  8.43751064,  8.64670455,  8.82245915,\n",
       "         8.43876323,  8.48095517,  9.50659543, 10.00227578,  8.02668119,\n",
       "         7.66324318,  8.68645837,  8.24925112,  8.91503843,  7.81536581,\n",
       "         8.56723792,  9.30825943, 10.12334886,  8.25724042,  9.71910505,\n",
       "         7.56792449,  8.20431818,  7.88935624,  7.4642576 ,  7.4247877 ,\n",
       "         8.95224423,  8.51820728,  7.86284633,  9.12651088,  9.44904735,\n",
       "         9.69922919,  8.43452573,  8.17634552,  8.42895113,  8.46480752,\n",
       "         8.3535192 ,  7.67976967,  8.37039959,  7.86705717,  7.87022312,\n",
       "         8.70721712,  8.56593415,  8.01352791,  7.74576787,  7.92094692,\n",
       "         7.66286006,  7.44291222,  8.50071798,  8.73482137,  9.5811846 ,\n",
       "         7.86049503,  8.17190823,  8.01893295,  7.88277041,  8.20161186,\n",
       "         8.33940146,  9.9381478 ,  7.89537625,  8.13547233,  8.61778304],\n",
       "       [ 8.26843914,  7.481778  ,  9.42934086,  8.08195168,  7.18159498,\n",
       "         9.29513334,  8.01445005,  8.14006756,  7.91178863,  7.7006369 ,\n",
       "         8.91491186,  8.57037053,  7.39398678,  8.69308536,  7.8845092 ,\n",
       "         8.41858347,  8.53243369,  7.79403359,  7.3584327 ,  8.05837866,\n",
       "         7.6546005 ,  7.91836283,  7.96643865,  8.85421458,  7.86848428,\n",
       "         9.55148335,  7.46676149,  7.54977588,  7.74054888,  8.96434711,\n",
       "         7.83507379,  9.87515825,  9.45404113,  8.9179963 ,  8.8575691 ,\n",
       "         8.7353564 ,  8.65006322,  7.26299203, 10.46287407,  8.45393753,\n",
       "         8.07062245,  9.12753332,  8.94624395,  8.88232174,  8.35570688,\n",
       "         7.58652258,  8.51217951,  7.59675771,  8.4767643 ,  7.81848896,\n",
       "         8.09257914,  9.79712997,  8.03279471,  7.78887183,  8.89206164,\n",
       "         8.19766854,  8.20235418,  7.95989745,  8.62111848,  8.3182209 ,\n",
       "         7.56571407,  8.09473437,  8.52495786,  9.17618972,  8.11135571,\n",
       "         7.44248226,  7.94132566,  7.56553985,  8.66990859,  9.32534662,\n",
       "        10.09246152,  9.94757298,  7.92803664,  7.41120854,  7.65974541,\n",
       "         8.47762295,  8.30344205,  7.95295309,  8.75893835,  7.42269596,\n",
       "         7.7741179 ,  7.59902017,  8.07135402,  9.47800974,  8.27850678,\n",
       "         9.62591772,  8.62904021,  7.88665414,  8.05542272,  9.4231767 ,\n",
       "         7.9777238 ,  8.23005225,  9.50735286,  8.00762615,  7.97037563,\n",
       "         8.58044041,  7.82305483,  8.4164843 ,  8.68883126,  7.92379314,\n",
       "         8.71425839,  9.89721899,  9.34422189,  7.51199496,  8.95302178,\n",
       "         9.6767391 ,  8.27054214,  8.28110224,  8.47588564,  8.12007432,\n",
       "         8.81780068,  8.23476921,  7.86151809,  8.93787668,  9.44978519,\n",
       "         7.98780847,  8.25525541,  8.5939053 ,  8.0877172 ,  8.7916874 ,\n",
       "         7.88322454,  8.11652824,  7.39674105,  8.52255855,  8.12037681,\n",
       "         8.07299414,  8.62903442,  8.76512937,  7.95555732,  7.42299244,\n",
       "         8.38966894,  8.52860291,  7.705366  ,  8.45356895,  8.0705545 ,\n",
       "         8.08494687,  8.45929147,  7.8621901 ,  7.92738018,  8.42702214,\n",
       "         7.58608073,  9.13378328,  8.58386158,  7.62512173,  8.41048876,\n",
       "         7.72930708,  7.67685853,  7.96932901,  7.08550389,  8.34391639,\n",
       "         7.4104199 ,  7.15998124,  8.50608475,  7.52605514,  8.02792906,\n",
       "         7.48656798,  7.14729086,  8.0280391 ,  7.88490882,  8.77274701,\n",
       "         7.36861061,  7.34480739,  8.63774355,  7.92059028,  8.5000251 ],\n",
       "       [ 9.20208983,  8.22578703,  7.55550028,  7.62297763,  7.82433205,\n",
       "         8.15796794,  7.46861391,  8.30717848,  7.15600051,  7.62672938,\n",
       "         7.82082917,  8.68140444,  8.38023452,  8.89753879,  8.42383026,\n",
       "         7.99115138,  8.44680083,  7.47176308,  7.78575242,  7.3789969 ,\n",
       "         7.76575361,  7.27646386,  8.43694301,  8.9461667 ,  8.31138598,\n",
       "         7.71554561, 10.13408566,  9.17884655,  9.15332511,  8.01016769,\n",
       "         8.11737398,  7.93732613,  6.91395907,  7.71627704,  8.22269048,\n",
       "         7.31980981,  8.29473239,  7.6212231 ,  8.35285728,  9.89135279,\n",
       "         8.948756  ,  8.52228303,  7.51856716,  8.56831363,  8.05635043,\n",
       "         8.43511872,  8.1548088 ,  7.49035723,  7.61963934,  7.06398268,\n",
       "         8.64018756,  8.34221886,  8.57474892,  8.4355752 ,  8.19390379,\n",
       "         8.4456985 ,  8.09456634,  7.80647769,  8.16741107,  8.3575212 ,\n",
       "         8.19170978,  7.5540621 ,  8.97986656,  9.3142096 ,  8.2222248 ,\n",
       "         7.58265249,  7.55204086,  8.74820832,  8.28684925,  8.24068376,\n",
       "         8.88095374,  8.20764107,  7.71924359,  8.12172451,  8.33973238,\n",
       "         9.84221781,  8.20480388,  8.8537359 ,  8.46055961,  8.51400535,\n",
       "         6.99497787,  8.31913645,  8.69596224,  7.97187559,  9.19580932,\n",
       "         8.14395921,  7.78439436,  7.54813939,  8.58583396,  7.67551865,\n",
       "         7.63644736,  8.15489594,  8.29901693,  8.20983665,  8.44301136,\n",
       "         8.30647875,  8.90251697,  8.21738962,  8.75442324,  8.26130671,\n",
       "         8.62409069,  7.88877684,  8.98267733,  8.27426423,  8.80813458,\n",
       "        10.1155451 ,  8.13441375,  8.44526716,  7.92424817,  9.14616659,\n",
       "         8.32808839,  8.35167573,  8.23370682,  8.20362314,  7.62534869,\n",
       "         7.61310354,  8.11034611,  8.17340851,  7.46651058,  7.90878427,\n",
       "         7.89362278,  8.03712622,  9.8745147 ,  8.83367385,  7.79730503,\n",
       "         7.68089878,  8.30037138,  7.82124621,  7.87032512,  9.16476327,\n",
       "         8.62359272,  9.23341613,  8.68379806,  7.55160746,  8.38450045,\n",
       "         8.02850132,  9.05571986, 10.04324192,  9.71160095,  8.03183984,\n",
       "         8.40050734,  9.59621618,  8.21927998,  8.04443385,  7.27304088,\n",
       "         9.94362411,  8.49995866,  8.99772243,  8.48131238,  8.9768947 ,\n",
       "         8.01028614,  8.49249508,  9.8586518 ,  7.92924833,  7.78203096,\n",
       "         9.99674438,  8.50471029,  8.20624102,  7.70685413,  7.56052379,\n",
       "         8.11495845,  8.74002307,  8.52738537,  7.72209995,  8.93667013],\n",
       "       [ 7.98248198,  8.47462239,  7.49181942,  8.24965012,  8.92929628,\n",
       "         8.21011073,  8.31913687,  8.22577558,  8.26313684,  7.66439214,\n",
       "         7.60973418,  8.40227301,  7.75982702,  9.02483305,  9.00345797,\n",
       "         7.90367032,  8.24414401,  8.39235628,  7.70993331,  7.98665844,\n",
       "         8.93517447,  7.46036004,  8.45876009,  8.31125524,  8.0362703 ,\n",
       "         7.91011928,  7.47606762,  7.4069565 ,  7.85076678,  8.04936994,\n",
       "         8.14082103,  8.37337548,  7.3496153 ,  8.6015042 ,  9.51175418,\n",
       "         7.6750907 ,  7.42959464,  7.88164864,  8.26104332,  8.11512639,\n",
       "         7.09581252,  9.36554648,  9.21793388,  7.97476256,  7.6544322 ,\n",
       "        10.49387571,  8.01627544,  8.38481834,  8.53534065,  8.20174105,\n",
       "         7.65195867,  8.44957317,  7.90371599,  8.3676568 ,  8.48225806,\n",
       "         9.10113094,  7.92565305,  8.10405033,  8.39504621,  7.66080449,\n",
       "         8.40430359,  8.1837706 ,  8.03508923,  8.26144997,  7.72359615,\n",
       "         8.03469991,  7.81656565,  8.0872258 ,  8.58075936,  8.19071758,\n",
       "         8.11723693,  9.12046589,  7.38969953,  8.71383069,  8.8074544 ,\n",
       "         7.74611469,  8.83334952,  7.66107386,  8.96681198,  8.58996177,\n",
       "         7.47959799,  9.59881622,  8.57203247,  8.44679034,  7.54732851,\n",
       "         7.40732181,  9.04743222,  8.98750204,  8.87394018,  8.4515802 ,\n",
       "         8.60772343,  7.75655808,  7.86923985,  9.52136747,  8.47546896,\n",
       "         8.36974516,  8.66645266,  8.47768329,  8.93392167,  8.2328408 ,\n",
       "         8.50783436,  7.6719915 ,  8.1975989 ,  7.66677357,  7.71839966,\n",
       "         8.83318762, 10.07244485,  8.1006494 ,  9.49260703,  8.1991563 ,\n",
       "         8.23548456,  8.41549596,  8.83138484,  9.51765639,  9.295913  ,\n",
       "         9.62965127,  9.20422679,  8.26268977,  9.83284552,  9.42427723,\n",
       "         7.1375516 ,  8.68542466,  9.37576436,  9.37032585,  7.84338799,\n",
       "         8.25322819,  8.2270037 ,  9.34101513,  8.99989915,  8.51377954,\n",
       "         9.60294619,  9.22927071,  8.71872291,  7.63622005,  7.79044773,\n",
       "         7.4478019 ,  7.5830956 ,  9.09913806,  7.71750111,  8.49094454,\n",
       "         8.55558431,  7.98369505,  8.43437173,  8.327212  ,  8.5571403 ,\n",
       "         8.41558486,  8.46925237,  8.05420599,  9.21497571,  7.86418775,\n",
       "         9.66218049,  8.05922153,  9.03279669,  7.49520589,  7.98302787,\n",
       "         8.08443485,  9.25339348, 10.29610422,  8.77927126,  7.86160821,\n",
       "         8.58139948,  8.10116048,  7.35430587,  8.72410491,  8.45746447]])\n",
       "Coordinates:\n",
       "  * member_id  (member_id) int64 1 2 3 4 5 6\n",
       "Dimensions without coordinates: time\n",
       "Attributes:\n",
       "    units:    Gmol Fe yr$^{-1}$"
      ]
     },
     "execution_count": 8,
     "metadata": {},
     "output_type": "execute_result"
    }
   ],
   "source": [
    "iron_flux_glb2 = esmlab.weighted_sum(ds2_ann.IRON_FLUX, dim=['nlat', 'nlon'], weights=ds2_ann.TAREA)\n",
    "iron_flux_glb2 = iron_flux_glb2 * 1.0e-16 * 365.0 * 86400.0 # mmolFe/m^2/s to GmolFe/y\n",
    "iron_flux_glb2.attrs['units'] = 'Gmol Fe yr$^{-1}$'\n",
    "iron_flux_glb2 = iron_flux_glb2.compute()\n",
    "iron_flux_glb2"
   ]
  },
  {
   "cell_type": "code",
   "execution_count": null,
   "metadata": {},
   "outputs": [],
   "source": [
    "iron_flux_glb1 = esmlab.weighted_sum(ds1_ann.IRON_FLUX, dim=['nlat', 'nlon'], weights=ds1_ann.TAREA)\n",
    "iron_flux_glb1 = iron_flux_glb1 * 1.0e-16 * 365.0 * 86400.0 # mmolFe/m^2/s to GmolFe/y\n",
    "iron_flux_glb1.attrs['units'] = 'Gmol Fe yr$^{-1}$'\n",
    "iron_flux_glb1 = iron_flux_glb1.compute()\n",
    "iron_flux_glb1"
   ]
  },
  {
   "cell_type": "code",
   "execution_count": 10,
   "metadata": {},
   "outputs": [
    {
     "data": {
      "image/png": "[encoded data removed]",
      "text/plain": [
       "<Figure size 432x288 with 1 Axes>"
      ]
     },
     "metadata": {
      "needs_background": "light"
     },
     "output_type": "display_data"
    }
   ],
   "source": [
    "plot_name = f'timeseries.global.IRON_FLUX.pdf'\n",
    "\n",
    "fig = plt.figure()\n",
    "ax = fig.add_subplot(111)\n",
    "for i in iron_flux_glb2.member_id.values:\n",
    "    ax.plot(iron_flux_glb2.time, iron_flux_glb2.sel(member_id=i), linewidth=0.5)\n",
    "\n",
    "ax.plot(iron_flux_glb2.time, iron_flux_glb2.mean('member_id'), color='k', linewidth=1.5)    \n",
    "\n",
    "#ax.plot(iron_flux_glb1.time, iron_flux_glb1, linestyle='--', color='k', linewidth=1.5)    \n",
    "\n",
    "ax.set_ylabel('Iron deposition [Gmol Fe yr$^{-1}$]');\n",
    "\n",
    "# Not sure why this line is bad\n",
    "###ax.text(cftime.DatetimeNoLeap(1990, 1, 1), iron_flux_glb2.sel(time='1990').max('member_id')*1.05, 'CESM2',color='k');\n",
    "\n",
    "#ax.text(cftime.DatetimeNoLeap(1965, 1, 1), iron_flux_glb1.sel(time='1960')*1.02, 'CESM1',color='k');\n",
    "\n",
    "#plt.savefig(plot_name,dpi=300,bbox_inches='tight')"
   ]
  },
  {
   "cell_type": "code",
   "execution_count": null,
   "metadata": {},
   "outputs": [],
   "source": [
    "ds2_ann.sel(time=slice(\"1950\", \"1955\")).time"
   ]
  },
  {
   "cell_type": "code",
   "execution_count": null,
   "metadata": {},
   "outputs": [],
   "source": [
    "mmolm2s_to_molm2yr = 1e-3 * 86400. * 365.\n",
    "iron_flux_map2 = ds2_ann.IRON_FLUX.sel(time=slice('1995', '2014'))#.mean(['time', 'member_id'])\n",
    "#iron_flux_map2 = iron_flux_map2.compute() * mmolm2s_to_molm2yr\n",
    "iron_flux_map2"
   ]
  },
  {
   "cell_type": "code",
   "execution_count": null,
   "metadata": {},
   "outputs": [],
   "source": [
    "iron_flux_map2"
   ]
  },
  {
   "cell_type": "code",
   "execution_count": null,
   "metadata": {},
   "outputs": [],
   "source": [
    "fig = plt.figure()\n",
    "ax = plt.subplot(1, 1, 1, projection=ccrs.Robinson(central_longitude=305.0))\n",
    "\n",
    "\n",
    "pc = ax.pcolormesh(ds2.TLONG, ds2.TLAT, iron_flux_map2,\n",
    "                   norm=colors.LogNorm(vmin=1e-6, vmax=1e-3),\n",
    "                   cmap=cmocean.cm.matter,\n",
    "                   transform=ccrs.PlateCarree())\n",
    "\n",
    "ax.add_feature(cartopy.feature.NaturalEarthFeature('physical','land','110m',\n",
    "                                                   edgecolor='face',\n",
    "                                                   facecolor='lightgray'))\n",
    "ax.set_global() \n",
    "ax.coastlines(linewidth=0.5)\n",
    "cb = plt.colorbar(pc, shrink=0.6)\n",
    "cb.ax.set_title('mol m$^{-2}$ yr$^{-1}$');"
   ]
  },
  {
   "cell_type": "code",
   "execution_count": null,
   "metadata": {},
   "outputs": [],
   "source": [
    "iron_flux_map2.max()"
   ]
  },
  {
   "cell_type": "code",
   "execution_count": null,
   "metadata": {},
   "outputs": [],
   "source": [
    "cesm2.search(experiment=['historical', 'SSP5-8.5'], variable='IRON_FLUX').to_xarray(chunks={'time': 48})"
   ]
  }
 ],
 "metadata": {
  "kernelspec": {
   "display_name": "Python [conda env:cesm2-marbl]",
   "language": "python",
   "name": "conda-env-cesm2-marbl-py"
  },
  "language_info": {
   "codemirror_mode": {
    "name": "ipython",
    "version": 3
   },
   "file_extension": ".py",
   "mimetype": "text/x-python",
   "name": "python",
   "nbconvert_exporter": "python",
   "pygments_lexer": "ipython3",
   "version": "3.7.3"
  }
 },
 "nbformat": 4,
 "nbformat_minor": 4
}
