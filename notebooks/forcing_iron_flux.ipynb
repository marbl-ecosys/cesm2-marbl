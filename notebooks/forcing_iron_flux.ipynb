{
 "cells": [
  {
   "cell_type": "code",
   "execution_count": 1,
   "metadata": {},
   "outputs": [],
   "source": [
    "%matplotlib inline\n",
    "import os\n",
    "\n",
    "import cftime\n",
    "\n",
    "import xarray as xr\n",
    "import numpy as np\n",
    "\n",
    "import matplotlib.pyplot as plt\n",
    "import matplotlib.colors as colors\n",
    "import cmocean\n",
    "\n",
    "import cartopy\n",
    "import cartopy.crs as ccrs\n",
    "\n",
    "import esmlab\n",
    "\n",
    "import intake\n",
    "import intake_esm"
   ]
  },
  {
   "cell_type": "code",
   "execution_count": 2,
   "metadata": {},
   "outputs": [
    {
     "data": {
      "text/html": [
       "<div>\n",
       "<style scoped>\n",
       "    .dataframe tbody tr th:only-of-type {\n",
       "        vertical-align: middle;\n",
       "    }\n",
       "\n",
       "    .dataframe tbody tr th {\n",
       "        vertical-align: top;\n",
       "    }\n",
       "\n",
       "    .dataframe thead th {\n",
       "        text-align: right;\n",
       "    }\n",
       "</style>\n",
       "<table border=\"1\" class=\"dataframe\">\n",
       "  <thead>\n",
       "    <tr style=\"text-align: right;\">\n",
       "      <th></th>\n",
       "      <th>experiment</th>\n",
       "      <th>case</th>\n",
       "      <th>component</th>\n",
       "      <th>stream</th>\n",
       "      <th>variable</th>\n",
       "      <th>date_range</th>\n",
       "      <th>member_id</th>\n",
       "      <th>path</th>\n",
       "      <th>year_offset</th>\n",
       "    </tr>\n",
       "  </thead>\n",
       "  <tbody>\n",
       "    <tr>\n",
       "      <th>0</th>\n",
       "      <td>esm-piControl</td>\n",
       "      <td>b.e21.B1850.f09_g17.CMIP6-esm-piControl.001</td>\n",
       "      <td>atm</td>\n",
       "      <td>cam.h1</td>\n",
       "      <td>ACTNL</td>\n",
       "      <td>00010101-00101231</td>\n",
       "      <td>0</td>\n",
       "      <td>/glade/collections/cdg/timeseries-cmip6/b.e21....</td>\n",
       "      <td>NaN</td>\n",
       "    </tr>\n",
       "    <tr>\n",
       "      <th>1</th>\n",
       "      <td>esm-piControl</td>\n",
       "      <td>b.e21.B1850.f09_g17.CMIP6-esm-piControl.001</td>\n",
       "      <td>atm</td>\n",
       "      <td>cam.h1</td>\n",
       "      <td>ACTNL</td>\n",
       "      <td>00110101-00201231</td>\n",
       "      <td>0</td>\n",
       "      <td>/glade/collections/cdg/timeseries-cmip6/b.e21....</td>\n",
       "      <td>NaN</td>\n",
       "    </tr>\n",
       "    <tr>\n",
       "      <th>2</th>\n",
       "      <td>esm-piControl</td>\n",
       "      <td>b.e21.B1850.f09_g17.CMIP6-esm-piControl.001</td>\n",
       "      <td>atm</td>\n",
       "      <td>cam.h1</td>\n",
       "      <td>ACTNL</td>\n",
       "      <td>00210101-00301231</td>\n",
       "      <td>0</td>\n",
       "      <td>/glade/collections/cdg/timeseries-cmip6/b.e21....</td>\n",
       "      <td>NaN</td>\n",
       "    </tr>\n",
       "    <tr>\n",
       "      <th>3</th>\n",
       "      <td>esm-piControl</td>\n",
       "      <td>b.e21.B1850.f09_g17.CMIP6-esm-piControl.001</td>\n",
       "      <td>atm</td>\n",
       "      <td>cam.h1</td>\n",
       "      <td>ACTNL</td>\n",
       "      <td>00310101-00401231</td>\n",
       "      <td>0</td>\n",
       "      <td>/glade/collections/cdg/timeseries-cmip6/b.e21....</td>\n",
       "      <td>NaN</td>\n",
       "    </tr>\n",
       "    <tr>\n",
       "      <th>4</th>\n",
       "      <td>esm-piControl</td>\n",
       "      <td>b.e21.B1850.f09_g17.CMIP6-esm-piControl.001</td>\n",
       "      <td>atm</td>\n",
       "      <td>cam.h1</td>\n",
       "      <td>ACTNL</td>\n",
       "      <td>00410101-00501231</td>\n",
       "      <td>0</td>\n",
       "      <td>/glade/collections/cdg/timeseries-cmip6/b.e21....</td>\n",
       "      <td>NaN</td>\n",
       "    </tr>\n",
       "  </tbody>\n",
       "</table>\n",
       "</div>"
      ],
      "text/plain": [
       "      experiment                                         case component  \\\n",
       "0  esm-piControl  b.e21.B1850.f09_g17.CMIP6-esm-piControl.001       atm   \n",
       "1  esm-piControl  b.e21.B1850.f09_g17.CMIP6-esm-piControl.001       atm   \n",
       "2  esm-piControl  b.e21.B1850.f09_g17.CMIP6-esm-piControl.001       atm   \n",
       "3  esm-piControl  b.e21.B1850.f09_g17.CMIP6-esm-piControl.001       atm   \n",
       "4  esm-piControl  b.e21.B1850.f09_g17.CMIP6-esm-piControl.001       atm   \n",
       "\n",
       "   stream variable         date_range  member_id  \\\n",
       "0  cam.h1    ACTNL  00010101-00101231          0   \n",
       "1  cam.h1    ACTNL  00110101-00201231          0   \n",
       "2  cam.h1    ACTNL  00210101-00301231          0   \n",
       "3  cam.h1    ACTNL  00310101-00401231          0   \n",
       "4  cam.h1    ACTNL  00410101-00501231          0   \n",
       "\n",
       "                                                path  year_offset  \n",
       "0  /glade/collections/cdg/timeseries-cmip6/b.e21....          NaN  \n",
       "1  /glade/collections/cdg/timeseries-cmip6/b.e21....          NaN  \n",
       "2  /glade/collections/cdg/timeseries-cmip6/b.e21....          NaN  \n",
       "3  /glade/collections/cdg/timeseries-cmip6/b.e21....          NaN  \n",
       "4  /glade/collections/cdg/timeseries-cmip6/b.e21....          NaN  "
      ]
     },
     "execution_count": 2,
     "metadata": {},
     "output_type": "execute_result"
    }
   ],
   "source": [
    "cesm2 = intake.open_esm_datastore('/glade/work/mlevy/CMIP6-CESM2_only-NOT_CMORIZED.json')\n",
    "cesm2.df.head()"
   ]
  },
  {
   "cell_type": "code",
   "execution_count": 3,
   "metadata": {},
   "outputs": [
    {
     "data": {
      "text/plain": [
       "Index(['experiment', 'case', 'component', 'stream', 'variable', 'date_range',\n",
       "       'member_id', 'path', 'year_offset'],\n",
       "      dtype='object')"
      ]
     },
     "execution_count": 3,
     "metadata": {},
     "output_type": "execute_result"
    }
   ],
   "source": [
    "cesm2.df.columns"
   ]
  },
  {
   "cell_type": "code",
   "execution_count": null,
   "metadata": {},
   "outputs": [],
   "source": [
    "cmip5 = intake.open_esm_datastore('/glade/collections/cmip/catalog/intake-esm-datastore/catalogs/glade-cmip5.json')\n",
    "cesm1 = cmip5.search(model='CESM1-BGC')\n",
    "cesm1.df.head()"
   ]
  },
  {
   "cell_type": "code",
   "execution_count": 4,
   "metadata": {},
   "outputs": [],
   "source": [
    "keep_vars = ['TAREA', 'TLONG', 'TLAT', 'IRON_FLUX', 'time', 'time_bound', 'member_id']"
   ]
  },
  {
   "cell_type": "code",
   "execution_count": 5,
   "metadata": {},
   "outputs": [
    {
     "data": {
      "text/plain": [
       "member_id  date_range   \n",
       "1          185001-201412    /glade/collections/cdg/timeseries-cmip6/b.e21....\n",
       "2          185001-201412    /glade/collections/cdg/timeseries-cmip6/b.e21....\n",
       "3          185001-201412    /glade/collections/cdg/timeseries-cmip6/b.e21....\n",
       "4          185001-201412    /glade/collections/cdg/timeseries-cmip6/b.e21....\n",
       "5          185001-201412    /glade/collections/cdg/timeseries-cmip6/b.e21....\n",
       "6          185001-201412    /glade/collections/cdg/timeseries-cmip6/b.e21....\n",
       "7          185001-189912    /glade/collections/cdg/timeseries-cmip6/b.e21....\n",
       "           190001-194912    /glade/collections/cdg/timeseries-cmip6/b.e21....\n",
       "           195001-199912    /glade/collections/cdg/timeseries-cmip6/b.e21....\n",
       "           200001-201412    /glade/collections/cdg/timeseries-cmip6/b.e21....\n",
       "8          185001-189912    /glade/collections/cdg/timeseries-cmip6/b.e21....\n",
       "           190001-194912    /glade/collections/cdg/timeseries-cmip6/b.e21....\n",
       "           195001-199912    /glade/collections/cdg/timeseries-cmip6/b.e21....\n",
       "           200001-201412    /glade/collections/cdg/timeseries-cmip6/b.e21....\n",
       "9          185001-189912    /glade/collections/cdg/timeseries-cmip6/b.e21....\n",
       "           190001-194912    /glade/collections/cdg/timeseries-cmip6/b.e21....\n",
       "           195001-199912    /glade/collections/cdg/timeseries-cmip6/b.e21....\n",
       "           200001-201412    /glade/collections/cdg/timeseries-cmip6/b.e21....\n",
       "10         185001-189912    /glade/collections/cdg/timeseries-cmip6/b.e21....\n",
       "           190001-194912    /glade/collections/cdg/timeseries-cmip6/b.e21....\n",
       "           195001-199912    /glade/collections/cdg/timeseries-cmip6/b.e21....\n",
       "           200001-201412    /glade/collections/cdg/timeseries-cmip6/b.e21....\n",
       "11         185001-189912    /glade/collections/cdg/timeseries-cmip6/b.e21....\n",
       "           190001-194912    /glade/collections/cdg/timeseries-cmip6/b.e21....\n",
       "           195001-199912    /glade/collections/cdg/timeseries-cmip6/b.e21....\n",
       "           200001-201412    /glade/collections/cdg/timeseries-cmip6/b.e21....\n",
       "Name: path, dtype: object"
      ]
     },
     "execution_count": 5,
     "metadata": {},
     "output_type": "execute_result"
    }
   ],
   "source": [
    "# WORKAROUND FOR intake-esm ISSUE: limit to members with only a single file\n",
    "\n",
    "cat = cesm2.search(experiment=['historical'], variable='IRON_FLUX')\n",
    "cat.df.set_index(['member_id', 'date_range'])['path']"
   ]
  },
  {
   "cell_type": "code",
   "execution_count": 6,
   "metadata": {},
   "outputs": [
    {
     "name": "stdout",
     "output_type": "stream",
     "text": [
      "--> The keys in the returned dictionary of datasets are constructed as follows:\n",
      "\t'component.experiment.stream'\n",
      "\n",
      "--> There will be 1 group(s)\n"
     ]
    },
    {
     "data": {
      "text/plain": [
       "<xarray.Dataset>\n",
       "Dimensions:     (d2: 2, member_id: 6, nlat: 384, nlon: 320, time: 1980)\n",
       "Coordinates:\n",
       "  * member_id   (member_id) int64 1 2 3 4 5 6\n",
       "  * time        (time) object 1850-02-01 00:00:00 ... 2015-01-01 00:00:00\n",
       "Dimensions without coordinates: d2, nlat, nlon\n",
       "Data variables:\n",
       "    TAREA       (nlat, nlon) float64 dask.array<chunksize=(384, 320), meta=np.ndarray>\n",
       "    TLONG       (nlat, nlon) float64 dask.array<chunksize=(384, 320), meta=np.ndarray>\n",
       "    TLAT        (nlat, nlon) float64 dask.array<chunksize=(384, 320), meta=np.ndarray>\n",
       "    time_bound  (time, d2) object dask.array<chunksize=(48, 2), meta=np.ndarray>\n",
       "    IRON_FLUX   (member_id, time, nlat, nlon) float32 dask.array<chunksize=(1, 48, 384, 320), meta=np.ndarray>\n",
       "Attributes:\n",
       "    revision:          $Id: tavg.F90 89644 2018-08-04 14:26:01Z klindsay $\n",
       "    calendar:          All years have exactly  365 days.\n",
       "    history:           none\n",
       "    contents:          Diagnostic and Prognostic Variables\n",
       "    time_period_freq:  month_1\n",
       "    source:            CCSM POP2, the CCSM Ocean Component\n",
       "    cell_methods:      cell_methods = time: mean ==> the variable values are ...\n",
       "    Conventions:       CF-1.0; http://www.cgd.ucar.edu/cms/eaton/netcdf/CF-cu...\n",
       "    model_doi_url:     https://doi.org/10.5065/D67H1H0V"
      ]
     },
     "execution_count": 6,
     "metadata": {},
     "output_type": "execute_result"
    }
   ],
   "source": [
    "# TODO: eventually we should be able to remove the member_id from the search\n",
    "#dq = cesm2.search(experiment=['historical'], variable='IRON_FLUX', member_id=[1,2,3,4,5,6]).to_dataset_dict(cdf_kwargs={'chunks':{'time': 48}, 'decode_times' : False})\n",
    "#dq = cesm2.search(experiment=['historical'], variable='IRON_FLUX', member_id=[1,2,3,4,5,6]).to_dataset_dict(cdf_kwargs={'decode_times' : False})\n",
    "dq = cesm2.search(experiment=['historical'], variable='IRON_FLUX', member_id=[1,2,3,4,5,6]).to_dataset_dict(cdf_kwargs={'chunks':{'time': 48}})\n",
    "#dq = cesm2.search(experiment=['historical'], variable='IRON_FLUX', member_id=[1,2,3,4,5,6]).to_dataset_dict()\n",
    "\n",
    "_, ds2 = dq.popitem()\n",
    "ds2 = ds2.drop([v for v in ds2.variables if v not in keep_vars])\n",
    "ds2"
   ]
  },
  {
   "cell_type": "code",
   "execution_count": null,
   "metadata": {},
   "outputs": [],
   "source": [
    "dq = cesm1.search(experiment='historical', variable='IRON_FLUX').to_xarray(chunks={'time': 48})\n",
    "_, ds1 = dq.popitem()\n",
    "ds1 = ds1.drop([v for v in ds1.variables if v not in keep_vars])\n",
    "ds1"
   ]
  },
  {
   "cell_type": "code",
   "execution_count": 7,
   "metadata": {},
   "outputs": [
    {
     "name": "stdout",
     "output_type": "stream",
     "text": [
      "Please open dataset with `decode_times=False`\n"
     ]
    },
    {
     "ename": "AttributeError",
     "evalue": "'NoneType' object has no attribute 'split'",
     "output_type": "error",
     "traceback": [
      "\u001b[0;31m---------------------------------------------------------------------------\u001b[0m",
      "\u001b[0;31mAttributeError\u001b[0m                            Traceback (most recent call last)",
      "\u001b[0;32m<ipython-input-7-98967eb7d640>\u001b[0m in \u001b[0;36m<module>\u001b[0;34m\u001b[0m\n\u001b[0;32m----> 1\u001b[0;31m \u001b[0mds2_ann\u001b[0m \u001b[0;34m=\u001b[0m \u001b[0mesmlab\u001b[0m\u001b[0;34m.\u001b[0m\u001b[0mresample\u001b[0m\u001b[0;34m(\u001b[0m\u001b[0mds2\u001b[0m\u001b[0;34m,\u001b[0m \u001b[0mfreq\u001b[0m\u001b[0;34m=\u001b[0m\u001b[0;34m'ann'\u001b[0m\u001b[0;34m)\u001b[0m\u001b[0;34m\u001b[0m\u001b[0;34m\u001b[0m\u001b[0m\n\u001b[0m\u001b[1;32m      2\u001b[0m \u001b[0mds2_ann\u001b[0m\u001b[0;34m\u001b[0m\u001b[0;34m\u001b[0m\u001b[0m\n",
      "\u001b[0;32m/glade/work/mlevy/miniconda3/envs/cesm2-marbl/lib/python3.7/site-packages/esmlab/core.py\u001b[0m in \u001b[0;36mresample\u001b[0;34m(dset, freq, weights, time_coord_name)\u001b[0m\n\u001b[1;32m    760\u001b[0m \u001b[0;34m\u001b[0m\u001b[0m\n\u001b[1;32m    761\u001b[0m     \u001b[0;32melse\u001b[0m\u001b[0;34m:\u001b[0m\u001b[0;34m\u001b[0m\u001b[0;34m\u001b[0m\u001b[0m\n\u001b[0;32m--> 762\u001b[0;31m         \u001b[0mds\u001b[0m \u001b[0;34m=\u001b[0m \u001b[0mdset\u001b[0m\u001b[0;34m.\u001b[0m\u001b[0mesmlab\u001b[0m\u001b[0;34m.\u001b[0m\u001b[0mset_time\u001b[0m\u001b[0;34m(\u001b[0m\u001b[0mtime_coord_name\u001b[0m\u001b[0;34m=\u001b[0m\u001b[0mtime_coord_name\u001b[0m\u001b[0;34m)\u001b[0m\u001b[0;34m.\u001b[0m\u001b[0mcompute_ann_mean\u001b[0m\u001b[0;34m(\u001b[0m\u001b[0mweights\u001b[0m\u001b[0;34m=\u001b[0m\u001b[0mweights\u001b[0m\u001b[0;34m)\u001b[0m\u001b[0;34m\u001b[0m\u001b[0;34m\u001b[0m\u001b[0m\n\u001b[0m\u001b[1;32m    763\u001b[0m \u001b[0;34m\u001b[0m\u001b[0m\n\u001b[1;32m    764\u001b[0m     \u001b[0mnew_history\u001b[0m \u001b[0;34m=\u001b[0m \u001b[0;34mf'\\n{datetime.now()} esmlab.resample(<DATASET>, freq=\"{freq}\")'\u001b[0m\u001b[0;34m\u001b[0m\u001b[0;34m\u001b[0m\u001b[0m\n",
      "\u001b[0;32m/glade/work/mlevy/miniconda3/envs/cesm2-marbl/lib/python3.7/site-packages/esmlab/core.py\u001b[0m in \u001b[0;36mset_time\u001b[0;34m(self, time_coord_name, year_offset)\u001b[0m\n\u001b[1;32m    345\u001b[0m                 \u001b[0;32mexcept\u001b[0m \u001b[0mException\u001b[0m \u001b[0;32mas\u001b[0m \u001b[0mexc\u001b[0m\u001b[0;34m:\u001b[0m\u001b[0;34m\u001b[0m\u001b[0;34m\u001b[0m\u001b[0m\n\u001b[1;32m    346\u001b[0m                     \u001b[0mprint\u001b[0m\u001b[0;34m(\u001b[0m\u001b[0;34m'Please open dataset with `decode_times=False`'\u001b[0m\u001b[0;34m)\u001b[0m\u001b[0;34m\u001b[0m\u001b[0;34m\u001b[0m\u001b[0m\n\u001b[0;32m--> 347\u001b[0;31m                     \u001b[0;32mraise\u001b[0m \u001b[0mexc\u001b[0m\u001b[0;34m\u001b[0m\u001b[0;34m\u001b[0m\u001b[0m\n\u001b[0m\u001b[1;32m    348\u001b[0m         \u001b[0mself\u001b[0m\u001b[0;34m.\u001b[0m\u001b[0msetup\u001b[0m\u001b[0;34m(\u001b[0m\u001b[0;34m)\u001b[0m\u001b[0;34m\u001b[0m\u001b[0;34m\u001b[0m\u001b[0m\n\u001b[1;32m    349\u001b[0m         \u001b[0;32mreturn\u001b[0m \u001b[0mself\u001b[0m\u001b[0;34m\u001b[0m\u001b[0;34m\u001b[0m\u001b[0m\n",
      "\u001b[0;32m/glade/work/mlevy/miniconda3/envs/cesm2-marbl/lib/python3.7/site-packages/esmlab/core.py\u001b[0m in \u001b[0;36mset_time\u001b[0;34m(self, time_coord_name, year_offset)\u001b[0m\n\u001b[1;32m    340\u001b[0m                         \u001b[0mself\u001b[0m\u001b[0;34m.\u001b[0m\u001b[0m_ds\u001b[0m\u001b[0;34m[\u001b[0m\u001b[0mself\u001b[0m\u001b[0;34m.\u001b[0m\u001b[0mtb_name\u001b[0m\u001b[0;34m]\u001b[0m\u001b[0;34m,\u001b[0m\u001b[0;34m\u001b[0m\u001b[0;34m\u001b[0m\u001b[0m\n\u001b[1;32m    341\u001b[0m                         \u001b[0munits\u001b[0m\u001b[0;34m=\u001b[0m\u001b[0mself\u001b[0m\u001b[0;34m.\u001b[0m\u001b[0mtime_attrs\u001b[0m\u001b[0;34m[\u001b[0m\u001b[0;34m'units'\u001b[0m\u001b[0;34m]\u001b[0m\u001b[0;34m,\u001b[0m\u001b[0;34m\u001b[0m\u001b[0;34m\u001b[0m\u001b[0m\n\u001b[0;32m--> 342\u001b[0;31m                         \u001b[0mcalendar\u001b[0m\u001b[0;34m=\u001b[0m\u001b[0mself\u001b[0m\u001b[0;34m.\u001b[0m\u001b[0mtime_attrs\u001b[0m\u001b[0;34m[\u001b[0m\u001b[0;34m'calendar'\u001b[0m\u001b[0;34m]\u001b[0m\u001b[0;34m,\u001b[0m\u001b[0;34m\u001b[0m\u001b[0;34m\u001b[0m\u001b[0m\n\u001b[0m\u001b[1;32m    343\u001b[0m                     )\n\u001b[1;32m    344\u001b[0m                     \u001b[0mself\u001b[0m\u001b[0;34m.\u001b[0m\u001b[0mtime_bound\u001b[0m\u001b[0;34m.\u001b[0m\u001b[0mdata\u001b[0m \u001b[0;34m=\u001b[0m \u001b[0mtb_data\u001b[0m\u001b[0;34m\u001b[0m\u001b[0;34m\u001b[0m\u001b[0m\n",
      "\u001b[0;32mcftime/_cftime.pyx\u001b[0m in \u001b[0;36mcftime._cftime.date2num\u001b[0;34m()\u001b[0m\n",
      "\u001b[0;32mcftime/_cftime.pyx\u001b[0m in \u001b[0;36mcftime._cftime._dateparse\u001b[0;34m()\u001b[0m\n",
      "\u001b[0;32mcftime/_cftime.pyx\u001b[0m in \u001b[0;36mcftime._cftime._datesplit\u001b[0;34m()\u001b[0m\n",
      "\u001b[0;31mAttributeError\u001b[0m: 'NoneType' object has no attribute 'split'"
     ]
    }
   ],
   "source": [
    "ds2_ann = esmlab.resample(ds2, freq='ann')\n",
    "ds2_ann"
   ]
  },
  {
   "cell_type": "code",
   "execution_count": null,
   "metadata": {},
   "outputs": [],
   "source": [
    "ds1_ann = esmlab.resample(ds1, freq='ann')\n",
    "ds1_ann"
   ]
  },
  {
   "cell_type": "code",
   "execution_count": null,
   "metadata": {},
   "outputs": [],
   "source": [
    "iron_flux_glb2 = esmlab.weighted_sum(ds2_ann.IRON_FLUX, dim=['nlat', 'nlon'], weights=ds2_ann.TAREA)\n",
    "iron_flux_glb2 = iron_flux_glb2 * 1.0e-16 * 365.0 * 86400.0 # mmolFe/m^2/s to GmolFe/y\n",
    "iron_flux_glb2.attrs['units'] = 'Gmol Fe yr$^{-1}$'\n",
    "iron_flux_glb2 = iron_flux_glb2.compute()\n",
    "iron_flux_glb2"
   ]
  },
  {
   "cell_type": "code",
   "execution_count": null,
   "metadata": {},
   "outputs": [],
   "source": [
    "iron_flux_glb1 = esmlab.weighted_sum(ds1_ann.IRON_FLUX, dim=['nlat', 'nlon'], weights=ds1_ann.TAREA)\n",
    "iron_flux_glb1 = iron_flux_glb1 * 1.0e-16 * 365.0 * 86400.0 # mmolFe/m^2/s to GmolFe/y\n",
    "iron_flux_glb1.attrs['units'] = 'Gmol Fe yr$^{-1}$'\n",
    "iron_flux_glb1 = iron_flux_glb1.compute()\n",
    "iron_flux_glb1"
   ]
  },
  {
   "cell_type": "code",
   "execution_count": null,
   "metadata": {},
   "outputs": [],
   "source": [
    "plot_name = f'timeseries.global.IRON_FLUX.pdf'\n",
    "\n",
    "fig = plt.figure()\n",
    "ax = fig.add_subplot(111)\n",
    "for i in iron_flux_glb2.member_id.values:\n",
    "    ax.plot(iron_flux_glb2.time, iron_flux_glb2.sel(member_id=i), linewidth=0.5)\n",
    "\n",
    "ax.plot(iron_flux_glb2.time, iron_flux_glb2.mean('member_id'), color='k', linewidth=1.5)    \n",
    "\n",
    "ax.plot(iron_flux_glb1.time, iron_flux_glb1, linestyle='--', color='k', linewidth=1.5)    \n",
    "\n",
    "ax.set_ylabel('Iron deposition [Gmol Fe yr$^{-1}$]');\n",
    "\n",
    "ax.text(cftime.DatetimeNoLeap(1990, 1, 1), iron_flux_glb2.sel(time='1990').max('member_id')*1.05, 'CESM2',color='k');\n",
    "\n",
    "ax.text(cftime.DatetimeNoLeap(1965, 1, 1), iron_flux_glb1.sel(time='1960')*1.02, 'CESM1',color='k');\n",
    "\n",
    "#plt.savefig(plot_name,dpi=300,bbox_inches='tight')"
   ]
  },
  {
   "cell_type": "code",
   "execution_count": null,
   "metadata": {},
   "outputs": [],
   "source": [
    "mmolm2s_to_molm2yr = 1e-3 * 86400. * 365.\n",
    "iron_flux_map2 = ds2_ann.IRON_FLUX.sel(time=slice('1995', '2014')).mean(['time', 'member_id'])\n",
    "iron_flux_map2 = iron_flux_map2.compute() * mmolm2s_to_molm2yr\n",
    "iron_flux_map2"
   ]
  },
  {
   "cell_type": "code",
   "execution_count": null,
   "metadata": {},
   "outputs": [],
   "source": [
    "iron_flux_map2"
   ]
  },
  {
   "cell_type": "code",
   "execution_count": null,
   "metadata": {},
   "outputs": [],
   "source": [
    "fig = plt.figure()\n",
    "ax = plt.subplot(1, 1, 1, projection=ccrs.Robinson(central_longitude=305.0))\n",
    "\n",
    "\n",
    "pc = ax.pcolormesh(ds2.TLONG, ds2.TLAT, iron_flux_map2,\n",
    "                   norm=colors.LogNorm(vmin=1e-6, vmax=1e-3),\n",
    "                   cmap=cmocean.cm.matter,\n",
    "                   transform=ccrs.PlateCarree())\n",
    "\n",
    "ax.add_feature(cartopy.feature.NaturalEarthFeature('physical','land','110m',\n",
    "                                                   edgecolor='face',\n",
    "                                                   facecolor='lightgray'))\n",
    "ax.set_global() \n",
    "ax.coastlines(linewidth=0.5)\n",
    "cb = plt.colorbar(pc, shrink=0.6)\n",
    "cb.ax.set_title('mol m$^{-2}$ yr$^{-1}$');"
   ]
  },
  {
   "cell_type": "code",
   "execution_count": null,
   "metadata": {},
   "outputs": [],
   "source": [
    "iron_flux_map2.max()"
   ]
  },
  {
   "cell_type": "code",
   "execution_count": null,
   "metadata": {},
   "outputs": [],
   "source": [
    "cesm2.search(experiment=['historical', 'SSP5-8.5'], variable='IRON_FLUX').to_xarray(chunks={'time': 48})"
   ]
  },
  {
   "cell_type": "code",
   "execution_count": null,
   "metadata": {},
   "outputs": [],
   "source": []
  }
 ],
 "metadata": {
  "kernelspec": {
   "display_name": "Python [conda env:cesm2-marbl]",
   "language": "python",
   "name": "conda-env-cesm2-marbl-py"
  },
  "language_info": {
   "codemirror_mode": {
    "name": "ipython",
    "version": 3
   },
   "file_extension": ".py",
   "mimetype": "text/x-python",
   "name": "python",
   "nbconvert_exporter": "python",
   "pygments_lexer": "ipython3",
   "version": "3.7.3"
  }
 },
 "nbformat": 4,
 "nbformat_minor": 4
}
