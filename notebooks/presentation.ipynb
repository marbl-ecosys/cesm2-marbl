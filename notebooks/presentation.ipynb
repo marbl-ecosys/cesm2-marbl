{
 "cells": [
  {
   "cell_type": "code",
   "execution_count": 1,
   "id": "strategic-cover",
   "metadata": {
    "slideshow": {
     "slide_type": "slide"
    },
    "tags": []
   },
   "outputs": [],
   "source": [
    "import os\n",
    "from glob import glob\n",
    "from collections import OrderedDict"
   ]
  },
  {
   "cell_type": "code",
   "execution_count": 2,
   "id": "technical-anger",
   "metadata": {},
   "outputs": [
    {
     "ename": "ValueError",
     "evalue": "missing: {'figures/DOM-model-obs-scatter'}",
     "output_type": "error",
     "traceback": [
      "\u001b[0;31m---------------------------------------------------------------------------\u001b[0m",
      "\u001b[0;31mValueError\u001b[0m                                Traceback (most recent call last)",
      "\u001b[0;32m<ipython-input-2-cfb154863237>\u001b[0m in \u001b[0;36m<module>\u001b[0;34m\u001b[0m\n\u001b[1;32m     39\u001b[0m \u001b[0mfigures_missing\u001b[0m \u001b[0;34m=\u001b[0m \u001b[0mset\u001b[0m\u001b[0;34m(\u001b[0m\u001b[0mfigure_list\u001b[0m\u001b[0;34m)\u001b[0m \u001b[0;34m-\u001b[0m \u001b[0mset\u001b[0m\u001b[0;34m(\u001b[0m\u001b[0mfigures\u001b[0m\u001b[0;34m.\u001b[0m\u001b[0mvalues\u001b[0m\u001b[0;34m(\u001b[0m\u001b[0;34m)\u001b[0m\u001b[0;34m)\u001b[0m\u001b[0;34m\u001b[0m\u001b[0;34m\u001b[0m\u001b[0m\n\u001b[1;32m     40\u001b[0m \u001b[0;32mif\u001b[0m \u001b[0mfigures_missing\u001b[0m\u001b[0;34m:\u001b[0m\u001b[0;34m\u001b[0m\u001b[0;34m\u001b[0m\u001b[0m\n\u001b[0;32m---> 41\u001b[0;31m     \u001b[0;32mraise\u001b[0m \u001b[0mValueError\u001b[0m\u001b[0;34m(\u001b[0m\u001b[0;34mf'missing: {figures_missing}'\u001b[0m\u001b[0;34m)\u001b[0m\u001b[0;34m\u001b[0m\u001b[0;34m\u001b[0m\u001b[0m\n\u001b[0m",
      "\u001b[0;31mValueError\u001b[0m: missing: {'figures/DOM-model-obs-scatter'}"
     ]
    }
   ],
   "source": [
    "figure_list = [f.replace('.png', '') for f in glob('figures/*.png')]\n",
    "\n",
    "figures = OrderedDict([\n",
    "    #--------\n",
    "    # ventilation\n",
    "    #('Mixed layer depth', 'figures/mld-maps'),\n",
    "    ('Ventilation biases: C<sub>ant</sub>', 'figures/za-obs-comparison-Cant'),\n",
    "    ('Ventilation biases: <sup>14</sup>C', 'figures/za-obs-comparison-Del14C'),\n",
    "    ('Ventilation biases: pCFC-12', 'figures/za-obs-comparison-pCFC12'),\n",
    "    ('Ventilation biases: pCFC-11', 'figures/za-obs-comparison-pCFC11'),\n",
    "    ('MOC', 'figures/moc'),\n",
    "    ('Mixed layer depth', 'figures/mld-maps'),\n",
    "    #--------\n",
    "    # biological pump\n",
    "    ('Surface chlorophyll', 'figures/chl-surface-maps'),    \n",
    "    #('Community composition', None),\n",
    "    ('Nutrient limitation', 'figures/nutrient-limitation-maps'),   \n",
    "    ('Biological pump: NPP & Export', 'figures/bio-pump-NPP-Export-e_ratio-N2P'),   \n",
    "    ('Biological pump: Mineral fluxes', 'figures/bio-pump-CaCO2-SiO2'),       \n",
    "    ('DOM: Obs comparison (scatter)', 'figures/DOM-model-obs-scatter'),       \n",
    "    ('DOM: Obs comparison (maps)', 'figures/DOM-concentration-maps'),           \n",
    "    #--------    \n",
    "    # Nutrients\n",
    "    ('Surface nutrients', 'figures/nutrients-surface-maps'),\n",
    "    ('Nutrient sections: NO3', 'figures/nutrients-sections-NO3'),    \n",
    "    ('Nutrient sections: SiO3', 'figures/nutrients-sections-SiO3'),\n",
    "    ('Nutrient sections: PO4', 'figures/nutrients-sections-PO4'),\n",
    "    ('Nutrient profiles', 'figures/nutrients-global-profiles'),\n",
    "    ('N Cycle', 'figures/Ncycle'),\n",
    "    ('Fe Cycle', 'figures/iron-budget-maps'),\n",
    "    ('Fe obs comparison: PDF', 'figures/iron-global-ocean-obs-PDF'),    \n",
    "    ('Fe obs comparison: maps', 'figures/iron-concentration-maps'),\n",
    "    #--------\n",
    "    # Transient\n",
    "    ('Transient response of the biological pump', 'figures/global-timeseries-bio-pump'),\n",
    "    ('Transient CO<sub>2</sub> uptake', 'figures/global-timeseries-FG_CO2'),    \n",
    "])\n",
    "\n",
    "figures_missing = set(figure_list) - set(figures.values())\n",
    "if figures_missing:\n",
    "    raise ValueError(f'missing: {figures_missing}')"
   ]
  },
  {
   "cell_type": "code",
   "execution_count": null,
   "id": "julian-planet",
   "metadata": {},
   "outputs": [],
   "source": []
  },
  {
   "cell_type": "code",
   "execution_count": null,
   "id": "starting-pendant",
   "metadata": {},
   "outputs": [],
   "source": [
    "slide_template = \"\"\"\n",
    "### {TITLE}\n",
    "\n",
    "<img src=\"https://raw.githubusercontent.com/marbl-ecosys/cesm2-marbl/master/notebooks/{FIGNAME}.png\" \n",
    "     style=\"background:none; border:none; box-shadow:none;\" \n",
    "     width={WIDTH}px>\n",
    "\n",
    "---\n",
    "\"\"\"\n",
    "\n",
    "with open('figures.md', 'r') as fid:\n",
    "    file = fid.readlines()\n",
    "    \n",
    "l0 = file.index('[//]: # (AUTO-GENERATED CONTENT BELOW)\\n')\n",
    "\n",
    "width_default = 1000\n",
    "with open('figures.md', 'w') as fid:\n",
    "    for line in file[:l0+1]:\n",
    "        fid.write(line)\n",
    "        \n",
    "    for title, figname in figures.items():\n",
    "        width = width_default\n",
    "        text = (slide_template\n",
    "                .replace('{TITLE}', title)\n",
    "                .replace('{FIGNAME}', figname)\n",
    "                .replace('{WIDTH}', str(width))\n",
    "               )\n",
    "        fid.write(text)\n"
   ]
  },
  {
   "cell_type": "code",
   "execution_count": null,
   "id": "unlike-keeping",
   "metadata": {},
   "outputs": [],
   "source": []
  }
 ],
 "metadata": {
  "kernelspec": {
   "display_name": "Python 3",
   "language": "python",
   "name": "python3"
  },
  "language_info": {
   "codemirror_mode": {
    "name": "ipython",
    "version": 3
   },
   "file_extension": ".py",
   "mimetype": "text/x-python",
   "name": "python",
   "nbconvert_exporter": "python",
   "pygments_lexer": "ipython3",
   "version": "3.9.2"
  }
 },
 "nbformat": 4,
 "nbformat_minor": 5
}
