{
 "cells": [
  {
   "cell_type": "code",
   "execution_count": 1,
   "id": "minus-pacific",
   "metadata": {},
   "outputs": [],
   "source": [
    "import numpy as np\n",
    "import matplotlib.pyplot as plt"
   ]
  },
  {
   "cell_type": "code",
   "execution_count": 2,
   "id": "fresh-vegetarian",
   "metadata": {},
   "outputs": [],
   "source": [
    "PquotaSlope = 7.\n",
    "PquotaIntercept = 5.571\n",
    "PquotaMinNP = 0.00854701"
   ]
  },
  {
   "cell_type": "code",
   "execution_count": 38,
   "id": "specialized-carol",
   "metadata": {},
   "outputs": [
    {
     "data": {
      "image/png": "[encoded data removed]",
      "text/plain": [
       "<Figure size 432x288 with 1 Axes>"
      ]
     },
     "metadata": {
      "needs_background": "light"
     },
     "output_type": "display_data"
    }
   ],
   "source": [
    "#-----------------------------------------------------------------------\n",
    "#-- Calculate Qp for new growth based on Galbraith and Martiny (2015), with min. N/P\n",
    "# - 14= 0.00976801, 14.5 = 0.00944239 15= 0.00911677 15.5=0.00882272 16= 0.00854701\n",
    "# - std intercept 6.0 = 166.66maxCP, 5.26=190, 4.0 = 250, 3.0 = 333.33\n",
    "#-----------------------------------------------------------------------\n",
    "\n",
    "PO4_loc = np.arange(0., 2.1, 0.1)\n",
    "\n",
    "gP2C = (PquotaSlope * PO4_loc + PquotaIntercept) * 0.001\n",
    "gP2C[gP2C < PquotaMinNP] = PquotaMinNP\n",
    "\n",
    "plt.plot(PO4_loc, gP2C*1000.)\n",
    "plt.ylabel('P:C [‰]')\n",
    "plt.xlabel('PO4 [mmol m$^{-3}$]');"
   ]
  },
  {
   "cell_type": "code",
   "execution_count": null,
   "id": "closed-spank",
   "metadata": {},
   "outputs": [],
   "source": []
  }
 ],
 "metadata": {
  "kernelspec": {
   "display_name": "Python [conda env:miniconda3-cesm2-marbl]",
   "language": "python",
   "name": "conda-env-miniconda3-cesm2-marbl-py"
  },
  "language_info": {
   "codemirror_mode": {
    "name": "ipython",
    "version": 3
   },
   "file_extension": ".py",
   "mimetype": "text/x-python",
   "name": "python",
   "nbconvert_exporter": "python",
   "pygments_lexer": "ipython3",
   "version": "3.7.10"
  }
 },
 "nbformat": 4,
 "nbformat_minor": 5
}
