{
 "cells": [
  {
   "cell_type": "code",
   "execution_count": 2,
   "id": "8096bece-35e4-4107-aacc-91d6ec2d9f08",
   "metadata": {},
   "outputs": [],
   "source": [
    "import intake\n",
    "catalog = intake.open_esm_datastore('data/campaign-cesm2-cmip6-timeseries.json')\n",
    "df = catalog.search(experiment='historical', component='ocn', stream='pop.h').df\n",
    "variables = df.variable.unique()"
   ]
  },
  {
   "cell_type": "code",
   "execution_count": 3,
   "id": "682952ef-fe91-4460-803f-390c4d43ab3b",
   "metadata": {},
   "outputs": [
    {
     "data": {
      "text/plain": [
       "['ALK_ALT_CO2',\n",
       " 'ALK_ALT_CO2_RESTORE_TEND',\n",
       " 'ALK_ALT_CO2_RIV_FLUX',\n",
       " 'ATM_ALT_CO2',\n",
       " 'CO2STAR_ALT_CO2',\n",
       " 'DCO2STAR_ALT_CO2',\n",
       " 'DIC_ALT_CO2',\n",
       " 'DIC_ALT_CO2_RIV_FLUX',\n",
       " 'DpCO2_ALT_CO2',\n",
       " 'FG_ALT_CO2',\n",
       " 'FvICE_ALK_ALT_CO2',\n",
       " 'FvICE_DIC_ALT_CO2',\n",
       " 'FvPER_ALK_ALT_CO2',\n",
       " 'FvPER_DIC_ALT_CO2',\n",
       " 'J_DIC_ALT_CO2',\n",
       " 'Jint_100m_ALK_ALT_CO2',\n",
       " 'Jint_100m_DIC_ALT_CO2',\n",
       " 'PH_ALT_CO2',\n",
       " 'STF_ALK_ALT_CO2',\n",
       " 'calcToSed_ALT_CO2',\n",
       " 'tend_zint_100m_ALK_ALT_CO2',\n",
       " 'tend_zint_100m_DIC_ALT_CO2']"
      ]
     },
     "execution_count": 3,
     "metadata": {},
     "output_type": "execute_result"
    }
   ],
   "source": [
    "[v for v in variables if 'ALT_CO2' in v]"
   ]
  },
  {
   "cell_type": "code",
   "execution_count": 37,
   "id": "b33d7f56-e00a-46fa-89ae-8c7a088d8364",
   "metadata": {},
   "outputs": [
    {
     "data": {
      "text/plain": [
       "['graze_diat_zoo_zint',\n",
       " 'graze_diat_zoo_zint_100m',\n",
       " 'graze_diaz_zoo_zint',\n",
       " 'graze_diaz_zoo_zint_100m',\n",
       " 'graze_sp_zoo_zint',\n",
       " 'graze_sp_zoo_zint_100m',\n",
       " 'zooC',\n",
       " 'zoo_loss_doc_zint',\n",
       " 'zoo_loss_doc_zint_100m',\n",
       " 'zoo_loss_poc_zint',\n",
       " 'zoo_loss_poc_zint_100m',\n",
       " 'zoo_loss_zint',\n",
       " 'zoo_loss_zint_100m']"
      ]
     },
     "execution_count": 37,
     "metadata": {},
     "output_type": "execute_result"
    }
   ],
   "source": [
    "[v for v in variables if 'zoo' in v.lower()]"
   ]
  },
  {
   "cell_type": "code",
   "execution_count": 34,
   "id": "f25ea698-4cd4-46c2-8628-6f56a630ff74",
   "metadata": {},
   "outputs": [],
   "source": []
  },
  {
   "cell_type": "code",
   "execution_count": 28,
   "id": "aee7f100-a845-4d48-a65d-077e5bc4da47",
   "metadata": {},
   "outputs": [],
   "source": [
    "\n"
   ]
  },
  {
   "cell_type": "code",
   "execution_count": null,
   "id": "321a261b-2705-4983-a1c2-001db96bcbb3",
   "metadata": {},
   "outputs": [],
   "source": []
  }
 ],
 "metadata": {
  "kernelspec": {
   "display_name": "Python [conda env:miniconda3-cesm2-marbl]",
   "language": "python",
   "name": "conda-env-miniconda3-cesm2-marbl-py"
  },
  "language_info": {
   "codemirror_mode": {
    "name": "ipython",
    "version": 3
   },
   "file_extension": ".py",
   "mimetype": "text/x-python",
   "name": "python",
   "nbconvert_exporter": "python",
   "pygments_lexer": "ipython3",
   "version": "3.7.10"
  }
 },
 "nbformat": 4,
 "nbformat_minor": 5
}
