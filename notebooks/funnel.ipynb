{
 "cells": [
  {
   "cell_type": "code",
   "execution_count": 41,
   "metadata": {},
   "outputs": [
    {
     "name": "stdout",
     "output_type": "stream",
     "text": [
      "The autoreload extension is already loaded. To reload it, use:\n",
      "  %reload_ext autoreload\n"
     ]
    }
   ],
   "source": [
    "%load_ext autoreload\n",
    "%autoreload 2"
   ]
  },
  {
   "cell_type": "code",
   "execution_count": 4,
   "metadata": {},
   "outputs": [
    {
     "name": "stderr",
     "output_type": "stream",
     "text": [
      "/glade/work/mclong/miniconda3/envs/cesm2-marbl/lib/python3.7/site-packages/pooch/core.py:185: UserWarning: Cannot write to data cache '/glade/p/cesmdata/cseg'. Will not be able to download remote data files. Use environment variable 'CESMDATAROOT' to specify another directory.\n",
      "  warn(message)\n"
     ]
    }
   ],
   "source": [
    "%matplotlib inline\n",
    "import os\n",
    "import xarray as xr\n",
    "import numpy as np\n",
    "\n",
    "import matplotlib.pyplot as plt\n",
    "import seaborn as sns\n",
    "\n",
    "import funnel as fnl"
   ]
  },
  {
   "cell_type": "code",
   "execution_count": 43,
   "metadata": {},
   "outputs": [
    {
     "data": {
      "text/html": [
       "<table style=\"border: 2px solid white;\">\n",
       "<tr>\n",
       "<td style=\"vertical-align: top; border: 0px solid white\">\n",
       "<h3 style=\"text-align: left;\">Client</h3>\n",
       "<ul style=\"text-align: left; list-style: none; margin: 0; padding: 0;\">\n",
       "  <li><b>Scheduler: </b>tcp://10.12.205.30:37049</li>\n",
       "  <li><b>Dashboard: </b><a href='https://jupyterhub.ucar.edu/dav/user/mclong/proxy/8787/status' target='_blank'>https://jupyterhub.ucar.edu/dav/user/mclong/proxy/8787/status</a>\n",
       "</ul>\n",
       "</td>\n",
       "<td style=\"vertical-align: top; border: 0px solid white\">\n",
       "<h3 style=\"text-align: left;\">Cluster</h3>\n",
       "<ul style=\"text-align: left; list-style:none; margin: 0; padding: 0;\">\n",
       "  <li><b>Workers: </b>0</li>\n",
       "  <li><b>Cores: </b>0</li>\n",
       "  <li><b>Memory: </b>0 B</li>\n",
       "</ul>\n",
       "</td>\n",
       "</tr>\n",
       "</table>"
      ],
      "text/plain": [
       "<Client: 'tcp://10.12.205.30:37049' processes=0 threads=0, memory=0 B>"
      ]
     },
     "execution_count": 43,
     "metadata": {},
     "output_type": "execute_result"
    }
   ],
   "source": [
    "import ncar_jobqueue\n",
    "from dask.distributed import Client\n",
    "try:\n",
    "    cluster\n",
    "    client\n",
    "except: \n",
    "    cluster = ncar_jobqueue.NCARCluster(project='NCGD0011')\n",
    "    cluster.adapt(minimum_jobs=0, maximum_jobs=24)\n",
    "    client = Client(cluster)\n",
    "client"
   ]
  },
  {
   "cell_type": "markdown",
   "metadata": {},
   "source": [
    "## set up parameters of analysis"
   ]
  },
  {
   "cell_type": "code",
   "execution_count": 29,
   "metadata": {},
   "outputs": [
    {
     "data": {
      "image/png": "[encoded data removed]",
      "text/plain": [
       "<Figure size 576x72 with 1 Axes>"
      ]
     },
     "metadata": {
      "needs_background": "light"
     },
     "output_type": "display_data"
    }
   ],
   "source": [
    "experiments = [\n",
    "    'historical', 'SSP1-2.6', #'SSP2-4.5', 'SSP3-7.0', 'SSP5-8.5', 'piControl',\n",
    "]\n",
    "\n",
    "variables = [\n",
    "    'photoC_TOT_zint_100m',\n",
    "    'photoC_diat_zint_100m',\n",
    "#    'photoC_TOT_zint',\n",
    "#    'photoC_diat_zint',\n",
    "#    'POC_FLUX_100m',\n",
    "#    'CaCO3_FLUX_100m',\n",
    "#    'diaz_Nfix',\n",
    "#    'NOx_FLUX',\n",
    "#    'NHy_FLUX',\n",
    "#    'DENITRIF',\n",
    "#    'SedDenitrif',\n",
    "#    'DON_RIV_FLUX',\n",
    "#    'DONr_RIV_FLUX',\n",
    "#    'FG_CO2',    \n",
    "]\n",
    "\n",
    "time_slices = {\n",
    "    'historical': slice(\"1990-01-01\", \"2014-12-31\"),\n",
    "    'SSP1-2.6': slice(\"2090-01-01\", \"2099-12-31\"),\n",
    "    'SSP2-4.5': slice(\"2090-01-01\", \"2099-12-31\"),\n",
    "    'SSP3-7.0': slice(\"2090-01-01\", \"2099-12-31\"),\n",
    "    'SSP5-8.5': slice(\"2090-01-01\", \"2099-12-31\"),\n",
    "}\n",
    "\n",
    "variable_labels = dict(\n",
    "    FG_CO2='Air-sea CO$_2$ flux',\n",
    "    photoC_TOT_zint_100m='NPP (z > -100m)',\n",
    "    photoC_TOT_zint='NPP',\n",
    "    POC_FLUX_100m='POC flux (100 m)',\n",
    ")\n",
    "\n",
    "current_palette = sns.color_palette('colorblind', 8)\n",
    "sns.palplot(current_palette)\n",
    "\n",
    "exp_colors = {\n",
    "    'piControl': current_palette.as_hex()[-1],\n",
    "    'historical': 'k',\n",
    "    'SSP1-2.6': current_palette.as_hex()[0],\n",
    "    'SSP2-4.5': current_palette.as_hex()[1],\n",
    "    'SSP3-7.0': current_palette.as_hex()[2],\n",
    "    'SSP5-8.5': current_palette.as_hex()[3],\n",
    "}\n"
   ]
  },
  {
   "cell_type": "markdown",
   "metadata": {},
   "source": [
    "## get component objects"
   ]
  },
  {
   "cell_type": "code",
   "execution_count": 46,
   "metadata": {},
   "outputs": [
    {
     "name": "stdout",
     "output_type": "stream",
     "text": [
      "CPU times: user 2min 34s, sys: 2.57 s, total: 2min 36s\n",
      "Wall time: 2min 35s\n"
     ]
    },
    {
     "data": {
      "text/plain": [
       "cesm2-piControl-ocn-pop.h-FG_CO2:\n",
       "  catalog: /glade/u/home/mclong/p/cesm2-marbl/notebooks/funnel/catalogs/campaign-cesm2-cmip6-timeseries.json\n",
       "  query: {'experiment': 'piControl', 'component': 'ocn', 'stream': 'pop.h', 'variable': ['FG_CO2']}\n",
       "  assets: <campaign-cesm2-cmip6-timeseries catalog with 1 dataset(s) from 12 asset(s)>"
      ]
     },
     "execution_count": 46,
     "metadata": {},
     "output_type": "execute_result"
    }
   ],
   "source": [
    "%%time\n",
    "cmp = {}\n",
    "for v in variables:\n",
    "    cmp[v] = {}\n",
    "    for e in experiments:\n",
    "        cmp[v][e] = fnl.Component(\n",
    "            model='cesm2',\n",
    "            experiment=e,\n",
    "            variable=v,\n",
    "        )\n",
    "cmp[v][e]"
   ]
  },
  {
   "cell_type": "markdown",
   "metadata": {},
   "source": [
    "## get datasets"
   ]
  },
  {
   "cell_type": "code",
   "execution_count": 47,
   "metadata": {
    "collapsed": true,
    "jupyter": {
     "outputs_hidden": true
    }
   },
   "outputs": [
    {
     "name": "stderr",
     "output_type": "stream",
     "text": [
      "Dataset(s):   0%|                                        | 0/1 [00:00<?, ?it/s]"
     ]
    },
    {
     "name": "stdout",
     "output_type": "stream",
     "text": [
      "making /glade/p/cgd/oce/projects/cesm2-marbl/funnel/cesm2-historical-ocn-pop.h-photoC_TOT_zint_100m\n",
      "\n",
      "--> The keys in the returned dictionary of datasets are constructed as follows:\n",
      "\t'component:experiment:stream'\n"
     ]
    },
    {
     "name": "stderr",
     "output_type": "stream",
     "text": [
      "Dataset(s): 100%|████████████████████████████████| 1/1 [00:04<00:00,  4.30s/it]\n"
     ]
    },
    {
     "name": "stdout",
     "output_type": "stream",
     "text": [
      "writing cache file: /glade/p/cgd/oce/projects/cesm2-marbl/funnel/cesm2-historical-ocn-pop.h-photoC_TOT_zint_100m/cesm2-historical-ocn-pop.h-photoC_TOT_zint_100m-area-mean-294ef0a2270be075de6df997340530d2.zarr\n",
      "writing cache file: /glade/p/cgd/oce/projects/cesm2-marbl/funnel/cesm2-historical-ocn-pop.h-photoC_TOT_zint_100m/cesm2-historical-ocn-pop.h-photoC_TOT_zint_100m-timeseries-ann-dc1ef533967affdac7ff1871110271b5.zarr\n"
     ]
    },
    {
     "name": "stderr",
     "output_type": "stream",
     "text": [
      "Dataset(s):   0%|                                        | 0/1 [00:00<?, ?it/s]"
     ]
    },
    {
     "name": "stdout",
     "output_type": "stream",
     "text": [
      "writing cache file: /glade/p/cgd/oce/projects/cesm2-marbl/funnel/cesm2-historical-ocn-pop.h-photoC_TOT_zint_100m/cesm2-historical-ocn-pop.h-photoC_TOT_zint_100m-time-mean-6fad6ce941a1c7d777b07ba4db4b0728.zarr\n",
      "making /glade/p/cgd/oce/projects/cesm2-marbl/funnel/cesm2-SSP1-2.6-ocn-pop.h-photoC_TOT_zint_100m\n",
      "\n",
      "--> The keys in the returned dictionary of datasets are constructed as follows:\n",
      "\t'component:experiment:stream'\n"
     ]
    },
    {
     "name": "stderr",
     "output_type": "stream",
     "text": [
      "Dataset(s): 100%|████████████████████████████████| 1/1 [00:00<00:00,  1.15it/s]\n"
     ]
    },
    {
     "name": "stdout",
     "output_type": "stream",
     "text": [
      "writing cache file: /glade/p/cgd/oce/projects/cesm2-marbl/funnel/cesm2-SSP1-2.6-ocn-pop.h-photoC_TOT_zint_100m/cesm2-SSP1-2.6-ocn-pop.h-photoC_TOT_zint_100m-area-mean-294ef0a2270be075de6df997340530d2.zarr\n",
      "writing cache file: /glade/p/cgd/oce/projects/cesm2-marbl/funnel/cesm2-SSP1-2.6-ocn-pop.h-photoC_TOT_zint_100m/cesm2-SSP1-2.6-ocn-pop.h-photoC_TOT_zint_100m-timeseries-ann-dc1ef533967affdac7ff1871110271b5.zarr\n"
     ]
    },
    {
     "name": "stderr",
     "output_type": "stream",
     "text": [
      "Dataset(s):   0%|                                        | 0/1 [00:00<?, ?it/s]"
     ]
    },
    {
     "name": "stdout",
     "output_type": "stream",
     "text": [
      "writing cache file: /glade/p/cgd/oce/projects/cesm2-marbl/funnel/cesm2-SSP1-2.6-ocn-pop.h-photoC_TOT_zint_100m/cesm2-SSP1-2.6-ocn-pop.h-photoC_TOT_zint_100m-time-mean-753afc24686e480ead107b0e27f521b4.zarr\n",
      "making /glade/p/cgd/oce/projects/cesm2-marbl/funnel/cesm2-SSP2-4.5-ocn-pop.h-photoC_TOT_zint_100m\n",
      "\n",
      "--> The keys in the returned dictionary of datasets are constructed as follows:\n",
      "\t'component:experiment:stream'\n"
     ]
    },
    {
     "name": "stderr",
     "output_type": "stream",
     "text": [
      "Dataset(s): 100%|████████████████████████████████| 1/1 [00:00<00:00,  1.12it/s]\n"
     ]
    },
    {
     "name": "stdout",
     "output_type": "stream",
     "text": [
      "writing cache file: /glade/p/cgd/oce/projects/cesm2-marbl/funnel/cesm2-SSP2-4.5-ocn-pop.h-photoC_TOT_zint_100m/cesm2-SSP2-4.5-ocn-pop.h-photoC_TOT_zint_100m-area-mean-294ef0a2270be075de6df997340530d2.zarr\n",
      "writing cache file: /glade/p/cgd/oce/projects/cesm2-marbl/funnel/cesm2-SSP2-4.5-ocn-pop.h-photoC_TOT_zint_100m/cesm2-SSP2-4.5-ocn-pop.h-photoC_TOT_zint_100m-timeseries-ann-dc1ef533967affdac7ff1871110271b5.zarr\n"
     ]
    },
    {
     "name": "stderr",
     "output_type": "stream",
     "text": [
      "Dataset(s):   0%|                                        | 0/1 [00:00<?, ?it/s]"
     ]
    },
    {
     "name": "stdout",
     "output_type": "stream",
     "text": [
      "writing cache file: /glade/p/cgd/oce/projects/cesm2-marbl/funnel/cesm2-SSP2-4.5-ocn-pop.h-photoC_TOT_zint_100m/cesm2-SSP2-4.5-ocn-pop.h-photoC_TOT_zint_100m-time-mean-753afc24686e480ead107b0e27f521b4.zarr\n",
      "making /glade/p/cgd/oce/projects/cesm2-marbl/funnel/cesm2-SSP3-7.0-ocn-pop.h-photoC_TOT_zint_100m\n",
      "\n",
      "--> The keys in the returned dictionary of datasets are constructed as follows:\n",
      "\t'component:experiment:stream'\n"
     ]
    },
    {
     "name": "stderr",
     "output_type": "stream",
     "text": [
      "Dataset(s): 100%|████████████████████████████████| 1/1 [00:00<00:00,  1.52it/s]\n"
     ]
    },
    {
     "name": "stdout",
     "output_type": "stream",
     "text": [
      "writing cache file: /glade/p/cgd/oce/projects/cesm2-marbl/funnel/cesm2-SSP3-7.0-ocn-pop.h-photoC_TOT_zint_100m/cesm2-SSP3-7.0-ocn-pop.h-photoC_TOT_zint_100m-area-mean-294ef0a2270be075de6df997340530d2.zarr\n",
      "writing cache file: /glade/p/cgd/oce/projects/cesm2-marbl/funnel/cesm2-SSP3-7.0-ocn-pop.h-photoC_TOT_zint_100m/cesm2-SSP3-7.0-ocn-pop.h-photoC_TOT_zint_100m-timeseries-ann-dc1ef533967affdac7ff1871110271b5.zarr\n"
     ]
    },
    {
     "name": "stderr",
     "output_type": "stream",
     "text": [
      "Dataset(s):   0%|                                        | 0/1 [00:00<?, ?it/s]"
     ]
    },
    {
     "name": "stdout",
     "output_type": "stream",
     "text": [
      "writing cache file: /glade/p/cgd/oce/projects/cesm2-marbl/funnel/cesm2-SSP3-7.0-ocn-pop.h-photoC_TOT_zint_100m/cesm2-SSP3-7.0-ocn-pop.h-photoC_TOT_zint_100m-time-mean-753afc24686e480ead107b0e27f521b4.zarr\n",
      "making /glade/p/cgd/oce/projects/cesm2-marbl/funnel/cesm2-SSP5-8.5-ocn-pop.h-photoC_TOT_zint_100m\n",
      "\n",
      "--> The keys in the returned dictionary of datasets are constructed as follows:\n",
      "\t'component:experiment:stream'\n"
     ]
    },
    {
     "name": "stderr",
     "output_type": "stream",
     "text": [
      "Dataset(s): 100%|████████████████████████████████| 1/1 [00:00<00:00,  1.55it/s]\n"
     ]
    },
    {
     "name": "stdout",
     "output_type": "stream",
     "text": [
      "writing cache file: /glade/p/cgd/oce/projects/cesm2-marbl/funnel/cesm2-SSP5-8.5-ocn-pop.h-photoC_TOT_zint_100m/cesm2-SSP5-8.5-ocn-pop.h-photoC_TOT_zint_100m-area-mean-294ef0a2270be075de6df997340530d2.zarr\n",
      "writing cache file: /glade/p/cgd/oce/projects/cesm2-marbl/funnel/cesm2-SSP5-8.5-ocn-pop.h-photoC_TOT_zint_100m/cesm2-SSP5-8.5-ocn-pop.h-photoC_TOT_zint_100m-timeseries-ann-dc1ef533967affdac7ff1871110271b5.zarr\n"
     ]
    },
    {
     "name": "stderr",
     "output_type": "stream",
     "text": [
      "Dataset(s):   0%|                                        | 0/1 [00:00<?, ?it/s]"
     ]
    },
    {
     "name": "stdout",
     "output_type": "stream",
     "text": [
      "writing cache file: /glade/p/cgd/oce/projects/cesm2-marbl/funnel/cesm2-SSP5-8.5-ocn-pop.h-photoC_TOT_zint_100m/cesm2-SSP5-8.5-ocn-pop.h-photoC_TOT_zint_100m-time-mean-753afc24686e480ead107b0e27f521b4.zarr\n",
      "making /glade/p/cgd/oce/projects/cesm2-marbl/funnel/cesm2-piControl-ocn-pop.h-photoC_TOT_zint_100m\n",
      "\n",
      "--> The keys in the returned dictionary of datasets are constructed as follows:\n",
      "\t'component:experiment:stream'\n"
     ]
    },
    {
     "name": "stderr",
     "output_type": "stream",
     "text": [
      "Dataset(s): 100%|████████████████████████████████| 1/1 [00:01<00:00,  1.77s/it]\n"
     ]
    },
    {
     "name": "stdout",
     "output_type": "stream",
     "text": [
      "writing cache file: /glade/p/cgd/oce/projects/cesm2-marbl/funnel/cesm2-piControl-ocn-pop.h-photoC_TOT_zint_100m/cesm2-piControl-ocn-pop.h-photoC_TOT_zint_100m-area-mean-294ef0a2270be075de6df997340530d2.zarr\n"
     ]
    },
    {
     "name": "stderr",
     "output_type": "stream",
     "text": [
      "Dataset(s):   0%|                                        | 0/1 [00:00<?, ?it/s]"
     ]
    },
    {
     "name": "stdout",
     "output_type": "stream",
     "text": [
      "writing cache file: /glade/p/cgd/oce/projects/cesm2-marbl/funnel/cesm2-piControl-ocn-pop.h-photoC_TOT_zint_100m/cesm2-piControl-ocn-pop.h-photoC_TOT_zint_100m-timeseries-ann-dc1ef533967affdac7ff1871110271b5.zarr\n",
      "making /glade/p/cgd/oce/projects/cesm2-marbl/funnel/cesm2-historical-ocn-pop.h-photoC_diat_zint_100m\n",
      "\n",
      "--> The keys in the returned dictionary of datasets are constructed as follows:\n",
      "\t'component:experiment:stream'\n"
     ]
    },
    {
     "name": "stderr",
     "output_type": "stream",
     "text": [
      "Dataset(s): 100%|████████████████████████████████| 1/1 [00:07<00:00,  7.28s/it]\n"
     ]
    },
    {
     "name": "stdout",
     "output_type": "stream",
     "text": [
      "writing cache file: /glade/p/cgd/oce/projects/cesm2-marbl/funnel/cesm2-historical-ocn-pop.h-photoC_diat_zint_100m/cesm2-historical-ocn-pop.h-photoC_diat_zint_100m-area-mean-294ef0a2270be075de6df997340530d2.zarr\n",
      "writing cache file: /glade/p/cgd/oce/projects/cesm2-marbl/funnel/cesm2-historical-ocn-pop.h-photoC_diat_zint_100m/cesm2-historical-ocn-pop.h-photoC_diat_zint_100m-timeseries-ann-dc1ef533967affdac7ff1871110271b5.zarr\n"
     ]
    },
    {
     "name": "stderr",
     "output_type": "stream",
     "text": [
      "Dataset(s):   0%|                                        | 0/1 [00:00<?, ?it/s]"
     ]
    },
    {
     "name": "stdout",
     "output_type": "stream",
     "text": [
      "writing cache file: /glade/p/cgd/oce/projects/cesm2-marbl/funnel/cesm2-historical-ocn-pop.h-photoC_diat_zint_100m/cesm2-historical-ocn-pop.h-photoC_diat_zint_100m-time-mean-6fad6ce941a1c7d777b07ba4db4b0728.zarr\n",
      "making /glade/p/cgd/oce/projects/cesm2-marbl/funnel/cesm2-SSP1-2.6-ocn-pop.h-photoC_diat_zint_100m\n",
      "\n",
      "--> The keys in the returned dictionary of datasets are constructed as follows:\n",
      "\t'component:experiment:stream'\n"
     ]
    },
    {
     "name": "stderr",
     "output_type": "stream",
     "text": [
      "Dataset(s): 100%|████████████████████████████████| 1/1 [00:00<00:00,  1.27it/s]\n"
     ]
    },
    {
     "name": "stdout",
     "output_type": "stream",
     "text": [
      "writing cache file: /glade/p/cgd/oce/projects/cesm2-marbl/funnel/cesm2-SSP1-2.6-ocn-pop.h-photoC_diat_zint_100m/cesm2-SSP1-2.6-ocn-pop.h-photoC_diat_zint_100m-area-mean-294ef0a2270be075de6df997340530d2.zarr\n",
      "writing cache file: /glade/p/cgd/oce/projects/cesm2-marbl/funnel/cesm2-SSP1-2.6-ocn-pop.h-photoC_diat_zint_100m/cesm2-SSP1-2.6-ocn-pop.h-photoC_diat_zint_100m-timeseries-ann-dc1ef533967affdac7ff1871110271b5.zarr\n"
     ]
    },
    {
     "name": "stderr",
     "output_type": "stream",
     "text": [
      "Dataset(s):   0%|                                        | 0/1 [00:00<?, ?it/s]"
     ]
    },
    {
     "name": "stdout",
     "output_type": "stream",
     "text": [
      "writing cache file: /glade/p/cgd/oce/projects/cesm2-marbl/funnel/cesm2-SSP1-2.6-ocn-pop.h-photoC_diat_zint_100m/cesm2-SSP1-2.6-ocn-pop.h-photoC_diat_zint_100m-time-mean-753afc24686e480ead107b0e27f521b4.zarr\n",
      "making /glade/p/cgd/oce/projects/cesm2-marbl/funnel/cesm2-SSP2-4.5-ocn-pop.h-photoC_diat_zint_100m\n",
      "\n",
      "--> The keys in the returned dictionary of datasets are constructed as follows:\n",
      "\t'component:experiment:stream'\n"
     ]
    },
    {
     "name": "stderr",
     "output_type": "stream",
     "text": [
      "Dataset(s): 100%|████████████████████████████████| 1/1 [00:01<00:00,  1.18s/it]\n"
     ]
    },
    {
     "name": "stdout",
     "output_type": "stream",
     "text": [
      "writing cache file: /glade/p/cgd/oce/projects/cesm2-marbl/funnel/cesm2-SSP2-4.5-ocn-pop.h-photoC_diat_zint_100m/cesm2-SSP2-4.5-ocn-pop.h-photoC_diat_zint_100m-area-mean-294ef0a2270be075de6df997340530d2.zarr\n",
      "writing cache file: /glade/p/cgd/oce/projects/cesm2-marbl/funnel/cesm2-SSP2-4.5-ocn-pop.h-photoC_diat_zint_100m/cesm2-SSP2-4.5-ocn-pop.h-photoC_diat_zint_100m-timeseries-ann-dc1ef533967affdac7ff1871110271b5.zarr\n"
     ]
    },
    {
     "name": "stderr",
     "output_type": "stream",
     "text": [
      "Dataset(s):   0%|                                        | 0/1 [00:00<?, ?it/s]"
     ]
    },
    {
     "name": "stdout",
     "output_type": "stream",
     "text": [
      "writing cache file: /glade/p/cgd/oce/projects/cesm2-marbl/funnel/cesm2-SSP2-4.5-ocn-pop.h-photoC_diat_zint_100m/cesm2-SSP2-4.5-ocn-pop.h-photoC_diat_zint_100m-time-mean-753afc24686e480ead107b0e27f521b4.zarr\n",
      "making /glade/p/cgd/oce/projects/cesm2-marbl/funnel/cesm2-SSP3-7.0-ocn-pop.h-photoC_diat_zint_100m\n",
      "\n",
      "--> The keys in the returned dictionary of datasets are constructed as follows:\n",
      "\t'component:experiment:stream'\n"
     ]
    },
    {
     "name": "stderr",
     "output_type": "stream",
     "text": [
      "Dataset(s): 100%|████████████████████████████████| 1/1 [00:00<00:00,  1.19it/s]\n"
     ]
    },
    {
     "name": "stdout",
     "output_type": "stream",
     "text": [
      "writing cache file: /glade/p/cgd/oce/projects/cesm2-marbl/funnel/cesm2-SSP3-7.0-ocn-pop.h-photoC_diat_zint_100m/cesm2-SSP3-7.0-ocn-pop.h-photoC_diat_zint_100m-area-mean-294ef0a2270be075de6df997340530d2.zarr\n",
      "writing cache file: /glade/p/cgd/oce/projects/cesm2-marbl/funnel/cesm2-SSP3-7.0-ocn-pop.h-photoC_diat_zint_100m/cesm2-SSP3-7.0-ocn-pop.h-photoC_diat_zint_100m-timeseries-ann-dc1ef533967affdac7ff1871110271b5.zarr\n"
     ]
    },
    {
     "name": "stderr",
     "output_type": "stream",
     "text": [
      "Dataset(s):   0%|                                        | 0/1 [00:00<?, ?it/s]"
     ]
    },
    {
     "name": "stdout",
     "output_type": "stream",
     "text": [
      "writing cache file: /glade/p/cgd/oce/projects/cesm2-marbl/funnel/cesm2-SSP3-7.0-ocn-pop.h-photoC_diat_zint_100m/cesm2-SSP3-7.0-ocn-pop.h-photoC_diat_zint_100m-time-mean-753afc24686e480ead107b0e27f521b4.zarr\n",
      "making /glade/p/cgd/oce/projects/cesm2-marbl/funnel/cesm2-SSP5-8.5-ocn-pop.h-photoC_diat_zint_100m\n",
      "\n",
      "--> The keys in the returned dictionary of datasets are constructed as follows:\n",
      "\t'component:experiment:stream'\n"
     ]
    },
    {
     "name": "stderr",
     "output_type": "stream",
     "text": [
      "Dataset(s): 100%|████████████████████████████████| 1/1 [00:00<00:00,  1.05it/s]\n"
     ]
    },
    {
     "name": "stdout",
     "output_type": "stream",
     "text": [
      "writing cache file: /glade/p/cgd/oce/projects/cesm2-marbl/funnel/cesm2-SSP5-8.5-ocn-pop.h-photoC_diat_zint_100m/cesm2-SSP5-8.5-ocn-pop.h-photoC_diat_zint_100m-area-mean-294ef0a2270be075de6df997340530d2.zarr\n",
      "writing cache file: /glade/p/cgd/oce/projects/cesm2-marbl/funnel/cesm2-SSP5-8.5-ocn-pop.h-photoC_diat_zint_100m/cesm2-SSP5-8.5-ocn-pop.h-photoC_diat_zint_100m-timeseries-ann-dc1ef533967affdac7ff1871110271b5.zarr\n"
     ]
    },
    {
     "name": "stderr",
     "output_type": "stream",
     "text": [
      "Dataset(s):   0%|                                        | 0/1 [00:00<?, ?it/s]"
     ]
    },
    {
     "name": "stdout",
     "output_type": "stream",
     "text": [
      "writing cache file: /glade/p/cgd/oce/projects/cesm2-marbl/funnel/cesm2-SSP5-8.5-ocn-pop.h-photoC_diat_zint_100m/cesm2-SSP5-8.5-ocn-pop.h-photoC_diat_zint_100m-time-mean-753afc24686e480ead107b0e27f521b4.zarr\n",
      "making /glade/p/cgd/oce/projects/cesm2-marbl/funnel/cesm2-piControl-ocn-pop.h-photoC_diat_zint_100m\n",
      "\n",
      "--> The keys in the returned dictionary of datasets are constructed as follows:\n",
      "\t'component:experiment:stream'\n"
     ]
    },
    {
     "name": "stderr",
     "output_type": "stream",
     "text": [
      "Dataset(s): 100%|████████████████████████████████| 1/1 [00:01<00:00,  1.87s/it]\n"
     ]
    },
    {
     "name": "stdout",
     "output_type": "stream",
     "text": [
      "writing cache file: /glade/p/cgd/oce/projects/cesm2-marbl/funnel/cesm2-piControl-ocn-pop.h-photoC_diat_zint_100m/cesm2-piControl-ocn-pop.h-photoC_diat_zint_100m-area-mean-294ef0a2270be075de6df997340530d2.zarr\n",
      "writing cache file: /glade/p/cgd/oce/projects/cesm2-marbl/funnel/cesm2-piControl-ocn-pop.h-photoC_diat_zint_100m/cesm2-piControl-ocn-pop.h-photoC_diat_zint_100m-timeseries-ann-dc1ef533967affdac7ff1871110271b5.zarr\n"
     ]
    },
    {
     "name": "stderr",
     "output_type": "stream",
     "text": [
      "Dataset(s):   0%|                                        | 0/1 [00:00<?, ?it/s]"
     ]
    },
    {
     "name": "stdout",
     "output_type": "stream",
     "text": [
      "making /glade/p/cgd/oce/projects/cesm2-marbl/funnel/cesm2-historical-ocn-pop.h-photoC_TOT_zint\n",
      "\n",
      "--> The keys in the returned dictionary of datasets are constructed as follows:\n",
      "\t'component:experiment:stream'\n"
     ]
    },
    {
     "name": "stderr",
     "output_type": "stream",
     "text": [
      "Dataset(s): 100%|████████████████████████████████| 1/1 [00:05<00:00,  5.83s/it]\n"
     ]
    },
    {
     "name": "stdout",
     "output_type": "stream",
     "text": [
      "writing cache file: /glade/p/cgd/oce/projects/cesm2-marbl/funnel/cesm2-historical-ocn-pop.h-photoC_TOT_zint/cesm2-historical-ocn-pop.h-photoC_TOT_zint-area-mean-294ef0a2270be075de6df997340530d2.zarr\n",
      "writing cache file: /glade/p/cgd/oce/projects/cesm2-marbl/funnel/cesm2-historical-ocn-pop.h-photoC_TOT_zint/cesm2-historical-ocn-pop.h-photoC_TOT_zint-timeseries-ann-dc1ef533967affdac7ff1871110271b5.zarr\n"
     ]
    },
    {
     "name": "stderr",
     "output_type": "stream",
     "text": [
      "Dataset(s):   0%|                                        | 0/1 [00:00<?, ?it/s]"
     ]
    },
    {
     "name": "stdout",
     "output_type": "stream",
     "text": [
      "writing cache file: /glade/p/cgd/oce/projects/cesm2-marbl/funnel/cesm2-historical-ocn-pop.h-photoC_TOT_zint/cesm2-historical-ocn-pop.h-photoC_TOT_zint-time-mean-6fad6ce941a1c7d777b07ba4db4b0728.zarr\n",
      "making /glade/p/cgd/oce/projects/cesm2-marbl/funnel/cesm2-SSP1-2.6-ocn-pop.h-photoC_TOT_zint\n",
      "\n",
      "--> The keys in the returned dictionary of datasets are constructed as follows:\n",
      "\t'component:experiment:stream'\n"
     ]
    },
    {
     "name": "stderr",
     "output_type": "stream",
     "text": [
      "Dataset(s): 100%|████████████████████████████████| 1/1 [00:01<00:00,  1.21s/it]\n"
     ]
    },
    {
     "name": "stdout",
     "output_type": "stream",
     "text": [
      "writing cache file: /glade/p/cgd/oce/projects/cesm2-marbl/funnel/cesm2-SSP1-2.6-ocn-pop.h-photoC_TOT_zint/cesm2-SSP1-2.6-ocn-pop.h-photoC_TOT_zint-area-mean-294ef0a2270be075de6df997340530d2.zarr\n",
      "writing cache file: /glade/p/cgd/oce/projects/cesm2-marbl/funnel/cesm2-SSP1-2.6-ocn-pop.h-photoC_TOT_zint/cesm2-SSP1-2.6-ocn-pop.h-photoC_TOT_zint-timeseries-ann-dc1ef533967affdac7ff1871110271b5.zarr\n"
     ]
    },
    {
     "name": "stderr",
     "output_type": "stream",
     "text": [
      "Dataset(s):   0%|                                        | 0/1 [00:00<?, ?it/s]"
     ]
    },
    {
     "name": "stdout",
     "output_type": "stream",
     "text": [
      "writing cache file: /glade/p/cgd/oce/projects/cesm2-marbl/funnel/cesm2-SSP1-2.6-ocn-pop.h-photoC_TOT_zint/cesm2-SSP1-2.6-ocn-pop.h-photoC_TOT_zint-time-mean-753afc24686e480ead107b0e27f521b4.zarr\n",
      "making /glade/p/cgd/oce/projects/cesm2-marbl/funnel/cesm2-SSP2-4.5-ocn-pop.h-photoC_TOT_zint\n",
      "\n",
      "--> The keys in the returned dictionary of datasets are constructed as follows:\n",
      "\t'component:experiment:stream'\n"
     ]
    },
    {
     "name": "stderr",
     "output_type": "stream",
     "text": [
      "Dataset(s): 100%|████████████████████████████████| 1/1 [00:01<00:00,  1.55s/it]\n"
     ]
    },
    {
     "name": "stdout",
     "output_type": "stream",
     "text": [
      "writing cache file: /glade/p/cgd/oce/projects/cesm2-marbl/funnel/cesm2-SSP2-4.5-ocn-pop.h-photoC_TOT_zint/cesm2-SSP2-4.5-ocn-pop.h-photoC_TOT_zint-area-mean-294ef0a2270be075de6df997340530d2.zarr\n",
      "writing cache file: /glade/p/cgd/oce/projects/cesm2-marbl/funnel/cesm2-SSP2-4.5-ocn-pop.h-photoC_TOT_zint/cesm2-SSP2-4.5-ocn-pop.h-photoC_TOT_zint-timeseries-ann-dc1ef533967affdac7ff1871110271b5.zarr\n"
     ]
    },
    {
     "name": "stderr",
     "output_type": "stream",
     "text": [
      "Dataset(s):   0%|                                        | 0/1 [00:00<?, ?it/s]"
     ]
    },
    {
     "name": "stdout",
     "output_type": "stream",
     "text": [
      "writing cache file: /glade/p/cgd/oce/projects/cesm2-marbl/funnel/cesm2-SSP2-4.5-ocn-pop.h-photoC_TOT_zint/cesm2-SSP2-4.5-ocn-pop.h-photoC_TOT_zint-time-mean-753afc24686e480ead107b0e27f521b4.zarr\n",
      "making /glade/p/cgd/oce/projects/cesm2-marbl/funnel/cesm2-SSP3-7.0-ocn-pop.h-photoC_TOT_zint\n",
      "\n",
      "--> The keys in the returned dictionary of datasets are constructed as follows:\n",
      "\t'component:experiment:stream'\n"
     ]
    },
    {
     "name": "stderr",
     "output_type": "stream",
     "text": [
      "Dataset(s): 100%|████████████████████████████████| 1/1 [00:00<00:00,  1.41it/s]\n"
     ]
    },
    {
     "name": "stdout",
     "output_type": "stream",
     "text": [
      "writing cache file: /glade/p/cgd/oce/projects/cesm2-marbl/funnel/cesm2-SSP3-7.0-ocn-pop.h-photoC_TOT_zint/cesm2-SSP3-7.0-ocn-pop.h-photoC_TOT_zint-area-mean-294ef0a2270be075de6df997340530d2.zarr\n",
      "writing cache file: /glade/p/cgd/oce/projects/cesm2-marbl/funnel/cesm2-SSP3-7.0-ocn-pop.h-photoC_TOT_zint/cesm2-SSP3-7.0-ocn-pop.h-photoC_TOT_zint-timeseries-ann-dc1ef533967affdac7ff1871110271b5.zarr\n"
     ]
    },
    {
     "name": "stderr",
     "output_type": "stream",
     "text": [
      "Dataset(s):   0%|                                        | 0/1 [00:00<?, ?it/s]"
     ]
    },
    {
     "name": "stdout",
     "output_type": "stream",
     "text": [
      "writing cache file: /glade/p/cgd/oce/projects/cesm2-marbl/funnel/cesm2-SSP3-7.0-ocn-pop.h-photoC_TOT_zint/cesm2-SSP3-7.0-ocn-pop.h-photoC_TOT_zint-time-mean-753afc24686e480ead107b0e27f521b4.zarr\n",
      "making /glade/p/cgd/oce/projects/cesm2-marbl/funnel/cesm2-SSP5-8.5-ocn-pop.h-photoC_TOT_zint\n",
      "\n",
      "--> The keys in the returned dictionary of datasets are constructed as follows:\n",
      "\t'component:experiment:stream'\n"
     ]
    },
    {
     "name": "stderr",
     "output_type": "stream",
     "text": [
      "Dataset(s): 100%|████████████████████████████████| 1/1 [00:00<00:00,  1.18it/s]\n"
     ]
    },
    {
     "name": "stdout",
     "output_type": "stream",
     "text": [
      "writing cache file: /glade/p/cgd/oce/projects/cesm2-marbl/funnel/cesm2-SSP5-8.5-ocn-pop.h-photoC_TOT_zint/cesm2-SSP5-8.5-ocn-pop.h-photoC_TOT_zint-area-mean-294ef0a2270be075de6df997340530d2.zarr\n",
      "writing cache file: /glade/p/cgd/oce/projects/cesm2-marbl/funnel/cesm2-SSP5-8.5-ocn-pop.h-photoC_TOT_zint/cesm2-SSP5-8.5-ocn-pop.h-photoC_TOT_zint-timeseries-ann-dc1ef533967affdac7ff1871110271b5.zarr\n"
     ]
    },
    {
     "name": "stderr",
     "output_type": "stream",
     "text": [
      "Dataset(s):   0%|                                        | 0/1 [00:00<?, ?it/s]"
     ]
    },
    {
     "name": "stdout",
     "output_type": "stream",
     "text": [
      "writing cache file: /glade/p/cgd/oce/projects/cesm2-marbl/funnel/cesm2-SSP5-8.5-ocn-pop.h-photoC_TOT_zint/cesm2-SSP5-8.5-ocn-pop.h-photoC_TOT_zint-time-mean-753afc24686e480ead107b0e27f521b4.zarr\n",
      "making /glade/p/cgd/oce/projects/cesm2-marbl/funnel/cesm2-piControl-ocn-pop.h-photoC_TOT_zint\n",
      "\n",
      "--> The keys in the returned dictionary of datasets are constructed as follows:\n",
      "\t'component:experiment:stream'\n"
     ]
    },
    {
     "name": "stderr",
     "output_type": "stream",
     "text": [
      "Dataset(s): 100%|████████████████████████████████| 1/1 [00:02<00:00,  2.10s/it]\n"
     ]
    },
    {
     "name": "stdout",
     "output_type": "stream",
     "text": [
      "writing cache file: /glade/p/cgd/oce/projects/cesm2-marbl/funnel/cesm2-piControl-ocn-pop.h-photoC_TOT_zint/cesm2-piControl-ocn-pop.h-photoC_TOT_zint-area-mean-294ef0a2270be075de6df997340530d2.zarr\n"
     ]
    },
    {
     "name": "stderr",
     "output_type": "stream",
     "text": [
      "Dataset(s):   0%|                                        | 0/1 [00:00<?, ?it/s]"
     ]
    },
    {
     "name": "stdout",
     "output_type": "stream",
     "text": [
      "writing cache file: /glade/p/cgd/oce/projects/cesm2-marbl/funnel/cesm2-piControl-ocn-pop.h-photoC_TOT_zint/cesm2-piControl-ocn-pop.h-photoC_TOT_zint-timeseries-ann-dc1ef533967affdac7ff1871110271b5.zarr\n",
      "making /glade/p/cgd/oce/projects/cesm2-marbl/funnel/cesm2-historical-ocn-pop.h-photoC_diat_zint\n",
      "\n",
      "--> The keys in the returned dictionary of datasets are constructed as follows:\n",
      "\t'component:experiment:stream'\n"
     ]
    },
    {
     "name": "stderr",
     "output_type": "stream",
     "text": [
      "Dataset(s): 100%|████████████████████████████████| 1/1 [00:04<00:00,  4.50s/it]\n",
      "distributed.scheduler - ERROR - Couldn't gather keys {\"('mul-2ed556a52adfa3756f7206e9ec6b9f07', 8, 14)\": [], \"('mul-2ed556a52adfa3756f7206e9ec6b9f07', 2, 3)\": [], \"('mul-2ed556a52adfa3756f7206e9ec6b9f07', 8, 13)\": [], \"('mul-2ed556a52adfa3756f7206e9ec6b9f07', 2, 4)\": []} state: ['waiting', 'waiting', 'waiting', 'waiting'] workers: []\n",
      "NoneType: None\n",
      "distributed.scheduler - ERROR - Workers don't have promised key: [], ('mul-2ed556a52adfa3756f7206e9ec6b9f07', 8, 14)\n",
      "NoneType: None\n",
      "distributed.scheduler - ERROR - Workers don't have promised key: [], ('mul-2ed556a52adfa3756f7206e9ec6b9f07', 2, 3)\n",
      "NoneType: None\n",
      "distributed.scheduler - ERROR - Workers don't have promised key: [], ('mul-2ed556a52adfa3756f7206e9ec6b9f07', 8, 13)\n",
      "NoneType: None\n",
      "distributed.scheduler - ERROR - Workers don't have promised key: [], ('mul-2ed556a52adfa3756f7206e9ec6b9f07', 2, 4)\n",
      "NoneType: None\n"
     ]
    },
    {
     "name": "stdout",
     "output_type": "stream",
     "text": [
      "writing cache file: /glade/p/cgd/oce/projects/cesm2-marbl/funnel/cesm2-historical-ocn-pop.h-photoC_diat_zint/cesm2-historical-ocn-pop.h-photoC_diat_zint-area-mean-294ef0a2270be075de6df997340530d2.zarr\n",
      "writing cache file: /glade/p/cgd/oce/projects/cesm2-marbl/funnel/cesm2-historical-ocn-pop.h-photoC_diat_zint/cesm2-historical-ocn-pop.h-photoC_diat_zint-timeseries-ann-dc1ef533967affdac7ff1871110271b5.zarr\n"
     ]
    },
    {
     "name": "stderr",
     "output_type": "stream",
     "text": [
      "Dataset(s):   0%|                                        | 0/1 [00:00<?, ?it/s]"
     ]
    },
    {
     "name": "stdout",
     "output_type": "stream",
     "text": [
      "writing cache file: /glade/p/cgd/oce/projects/cesm2-marbl/funnel/cesm2-historical-ocn-pop.h-photoC_diat_zint/cesm2-historical-ocn-pop.h-photoC_diat_zint-time-mean-6fad6ce941a1c7d777b07ba4db4b0728.zarr\n",
      "making /glade/p/cgd/oce/projects/cesm2-marbl/funnel/cesm2-SSP1-2.6-ocn-pop.h-photoC_diat_zint\n",
      "\n",
      "--> The keys in the returned dictionary of datasets are constructed as follows:\n",
      "\t'component:experiment:stream'\n"
     ]
    },
    {
     "name": "stderr",
     "output_type": "stream",
     "text": [
      "Dataset(s): 100%|████████████████████████████████| 1/1 [00:00<00:00,  1.42it/s]\n"
     ]
    },
    {
     "name": "stdout",
     "output_type": "stream",
     "text": [
      "writing cache file: /glade/p/cgd/oce/projects/cesm2-marbl/funnel/cesm2-SSP1-2.6-ocn-pop.h-photoC_diat_zint/cesm2-SSP1-2.6-ocn-pop.h-photoC_diat_zint-area-mean-294ef0a2270be075de6df997340530d2.zarr\n",
      "writing cache file: /glade/p/cgd/oce/projects/cesm2-marbl/funnel/cesm2-SSP1-2.6-ocn-pop.h-photoC_diat_zint/cesm2-SSP1-2.6-ocn-pop.h-photoC_diat_zint-timeseries-ann-dc1ef533967affdac7ff1871110271b5.zarr\n"
     ]
    },
    {
     "name": "stderr",
     "output_type": "stream",
     "text": [
      "Dataset(s):   0%|                                        | 0/1 [00:00<?, ?it/s]"
     ]
    },
    {
     "name": "stdout",
     "output_type": "stream",
     "text": [
      "writing cache file: /glade/p/cgd/oce/projects/cesm2-marbl/funnel/cesm2-SSP1-2.6-ocn-pop.h-photoC_diat_zint/cesm2-SSP1-2.6-ocn-pop.h-photoC_diat_zint-time-mean-753afc24686e480ead107b0e27f521b4.zarr\n",
      "making /glade/p/cgd/oce/projects/cesm2-marbl/funnel/cesm2-SSP2-4.5-ocn-pop.h-photoC_diat_zint\n",
      "\n",
      "--> The keys in the returned dictionary of datasets are constructed as follows:\n",
      "\t'component:experiment:stream'\n"
     ]
    },
    {
     "name": "stderr",
     "output_type": "stream",
     "text": [
      "Dataset(s): 100%|████████████████████████████████| 1/1 [00:00<00:00,  1.06it/s]\n"
     ]
    },
    {
     "name": "stdout",
     "output_type": "stream",
     "text": [
      "writing cache file: /glade/p/cgd/oce/projects/cesm2-marbl/funnel/cesm2-SSP2-4.5-ocn-pop.h-photoC_diat_zint/cesm2-SSP2-4.5-ocn-pop.h-photoC_diat_zint-area-mean-294ef0a2270be075de6df997340530d2.zarr\n",
      "writing cache file: /glade/p/cgd/oce/projects/cesm2-marbl/funnel/cesm2-SSP2-4.5-ocn-pop.h-photoC_diat_zint/cesm2-SSP2-4.5-ocn-pop.h-photoC_diat_zint-timeseries-ann-dc1ef533967affdac7ff1871110271b5.zarr\n"
     ]
    },
    {
     "name": "stderr",
     "output_type": "stream",
     "text": [
      "Dataset(s):   0%|                                        | 0/1 [00:00<?, ?it/s]"
     ]
    },
    {
     "name": "stdout",
     "output_type": "stream",
     "text": [
      "writing cache file: /glade/p/cgd/oce/projects/cesm2-marbl/funnel/cesm2-SSP2-4.5-ocn-pop.h-photoC_diat_zint/cesm2-SSP2-4.5-ocn-pop.h-photoC_diat_zint-time-mean-753afc24686e480ead107b0e27f521b4.zarr\n",
      "making /glade/p/cgd/oce/projects/cesm2-marbl/funnel/cesm2-SSP3-7.0-ocn-pop.h-photoC_diat_zint\n",
      "\n",
      "--> The keys in the returned dictionary of datasets are constructed as follows:\n",
      "\t'component:experiment:stream'\n"
     ]
    },
    {
     "name": "stderr",
     "output_type": "stream",
     "text": [
      "Dataset(s): 100%|████████████████████████████████| 1/1 [00:01<00:00,  1.03s/it]\n"
     ]
    },
    {
     "name": "stdout",
     "output_type": "stream",
     "text": [
      "writing cache file: /glade/p/cgd/oce/projects/cesm2-marbl/funnel/cesm2-SSP3-7.0-ocn-pop.h-photoC_diat_zint/cesm2-SSP3-7.0-ocn-pop.h-photoC_diat_zint-area-mean-294ef0a2270be075de6df997340530d2.zarr\n",
      "writing cache file: /glade/p/cgd/oce/projects/cesm2-marbl/funnel/cesm2-SSP3-7.0-ocn-pop.h-photoC_diat_zint/cesm2-SSP3-7.0-ocn-pop.h-photoC_diat_zint-timeseries-ann-dc1ef533967affdac7ff1871110271b5.zarr\n"
     ]
    },
    {
     "name": "stderr",
     "output_type": "stream",
     "text": [
      "Dataset(s):   0%|                                        | 0/1 [00:00<?, ?it/s]"
     ]
    },
    {
     "name": "stdout",
     "output_type": "stream",
     "text": [
      "writing cache file: /glade/p/cgd/oce/projects/cesm2-marbl/funnel/cesm2-SSP3-7.0-ocn-pop.h-photoC_diat_zint/cesm2-SSP3-7.0-ocn-pop.h-photoC_diat_zint-time-mean-753afc24686e480ead107b0e27f521b4.zarr\n",
      "making /glade/p/cgd/oce/projects/cesm2-marbl/funnel/cesm2-SSP5-8.5-ocn-pop.h-photoC_diat_zint\n",
      "\n",
      "--> The keys in the returned dictionary of datasets are constructed as follows:\n",
      "\t'component:experiment:stream'\n"
     ]
    },
    {
     "name": "stderr",
     "output_type": "stream",
     "text": [
      "Dataset(s): 100%|████████████████████████████████| 1/1 [00:00<00:00,  1.49it/s]\n"
     ]
    },
    {
     "name": "stdout",
     "output_type": "stream",
     "text": [
      "writing cache file: /glade/p/cgd/oce/projects/cesm2-marbl/funnel/cesm2-SSP5-8.5-ocn-pop.h-photoC_diat_zint/cesm2-SSP5-8.5-ocn-pop.h-photoC_diat_zint-area-mean-294ef0a2270be075de6df997340530d2.zarr\n",
      "writing cache file: /glade/p/cgd/oce/projects/cesm2-marbl/funnel/cesm2-SSP5-8.5-ocn-pop.h-photoC_diat_zint/cesm2-SSP5-8.5-ocn-pop.h-photoC_diat_zint-timeseries-ann-dc1ef533967affdac7ff1871110271b5.zarr\n"
     ]
    },
    {
     "name": "stderr",
     "output_type": "stream",
     "text": [
      "Dataset(s):   0%|                                        | 0/1 [00:00<?, ?it/s]"
     ]
    },
    {
     "name": "stdout",
     "output_type": "stream",
     "text": [
      "writing cache file: /glade/p/cgd/oce/projects/cesm2-marbl/funnel/cesm2-SSP5-8.5-ocn-pop.h-photoC_diat_zint/cesm2-SSP5-8.5-ocn-pop.h-photoC_diat_zint-time-mean-753afc24686e480ead107b0e27f521b4.zarr\n",
      "making /glade/p/cgd/oce/projects/cesm2-marbl/funnel/cesm2-piControl-ocn-pop.h-photoC_diat_zint\n",
      "\n",
      "--> The keys in the returned dictionary of datasets are constructed as follows:\n",
      "\t'component:experiment:stream'\n"
     ]
    },
    {
     "name": "stderr",
     "output_type": "stream",
     "text": [
      "Dataset(s): 100%|████████████████████████████████| 1/1 [00:04<00:00,  4.15s/it]\n"
     ]
    },
    {
     "name": "stdout",
     "output_type": "stream",
     "text": [
      "writing cache file: /glade/p/cgd/oce/projects/cesm2-marbl/funnel/cesm2-piControl-ocn-pop.h-photoC_diat_zint/cesm2-piControl-ocn-pop.h-photoC_diat_zint-area-mean-294ef0a2270be075de6df997340530d2.zarr\n"
     ]
    },
    {
     "name": "stderr",
     "output_type": "stream",
     "text": [
      "Dataset(s):   0%|                                        | 0/1 [00:00<?, ?it/s]"
     ]
    },
    {
     "name": "stdout",
     "output_type": "stream",
     "text": [
      "writing cache file: /glade/p/cgd/oce/projects/cesm2-marbl/funnel/cesm2-piControl-ocn-pop.h-photoC_diat_zint/cesm2-piControl-ocn-pop.h-photoC_diat_zint-timeseries-ann-dc1ef533967affdac7ff1871110271b5.zarr\n",
      "making /glade/p/cgd/oce/projects/cesm2-marbl/funnel/cesm2-historical-ocn-pop.h-POC_FLUX_100m\n",
      "\n",
      "--> The keys in the returned dictionary of datasets are constructed as follows:\n",
      "\t'component:experiment:stream'\n"
     ]
    },
    {
     "name": "stderr",
     "output_type": "stream",
     "text": [
      "Dataset(s): 100%|████████████████████████████████| 1/1 [00:04<00:00,  4.00s/it]\n"
     ]
    },
    {
     "name": "stdout",
     "output_type": "stream",
     "text": [
      "writing cache file: /glade/p/cgd/oce/projects/cesm2-marbl/funnel/cesm2-historical-ocn-pop.h-POC_FLUX_100m/cesm2-historical-ocn-pop.h-POC_FLUX_100m-area-mean-294ef0a2270be075de6df997340530d2.zarr\n",
      "writing cache file: /glade/p/cgd/oce/projects/cesm2-marbl/funnel/cesm2-historical-ocn-pop.h-POC_FLUX_100m/cesm2-historical-ocn-pop.h-POC_FLUX_100m-timeseries-ann-dc1ef533967affdac7ff1871110271b5.zarr\n"
     ]
    },
    {
     "name": "stderr",
     "output_type": "stream",
     "text": [
      "Dataset(s):   0%|                                        | 0/1 [00:00<?, ?it/s]"
     ]
    },
    {
     "name": "stdout",
     "output_type": "stream",
     "text": [
      "writing cache file: /glade/p/cgd/oce/projects/cesm2-marbl/funnel/cesm2-historical-ocn-pop.h-POC_FLUX_100m/cesm2-historical-ocn-pop.h-POC_FLUX_100m-time-mean-6fad6ce941a1c7d777b07ba4db4b0728.zarr\n",
      "making /glade/p/cgd/oce/projects/cesm2-marbl/funnel/cesm2-SSP1-2.6-ocn-pop.h-POC_FLUX_100m\n",
      "\n",
      "--> The keys in the returned dictionary of datasets are constructed as follows:\n",
      "\t'component:experiment:stream'\n"
     ]
    },
    {
     "name": "stderr",
     "output_type": "stream",
     "text": [
      "Dataset(s): 100%|████████████████████████████████| 1/1 [00:00<00:00,  1.26it/s]\n"
     ]
    },
    {
     "name": "stdout",
     "output_type": "stream",
     "text": [
      "writing cache file: /glade/p/cgd/oce/projects/cesm2-marbl/funnel/cesm2-SSP1-2.6-ocn-pop.h-POC_FLUX_100m/cesm2-SSP1-2.6-ocn-pop.h-POC_FLUX_100m-area-mean-294ef0a2270be075de6df997340530d2.zarr\n",
      "writing cache file: /glade/p/cgd/oce/projects/cesm2-marbl/funnel/cesm2-SSP1-2.6-ocn-pop.h-POC_FLUX_100m/cesm2-SSP1-2.6-ocn-pop.h-POC_FLUX_100m-timeseries-ann-dc1ef533967affdac7ff1871110271b5.zarr\n"
     ]
    },
    {
     "name": "stderr",
     "output_type": "stream",
     "text": [
      "distributed.utils - ERROR - \n",
      "Traceback (most recent call last):\n",
      "  File \"/glade/work/mclong/miniconda3/envs/cesm2-marbl/lib/python3.7/site-packages/distributed/utils.py\", line 665, in log_errors\n",
      "    yield\n",
      "  File \"/glade/work/mclong/miniconda3/envs/cesm2-marbl/lib/python3.7/site-packages/distributed/scheduler.py\", line 3445, in retire_workers\n",
      "    lock=False,\n",
      "  File \"/glade/work/mclong/miniconda3/envs/cesm2-marbl/lib/python3.7/site-packages/distributed/scheduler.py\", line 3199, in replicate\n",
      "    assert count > 0\n",
      "AssertionError\n",
      "distributed.core - ERROR - \n",
      "Traceback (most recent call last):\n",
      "  File \"/glade/work/mclong/miniconda3/envs/cesm2-marbl/lib/python3.7/site-packages/distributed/core.py\", line 411, in handle_comm\n",
      "    result = await result\n",
      "  File \"/glade/work/mclong/miniconda3/envs/cesm2-marbl/lib/python3.7/site-packages/distributed/scheduler.py\", line 3445, in retire_workers\n",
      "    lock=False,\n",
      "  File \"/glade/work/mclong/miniconda3/envs/cesm2-marbl/lib/python3.7/site-packages/distributed/scheduler.py\", line 3199, in replicate\n",
      "    assert count > 0\n",
      "AssertionError\n",
      "distributed.utils - ERROR - \n",
      "Traceback (most recent call last):\n",
      "  File \"/glade/work/mclong/miniconda3/envs/cesm2-marbl/lib/python3.7/site-packages/distributed/utils.py\", line 665, in log_errors\n",
      "    yield\n",
      "  File \"/glade/work/mclong/miniconda3/envs/cesm2-marbl/lib/python3.7/site-packages/distributed/deploy/adaptive.py\", line 186, in scale_down\n",
      "    names=workers, remove=True, close_workers=True\n",
      "  File \"/glade/work/mclong/miniconda3/envs/cesm2-marbl/lib/python3.7/site-packages/distributed/core.py\", line 687, in send_recv_from_rpc\n",
      "    result = await send_recv(comm=comm, op=key, **kwargs)\n",
      "  File \"/glade/work/mclong/miniconda3/envs/cesm2-marbl/lib/python3.7/site-packages/distributed/core.py\", line 557, in send_recv\n",
      "    raise exc.with_traceback(tb)\n",
      "  File \"/glade/work/mclong/miniconda3/envs/cesm2-marbl/lib/python3.7/site-packages/distributed/core.py\", line 411, in handle_comm\n",
      "    result = await result\n",
      "  File \"/glade/work/mclong/miniconda3/envs/cesm2-marbl/lib/python3.7/site-packages/distributed/scheduler.py\", line 3445, in retire_workers\n",
      "    lock=False,\n",
      "  File \"/glade/work/mclong/miniconda3/envs/cesm2-marbl/lib/python3.7/site-packages/distributed/scheduler.py\", line 3199, in replicate\n",
      "    assert count > 0\n",
      "AssertionError\n",
      "tornado.application - ERROR - Exception in callback functools.partial(<bound method IOLoop._discard_future_result of <zmq.eventloop.ioloop.ZMQIOLoop object at 0x2b98cbb38790>>, <Task finished coro=<AdaptiveCore.adapt() done, defined at /glade/work/mclong/miniconda3/envs/cesm2-marbl/lib/python3.7/site-packages/distributed/deploy/adaptive_core.py:170> exception=AssertionError()>)\n",
      "Traceback (most recent call last):\n",
      "  File \"/glade/work/mclong/miniconda3/envs/cesm2-marbl/lib/python3.7/site-packages/tornado/ioloop.py\", line 743, in _run_callback\n",
      "    ret = callback()\n",
      "  File \"/glade/work/mclong/miniconda3/envs/cesm2-marbl/lib/python3.7/site-packages/tornado/ioloop.py\", line 767, in _discard_future_result\n",
      "    future.result()\n",
      "  File \"/glade/work/mclong/miniconda3/envs/cesm2-marbl/lib/python3.7/site-packages/distributed/deploy/adaptive_core.py\", line 194, in adapt\n",
      "    await self.scale_down(**recommendations)\n",
      "  File \"/glade/work/mclong/miniconda3/envs/cesm2-marbl/lib/python3.7/site-packages/distributed/deploy/adaptive.py\", line 186, in scale_down\n",
      "    names=workers, remove=True, close_workers=True\n",
      "  File \"/glade/work/mclong/miniconda3/envs/cesm2-marbl/lib/python3.7/site-packages/distributed/core.py\", line 687, in send_recv_from_rpc\n",
      "    result = await send_recv(comm=comm, op=key, **kwargs)\n",
      "  File \"/glade/work/mclong/miniconda3/envs/cesm2-marbl/lib/python3.7/site-packages/distributed/core.py\", line 557, in send_recv\n",
      "    raise exc.with_traceback(tb)\n",
      "  File \"/glade/work/mclong/miniconda3/envs/cesm2-marbl/lib/python3.7/site-packages/distributed/core.py\", line 411, in handle_comm\n",
      "    result = await result\n",
      "  File \"/glade/work/mclong/miniconda3/envs/cesm2-marbl/lib/python3.7/site-packages/distributed/scheduler.py\", line 3445, in retire_workers\n",
      "    lock=False,\n",
      "  File \"/glade/work/mclong/miniconda3/envs/cesm2-marbl/lib/python3.7/site-packages/distributed/scheduler.py\", line 3199, in replicate\n",
      "    assert count > 0\n",
      "AssertionError\n"
     ]
    },
    {
     "name": "stdout",
     "output_type": "stream",
     "text": [
      "writing cache file: /glade/p/cgd/oce/projects/cesm2-marbl/funnel/cesm2-SSP1-2.6-ocn-pop.h-POC_FLUX_100m/cesm2-SSP1-2.6-ocn-pop.h-POC_FLUX_100m-time-mean-753afc24686e480ead107b0e27f521b4.zarr\n"
     ]
    },
    {
     "name": "stderr",
     "output_type": "stream",
     "text": [
      "Dataset(s):   0%|                                        | 0/1 [00:00<?, ?it/s]"
     ]
    },
    {
     "name": "stdout",
     "output_type": "stream",
     "text": [
      "making /glade/p/cgd/oce/projects/cesm2-marbl/funnel/cesm2-SSP2-4.5-ocn-pop.h-POC_FLUX_100m\n",
      "\n",
      "--> The keys in the returned dictionary of datasets are constructed as follows:\n",
      "\t'component:experiment:stream'\n"
     ]
    },
    {
     "name": "stderr",
     "output_type": "stream",
     "text": [
      "Dataset(s): 100%|████████████████████████████████| 1/1 [00:01<00:00,  1.14s/it]\n"
     ]
    },
    {
     "name": "stdout",
     "output_type": "stream",
     "text": [
      "writing cache file: /glade/p/cgd/oce/projects/cesm2-marbl/funnel/cesm2-SSP2-4.5-ocn-pop.h-POC_FLUX_100m/cesm2-SSP2-4.5-ocn-pop.h-POC_FLUX_100m-area-mean-294ef0a2270be075de6df997340530d2.zarr\n",
      "writing cache file: /glade/p/cgd/oce/projects/cesm2-marbl/funnel/cesm2-SSP2-4.5-ocn-pop.h-POC_FLUX_100m/cesm2-SSP2-4.5-ocn-pop.h-POC_FLUX_100m-timeseries-ann-dc1ef533967affdac7ff1871110271b5.zarr\n",
      "writing cache file: /glade/p/cgd/oce/projects/cesm2-marbl/funnel/cesm2-SSP2-4.5-ocn-pop.h-POC_FLUX_100m/cesm2-SSP2-4.5-ocn-pop.h-POC_FLUX_100m-time-mean-753afc24686e480ead107b0e27f521b4.zarr\n"
     ]
    },
    {
     "name": "stderr",
     "output_type": "stream",
     "text": [
      "Dataset(s):   0%|                                        | 0/1 [00:00<?, ?it/s]"
     ]
    },
    {
     "name": "stdout",
     "output_type": "stream",
     "text": [
      "making /glade/p/cgd/oce/projects/cesm2-marbl/funnel/cesm2-SSP3-7.0-ocn-pop.h-POC_FLUX_100m\n",
      "\n",
      "--> The keys in the returned dictionary of datasets are constructed as follows:\n",
      "\t'component:experiment:stream'\n"
     ]
    },
    {
     "name": "stderr",
     "output_type": "stream",
     "text": [
      "Dataset(s): 100%|████████████████████████████████| 1/1 [00:00<00:00,  1.35it/s]\n"
     ]
    },
    {
     "name": "stdout",
     "output_type": "stream",
     "text": [
      "writing cache file: /glade/p/cgd/oce/projects/cesm2-marbl/funnel/cesm2-SSP3-7.0-ocn-pop.h-POC_FLUX_100m/cesm2-SSP3-7.0-ocn-pop.h-POC_FLUX_100m-area-mean-294ef0a2270be075de6df997340530d2.zarr\n",
      "writing cache file: /glade/p/cgd/oce/projects/cesm2-marbl/funnel/cesm2-SSP3-7.0-ocn-pop.h-POC_FLUX_100m/cesm2-SSP3-7.0-ocn-pop.h-POC_FLUX_100m-timeseries-ann-dc1ef533967affdac7ff1871110271b5.zarr\n",
      "writing cache file: /glade/p/cgd/oce/projects/cesm2-marbl/funnel/cesm2-SSP3-7.0-ocn-pop.h-POC_FLUX_100m/cesm2-SSP3-7.0-ocn-pop.h-POC_FLUX_100m-time-mean-753afc24686e480ead107b0e27f521b4.zarr\n"
     ]
    },
    {
     "name": "stderr",
     "output_type": "stream",
     "text": [
      "Dataset(s):   0%|                                        | 0/1 [00:00<?, ?it/s]"
     ]
    },
    {
     "name": "stdout",
     "output_type": "stream",
     "text": [
      "making /glade/p/cgd/oce/projects/cesm2-marbl/funnel/cesm2-SSP5-8.5-ocn-pop.h-POC_FLUX_100m\n",
      "\n",
      "--> The keys in the returned dictionary of datasets are constructed as follows:\n",
      "\t'component:experiment:stream'\n"
     ]
    },
    {
     "name": "stderr",
     "output_type": "stream",
     "text": [
      "Dataset(s): 100%|████████████████████████████████| 1/1 [00:00<00:00,  1.22it/s]\n"
     ]
    },
    {
     "name": "stdout",
     "output_type": "stream",
     "text": [
      "writing cache file: /glade/p/cgd/oce/projects/cesm2-marbl/funnel/cesm2-SSP5-8.5-ocn-pop.h-POC_FLUX_100m/cesm2-SSP5-8.5-ocn-pop.h-POC_FLUX_100m-area-mean-294ef0a2270be075de6df997340530d2.zarr\n",
      "writing cache file: /glade/p/cgd/oce/projects/cesm2-marbl/funnel/cesm2-SSP5-8.5-ocn-pop.h-POC_FLUX_100m/cesm2-SSP5-8.5-ocn-pop.h-POC_FLUX_100m-timeseries-ann-dc1ef533967affdac7ff1871110271b5.zarr\n"
     ]
    },
    {
     "name": "stderr",
     "output_type": "stream",
     "text": [
      "Dataset(s):   0%|                                        | 0/1 [00:00<?, ?it/s]"
     ]
    },
    {
     "name": "stdout",
     "output_type": "stream",
     "text": [
      "writing cache file: /glade/p/cgd/oce/projects/cesm2-marbl/funnel/cesm2-SSP5-8.5-ocn-pop.h-POC_FLUX_100m/cesm2-SSP5-8.5-ocn-pop.h-POC_FLUX_100m-time-mean-753afc24686e480ead107b0e27f521b4.zarr\n",
      "making /glade/p/cgd/oce/projects/cesm2-marbl/funnel/cesm2-piControl-ocn-pop.h-POC_FLUX_100m\n",
      "\n",
      "--> The keys in the returned dictionary of datasets are constructed as follows:\n",
      "\t'component:experiment:stream'\n"
     ]
    },
    {
     "name": "stderr",
     "output_type": "stream",
     "text": [
      "Dataset(s): 100%|████████████████████████████████| 1/1 [00:01<00:00,  1.76s/it]\n"
     ]
    },
    {
     "name": "stdout",
     "output_type": "stream",
     "text": [
      "writing cache file: /glade/p/cgd/oce/projects/cesm2-marbl/funnel/cesm2-piControl-ocn-pop.h-POC_FLUX_100m/cesm2-piControl-ocn-pop.h-POC_FLUX_100m-area-mean-294ef0a2270be075de6df997340530d2.zarr\n"
     ]
    },
    {
     "name": "stderr",
     "output_type": "stream",
     "text": [
      "Dataset(s):   0%|                                        | 0/1 [00:00<?, ?it/s]"
     ]
    },
    {
     "name": "stdout",
     "output_type": "stream",
     "text": [
      "writing cache file: /glade/p/cgd/oce/projects/cesm2-marbl/funnel/cesm2-piControl-ocn-pop.h-POC_FLUX_100m/cesm2-piControl-ocn-pop.h-POC_FLUX_100m-timeseries-ann-dc1ef533967affdac7ff1871110271b5.zarr\n",
      "making /glade/p/cgd/oce/projects/cesm2-marbl/funnel/cesm2-historical-ocn-pop.h-CaCO3_FLUX_100m\n",
      "\n",
      "--> The keys in the returned dictionary of datasets are constructed as follows:\n",
      "\t'component:experiment:stream'\n"
     ]
    },
    {
     "name": "stderr",
     "output_type": "stream",
     "text": [
      "Dataset(s): 100%|████████████████████████████████| 1/1 [00:06<00:00,  6.85s/it]\n"
     ]
    },
    {
     "name": "stdout",
     "output_type": "stream",
     "text": [
      "writing cache file: /glade/p/cgd/oce/projects/cesm2-marbl/funnel/cesm2-historical-ocn-pop.h-CaCO3_FLUX_100m/cesm2-historical-ocn-pop.h-CaCO3_FLUX_100m-area-mean-294ef0a2270be075de6df997340530d2.zarr\n",
      "writing cache file: /glade/p/cgd/oce/projects/cesm2-marbl/funnel/cesm2-historical-ocn-pop.h-CaCO3_FLUX_100m/cesm2-historical-ocn-pop.h-CaCO3_FLUX_100m-timeseries-ann-dc1ef533967affdac7ff1871110271b5.zarr\n",
      "writing cache file: /glade/p/cgd/oce/projects/cesm2-marbl/funnel/cesm2-historical-ocn-pop.h-CaCO3_FLUX_100m/cesm2-historical-ocn-pop.h-CaCO3_FLUX_100m-time-mean-6fad6ce941a1c7d777b07ba4db4b0728.zarr\n",
      "making /glade/p/cgd/oce/projects/cesm2-marbl/funnel/cesm2-SSP1-2.6-ocn-pop.h-CaCO3_FLUX_100m\n",
      "\n",
      "--> The keys in the returned dictionary of datasets are constructed as follows:\n",
      "\t'component:experiment:stream'\n"
     ]
    },
    {
     "name": "stderr",
     "output_type": "stream",
     "text": [
      "Dataset(s): 100%|████████████████████████████████| 1/1 [00:00<00:00,  1.28it/s]\n"
     ]
    },
    {
     "name": "stdout",
     "output_type": "stream",
     "text": [
      "writing cache file: /glade/p/cgd/oce/projects/cesm2-marbl/funnel/cesm2-SSP1-2.6-ocn-pop.h-CaCO3_FLUX_100m/cesm2-SSP1-2.6-ocn-pop.h-CaCO3_FLUX_100m-area-mean-294ef0a2270be075de6df997340530d2.zarr\n",
      "writing cache file: /glade/p/cgd/oce/projects/cesm2-marbl/funnel/cesm2-SSP1-2.6-ocn-pop.h-CaCO3_FLUX_100m/cesm2-SSP1-2.6-ocn-pop.h-CaCO3_FLUX_100m-timeseries-ann-dc1ef533967affdac7ff1871110271b5.zarr\n"
     ]
    },
    {
     "name": "stderr",
     "output_type": "stream",
     "text": [
      "Dataset(s):   0%|                                        | 0/1 [00:00<?, ?it/s]"
     ]
    },
    {
     "name": "stdout",
     "output_type": "stream",
     "text": [
      "writing cache file: /glade/p/cgd/oce/projects/cesm2-marbl/funnel/cesm2-SSP1-2.6-ocn-pop.h-CaCO3_FLUX_100m/cesm2-SSP1-2.6-ocn-pop.h-CaCO3_FLUX_100m-time-mean-753afc24686e480ead107b0e27f521b4.zarr\n",
      "making /glade/p/cgd/oce/projects/cesm2-marbl/funnel/cesm2-SSP2-4.5-ocn-pop.h-CaCO3_FLUX_100m\n",
      "\n",
      "--> The keys in the returned dictionary of datasets are constructed as follows:\n",
      "\t'component:experiment:stream'\n"
     ]
    },
    {
     "name": "stderr",
     "output_type": "stream",
     "text": [
      "Dataset(s): 100%|████████████████████████████████| 1/1 [00:01<00:00,  1.67s/it]\n"
     ]
    },
    {
     "name": "stdout",
     "output_type": "stream",
     "text": [
      "writing cache file: /glade/p/cgd/oce/projects/cesm2-marbl/funnel/cesm2-SSP2-4.5-ocn-pop.h-CaCO3_FLUX_100m/cesm2-SSP2-4.5-ocn-pop.h-CaCO3_FLUX_100m-area-mean-294ef0a2270be075de6df997340530d2.zarr\n",
      "writing cache file: /glade/p/cgd/oce/projects/cesm2-marbl/funnel/cesm2-SSP2-4.5-ocn-pop.h-CaCO3_FLUX_100m/cesm2-SSP2-4.5-ocn-pop.h-CaCO3_FLUX_100m-timeseries-ann-dc1ef533967affdac7ff1871110271b5.zarr\n"
     ]
    },
    {
     "name": "stderr",
     "output_type": "stream",
     "text": [
      "Dataset(s):   0%|                                        | 0/1 [00:00<?, ?it/s]"
     ]
    },
    {
     "name": "stdout",
     "output_type": "stream",
     "text": [
      "writing cache file: /glade/p/cgd/oce/projects/cesm2-marbl/funnel/cesm2-SSP2-4.5-ocn-pop.h-CaCO3_FLUX_100m/cesm2-SSP2-4.5-ocn-pop.h-CaCO3_FLUX_100m-time-mean-753afc24686e480ead107b0e27f521b4.zarr\n",
      "making /glade/p/cgd/oce/projects/cesm2-marbl/funnel/cesm2-SSP3-7.0-ocn-pop.h-CaCO3_FLUX_100m\n",
      "\n",
      "--> The keys in the returned dictionary of datasets are constructed as follows:\n",
      "\t'component:experiment:stream'\n"
     ]
    },
    {
     "name": "stderr",
     "output_type": "stream",
     "text": [
      "Dataset(s): 100%|████████████████████████████████| 1/1 [00:00<00:00,  1.47it/s]\n"
     ]
    },
    {
     "name": "stdout",
     "output_type": "stream",
     "text": [
      "writing cache file: /glade/p/cgd/oce/projects/cesm2-marbl/funnel/cesm2-SSP3-7.0-ocn-pop.h-CaCO3_FLUX_100m/cesm2-SSP3-7.0-ocn-pop.h-CaCO3_FLUX_100m-area-mean-294ef0a2270be075de6df997340530d2.zarr\n",
      "writing cache file: /glade/p/cgd/oce/projects/cesm2-marbl/funnel/cesm2-SSP3-7.0-ocn-pop.h-CaCO3_FLUX_100m/cesm2-SSP3-7.0-ocn-pop.h-CaCO3_FLUX_100m-timeseries-ann-dc1ef533967affdac7ff1871110271b5.zarr\n"
     ]
    },
    {
     "name": "stderr",
     "output_type": "stream",
     "text": [
      "Dataset(s):   0%|                                        | 0/1 [00:00<?, ?it/s]"
     ]
    },
    {
     "name": "stdout",
     "output_type": "stream",
     "text": [
      "writing cache file: /glade/p/cgd/oce/projects/cesm2-marbl/funnel/cesm2-SSP3-7.0-ocn-pop.h-CaCO3_FLUX_100m/cesm2-SSP3-7.0-ocn-pop.h-CaCO3_FLUX_100m-time-mean-753afc24686e480ead107b0e27f521b4.zarr\n",
      "making /glade/p/cgd/oce/projects/cesm2-marbl/funnel/cesm2-SSP5-8.5-ocn-pop.h-CaCO3_FLUX_100m\n",
      "\n",
      "--> The keys in the returned dictionary of datasets are constructed as follows:\n",
      "\t'component:experiment:stream'\n"
     ]
    },
    {
     "name": "stderr",
     "output_type": "stream",
     "text": [
      "Dataset(s): 100%|████████████████████████████████| 1/1 [00:00<00:00,  1.56it/s]\n"
     ]
    },
    {
     "name": "stdout",
     "output_type": "stream",
     "text": [
      "writing cache file: /glade/p/cgd/oce/projects/cesm2-marbl/funnel/cesm2-SSP5-8.5-ocn-pop.h-CaCO3_FLUX_100m/cesm2-SSP5-8.5-ocn-pop.h-CaCO3_FLUX_100m-area-mean-294ef0a2270be075de6df997340530d2.zarr\n",
      "writing cache file: /glade/p/cgd/oce/projects/cesm2-marbl/funnel/cesm2-SSP5-8.5-ocn-pop.h-CaCO3_FLUX_100m/cesm2-SSP5-8.5-ocn-pop.h-CaCO3_FLUX_100m-timeseries-ann-dc1ef533967affdac7ff1871110271b5.zarr\n"
     ]
    },
    {
     "name": "stderr",
     "output_type": "stream",
     "text": [
      "Dataset(s):   0%|                                        | 0/1 [00:00<?, ?it/s]"
     ]
    },
    {
     "name": "stdout",
     "output_type": "stream",
     "text": [
      "writing cache file: /glade/p/cgd/oce/projects/cesm2-marbl/funnel/cesm2-SSP5-8.5-ocn-pop.h-CaCO3_FLUX_100m/cesm2-SSP5-8.5-ocn-pop.h-CaCO3_FLUX_100m-time-mean-753afc24686e480ead107b0e27f521b4.zarr\n",
      "making /glade/p/cgd/oce/projects/cesm2-marbl/funnel/cesm2-piControl-ocn-pop.h-CaCO3_FLUX_100m\n",
      "\n",
      "--> The keys in the returned dictionary of datasets are constructed as follows:\n",
      "\t'component:experiment:stream'\n"
     ]
    },
    {
     "name": "stderr",
     "output_type": "stream",
     "text": [
      "Dataset(s): 100%|████████████████████████████████| 1/1 [00:01<00:00,  1.83s/it]\n"
     ]
    },
    {
     "name": "stdout",
     "output_type": "stream",
     "text": [
      "writing cache file: /glade/p/cgd/oce/projects/cesm2-marbl/funnel/cesm2-piControl-ocn-pop.h-CaCO3_FLUX_100m/cesm2-piControl-ocn-pop.h-CaCO3_FLUX_100m-area-mean-294ef0a2270be075de6df997340530d2.zarr\n"
     ]
    },
    {
     "name": "stderr",
     "output_type": "stream",
     "text": [
      "Dataset(s):   0%|                                        | 0/1 [00:00<?, ?it/s]"
     ]
    },
    {
     "name": "stdout",
     "output_type": "stream",
     "text": [
      "writing cache file: /glade/p/cgd/oce/projects/cesm2-marbl/funnel/cesm2-piControl-ocn-pop.h-CaCO3_FLUX_100m/cesm2-piControl-ocn-pop.h-CaCO3_FLUX_100m-timeseries-ann-dc1ef533967affdac7ff1871110271b5.zarr\n",
      "making /glade/p/cgd/oce/projects/cesm2-marbl/funnel/cesm2-historical-ocn-pop.h-diaz_Nfix\n",
      "\n",
      "--> The keys in the returned dictionary of datasets are constructed as follows:\n",
      "\t'component:experiment:stream'\n"
     ]
    },
    {
     "name": "stderr",
     "output_type": "stream",
     "text": [
      "Dataset(s): 100%|████████████████████████████████| 1/1 [00:04<00:00,  4.63s/it]\n"
     ]
    },
    {
     "name": "stdout",
     "output_type": "stream",
     "text": [
      "warning: unknown units: mmol/m^3/s cm^2 for diaz_Nfix\n",
      "diaz_Nfix: could not determine target units, skipping\n"
     ]
    },
    {
     "name": "stderr",
     "output_type": "stream",
     "text": [
      "distributed.scheduler - ERROR - Couldn't gather keys {\"('sum-aggregate-3c782c8c95485f57decf0be5d399d26d', 9, 10, 0)\": ['tcp://10.12.205.13:41839'], \"('sum-aggregate-3c782c8c95485f57decf0be5d399d26d', 7, 14, 0)\": ['tcp://10.12.205.13:45168'], \"('sum-aggregate-3c782c8c95485f57decf0be5d399d26d', 10, 12, 0)\": ['tcp://10.12.205.13:42966'], \"('sum-aggregate-3c782c8c95485f57decf0be5d399d26d', 3, 10, 0)\": ['tcp://10.12.205.13:42966'], \"('sum-aggregate-3c782c8c95485f57decf0be5d399d26d', 1, 10, 0)\": ['tcp://10.12.205.13:42960'], \"('sum-aggregate-3c782c8c95485f57decf0be5d399d26d', 8, 1, 0)\": ['tcp://10.12.205.13:41839'], \"('sum-aggregate-3c782c8c95485f57decf0be5d399d26d', 9, 15, 0)\": ['tcp://10.12.205.13:42960'], \"('sum-aggregate-3c782c8c95485f57decf0be5d399d26d', 4, 14, 0)\": ['tcp://10.12.205.13:45168'], \"('sum-aggregate-3c782c8c95485f57decf0be5d399d26d', 8, 0, 0)\": ['tcp://10.12.205.13:45168'], \"('sum-aggregate-3c782c8c95485f57decf0be5d399d26d', 6, 4, 0)\": ['tcp://10.12.205.13:42960'], \"('sum-aggregate-3c782c8c95485f57decf0be5d399d26d', 8, 2, 0)\": ['tcp://10.12.205.13:42966'], \"('sum-aggregate-3c782c8c95485f57decf0be5d399d26d', 6, 7, 0)\": ['tcp://10.12.205.13:45168'], \"('sum-aggregate-3c782c8c95485f57decf0be5d399d26d', 9, 8, 0)\": ['tcp://10.12.205.13:45168'], \"('sum-aggregate-3c782c8c95485f57decf0be5d399d26d', 3, 5, 0)\": ['tcp://10.12.205.13:41839'], \"('sum-aggregate-3c782c8c95485f57decf0be5d399d26d', 5, 2, 0)\": ['tcp://10.12.205.13:42960'], \"('sum-aggregate-3c782c8c95485f57decf0be5d399d26d', 10, 13, 0)\": ['tcp://10.12.205.28:40345'], \"('sum-aggregate-3c782c8c95485f57decf0be5d399d26d', 1, 4, 0)\": ['tcp://10.12.205.13:45168'], \"('sum-aggregate-3c782c8c95485f57decf0be5d399d26d', 7, 1, 0)\": ['tcp://10.12.205.28:40345'], \"('sum-aggregate-3c782c8c95485f57decf0be5d399d26d', 10, 9, 0)\": ['tcp://10.12.205.13:41839'], \"('sum-aggregate-3c782c8c95485f57decf0be5d399d26d', 2, 14, 0)\": ['tcp://10.12.205.13:41839'], \"('sum-aggregate-3c782c8c95485f57decf0be5d399d26d', 2, 18, 0)\": ['tcp://10.12.205.28:40345'], \"('sum-aggregate-3c782c8c95485f57decf0be5d399d26d', 1, 16, 0)\": ['tcp://10.12.205.13:45168'], \"('sum-aggregate-3c782c8c95485f57decf0be5d399d26d', 1, 14, 0)\": ['tcp://10.12.205.13:42960'], \"('sum-aggregate-3c782c8c95485f57decf0be5d399d26d', 1, 9, 0)\": ['tcp://10.12.205.13:42960'], \"('sum-aggregate-3c782c8c95485f57decf0be5d399d26d', 2, 1, 0)\": ['tcp://10.12.205.28:40345'], \"('sum-aggregate-3c782c8c95485f57decf0be5d399d26d', 3, 2, 0)\": ['tcp://10.12.205.13:41839'], \"('sum-aggregate-3c782c8c95485f57decf0be5d399d26d', 8, 14, 0)\": ['tcp://10.12.205.13:42960'], \"('sum-aggregate-3c782c8c95485f57decf0be5d399d26d', 0, 13, 0)\": ['tcp://10.12.205.13:42966'], \"('sum-aggregate-3c782c8c95485f57decf0be5d399d26d', 6, 3, 0)\": ['tcp://10.12.205.13:42960'], \"('sum-aggregate-3c782c8c95485f57decf0be5d399d26d', 0, 5, 0)\": ['tcp://10.12.205.13:45168'], \"('sum-aggregate-3c782c8c95485f57decf0be5d399d26d', 1, 1, 0)\": ['tcp://10.12.205.28:40345'], \"('sum-aggregate-3c782c8c95485f57decf0be5d399d26d', 0, 4, 0)\": ['tcp://10.12.205.13:41839'], \"('sum-aggregate-3c782c8c95485f57decf0be5d399d26d', 1, 11, 0)\": ['tcp://10.12.205.13:42960'], \"('sum-aggregate-3c782c8c95485f57decf0be5d399d26d', 7, 13, 0)\": ['tcp://10.12.205.13:42960'], \"('sum-aggregate-3c782c8c95485f57decf0be5d399d26d', 6, 13, 0)\": ['tcp://10.12.205.13:42966'], \"('sum-aggregate-3c782c8c95485f57decf0be5d399d26d', 4, 18, 0)\": ['tcp://10.12.205.13:45168'], \"('sum-aggregate-3c782c8c95485f57decf0be5d399d26d', 4, 1, 0)\": ['tcp://10.12.205.13:42960'], \"('sum-aggregate-3c782c8c95485f57decf0be5d399d26d', 4, 2, 0)\": ['tcp://10.12.205.28:40345'], \"('sum-aggregate-3c782c8c95485f57decf0be5d399d26d', 10, 5, 0)\": ['tcp://10.12.205.13:41839'], \"('sum-aggregate-3c782c8c95485f57decf0be5d399d26d', 7, 3, 0)\": ['tcp://10.12.205.13:41839'], \"('sum-aggregate-3c782c8c95485f57decf0be5d399d26d', 10, 17, 0)\": ['tcp://10.12.205.28:40345'], \"('sum-aggregate-3c782c8c95485f57decf0be5d399d26d', 0, 0, 0)\": ['tcp://10.12.205.13:45168'], \"('sum-aggregate-3c782c8c95485f57decf0be5d399d26d', 4, 3, 0)\": ['tcp://10.12.205.13:42960'], \"('sum-aggregate-3c782c8c95485f57decf0be5d399d26d', 8, 18, 0)\": ['tcp://10.12.205.13:42966'], \"('sum-aggregate-3c782c8c95485f57decf0be5d399d26d', 5, 15, 0)\": ['tcp://10.12.205.13:41839'], \"('sum-aggregate-3c782c8c95485f57decf0be5d399d26d', 1, 3, 0)\": ['tcp://10.12.205.13:45168'], \"('sum-aggregate-3c782c8c95485f57decf0be5d399d26d', 1, 0, 0)\": ['tcp://10.12.205.13:42966'], \"('sum-aggregate-3c782c8c95485f57decf0be5d399d26d', 7, 0, 0)\": ['tcp://10.12.205.13:41839'], \"('sum-aggregate-3c782c8c95485f57decf0be5d399d26d', 9, 2, 0)\": ['tcp://10.12.205.13:45168'], \"('sum-aggregate-3c782c8c95485f57decf0be5d399d26d', 2, 12, 0)\": ['tcp://10.12.205.13:42966'], \"('sum-aggregate-3c782c8c95485f57decf0be5d399d26d', 4, 9, 0)\": ['tcp://10.12.205.13:42966'], \"('sum-aggregate-3c782c8c95485f57decf0be5d399d26d', 10, 14, 0)\": ['tcp://10.12.205.13:41839'], \"('sum-aggregate-3c782c8c95485f57decf0be5d399d26d', 0, 8, 0)\": ['tcp://10.12.205.28:40345'], \"('open_dataset-22f59958bdd0ac720004552ba9c99324time_bound-c4b87b4100c7c52ba5fb478562f71930', 6, 0)\": ['tcp://10.12.205.13:41839'], \"('sum-aggregate-3c782c8c95485f57decf0be5d399d26d', 3, 1, 0)\": ['tcp://10.12.205.13:45168'], \"('sum-aggregate-3c782c8c95485f57decf0be5d399d26d', 1, 2, 0)\": ['tcp://10.12.205.13:41839'], \"('sum-aggregate-3c782c8c95485f57decf0be5d399d26d', 1, 7, 0)\": ['tcp://10.12.205.13:42960'], \"('sum-aggregate-3c782c8c95485f57decf0be5d399d26d', 0, 3, 0)\": ['tcp://10.12.205.13:41839'], \"('sum-aggregate-3c782c8c95485f57decf0be5d399d26d', 3, 16, 0)\": ['tcp://10.12.205.13:41839'], \"('sum-aggregate-3c782c8c95485f57decf0be5d399d26d', 3, 3, 0)\": ['tcp://10.12.205.13:42966'], \"('sum-aggregate-3c782c8c95485f57decf0be5d399d26d', 2, 5, 0)\": ['tcp://10.12.205.13:42960'], \"('sum-aggregate-3c782c8c95485f57decf0be5d399d26d', 3, 12, 0)\": ['tcp://10.12.205.13:42966'], \"('sum-aggregate-3c782c8c95485f57decf0be5d399d26d', 7, 15, 0)\": ['tcp://10.12.205.13:42960'], \"('sum-aggregate-3c782c8c95485f57decf0be5d399d26d', 10, 3, 0)\": ['tcp://10.12.205.13:42960'], \"('sum-aggregate-3c782c8c95485f57decf0be5d399d26d', 7, 7, 0)\": ['tcp://10.12.205.28:40345'], \"('sum-aggregate-3c782c8c95485f57decf0be5d399d26d', 10, 15, 0)\": ['tcp://10.12.205.13:45168'], \"('sum-aggregate-3c782c8c95485f57decf0be5d399d26d', 7, 12, 0)\": ['tcp://10.12.205.28:40345'], \"('sum-aggregate-3c782c8c95485f57decf0be5d399d26d', 10, 16, 0)\": ['tcp://10.12.205.13:45168'], \"('sum-aggregate-3c782c8c95485f57decf0be5d399d26d', 9, 13, 0)\": ['tcp://10.12.205.13:41839'], \"('open_dataset-22f59958bdd0ac720004552ba9c99324time_bound-c4b87b4100c7c52ba5fb478562f71930', 3, 0)\": ['tcp://10.12.205.13:41839'], \"('sum-aggregate-3c782c8c95485f57decf0be5d399d26d', 5, 5, 0)\": ['tcp://10.12.205.13:41839'], \"('sum-aggregate-3c782c8c95485f57decf0be5d399d26d', 2, 0, 0)\": ['tcp://10.12.205.13:42960'], \"('sum-aggregate-3c782c8c95485f57decf0be5d399d26d', 0, 10, 0)\": ['tcp://10.12.205.13:42966'], \"('sum-aggregate-3c782c8c95485f57decf0be5d399d26d', 3, 9, 0)\": ['tcp://10.12.205.13:41839'], \"('sum-aggregate-3c782c8c95485f57decf0be5d399d26d', 4, 10, 0)\": ['tcp://10.12.205.13:42966'], \"('sum-aggregate-3c782c8c95485f57decf0be5d399d26d', 0, 18, 0)\": ['tcp://10.12.205.28:40345'], \"('sum-aggregate-3c782c8c95485f57decf0be5d399d26d', 7, 2, 0)\": ['tcp://10.12.205.13:42960'], \"('sum-aggregate-3c782c8c95485f57decf0be5d399d26d', 8, 16, 0)\": ['tcp://10.12.205.13:45168'], \"('sum-aggregate-3c782c8c95485f57decf0be5d399d26d', 6, 10, 0)\": ['tcp://10.12.205.13:41839'], \"('open_dataset-22f59958bdd0ac720004552ba9c99324time_bound-c4b87b4100c7c52ba5fb478562f71930', 9, 0)\": ['tcp://10.12.205.28:40345'], \"('sum-aggregate-3c782c8c95485f57decf0be5d399d26d', 6, 9, 0)\": ['tcp://10.12.205.28:40345'], \"('sum-aggregate-3c782c8c95485f57decf0be5d399d26d', 2, 11, 0)\": ['tcp://10.12.205.28:40345'], \"('sum-aggregate-3c782c8c95485f57decf0be5d399d26d', 4, 5, 0)\": ['tcp://10.12.205.13:41839'], \"('sum-aggregate-3c782c8c95485f57decf0be5d399d26d', 4, 4, 0)\": ['tcp://10.12.205.13:41839'], \"('sum-aggregate-3c782c8c95485f57decf0be5d399d26d', 9, 4, 0)\": ['tcp://10.12.205.13:41839'], \"('sum-aggregate-3c782c8c95485f57decf0be5d399d26d', 4, 11, 0)\": ['tcp://10.12.205.13:42966'], \"('sum-aggregate-3c782c8c95485f57decf0be5d399d26d', 5, 17, 0)\": ['tcp://10.12.205.28:40345']} state: ['memory', 'memory', 'memory', 'memory', 'memory', 'memory', 'memory', 'memory', 'memory', 'memory', 'memory', 'memory', 'memory', 'memory', 'memory', 'memory', 'memory', 'memory', 'memory', 'memory', 'memory', 'memory', 'memory', 'memory', 'memory', 'memory', 'memory', 'memory', 'memory', 'memory', 'memory', 'memory', 'memory', 'memory', 'memory', 'memory', 'memory', 'memory', 'memory', 'memory', 'memory', 'memory', 'memory', 'memory', 'memory', 'memory', 'memory', 'memory', 'memory', 'memory', 'memory', 'memory', 'memory', 'memory', 'memory', 'memory', 'memory', 'memory', 'memory', 'memory', 'memory', 'memory', 'memory', 'memory', 'memory', 'memory', 'memory', 'memory', 'memory', 'memory', 'memory', 'memory', 'memory', 'memory', 'memory', 'memory', 'memory', 'memory', 'memory', 'memory', 'memory', 'memory', 'memory', 'memory', 'memory', 'memory', 'memory'] workers: ['tcp://10.12.205.13:42966', 'tcp://10.12.205.13:41839', 'tcp://10.12.205.28:40345', 'tcp://10.12.205.13:42960', 'tcp://10.12.205.13:45168']\n",
      "NoneType: None\n",
      "distributed.scheduler - ERROR - Workers don't have promised key: ['tcp://10.12.205.13:41839'], ('sum-aggregate-3c782c8c95485f57decf0be5d399d26d', 9, 10, 0)\n",
      "NoneType: None\n",
      "distributed.scheduler - ERROR - Workers don't have promised key: ['tcp://10.12.205.13:45168'], ('sum-aggregate-3c782c8c95485f57decf0be5d399d26d', 7, 14, 0)\n",
      "NoneType: None\n",
      "distributed.scheduler - ERROR - Workers don't have promised key: ['tcp://10.12.205.13:42966'], ('sum-aggregate-3c782c8c95485f57decf0be5d399d26d', 10, 12, 0)\n",
      "NoneType: None\n",
      "distributed.scheduler - ERROR - Workers don't have promised key: ['tcp://10.12.205.13:42966'], ('sum-aggregate-3c782c8c95485f57decf0be5d399d26d', 3, 10, 0)\n",
      "NoneType: None\n",
      "distributed.scheduler - ERROR - Workers don't have promised key: ['tcp://10.12.205.13:42960'], ('sum-aggregate-3c782c8c95485f57decf0be5d399d26d', 1, 10, 0)\n",
      "NoneType: None\n",
      "distributed.scheduler - ERROR - Workers don't have promised key: ['tcp://10.12.205.13:41839'], ('sum-aggregate-3c782c8c95485f57decf0be5d399d26d', 8, 1, 0)\n",
      "NoneType: None\n",
      "distributed.scheduler - ERROR - Workers don't have promised key: ['tcp://10.12.205.13:42960'], ('sum-aggregate-3c782c8c95485f57decf0be5d399d26d', 9, 15, 0)\n",
      "NoneType: None\n",
      "distributed.scheduler - ERROR - Workers don't have promised key: ['tcp://10.12.205.13:45168'], ('sum-aggregate-3c782c8c95485f57decf0be5d399d26d', 4, 14, 0)\n",
      "NoneType: None\n",
      "distributed.scheduler - ERROR - Workers don't have promised key: ['tcp://10.12.205.13:45168'], ('sum-aggregate-3c782c8c95485f57decf0be5d399d26d', 8, 0, 0)\n",
      "NoneType: None\n",
      "distributed.scheduler - ERROR - Workers don't have promised key: ['tcp://10.12.205.13:42960'], ('sum-aggregate-3c782c8c95485f57decf0be5d399d26d', 6, 4, 0)\n",
      "NoneType: None\n",
      "distributed.scheduler - ERROR - Workers don't have promised key: ['tcp://10.12.205.13:42966'], ('sum-aggregate-3c782c8c95485f57decf0be5d399d26d', 8, 2, 0)\n",
      "NoneType: None\n",
      "distributed.scheduler - ERROR - Workers don't have promised key: ['tcp://10.12.205.13:45168'], ('sum-aggregate-3c782c8c95485f57decf0be5d399d26d', 6, 7, 0)\n",
      "NoneType: None\n",
      "distributed.scheduler - ERROR - Workers don't have promised key: ['tcp://10.12.205.13:45168'], ('sum-aggregate-3c782c8c95485f57decf0be5d399d26d', 9, 8, 0)\n",
      "NoneType: None\n",
      "distributed.scheduler - ERROR - Workers don't have promised key: ['tcp://10.12.205.13:41839'], ('sum-aggregate-3c782c8c95485f57decf0be5d399d26d', 3, 5, 0)\n",
      "NoneType: None\n",
      "distributed.scheduler - ERROR - Workers don't have promised key: ['tcp://10.12.205.13:42960'], ('sum-aggregate-3c782c8c95485f57decf0be5d399d26d', 5, 2, 0)\n",
      "NoneType: None\n",
      "distributed.scheduler - ERROR - Workers don't have promised key: ['tcp://10.12.205.28:40345'], ('sum-aggregate-3c782c8c95485f57decf0be5d399d26d', 10, 13, 0)\n",
      "NoneType: None\n",
      "distributed.scheduler - ERROR - Workers don't have promised key: ['tcp://10.12.205.13:45168'], ('sum-aggregate-3c782c8c95485f57decf0be5d399d26d', 1, 4, 0)\n",
      "NoneType: None\n",
      "distributed.scheduler - ERROR - Workers don't have promised key: ['tcp://10.12.205.28:40345'], ('sum-aggregate-3c782c8c95485f57decf0be5d399d26d', 7, 1, 0)\n",
      "NoneType: None\n",
      "distributed.scheduler - ERROR - Workers don't have promised key: ['tcp://10.12.205.13:41839'], ('sum-aggregate-3c782c8c95485f57decf0be5d399d26d', 10, 9, 0)\n",
      "NoneType: None\n",
      "distributed.scheduler - ERROR - Workers don't have promised key: ['tcp://10.12.205.13:41839'], ('sum-aggregate-3c782c8c95485f57decf0be5d399d26d', 2, 14, 0)\n",
      "NoneType: None\n",
      "distributed.scheduler - ERROR - Workers don't have promised key: ['tcp://10.12.205.28:40345'], ('sum-aggregate-3c782c8c95485f57decf0be5d399d26d', 2, 18, 0)\n",
      "NoneType: None\n",
      "distributed.scheduler - ERROR - Workers don't have promised key: ['tcp://10.12.205.13:45168'], ('sum-aggregate-3c782c8c95485f57decf0be5d399d26d', 1, 16, 0)\n",
      "NoneType: None\n",
      "distributed.scheduler - ERROR - Workers don't have promised key: ['tcp://10.12.205.13:42960'], ('sum-aggregate-3c782c8c95485f57decf0be5d399d26d', 1, 14, 0)\n",
      "NoneType: None\n",
      "distributed.scheduler - ERROR - Workers don't have promised key: ['tcp://10.12.205.13:42960'], ('sum-aggregate-3c782c8c95485f57decf0be5d399d26d', 1, 9, 0)\n",
      "NoneType: None\n",
      "distributed.scheduler - ERROR - Workers don't have promised key: ['tcp://10.12.205.28:40345'], ('sum-aggregate-3c782c8c95485f57decf0be5d399d26d', 2, 1, 0)\n",
      "NoneType: None\n",
      "distributed.scheduler - ERROR - Workers don't have promised key: ['tcp://10.12.205.13:41839'], ('sum-aggregate-3c782c8c95485f57decf0be5d399d26d', 3, 2, 0)\n",
      "NoneType: None\n",
      "distributed.scheduler - ERROR - Workers don't have promised key: ['tcp://10.12.205.13:42960'], ('sum-aggregate-3c782c8c95485f57decf0be5d399d26d', 8, 14, 0)\n",
      "NoneType: None\n",
      "distributed.scheduler - ERROR - Workers don't have promised key: ['tcp://10.12.205.13:42966'], ('sum-aggregate-3c782c8c95485f57decf0be5d399d26d', 0, 13, 0)\n",
      "NoneType: None\n",
      "distributed.scheduler - ERROR - Workers don't have promised key: ['tcp://10.12.205.13:42960'], ('sum-aggregate-3c782c8c95485f57decf0be5d399d26d', 6, 3, 0)\n",
      "NoneType: None\n",
      "distributed.scheduler - ERROR - Workers don't have promised key: ['tcp://10.12.205.13:45168'], ('sum-aggregate-3c782c8c95485f57decf0be5d399d26d', 0, 5, 0)\n",
      "NoneType: None\n",
      "distributed.scheduler - ERROR - Workers don't have promised key: ['tcp://10.12.205.28:40345'], ('sum-aggregate-3c782c8c95485f57decf0be5d399d26d', 1, 1, 0)\n",
      "NoneType: None\n",
      "distributed.scheduler - ERROR - Workers don't have promised key: ['tcp://10.12.205.13:41839'], ('sum-aggregate-3c782c8c95485f57decf0be5d399d26d', 0, 4, 0)\n",
      "NoneType: None\n",
      "distributed.scheduler - ERROR - Workers don't have promised key: ['tcp://10.12.205.13:42960'], ('sum-aggregate-3c782c8c95485f57decf0be5d399d26d', 1, 11, 0)\n",
      "NoneType: None\n",
      "distributed.scheduler - ERROR - Workers don't have promised key: ['tcp://10.12.205.13:42960'], ('sum-aggregate-3c782c8c95485f57decf0be5d399d26d', 7, 13, 0)\n",
      "NoneType: None\n",
      "distributed.scheduler - ERROR - Workers don't have promised key: ['tcp://10.12.205.13:42966'], ('sum-aggregate-3c782c8c95485f57decf0be5d399d26d', 6, 13, 0)\n",
      "NoneType: None\n",
      "distributed.scheduler - ERROR - Workers don't have promised key: ['tcp://10.12.205.13:45168'], ('sum-aggregate-3c782c8c95485f57decf0be5d399d26d', 4, 18, 0)\n",
      "NoneType: None\n",
      "distributed.scheduler - ERROR - Workers don't have promised key: ['tcp://10.12.205.13:42960'], ('sum-aggregate-3c782c8c95485f57decf0be5d399d26d', 4, 1, 0)\n",
      "NoneType: None\n",
      "distributed.scheduler - ERROR - Workers don't have promised key: ['tcp://10.12.205.28:40345'], ('sum-aggregate-3c782c8c95485f57decf0be5d399d26d', 4, 2, 0)\n",
      "NoneType: None\n",
      "distributed.scheduler - ERROR - Workers don't have promised key: ['tcp://10.12.205.13:41839'], ('sum-aggregate-3c782c8c95485f57decf0be5d399d26d', 10, 5, 0)\n",
      "NoneType: None\n",
      "distributed.scheduler - ERROR - Workers don't have promised key: ['tcp://10.12.205.13:41839'], ('sum-aggregate-3c782c8c95485f57decf0be5d399d26d', 7, 3, 0)\n",
      "NoneType: None\n",
      "distributed.scheduler - ERROR - Workers don't have promised key: ['tcp://10.12.205.28:40345'], ('sum-aggregate-3c782c8c95485f57decf0be5d399d26d', 10, 17, 0)\n",
      "NoneType: None\n",
      "distributed.scheduler - ERROR - Workers don't have promised key: ['tcp://10.12.205.13:45168'], ('sum-aggregate-3c782c8c95485f57decf0be5d399d26d', 0, 0, 0)\n",
      "NoneType: None\n",
      "distributed.scheduler - ERROR - Workers don't have promised key: ['tcp://10.12.205.13:42960'], ('sum-aggregate-3c782c8c95485f57decf0be5d399d26d', 4, 3, 0)\n",
      "NoneType: None\n",
      "distributed.scheduler - ERROR - Workers don't have promised key: ['tcp://10.12.205.13:42966'], ('sum-aggregate-3c782c8c95485f57decf0be5d399d26d', 8, 18, 0)\n",
      "NoneType: None\n",
      "distributed.scheduler - ERROR - Workers don't have promised key: ['tcp://10.12.205.13:41839'], ('sum-aggregate-3c782c8c95485f57decf0be5d399d26d', 5, 15, 0)\n",
      "NoneType: None\n",
      "distributed.scheduler - ERROR - Workers don't have promised key: ['tcp://10.12.205.13:45168'], ('sum-aggregate-3c782c8c95485f57decf0be5d399d26d', 1, 3, 0)\n",
      "NoneType: None\n",
      "distributed.scheduler - ERROR - Workers don't have promised key: ['tcp://10.12.205.13:42966'], ('sum-aggregate-3c782c8c95485f57decf0be5d399d26d', 1, 0, 0)\n",
      "NoneType: None\n",
      "distributed.scheduler - ERROR - Workers don't have promised key: ['tcp://10.12.205.13:41839'], ('sum-aggregate-3c782c8c95485f57decf0be5d399d26d', 7, 0, 0)\n",
      "NoneType: None\n",
      "distributed.scheduler - ERROR - Workers don't have promised key: ['tcp://10.12.205.13:45168'], ('sum-aggregate-3c782c8c95485f57decf0be5d399d26d', 9, 2, 0)\n",
      "NoneType: None\n",
      "distributed.scheduler - ERROR - Workers don't have promised key: ['tcp://10.12.205.13:42966'], ('sum-aggregate-3c782c8c95485f57decf0be5d399d26d', 2, 12, 0)\n",
      "NoneType: None\n",
      "distributed.scheduler - ERROR - Workers don't have promised key: ['tcp://10.12.205.13:42966'], ('sum-aggregate-3c782c8c95485f57decf0be5d399d26d', 4, 9, 0)\n",
      "NoneType: None\n",
      "distributed.scheduler - ERROR - Workers don't have promised key: ['tcp://10.12.205.13:41839'], ('sum-aggregate-3c782c8c95485f57decf0be5d399d26d', 10, 14, 0)\n",
      "NoneType: None\n",
      "distributed.scheduler - ERROR - Workers don't have promised key: ['tcp://10.12.205.28:40345'], ('sum-aggregate-3c782c8c95485f57decf0be5d399d26d', 0, 8, 0)\n",
      "NoneType: None\n",
      "distributed.scheduler - ERROR - Workers don't have promised key: ['tcp://10.12.205.13:41839'], ('open_dataset-22f59958bdd0ac720004552ba9c99324time_bound-c4b87b4100c7c52ba5fb478562f71930', 6, 0)\n",
      "NoneType: None\n",
      "distributed.scheduler - ERROR - Workers don't have promised key: ['tcp://10.12.205.13:45168'], ('sum-aggregate-3c782c8c95485f57decf0be5d399d26d', 3, 1, 0)\n",
      "NoneType: None\n",
      "distributed.scheduler - ERROR - Workers don't have promised key: ['tcp://10.12.205.13:41839'], ('sum-aggregate-3c782c8c95485f57decf0be5d399d26d', 1, 2, 0)\n",
      "NoneType: None\n",
      "distributed.scheduler - ERROR - Workers don't have promised key: ['tcp://10.12.205.13:42960'], ('sum-aggregate-3c782c8c95485f57decf0be5d399d26d', 1, 7, 0)\n",
      "NoneType: None\n",
      "distributed.scheduler - ERROR - Workers don't have promised key: ['tcp://10.12.205.13:41839'], ('sum-aggregate-3c782c8c95485f57decf0be5d399d26d', 0, 3, 0)\n",
      "NoneType: None\n",
      "distributed.scheduler - ERROR - Workers don't have promised key: ['tcp://10.12.205.13:41839'], ('sum-aggregate-3c782c8c95485f57decf0be5d399d26d', 3, 16, 0)\n",
      "NoneType: None\n",
      "distributed.scheduler - ERROR - Workers don't have promised key: ['tcp://10.12.205.13:42966'], ('sum-aggregate-3c782c8c95485f57decf0be5d399d26d', 3, 3, 0)\n",
      "NoneType: None\n",
      "distributed.scheduler - ERROR - Workers don't have promised key: ['tcp://10.12.205.13:42960'], ('sum-aggregate-3c782c8c95485f57decf0be5d399d26d', 2, 5, 0)\n",
      "NoneType: None\n",
      "distributed.scheduler - ERROR - Workers don't have promised key: ['tcp://10.12.205.13:42966'], ('sum-aggregate-3c782c8c95485f57decf0be5d399d26d', 3, 12, 0)\n",
      "NoneType: None\n",
      "distributed.scheduler - ERROR - Workers don't have promised key: ['tcp://10.12.205.13:42960'], ('sum-aggregate-3c782c8c95485f57decf0be5d399d26d', 7, 15, 0)\n",
      "NoneType: None\n",
      "distributed.scheduler - ERROR - Workers don't have promised key: ['tcp://10.12.205.13:42960'], ('sum-aggregate-3c782c8c95485f57decf0be5d399d26d', 10, 3, 0)\n",
      "NoneType: None\n",
      "distributed.scheduler - ERROR - Workers don't have promised key: ['tcp://10.12.205.28:40345'], ('sum-aggregate-3c782c8c95485f57decf0be5d399d26d', 7, 7, 0)\n",
      "NoneType: None\n",
      "distributed.scheduler - ERROR - Workers don't have promised key: ['tcp://10.12.205.13:45168'], ('sum-aggregate-3c782c8c95485f57decf0be5d399d26d', 10, 15, 0)\n",
      "NoneType: None\n",
      "distributed.scheduler - ERROR - Workers don't have promised key: ['tcp://10.12.205.28:40345'], ('sum-aggregate-3c782c8c95485f57decf0be5d399d26d', 7, 12, 0)\n",
      "NoneType: None\n",
      "distributed.scheduler - ERROR - Workers don't have promised key: ['tcp://10.12.205.13:45168'], ('sum-aggregate-3c782c8c95485f57decf0be5d399d26d', 10, 16, 0)\n",
      "NoneType: None\n",
      "distributed.scheduler - ERROR - Workers don't have promised key: ['tcp://10.12.205.13:41839'], ('sum-aggregate-3c782c8c95485f57decf0be5d399d26d', 9, 13, 0)\n",
      "NoneType: None\n",
      "distributed.scheduler - ERROR - Workers don't have promised key: ['tcp://10.12.205.13:41839'], ('open_dataset-22f59958bdd0ac720004552ba9c99324time_bound-c4b87b4100c7c52ba5fb478562f71930', 3, 0)\n",
      "NoneType: None\n",
      "distributed.scheduler - ERROR - Workers don't have promised key: ['tcp://10.12.205.13:41839'], ('sum-aggregate-3c782c8c95485f57decf0be5d399d26d', 5, 5, 0)\n",
      "NoneType: None\n",
      "distributed.scheduler - ERROR - Workers don't have promised key: ['tcp://10.12.205.13:42960'], ('sum-aggregate-3c782c8c95485f57decf0be5d399d26d', 2, 0, 0)\n",
      "NoneType: None\n",
      "distributed.scheduler - ERROR - Workers don't have promised key: ['tcp://10.12.205.13:42966'], ('sum-aggregate-3c782c8c95485f57decf0be5d399d26d', 0, 10, 0)\n",
      "NoneType: None\n",
      "distributed.scheduler - ERROR - Workers don't have promised key: ['tcp://10.12.205.13:41839'], ('sum-aggregate-3c782c8c95485f57decf0be5d399d26d', 3, 9, 0)\n",
      "NoneType: None\n",
      "distributed.scheduler - ERROR - Workers don't have promised key: ['tcp://10.12.205.13:42966'], ('sum-aggregate-3c782c8c95485f57decf0be5d399d26d', 4, 10, 0)\n",
      "NoneType: None\n",
      "distributed.scheduler - ERROR - Workers don't have promised key: ['tcp://10.12.205.28:40345'], ('sum-aggregate-3c782c8c95485f57decf0be5d399d26d', 0, 18, 0)\n",
      "NoneType: None\n",
      "distributed.scheduler - ERROR - Workers don't have promised key: ['tcp://10.12.205.13:42960'], ('sum-aggregate-3c782c8c95485f57decf0be5d399d26d', 7, 2, 0)\n",
      "NoneType: None\n",
      "distributed.scheduler - ERROR - Workers don't have promised key: ['tcp://10.12.205.13:45168'], ('sum-aggregate-3c782c8c95485f57decf0be5d399d26d', 8, 16, 0)\n",
      "NoneType: None\n",
      "distributed.scheduler - ERROR - Workers don't have promised key: ['tcp://10.12.205.13:41839'], ('sum-aggregate-3c782c8c95485f57decf0be5d399d26d', 6, 10, 0)\n",
      "NoneType: None\n",
      "distributed.scheduler - ERROR - Workers don't have promised key: ['tcp://10.12.205.28:40345'], ('open_dataset-22f59958bdd0ac720004552ba9c99324time_bound-c4b87b4100c7c52ba5fb478562f71930', 9, 0)\n",
      "NoneType: None\n",
      "distributed.scheduler - ERROR - Workers don't have promised key: ['tcp://10.12.205.28:40345'], ('sum-aggregate-3c782c8c95485f57decf0be5d399d26d', 6, 9, 0)\n",
      "NoneType: None\n",
      "distributed.scheduler - ERROR - Workers don't have promised key: ['tcp://10.12.205.28:40345'], ('sum-aggregate-3c782c8c95485f57decf0be5d399d26d', 2, 11, 0)\n",
      "NoneType: None\n",
      "distributed.scheduler - ERROR - Workers don't have promised key: ['tcp://10.12.205.13:41839'], ('sum-aggregate-3c782c8c95485f57decf0be5d399d26d', 4, 5, 0)\n",
      "NoneType: None\n",
      "distributed.scheduler - ERROR - Workers don't have promised key: ['tcp://10.12.205.13:41839'], ('sum-aggregate-3c782c8c95485f57decf0be5d399d26d', 4, 4, 0)\n",
      "NoneType: None\n",
      "distributed.scheduler - ERROR - Workers don't have promised key: ['tcp://10.12.205.13:41839'], ('sum-aggregate-3c782c8c95485f57decf0be5d399d26d', 9, 4, 0)\n",
      "NoneType: None\n",
      "distributed.scheduler - ERROR - Workers don't have promised key: ['tcp://10.12.205.13:42966'], ('sum-aggregate-3c782c8c95485f57decf0be5d399d26d', 4, 11, 0)\n",
      "NoneType: None\n",
      "distributed.scheduler - ERROR - Workers don't have promised key: ['tcp://10.12.205.28:40345'], ('sum-aggregate-3c782c8c95485f57decf0be5d399d26d', 5, 17, 0)\n",
      "NoneType: None\n"
     ]
    },
    {
     "name": "stdout",
     "output_type": "stream",
     "text": [
      "writing cache file: /glade/p/cgd/oce/projects/cesm2-marbl/funnel/cesm2-historical-ocn-pop.h-diaz_Nfix/cesm2-historical-ocn-pop.h-diaz_Nfix-area-mean-294ef0a2270be075de6df997340530d2.zarr\n",
      "writing cache file: /glade/p/cgd/oce/projects/cesm2-marbl/funnel/cesm2-historical-ocn-pop.h-diaz_Nfix/cesm2-historical-ocn-pop.h-diaz_Nfix-timeseries-ann-dc1ef533967affdac7ff1871110271b5.zarr\n",
      "warning: unknown units: mmol/m^3/s for diaz_Nfix\n",
      "diaz_Nfix: could not determine target units, skipping\n",
      "writing cache file: /glade/p/cgd/oce/projects/cesm2-marbl/funnel/cesm2-historical-ocn-pop.h-diaz_Nfix/cesm2-historical-ocn-pop.h-diaz_Nfix-time-mean-6fad6ce941a1c7d777b07ba4db4b0728.zarr\n"
     ]
    },
    {
     "name": "stderr",
     "output_type": "stream",
     "text": [
      "Dataset(s):   0%|                                        | 0/1 [00:00<?, ?it/s]"
     ]
    },
    {
     "name": "stdout",
     "output_type": "stream",
     "text": [
      "making /glade/p/cgd/oce/projects/cesm2-marbl/funnel/cesm2-SSP1-2.6-ocn-pop.h-diaz_Nfix\n",
      "\n",
      "--> The keys in the returned dictionary of datasets are constructed as follows:\n",
      "\t'component:experiment:stream'\n"
     ]
    },
    {
     "name": "stderr",
     "output_type": "stream",
     "text": [
      "Dataset(s): 100%|████████████████████████████████| 1/1 [00:00<00:00,  1.52it/s]\n"
     ]
    },
    {
     "name": "stdout",
     "output_type": "stream",
     "text": [
      "warning: unknown units: mmol/m^3/s cm^2 for diaz_Nfix\n",
      "diaz_Nfix: could not determine target units, skipping\n",
      "writing cache file: /glade/p/cgd/oce/projects/cesm2-marbl/funnel/cesm2-SSP1-2.6-ocn-pop.h-diaz_Nfix/cesm2-SSP1-2.6-ocn-pop.h-diaz_Nfix-area-mean-294ef0a2270be075de6df997340530d2.zarr\n",
      "writing cache file: /glade/p/cgd/oce/projects/cesm2-marbl/funnel/cesm2-SSP1-2.6-ocn-pop.h-diaz_Nfix/cesm2-SSP1-2.6-ocn-pop.h-diaz_Nfix-timeseries-ann-dc1ef533967affdac7ff1871110271b5.zarr\n",
      "warning: unknown units: mmol/m^3/s for diaz_Nfix\n",
      "diaz_Nfix: could not determine target units, skipping\n",
      "writing cache file: /glade/p/cgd/oce/projects/cesm2-marbl/funnel/cesm2-SSP1-2.6-ocn-pop.h-diaz_Nfix/cesm2-SSP1-2.6-ocn-pop.h-diaz_Nfix-time-mean-753afc24686e480ead107b0e27f521b4.zarr\n",
      "making /glade/p/cgd/oce/projects/cesm2-marbl/funnel/cesm2-SSP2-4.5-ocn-pop.h-diaz_Nfix\n",
      "\n",
      "--> The keys in the returned dictionary of datasets are constructed as follows:\n",
      "\t'component:experiment:stream'\n"
     ]
    },
    {
     "name": "stderr",
     "output_type": "stream",
     "text": [
      "Dataset(s): 100%|████████████████████████████████| 1/1 [00:00<00:00,  1.01it/s]\n"
     ]
    },
    {
     "name": "stdout",
     "output_type": "stream",
     "text": [
      "warning: unknown units: mmol/m^3/s cm^2 for diaz_Nfix\n",
      "diaz_Nfix: could not determine target units, skipping\n"
     ]
    },
    {
     "name": "stderr",
     "output_type": "stream",
     "text": [
      "distributed.utils - ERROR - \n",
      "Traceback (most recent call last):\n",
      "  File \"/glade/work/mclong/miniconda3/envs/cesm2-marbl/lib/python3.7/site-packages/distributed/utils.py\", line 665, in log_errors\n",
      "    yield\n",
      "  File \"/glade/work/mclong/miniconda3/envs/cesm2-marbl/lib/python3.7/site-packages/distributed/scheduler.py\", line 3445, in retire_workers\n",
      "    lock=False,\n",
      "  File \"/glade/work/mclong/miniconda3/envs/cesm2-marbl/lib/python3.7/site-packages/distributed/scheduler.py\", line 3199, in replicate\n",
      "    assert count > 0\n",
      "AssertionError\n",
      "distributed.core - ERROR - \n",
      "Traceback (most recent call last):\n",
      "  File \"/glade/work/mclong/miniconda3/envs/cesm2-marbl/lib/python3.7/site-packages/distributed/core.py\", line 411, in handle_comm\n",
      "    result = await result\n",
      "  File \"/glade/work/mclong/miniconda3/envs/cesm2-marbl/lib/python3.7/site-packages/distributed/scheduler.py\", line 3445, in retire_workers\n",
      "    lock=False,\n",
      "  File \"/glade/work/mclong/miniconda3/envs/cesm2-marbl/lib/python3.7/site-packages/distributed/scheduler.py\", line 3199, in replicate\n",
      "    assert count > 0\n",
      "AssertionError\n",
      "distributed.utils - ERROR - \n",
      "Traceback (most recent call last):\n",
      "  File \"/glade/work/mclong/miniconda3/envs/cesm2-marbl/lib/python3.7/site-packages/distributed/utils.py\", line 665, in log_errors\n",
      "    yield\n",
      "  File \"/glade/work/mclong/miniconda3/envs/cesm2-marbl/lib/python3.7/site-packages/distributed/deploy/adaptive.py\", line 186, in scale_down\n",
      "    names=workers, remove=True, close_workers=True\n",
      "  File \"/glade/work/mclong/miniconda3/envs/cesm2-marbl/lib/python3.7/site-packages/distributed/core.py\", line 687, in send_recv_from_rpc\n",
      "    result = await send_recv(comm=comm, op=key, **kwargs)\n",
      "  File \"/glade/work/mclong/miniconda3/envs/cesm2-marbl/lib/python3.7/site-packages/distributed/core.py\", line 557, in send_recv\n",
      "    raise exc.with_traceback(tb)\n",
      "  File \"/glade/work/mclong/miniconda3/envs/cesm2-marbl/lib/python3.7/site-packages/distributed/core.py\", line 411, in handle_comm\n",
      "    result = await result\n",
      "  File \"/glade/work/mclong/miniconda3/envs/cesm2-marbl/lib/python3.7/site-packages/distributed/scheduler.py\", line 3445, in retire_workers\n",
      "    lock=False,\n",
      "  File \"/glade/work/mclong/miniconda3/envs/cesm2-marbl/lib/python3.7/site-packages/distributed/scheduler.py\", line 3199, in replicate\n",
      "    assert count > 0\n",
      "AssertionError\n",
      "tornado.application - ERROR - Exception in callback functools.partial(<bound method IOLoop._discard_future_result of <zmq.eventloop.ioloop.ZMQIOLoop object at 0x2b98cbb38790>>, <Task finished coro=<AdaptiveCore.adapt() done, defined at /glade/work/mclong/miniconda3/envs/cesm2-marbl/lib/python3.7/site-packages/distributed/deploy/adaptive_core.py:170> exception=AssertionError()>)\n",
      "Traceback (most recent call last):\n",
      "  File \"/glade/work/mclong/miniconda3/envs/cesm2-marbl/lib/python3.7/site-packages/tornado/ioloop.py\", line 743, in _run_callback\n",
      "    ret = callback()\n",
      "  File \"/glade/work/mclong/miniconda3/envs/cesm2-marbl/lib/python3.7/site-packages/tornado/ioloop.py\", line 767, in _discard_future_result\n",
      "    future.result()\n",
      "  File \"/glade/work/mclong/miniconda3/envs/cesm2-marbl/lib/python3.7/site-packages/distributed/deploy/adaptive_core.py\", line 194, in adapt\n",
      "    await self.scale_down(**recommendations)\n",
      "  File \"/glade/work/mclong/miniconda3/envs/cesm2-marbl/lib/python3.7/site-packages/distributed/deploy/adaptive.py\", line 186, in scale_down\n",
      "    names=workers, remove=True, close_workers=True\n",
      "  File \"/glade/work/mclong/miniconda3/envs/cesm2-marbl/lib/python3.7/site-packages/distributed/core.py\", line 687, in send_recv_from_rpc\n",
      "    result = await send_recv(comm=comm, op=key, **kwargs)\n",
      "  File \"/glade/work/mclong/miniconda3/envs/cesm2-marbl/lib/python3.7/site-packages/distributed/core.py\", line 557, in send_recv\n",
      "    raise exc.with_traceback(tb)\n",
      "  File \"/glade/work/mclong/miniconda3/envs/cesm2-marbl/lib/python3.7/site-packages/distributed/core.py\", line 411, in handle_comm\n",
      "    result = await result\n",
      "  File \"/glade/work/mclong/miniconda3/envs/cesm2-marbl/lib/python3.7/site-packages/distributed/scheduler.py\", line 3445, in retire_workers\n",
      "    lock=False,\n",
      "  File \"/glade/work/mclong/miniconda3/envs/cesm2-marbl/lib/python3.7/site-packages/distributed/scheduler.py\", line 3199, in replicate\n",
      "    assert count > 0\n",
      "AssertionError\n"
     ]
    },
    {
     "name": "stdout",
     "output_type": "stream",
     "text": [
      "writing cache file: /glade/p/cgd/oce/projects/cesm2-marbl/funnel/cesm2-SSP2-4.5-ocn-pop.h-diaz_Nfix/cesm2-SSP2-4.5-ocn-pop.h-diaz_Nfix-area-mean-294ef0a2270be075de6df997340530d2.zarr\n",
      "writing cache file: /glade/p/cgd/oce/projects/cesm2-marbl/funnel/cesm2-SSP2-4.5-ocn-pop.h-diaz_Nfix/cesm2-SSP2-4.5-ocn-pop.h-diaz_Nfix-timeseries-ann-dc1ef533967affdac7ff1871110271b5.zarr\n",
      "warning: unknown units: mmol/m^3/s for diaz_Nfix\n",
      "diaz_Nfix: could not determine target units, skipping\n",
      "writing cache file: /glade/p/cgd/oce/projects/cesm2-marbl/funnel/cesm2-SSP2-4.5-ocn-pop.h-diaz_Nfix/cesm2-SSP2-4.5-ocn-pop.h-diaz_Nfix-time-mean-753afc24686e480ead107b0e27f521b4.zarr\n"
     ]
    },
    {
     "name": "stderr",
     "output_type": "stream",
     "text": [
      "Dataset(s):   0%|                                        | 0/1 [00:00<?, ?it/s]"
     ]
    },
    {
     "name": "stdout",
     "output_type": "stream",
     "text": [
      "making /glade/p/cgd/oce/projects/cesm2-marbl/funnel/cesm2-SSP3-7.0-ocn-pop.h-diaz_Nfix\n",
      "\n",
      "--> The keys in the returned dictionary of datasets are constructed as follows:\n",
      "\t'component:experiment:stream'\n"
     ]
    },
    {
     "name": "stderr",
     "output_type": "stream",
     "text": [
      "Dataset(s): 100%|████████████████████████████████| 1/1 [00:00<00:00,  1.17it/s]\n"
     ]
    },
    {
     "name": "stdout",
     "output_type": "stream",
     "text": [
      "warning: unknown units: mmol/m^3/s cm^2 for diaz_Nfix\n",
      "diaz_Nfix: could not determine target units, skipping\n",
      "writing cache file: /glade/p/cgd/oce/projects/cesm2-marbl/funnel/cesm2-SSP3-7.0-ocn-pop.h-diaz_Nfix/cesm2-SSP3-7.0-ocn-pop.h-diaz_Nfix-area-mean-294ef0a2270be075de6df997340530d2.zarr\n",
      "writing cache file: /glade/p/cgd/oce/projects/cesm2-marbl/funnel/cesm2-SSP3-7.0-ocn-pop.h-diaz_Nfix/cesm2-SSP3-7.0-ocn-pop.h-diaz_Nfix-timeseries-ann-dc1ef533967affdac7ff1871110271b5.zarr\n",
      "warning: unknown units: mmol/m^3/s for diaz_Nfix\n",
      "diaz_Nfix: could not determine target units, skipping\n",
      "writing cache file: /glade/p/cgd/oce/projects/cesm2-marbl/funnel/cesm2-SSP3-7.0-ocn-pop.h-diaz_Nfix/cesm2-SSP3-7.0-ocn-pop.h-diaz_Nfix-time-mean-753afc24686e480ead107b0e27f521b4.zarr\n"
     ]
    },
    {
     "name": "stderr",
     "output_type": "stream",
     "text": [
      "Dataset(s):   0%|                                        | 0/1 [00:00<?, ?it/s]"
     ]
    },
    {
     "name": "stdout",
     "output_type": "stream",
     "text": [
      "making /glade/p/cgd/oce/projects/cesm2-marbl/funnel/cesm2-SSP5-8.5-ocn-pop.h-diaz_Nfix\n",
      "\n",
      "--> The keys in the returned dictionary of datasets are constructed as follows:\n",
      "\t'component:experiment:stream'\n"
     ]
    },
    {
     "name": "stderr",
     "output_type": "stream",
     "text": [
      "Dataset(s): 100%|████████████████████████████████| 1/1 [00:01<00:00,  1.06s/it]\n"
     ]
    },
    {
     "name": "stdout",
     "output_type": "stream",
     "text": [
      "warning: unknown units: mmol/m^3/s cm^2 for diaz_Nfix\n",
      "diaz_Nfix: could not determine target units, skipping\n",
      "writing cache file: /glade/p/cgd/oce/projects/cesm2-marbl/funnel/cesm2-SSP5-8.5-ocn-pop.h-diaz_Nfix/cesm2-SSP5-8.5-ocn-pop.h-diaz_Nfix-area-mean-294ef0a2270be075de6df997340530d2.zarr\n",
      "writing cache file: /glade/p/cgd/oce/projects/cesm2-marbl/funnel/cesm2-SSP5-8.5-ocn-pop.h-diaz_Nfix/cesm2-SSP5-8.5-ocn-pop.h-diaz_Nfix-timeseries-ann-dc1ef533967affdac7ff1871110271b5.zarr\n",
      "warning: unknown units: mmol/m^3/s for diaz_Nfix\n",
      "diaz_Nfix: could not determine target units, skipping\n",
      "writing cache file: /glade/p/cgd/oce/projects/cesm2-marbl/funnel/cesm2-SSP5-8.5-ocn-pop.h-diaz_Nfix/cesm2-SSP5-8.5-ocn-pop.h-diaz_Nfix-time-mean-753afc24686e480ead107b0e27f521b4.zarr\n"
     ]
    },
    {
     "name": "stderr",
     "output_type": "stream",
     "text": [
      "Dataset(s):   0%|                                        | 0/1 [00:00<?, ?it/s]"
     ]
    },
    {
     "name": "stdout",
     "output_type": "stream",
     "text": [
      "making /glade/p/cgd/oce/projects/cesm2-marbl/funnel/cesm2-piControl-ocn-pop.h-diaz_Nfix\n",
      "\n",
      "--> The keys in the returned dictionary of datasets are constructed as follows:\n",
      "\t'component:experiment:stream'\n"
     ]
    },
    {
     "name": "stderr",
     "output_type": "stream",
     "text": [
      "Dataset(s): 100%|████████████████████████████████| 1/1 [00:03<00:00,  3.75s/it]\n"
     ]
    },
    {
     "name": "stdout",
     "output_type": "stream",
     "text": [
      "warning: unknown units: mmol/m^3/s cm^2 for diaz_Nfix\n",
      "diaz_Nfix: could not determine target units, skipping\n",
      "writing cache file: /glade/p/cgd/oce/projects/cesm2-marbl/funnel/cesm2-piControl-ocn-pop.h-diaz_Nfix/cesm2-piControl-ocn-pop.h-diaz_Nfix-area-mean-294ef0a2270be075de6df997340530d2.zarr\n"
     ]
    },
    {
     "name": "stderr",
     "output_type": "stream",
     "text": [
      "Dataset(s):   0%|                                        | 0/1 [00:00<?, ?it/s]"
     ]
    },
    {
     "name": "stdout",
     "output_type": "stream",
     "text": [
      "writing cache file: /glade/p/cgd/oce/projects/cesm2-marbl/funnel/cesm2-piControl-ocn-pop.h-diaz_Nfix/cesm2-piControl-ocn-pop.h-diaz_Nfix-timeseries-ann-dc1ef533967affdac7ff1871110271b5.zarr\n",
      "making /glade/p/cgd/oce/projects/cesm2-marbl/funnel/cesm2-historical-ocn-pop.h-NOx_FLUX\n",
      "\n",
      "--> The keys in the returned dictionary of datasets are constructed as follows:\n",
      "\t'component:experiment:stream'\n"
     ]
    },
    {
     "name": "stderr",
     "output_type": "stream",
     "text": [
      "Dataset(s): 100%|████████████████████████████████| 1/1 [00:05<00:00,  5.15s/it]\n"
     ]
    },
    {
     "name": "stdout",
     "output_type": "stream",
     "text": [
      "writing cache file: /glade/p/cgd/oce/projects/cesm2-marbl/funnel/cesm2-historical-ocn-pop.h-NOx_FLUX/cesm2-historical-ocn-pop.h-NOx_FLUX-area-mean-294ef0a2270be075de6df997340530d2.zarr\n",
      "writing cache file: /glade/p/cgd/oce/projects/cesm2-marbl/funnel/cesm2-historical-ocn-pop.h-NOx_FLUX/cesm2-historical-ocn-pop.h-NOx_FLUX-timeseries-ann-dc1ef533967affdac7ff1871110271b5.zarr\n"
     ]
    },
    {
     "name": "stderr",
     "output_type": "stream",
     "text": [
      "Dataset(s):   0%|                                        | 0/1 [00:00<?, ?it/s]"
     ]
    },
    {
     "name": "stdout",
     "output_type": "stream",
     "text": [
      "writing cache file: /glade/p/cgd/oce/projects/cesm2-marbl/funnel/cesm2-historical-ocn-pop.h-NOx_FLUX/cesm2-historical-ocn-pop.h-NOx_FLUX-time-mean-6fad6ce941a1c7d777b07ba4db4b0728.zarr\n",
      "making /glade/p/cgd/oce/projects/cesm2-marbl/funnel/cesm2-SSP1-2.6-ocn-pop.h-NOx_FLUX\n",
      "\n",
      "--> The keys in the returned dictionary of datasets are constructed as follows:\n",
      "\t'component:experiment:stream'\n"
     ]
    },
    {
     "name": "stderr",
     "output_type": "stream",
     "text": [
      "Dataset(s): 100%|████████████████████████████████| 1/1 [00:00<00:00,  1.21it/s]\n"
     ]
    },
    {
     "name": "stdout",
     "output_type": "stream",
     "text": [
      "writing cache file: /glade/p/cgd/oce/projects/cesm2-marbl/funnel/cesm2-SSP1-2.6-ocn-pop.h-NOx_FLUX/cesm2-SSP1-2.6-ocn-pop.h-NOx_FLUX-area-mean-294ef0a2270be075de6df997340530d2.zarr\n",
      "writing cache file: /glade/p/cgd/oce/projects/cesm2-marbl/funnel/cesm2-SSP1-2.6-ocn-pop.h-NOx_FLUX/cesm2-SSP1-2.6-ocn-pop.h-NOx_FLUX-timeseries-ann-dc1ef533967affdac7ff1871110271b5.zarr\n"
     ]
    },
    {
     "name": "stderr",
     "output_type": "stream",
     "text": [
      "Dataset(s):   0%|                                        | 0/1 [00:00<?, ?it/s]"
     ]
    },
    {
     "name": "stdout",
     "output_type": "stream",
     "text": [
      "writing cache file: /glade/p/cgd/oce/projects/cesm2-marbl/funnel/cesm2-SSP1-2.6-ocn-pop.h-NOx_FLUX/cesm2-SSP1-2.6-ocn-pop.h-NOx_FLUX-time-mean-753afc24686e480ead107b0e27f521b4.zarr\n",
      "making /glade/p/cgd/oce/projects/cesm2-marbl/funnel/cesm2-SSP2-4.5-ocn-pop.h-NOx_FLUX\n",
      "\n",
      "--> The keys in the returned dictionary of datasets are constructed as follows:\n",
      "\t'component:experiment:stream'\n"
     ]
    },
    {
     "name": "stderr",
     "output_type": "stream",
     "text": [
      "Dataset(s): 100%|████████████████████████████████| 1/1 [00:01<00:00,  1.57s/it]\n"
     ]
    },
    {
     "name": "stdout",
     "output_type": "stream",
     "text": [
      "writing cache file: /glade/p/cgd/oce/projects/cesm2-marbl/funnel/cesm2-SSP2-4.5-ocn-pop.h-NOx_FLUX/cesm2-SSP2-4.5-ocn-pop.h-NOx_FLUX-area-mean-294ef0a2270be075de6df997340530d2.zarr\n",
      "writing cache file: /glade/p/cgd/oce/projects/cesm2-marbl/funnel/cesm2-SSP2-4.5-ocn-pop.h-NOx_FLUX/cesm2-SSP2-4.5-ocn-pop.h-NOx_FLUX-timeseries-ann-dc1ef533967affdac7ff1871110271b5.zarr\n"
     ]
    },
    {
     "name": "stderr",
     "output_type": "stream",
     "text": [
      "Dataset(s):   0%|                                        | 0/1 [00:00<?, ?it/s]"
     ]
    },
    {
     "name": "stdout",
     "output_type": "stream",
     "text": [
      "writing cache file: /glade/p/cgd/oce/projects/cesm2-marbl/funnel/cesm2-SSP2-4.5-ocn-pop.h-NOx_FLUX/cesm2-SSP2-4.5-ocn-pop.h-NOx_FLUX-time-mean-753afc24686e480ead107b0e27f521b4.zarr\n",
      "making /glade/p/cgd/oce/projects/cesm2-marbl/funnel/cesm2-SSP3-7.0-ocn-pop.h-NOx_FLUX\n",
      "\n",
      "--> The keys in the returned dictionary of datasets are constructed as follows:\n",
      "\t'component:experiment:stream'\n"
     ]
    },
    {
     "name": "stderr",
     "output_type": "stream",
     "text": [
      "Dataset(s): 100%|████████████████████████████████| 1/1 [00:00<00:00,  1.14it/s]\n"
     ]
    },
    {
     "name": "stdout",
     "output_type": "stream",
     "text": [
      "writing cache file: /glade/p/cgd/oce/projects/cesm2-marbl/funnel/cesm2-SSP3-7.0-ocn-pop.h-NOx_FLUX/cesm2-SSP3-7.0-ocn-pop.h-NOx_FLUX-area-mean-294ef0a2270be075de6df997340530d2.zarr\n",
      "writing cache file: /glade/p/cgd/oce/projects/cesm2-marbl/funnel/cesm2-SSP3-7.0-ocn-pop.h-NOx_FLUX/cesm2-SSP3-7.0-ocn-pop.h-NOx_FLUX-timeseries-ann-dc1ef533967affdac7ff1871110271b5.zarr\n"
     ]
    },
    {
     "name": "stderr",
     "output_type": "stream",
     "text": [
      "Dataset(s):   0%|                                        | 0/1 [00:00<?, ?it/s]"
     ]
    },
    {
     "name": "stdout",
     "output_type": "stream",
     "text": [
      "writing cache file: /glade/p/cgd/oce/projects/cesm2-marbl/funnel/cesm2-SSP3-7.0-ocn-pop.h-NOx_FLUX/cesm2-SSP3-7.0-ocn-pop.h-NOx_FLUX-time-mean-753afc24686e480ead107b0e27f521b4.zarr\n",
      "making /glade/p/cgd/oce/projects/cesm2-marbl/funnel/cesm2-SSP5-8.5-ocn-pop.h-NOx_FLUX\n",
      "\n",
      "--> The keys in the returned dictionary of datasets are constructed as follows:\n",
      "\t'component:experiment:stream'\n"
     ]
    },
    {
     "name": "stderr",
     "output_type": "stream",
     "text": [
      "Dataset(s): 100%|████████████████████████████████| 1/1 [00:00<00:00,  1.21it/s]\n"
     ]
    },
    {
     "name": "stdout",
     "output_type": "stream",
     "text": [
      "writing cache file: /glade/p/cgd/oce/projects/cesm2-marbl/funnel/cesm2-SSP5-8.5-ocn-pop.h-NOx_FLUX/cesm2-SSP5-8.5-ocn-pop.h-NOx_FLUX-area-mean-294ef0a2270be075de6df997340530d2.zarr\n",
      "writing cache file: /glade/p/cgd/oce/projects/cesm2-marbl/funnel/cesm2-SSP5-8.5-ocn-pop.h-NOx_FLUX/cesm2-SSP5-8.5-ocn-pop.h-NOx_FLUX-timeseries-ann-dc1ef533967affdac7ff1871110271b5.zarr\n"
     ]
    },
    {
     "name": "stderr",
     "output_type": "stream",
     "text": [
      "Dataset(s):   0%|                                        | 0/1 [00:00<?, ?it/s]"
     ]
    },
    {
     "name": "stdout",
     "output_type": "stream",
     "text": [
      "writing cache file: /glade/p/cgd/oce/projects/cesm2-marbl/funnel/cesm2-SSP5-8.5-ocn-pop.h-NOx_FLUX/cesm2-SSP5-8.5-ocn-pop.h-NOx_FLUX-time-mean-753afc24686e480ead107b0e27f521b4.zarr\n",
      "making /glade/p/cgd/oce/projects/cesm2-marbl/funnel/cesm2-piControl-ocn-pop.h-NOx_FLUX\n",
      "\n",
      "--> The keys in the returned dictionary of datasets are constructed as follows:\n",
      "\t'component:experiment:stream'\n"
     ]
    },
    {
     "name": "stderr",
     "output_type": "stream",
     "text": [
      "Dataset(s): 100%|████████████████████████████████| 1/1 [00:02<00:00,  2.13s/it]\n"
     ]
    },
    {
     "name": "stdout",
     "output_type": "stream",
     "text": [
      "writing cache file: /glade/p/cgd/oce/projects/cesm2-marbl/funnel/cesm2-piControl-ocn-pop.h-NOx_FLUX/cesm2-piControl-ocn-pop.h-NOx_FLUX-area-mean-294ef0a2270be075de6df997340530d2.zarr\n"
     ]
    },
    {
     "name": "stderr",
     "output_type": "stream",
     "text": [
      "Dataset(s):   0%|                                        | 0/1 [00:00<?, ?it/s]"
     ]
    },
    {
     "name": "stdout",
     "output_type": "stream",
     "text": [
      "writing cache file: /glade/p/cgd/oce/projects/cesm2-marbl/funnel/cesm2-piControl-ocn-pop.h-NOx_FLUX/cesm2-piControl-ocn-pop.h-NOx_FLUX-timeseries-ann-dc1ef533967affdac7ff1871110271b5.zarr\n",
      "making /glade/p/cgd/oce/projects/cesm2-marbl/funnel/cesm2-historical-ocn-pop.h-NHy_FLUX\n",
      "\n",
      "--> The keys in the returned dictionary of datasets are constructed as follows:\n",
      "\t'component:experiment:stream'\n"
     ]
    },
    {
     "name": "stderr",
     "output_type": "stream",
     "text": [
      "Dataset(s): 100%|████████████████████████████████| 1/1 [00:05<00:00,  5.90s/it]\n"
     ]
    },
    {
     "name": "stdout",
     "output_type": "stream",
     "text": [
      "writing cache file: /glade/p/cgd/oce/projects/cesm2-marbl/funnel/cesm2-historical-ocn-pop.h-NHy_FLUX/cesm2-historical-ocn-pop.h-NHy_FLUX-area-mean-294ef0a2270be075de6df997340530d2.zarr\n",
      "writing cache file: /glade/p/cgd/oce/projects/cesm2-marbl/funnel/cesm2-historical-ocn-pop.h-NHy_FLUX/cesm2-historical-ocn-pop.h-NHy_FLUX-timeseries-ann-dc1ef533967affdac7ff1871110271b5.zarr\n"
     ]
    },
    {
     "name": "stderr",
     "output_type": "stream",
     "text": [
      "Dataset(s):   0%|                                        | 0/1 [00:00<?, ?it/s]"
     ]
    },
    {
     "name": "stdout",
     "output_type": "stream",
     "text": [
      "writing cache file: /glade/p/cgd/oce/projects/cesm2-marbl/funnel/cesm2-historical-ocn-pop.h-NHy_FLUX/cesm2-historical-ocn-pop.h-NHy_FLUX-time-mean-6fad6ce941a1c7d777b07ba4db4b0728.zarr\n",
      "making /glade/p/cgd/oce/projects/cesm2-marbl/funnel/cesm2-SSP1-2.6-ocn-pop.h-NHy_FLUX\n",
      "\n",
      "--> The keys in the returned dictionary of datasets are constructed as follows:\n",
      "\t'component:experiment:stream'\n"
     ]
    },
    {
     "name": "stderr",
     "output_type": "stream",
     "text": [
      "Dataset(s): 100%|████████████████████████████████| 1/1 [00:00<00:00,  1.22it/s]\n"
     ]
    },
    {
     "name": "stdout",
     "output_type": "stream",
     "text": [
      "writing cache file: /glade/p/cgd/oce/projects/cesm2-marbl/funnel/cesm2-SSP1-2.6-ocn-pop.h-NHy_FLUX/cesm2-SSP1-2.6-ocn-pop.h-NHy_FLUX-area-mean-294ef0a2270be075de6df997340530d2.zarr\n",
      "writing cache file: /glade/p/cgd/oce/projects/cesm2-marbl/funnel/cesm2-SSP1-2.6-ocn-pop.h-NHy_FLUX/cesm2-SSP1-2.6-ocn-pop.h-NHy_FLUX-timeseries-ann-dc1ef533967affdac7ff1871110271b5.zarr\n"
     ]
    },
    {
     "name": "stderr",
     "output_type": "stream",
     "text": [
      "Dataset(s):   0%|                                        | 0/1 [00:00<?, ?it/s]"
     ]
    },
    {
     "name": "stdout",
     "output_type": "stream",
     "text": [
      "writing cache file: /glade/p/cgd/oce/projects/cesm2-marbl/funnel/cesm2-SSP1-2.6-ocn-pop.h-NHy_FLUX/cesm2-SSP1-2.6-ocn-pop.h-NHy_FLUX-time-mean-753afc24686e480ead107b0e27f521b4.zarr\n",
      "making /glade/p/cgd/oce/projects/cesm2-marbl/funnel/cesm2-SSP2-4.5-ocn-pop.h-NHy_FLUX\n",
      "\n",
      "--> The keys in the returned dictionary of datasets are constructed as follows:\n",
      "\t'component:experiment:stream'\n"
     ]
    },
    {
     "name": "stderr",
     "output_type": "stream",
     "text": [
      "Dataset(s): 100%|████████████████████████████████| 1/1 [00:01<00:00,  1.19s/it]\n"
     ]
    },
    {
     "name": "stdout",
     "output_type": "stream",
     "text": [
      "writing cache file: /glade/p/cgd/oce/projects/cesm2-marbl/funnel/cesm2-SSP2-4.5-ocn-pop.h-NHy_FLUX/cesm2-SSP2-4.5-ocn-pop.h-NHy_FLUX-area-mean-294ef0a2270be075de6df997340530d2.zarr\n",
      "writing cache file: /glade/p/cgd/oce/projects/cesm2-marbl/funnel/cesm2-SSP2-4.5-ocn-pop.h-NHy_FLUX/cesm2-SSP2-4.5-ocn-pop.h-NHy_FLUX-timeseries-ann-dc1ef533967affdac7ff1871110271b5.zarr\n"
     ]
    },
    {
     "name": "stderr",
     "output_type": "stream",
     "text": [
      "Dataset(s):   0%|                                        | 0/1 [00:00<?, ?it/s]"
     ]
    },
    {
     "name": "stdout",
     "output_type": "stream",
     "text": [
      "writing cache file: /glade/p/cgd/oce/projects/cesm2-marbl/funnel/cesm2-SSP2-4.5-ocn-pop.h-NHy_FLUX/cesm2-SSP2-4.5-ocn-pop.h-NHy_FLUX-time-mean-753afc24686e480ead107b0e27f521b4.zarr\n",
      "making /glade/p/cgd/oce/projects/cesm2-marbl/funnel/cesm2-SSP3-7.0-ocn-pop.h-NHy_FLUX\n",
      "\n",
      "--> The keys in the returned dictionary of datasets are constructed as follows:\n",
      "\t'component:experiment:stream'\n"
     ]
    },
    {
     "name": "stderr",
     "output_type": "stream",
     "text": [
      "Dataset(s): 100%|████████████████████████████████| 1/1 [00:01<00:00,  1.23s/it]\n"
     ]
    },
    {
     "name": "stdout",
     "output_type": "stream",
     "text": [
      "writing cache file: /glade/p/cgd/oce/projects/cesm2-marbl/funnel/cesm2-SSP3-7.0-ocn-pop.h-NHy_FLUX/cesm2-SSP3-7.0-ocn-pop.h-NHy_FLUX-area-mean-294ef0a2270be075de6df997340530d2.zarr\n",
      "writing cache file: /glade/p/cgd/oce/projects/cesm2-marbl/funnel/cesm2-SSP3-7.0-ocn-pop.h-NHy_FLUX/cesm2-SSP3-7.0-ocn-pop.h-NHy_FLUX-timeseries-ann-dc1ef533967affdac7ff1871110271b5.zarr\n"
     ]
    },
    {
     "name": "stderr",
     "output_type": "stream",
     "text": [
      "Dataset(s):   0%|                                        | 0/1 [00:00<?, ?it/s]"
     ]
    },
    {
     "name": "stdout",
     "output_type": "stream",
     "text": [
      "writing cache file: /glade/p/cgd/oce/projects/cesm2-marbl/funnel/cesm2-SSP3-7.0-ocn-pop.h-NHy_FLUX/cesm2-SSP3-7.0-ocn-pop.h-NHy_FLUX-time-mean-753afc24686e480ead107b0e27f521b4.zarr\n",
      "making /glade/p/cgd/oce/projects/cesm2-marbl/funnel/cesm2-SSP5-8.5-ocn-pop.h-NHy_FLUX\n",
      "\n",
      "--> The keys in the returned dictionary of datasets are constructed as follows:\n",
      "\t'component:experiment:stream'\n"
     ]
    },
    {
     "name": "stderr",
     "output_type": "stream",
     "text": [
      "Dataset(s): 100%|████████████████████████████████| 1/1 [00:00<00:00,  1.25it/s]\n"
     ]
    },
    {
     "name": "stdout",
     "output_type": "stream",
     "text": [
      "writing cache file: /glade/p/cgd/oce/projects/cesm2-marbl/funnel/cesm2-SSP5-8.5-ocn-pop.h-NHy_FLUX/cesm2-SSP5-8.5-ocn-pop.h-NHy_FLUX-area-mean-294ef0a2270be075de6df997340530d2.zarr\n",
      "writing cache file: /glade/p/cgd/oce/projects/cesm2-marbl/funnel/cesm2-SSP5-8.5-ocn-pop.h-NHy_FLUX/cesm2-SSP5-8.5-ocn-pop.h-NHy_FLUX-timeseries-ann-dc1ef533967affdac7ff1871110271b5.zarr\n"
     ]
    },
    {
     "name": "stderr",
     "output_type": "stream",
     "text": [
      "Dataset(s):   0%|                                        | 0/1 [00:00<?, ?it/s]"
     ]
    },
    {
     "name": "stdout",
     "output_type": "stream",
     "text": [
      "writing cache file: /glade/p/cgd/oce/projects/cesm2-marbl/funnel/cesm2-SSP5-8.5-ocn-pop.h-NHy_FLUX/cesm2-SSP5-8.5-ocn-pop.h-NHy_FLUX-time-mean-753afc24686e480ead107b0e27f521b4.zarr\n",
      "making /glade/p/cgd/oce/projects/cesm2-marbl/funnel/cesm2-piControl-ocn-pop.h-NHy_FLUX\n",
      "\n",
      "--> The keys in the returned dictionary of datasets are constructed as follows:\n",
      "\t'component:experiment:stream'\n"
     ]
    },
    {
     "name": "stderr",
     "output_type": "stream",
     "text": [
      "Dataset(s): 100%|████████████████████████████████| 1/1 [00:03<00:00,  3.83s/it]\n"
     ]
    },
    {
     "name": "stdout",
     "output_type": "stream",
     "text": [
      "writing cache file: /glade/p/cgd/oce/projects/cesm2-marbl/funnel/cesm2-piControl-ocn-pop.h-NHy_FLUX/cesm2-piControl-ocn-pop.h-NHy_FLUX-area-mean-294ef0a2270be075de6df997340530d2.zarr\n"
     ]
    },
    {
     "name": "stderr",
     "output_type": "stream",
     "text": [
      "Dataset(s):   0%|                                        | 0/1 [00:00<?, ?it/s]"
     ]
    },
    {
     "name": "stdout",
     "output_type": "stream",
     "text": [
      "writing cache file: /glade/p/cgd/oce/projects/cesm2-marbl/funnel/cesm2-piControl-ocn-pop.h-NHy_FLUX/cesm2-piControl-ocn-pop.h-NHy_FLUX-timeseries-ann-dc1ef533967affdac7ff1871110271b5.zarr\n",
      "making /glade/p/cgd/oce/projects/cesm2-marbl/funnel/cesm2-historical-ocn-pop.h-DENITRIF\n",
      "\n",
      "--> The keys in the returned dictionary of datasets are constructed as follows:\n",
      "\t'component:experiment:stream'\n"
     ]
    },
    {
     "name": "stderr",
     "output_type": "stream",
     "text": [
      "Dataset(s): 100%|████████████████████████████████| 1/1 [00:04<00:00,  4.95s/it]\n"
     ]
    },
    {
     "name": "stdout",
     "output_type": "stream",
     "text": [
      "warning: unknown units: mmol/m^3/s cm^2 for DENITRIF\n",
      "DENITRIF: could not determine target units, skipping\n"
     ]
    },
    {
     "ename": "KilledWorker",
     "evalue": "(\"('open_dataset-concatenate-9099bfb8e84bc869b2cb056382141362', 7, 0, 0, 0)\", <Worker 'tcp://10.12.205.13:44750', name: 904, memory: 0, processing: 8>)",
     "output_type": "error",
     "traceback": [
      "\u001b[0;31m---------------------------------------------------------------------------\u001b[0m",
      "\u001b[0;31mKilledWorker\u001b[0m                              Traceback (most recent call last)",
      "\u001b[0;32m<timed exec>\u001b[0m in \u001b[0;36m<module>\u001b[0;34m\u001b[0m\n",
      "\u001b[0;32m~/p/cesm2-marbl/notebooks/funnel/core.py\u001b[0m in \u001b[0;36mcompute_wrapper\u001b[0;34m(self, **kwargs)\u001b[0m\n\u001b[1;32m    186\u001b[0m                 )\n\u001b[1;32m    187\u001b[0m \u001b[0;34m\u001b[0m\u001b[0m\n\u001b[0;32m--> 188\u001b[0;31m                 \u001b[0;32mreturn\u001b[0m \u001b[0mxp_persist_ds\u001b[0m\u001b[0;34m(\u001b[0m\u001b[0mcompute_func\u001b[0m\u001b[0;34m)\u001b[0m\u001b[0;34m(\u001b[0m\u001b[0mself\u001b[0m\u001b[0;34m,\u001b[0m \u001b[0;34m**\u001b[0m\u001b[0mkwargs\u001b[0m\u001b[0;34m)\u001b[0m\u001b[0;34m\u001b[0m\u001b[0;34m\u001b[0m\u001b[0m\n\u001b[0m\u001b[1;32m    189\u001b[0m             \u001b[0;32melse\u001b[0m\u001b[0;34m:\u001b[0m\u001b[0;34m\u001b[0m\u001b[0;34m\u001b[0m\u001b[0m\n\u001b[1;32m    190\u001b[0m                 \u001b[0;32mreturn\u001b[0m \u001b[0mcompute_func\u001b[0m\u001b[0;34m(\u001b[0m\u001b[0mself\u001b[0m\u001b[0;34m,\u001b[0m \u001b[0;34m**\u001b[0m\u001b[0mkwargs\u001b[0m\u001b[0;34m)\u001b[0m\u001b[0;34m\u001b[0m\u001b[0;34m\u001b[0m\u001b[0m\n",
      "\u001b[0;32m/glade/work/mclong/miniconda3/envs/cesm2-marbl/lib/python3.7/site-packages/xpersist/core.py\u001b[0m in \u001b[0;36m__call__\u001b[0;34m(self, *args, **kwargs)\u001b[0m\n\u001b[1;32m    132\u001b[0m         \u001b[0;32melif\u001b[0m \u001b[0;34m{\u001b[0m\u001b[0;34m'create_cache'\u001b[0m\u001b[0;34m,\u001b[0m \u001b[0;34m'overwrite_cache'\u001b[0m\u001b[0;34m}\u001b[0m\u001b[0;34m.\u001b[0m\u001b[0mintersection\u001b[0m\u001b[0;34m(\u001b[0m\u001b[0;34m{\u001b[0m\u001b[0mself\u001b[0m\u001b[0;34m.\u001b[0m\u001b[0m_actions\u001b[0m\u001b[0;34m[\u001b[0m\u001b[0mself\u001b[0m\u001b[0;34m.\u001b[0m\u001b[0m_cache_file\u001b[0m\u001b[0;34m]\u001b[0m\u001b[0;34m}\u001b[0m\u001b[0;34m)\u001b[0m\u001b[0;34m:\u001b[0m\u001b[0;34m\u001b[0m\u001b[0;34m\u001b[0m\u001b[0m\n\u001b[1;32m    133\u001b[0m             \u001b[0;31m# generate dataset\u001b[0m\u001b[0;34m\u001b[0m\u001b[0;34m\u001b[0m\u001b[0;34m\u001b[0m\u001b[0m\n\u001b[0;32m--> 134\u001b[0;31m             \u001b[0mds\u001b[0m \u001b[0;34m=\u001b[0m \u001b[0mself\u001b[0m\u001b[0;34m.\u001b[0m\u001b[0m_func\u001b[0m\u001b[0;34m(\u001b[0m\u001b[0;34m*\u001b[0m\u001b[0margs\u001b[0m\u001b[0;34m,\u001b[0m \u001b[0;34m**\u001b[0m\u001b[0mkwargs\u001b[0m\u001b[0;34m)\u001b[0m\u001b[0;34m\u001b[0m\u001b[0;34m\u001b[0m\u001b[0m\n\u001b[0m\u001b[1;32m    135\u001b[0m \u001b[0;34m\u001b[0m\u001b[0m\n\u001b[1;32m    136\u001b[0m             \u001b[0;31m# write dataset\u001b[0m\u001b[0;34m\u001b[0m\u001b[0;34m\u001b[0m\u001b[0;34m\u001b[0m\u001b[0m\n",
      "\u001b[0;32m~/p/cesm2-marbl/notebooks/funnel/core.py\u001b[0m in \u001b[0;36mtimeseries_ann\u001b[0;34m(self, normalize, region_mask_name)\u001b[0m\n\u001b[1;32m    238\u001b[0m         \u001b[0;34m\"\"\"compute an annual mean timeseries\"\"\"\u001b[0m\u001b[0;34m\u001b[0m\u001b[0;34m\u001b[0m\u001b[0m\n\u001b[1;32m    239\u001b[0m         ds_xy_mean = self.area_mean(persist=False,\n\u001b[0;32m--> 240\u001b[0;31m                                     \u001b[0mnormalize\u001b[0m\u001b[0;34m=\u001b[0m\u001b[0mnormalize\u001b[0m\u001b[0;34m,\u001b[0m\u001b[0;34m\u001b[0m\u001b[0;34m\u001b[0m\u001b[0m\n\u001b[0m\u001b[1;32m    241\u001b[0m                                     region_mask_name=region_mask_name)\n\u001b[1;32m    242\u001b[0m         \u001b[0;32mreturn\u001b[0m \u001b[0mutil\u001b[0m\u001b[0;34m.\u001b[0m\u001b[0mcalc_ann_mean\u001b[0m\u001b[0;34m(\u001b[0m\u001b[0mds_xy_mean\u001b[0m\u001b[0;34m)\u001b[0m\u001b[0;34m\u001b[0m\u001b[0;34m\u001b[0m\u001b[0m\n",
      "\u001b[0;32m~/p/cesm2-marbl/notebooks/funnel/core.py\u001b[0m in \u001b[0;36mcompute_wrapper\u001b[0;34m(self, **kwargs)\u001b[0m\n\u001b[1;32m    186\u001b[0m                 )\n\u001b[1;32m    187\u001b[0m \u001b[0;34m\u001b[0m\u001b[0m\n\u001b[0;32m--> 188\u001b[0;31m                 \u001b[0;32mreturn\u001b[0m \u001b[0mxp_persist_ds\u001b[0m\u001b[0;34m(\u001b[0m\u001b[0mcompute_func\u001b[0m\u001b[0;34m)\u001b[0m\u001b[0;34m(\u001b[0m\u001b[0mself\u001b[0m\u001b[0;34m,\u001b[0m \u001b[0;34m**\u001b[0m\u001b[0mkwargs\u001b[0m\u001b[0;34m)\u001b[0m\u001b[0;34m\u001b[0m\u001b[0;34m\u001b[0m\u001b[0m\n\u001b[0m\u001b[1;32m    189\u001b[0m             \u001b[0;32melse\u001b[0m\u001b[0;34m:\u001b[0m\u001b[0;34m\u001b[0m\u001b[0;34m\u001b[0m\u001b[0m\n\u001b[1;32m    190\u001b[0m                 \u001b[0;32mreturn\u001b[0m \u001b[0mcompute_func\u001b[0m\u001b[0;34m(\u001b[0m\u001b[0mself\u001b[0m\u001b[0;34m,\u001b[0m \u001b[0;34m**\u001b[0m\u001b[0mkwargs\u001b[0m\u001b[0;34m)\u001b[0m\u001b[0;34m\u001b[0m\u001b[0;34m\u001b[0m\u001b[0m\n",
      "\u001b[0;32m/glade/work/mclong/miniconda3/envs/cesm2-marbl/lib/python3.7/site-packages/xpersist/core.py\u001b[0m in \u001b[0;36m__call__\u001b[0;34m(self, *args, **kwargs)\u001b[0m\n\u001b[1;32m    132\u001b[0m         \u001b[0;32melif\u001b[0m \u001b[0;34m{\u001b[0m\u001b[0;34m'create_cache'\u001b[0m\u001b[0;34m,\u001b[0m \u001b[0;34m'overwrite_cache'\u001b[0m\u001b[0;34m}\u001b[0m\u001b[0;34m.\u001b[0m\u001b[0mintersection\u001b[0m\u001b[0;34m(\u001b[0m\u001b[0;34m{\u001b[0m\u001b[0mself\u001b[0m\u001b[0;34m.\u001b[0m\u001b[0m_actions\u001b[0m\u001b[0;34m[\u001b[0m\u001b[0mself\u001b[0m\u001b[0;34m.\u001b[0m\u001b[0m_cache_file\u001b[0m\u001b[0;34m]\u001b[0m\u001b[0;34m}\u001b[0m\u001b[0;34m)\u001b[0m\u001b[0;34m:\u001b[0m\u001b[0;34m\u001b[0m\u001b[0;34m\u001b[0m\u001b[0m\n\u001b[1;32m    133\u001b[0m             \u001b[0;31m# generate dataset\u001b[0m\u001b[0;34m\u001b[0m\u001b[0;34m\u001b[0m\u001b[0;34m\u001b[0m\u001b[0m\n\u001b[0;32m--> 134\u001b[0;31m             \u001b[0mds\u001b[0m \u001b[0;34m=\u001b[0m \u001b[0mself\u001b[0m\u001b[0;34m.\u001b[0m\u001b[0m_func\u001b[0m\u001b[0;34m(\u001b[0m\u001b[0;34m*\u001b[0m\u001b[0margs\u001b[0m\u001b[0;34m,\u001b[0m \u001b[0;34m**\u001b[0m\u001b[0mkwargs\u001b[0m\u001b[0;34m)\u001b[0m\u001b[0;34m\u001b[0m\u001b[0;34m\u001b[0m\u001b[0m\n\u001b[0m\u001b[1;32m    135\u001b[0m \u001b[0;34m\u001b[0m\u001b[0m\n\u001b[1;32m    136\u001b[0m             \u001b[0;31m# write dataset\u001b[0m\u001b[0;34m\u001b[0m\u001b[0;34m\u001b[0m\u001b[0;34m\u001b[0m\u001b[0m\n",
      "\u001b[0;32m~/p/cesm2-marbl/notebooks/funnel/core.py\u001b[0m in \u001b[0;36marea_mean\u001b[0;34m(self, normalize, region_mask_name)\u001b[0m\n\u001b[1;32m    232\u001b[0m                 \u001b[0mds_xy_mean\u001b[0m\u001b[0;34m[\u001b[0m\u001b[0mv\u001b[0m\u001b[0;34m]\u001b[0m \u001b[0;34m=\u001b[0m \u001b[0mself\u001b[0m\u001b[0;34m.\u001b[0m\u001b[0mds\u001b[0m\u001b[0;34m[\u001b[0m\u001b[0mv\u001b[0m\u001b[0;34m]\u001b[0m\u001b[0;34m\u001b[0m\u001b[0;34m\u001b[0m\u001b[0m\n\u001b[1;32m    233\u001b[0m \u001b[0;34m\u001b[0m\u001b[0m\n\u001b[0;32m--> 234\u001b[0;31m         \u001b[0;32mreturn\u001b[0m \u001b[0mds_xy_mean\u001b[0m\u001b[0;34m.\u001b[0m\u001b[0mconvert_units\u001b[0m\u001b[0;34m(\u001b[0m\u001b[0mself\u001b[0m\u001b[0;34m.\u001b[0m\u001b[0mdata_vars\u001b[0m\u001b[0;34m)\u001b[0m\u001b[0;34m.\u001b[0m\u001b[0mcompute\u001b[0m\u001b[0;34m(\u001b[0m\u001b[0;34m)\u001b[0m\u001b[0;34m\u001b[0m\u001b[0;34m\u001b[0m\u001b[0m\n\u001b[0m\u001b[1;32m    235\u001b[0m \u001b[0;34m\u001b[0m\u001b[0m\n\u001b[1;32m    236\u001b[0m     \u001b[0;34m@\u001b[0m\u001b[0m_persist_ds\u001b[0m\u001b[0;34m(\u001b[0m\u001b[0mdataset_name\u001b[0m\u001b[0;34m=\u001b[0m\u001b[0;34m'timeseries-ann'\u001b[0m\u001b[0;34m)\u001b[0m\u001b[0;34m\u001b[0m\u001b[0;34m\u001b[0m\u001b[0m\n",
      "\u001b[0;32m/glade/work/mclong/miniconda3/envs/cesm2-marbl/lib/python3.7/site-packages/xarray/core/dataset.py\u001b[0m in \u001b[0;36mcompute\u001b[0;34m(self, **kwargs)\u001b[0m\n\u001b[1;32m    808\u001b[0m         \"\"\"\n\u001b[1;32m    809\u001b[0m         \u001b[0mnew\u001b[0m \u001b[0;34m=\u001b[0m \u001b[0mself\u001b[0m\u001b[0;34m.\u001b[0m\u001b[0mcopy\u001b[0m\u001b[0;34m(\u001b[0m\u001b[0mdeep\u001b[0m\u001b[0;34m=\u001b[0m\u001b[0;32mFalse\u001b[0m\u001b[0;34m)\u001b[0m\u001b[0;34m\u001b[0m\u001b[0;34m\u001b[0m\u001b[0m\n\u001b[0;32m--> 810\u001b[0;31m         \u001b[0;32mreturn\u001b[0m \u001b[0mnew\u001b[0m\u001b[0;34m.\u001b[0m\u001b[0mload\u001b[0m\u001b[0;34m(\u001b[0m\u001b[0;34m**\u001b[0m\u001b[0mkwargs\u001b[0m\u001b[0;34m)\u001b[0m\u001b[0;34m\u001b[0m\u001b[0;34m\u001b[0m\u001b[0m\n\u001b[0m\u001b[1;32m    811\u001b[0m \u001b[0;34m\u001b[0m\u001b[0m\n\u001b[1;32m    812\u001b[0m     \u001b[0;32mdef\u001b[0m \u001b[0m_persist_inplace\u001b[0m\u001b[0;34m(\u001b[0m\u001b[0mself\u001b[0m\u001b[0;34m,\u001b[0m \u001b[0;34m**\u001b[0m\u001b[0mkwargs\u001b[0m\u001b[0;34m)\u001b[0m \u001b[0;34m->\u001b[0m \u001b[0;34m\"Dataset\"\u001b[0m\u001b[0;34m:\u001b[0m\u001b[0;34m\u001b[0m\u001b[0;34m\u001b[0m\u001b[0m\n",
      "\u001b[0;32m/glade/work/mclong/miniconda3/envs/cesm2-marbl/lib/python3.7/site-packages/xarray/core/dataset.py\u001b[0m in \u001b[0;36mload\u001b[0;34m(self, **kwargs)\u001b[0m\n\u001b[1;32m    652\u001b[0m \u001b[0;34m\u001b[0m\u001b[0m\n\u001b[1;32m    653\u001b[0m             \u001b[0;31m# evaluate all the dask arrays simultaneously\u001b[0m\u001b[0;34m\u001b[0m\u001b[0;34m\u001b[0m\u001b[0;34m\u001b[0m\u001b[0m\n\u001b[0;32m--> 654\u001b[0;31m             \u001b[0mevaluated_data\u001b[0m \u001b[0;34m=\u001b[0m \u001b[0mda\u001b[0m\u001b[0;34m.\u001b[0m\u001b[0mcompute\u001b[0m\u001b[0;34m(\u001b[0m\u001b[0;34m*\u001b[0m\u001b[0mlazy_data\u001b[0m\u001b[0;34m.\u001b[0m\u001b[0mvalues\u001b[0m\u001b[0;34m(\u001b[0m\u001b[0;34m)\u001b[0m\u001b[0;34m,\u001b[0m \u001b[0;34m**\u001b[0m\u001b[0mkwargs\u001b[0m\u001b[0;34m)\u001b[0m\u001b[0;34m\u001b[0m\u001b[0;34m\u001b[0m\u001b[0m\n\u001b[0m\u001b[1;32m    655\u001b[0m \u001b[0;34m\u001b[0m\u001b[0m\n\u001b[1;32m    656\u001b[0m             \u001b[0;32mfor\u001b[0m \u001b[0mk\u001b[0m\u001b[0;34m,\u001b[0m \u001b[0mdata\u001b[0m \u001b[0;32min\u001b[0m \u001b[0mzip\u001b[0m\u001b[0;34m(\u001b[0m\u001b[0mlazy_data\u001b[0m\u001b[0;34m,\u001b[0m \u001b[0mevaluated_data\u001b[0m\u001b[0;34m)\u001b[0m\u001b[0;34m:\u001b[0m\u001b[0;34m\u001b[0m\u001b[0;34m\u001b[0m\u001b[0m\n",
      "\u001b[0;32m/glade/work/mclong/miniconda3/envs/cesm2-marbl/lib/python3.7/site-packages/dask/base.py\u001b[0m in \u001b[0;36mcompute\u001b[0;34m(*args, **kwargs)\u001b[0m\n\u001b[1;32m    435\u001b[0m     \u001b[0mkeys\u001b[0m \u001b[0;34m=\u001b[0m \u001b[0;34m[\u001b[0m\u001b[0mx\u001b[0m\u001b[0;34m.\u001b[0m\u001b[0m__dask_keys__\u001b[0m\u001b[0;34m(\u001b[0m\u001b[0;34m)\u001b[0m \u001b[0;32mfor\u001b[0m \u001b[0mx\u001b[0m \u001b[0;32min\u001b[0m \u001b[0mcollections\u001b[0m\u001b[0;34m]\u001b[0m\u001b[0;34m\u001b[0m\u001b[0;34m\u001b[0m\u001b[0m\n\u001b[1;32m    436\u001b[0m     \u001b[0mpostcomputes\u001b[0m \u001b[0;34m=\u001b[0m \u001b[0;34m[\u001b[0m\u001b[0mx\u001b[0m\u001b[0;34m.\u001b[0m\u001b[0m__dask_postcompute__\u001b[0m\u001b[0;34m(\u001b[0m\u001b[0;34m)\u001b[0m \u001b[0;32mfor\u001b[0m \u001b[0mx\u001b[0m \u001b[0;32min\u001b[0m \u001b[0mcollections\u001b[0m\u001b[0;34m]\u001b[0m\u001b[0;34m\u001b[0m\u001b[0;34m\u001b[0m\u001b[0m\n\u001b[0;32m--> 437\u001b[0;31m     \u001b[0mresults\u001b[0m \u001b[0;34m=\u001b[0m \u001b[0mschedule\u001b[0m\u001b[0;34m(\u001b[0m\u001b[0mdsk\u001b[0m\u001b[0;34m,\u001b[0m \u001b[0mkeys\u001b[0m\u001b[0;34m,\u001b[0m \u001b[0;34m**\u001b[0m\u001b[0mkwargs\u001b[0m\u001b[0;34m)\u001b[0m\u001b[0;34m\u001b[0m\u001b[0;34m\u001b[0m\u001b[0m\n\u001b[0m\u001b[1;32m    438\u001b[0m     \u001b[0;32mreturn\u001b[0m \u001b[0mrepack\u001b[0m\u001b[0;34m(\u001b[0m\u001b[0;34m[\u001b[0m\u001b[0mf\u001b[0m\u001b[0;34m(\u001b[0m\u001b[0mr\u001b[0m\u001b[0;34m,\u001b[0m \u001b[0;34m*\u001b[0m\u001b[0ma\u001b[0m\u001b[0;34m)\u001b[0m \u001b[0;32mfor\u001b[0m \u001b[0mr\u001b[0m\u001b[0;34m,\u001b[0m \u001b[0;34m(\u001b[0m\u001b[0mf\u001b[0m\u001b[0;34m,\u001b[0m \u001b[0ma\u001b[0m\u001b[0;34m)\u001b[0m \u001b[0;32min\u001b[0m \u001b[0mzip\u001b[0m\u001b[0;34m(\u001b[0m\u001b[0mresults\u001b[0m\u001b[0;34m,\u001b[0m \u001b[0mpostcomputes\u001b[0m\u001b[0;34m)\u001b[0m\u001b[0;34m]\u001b[0m\u001b[0;34m)\u001b[0m\u001b[0;34m\u001b[0m\u001b[0;34m\u001b[0m\u001b[0m\n\u001b[1;32m    439\u001b[0m \u001b[0;34m\u001b[0m\u001b[0m\n",
      "\u001b[0;32m/glade/work/mclong/miniconda3/envs/cesm2-marbl/lib/python3.7/site-packages/distributed/client.py\u001b[0m in \u001b[0;36mget\u001b[0;34m(self, dsk, keys, restrictions, loose_restrictions, resources, sync, asynchronous, direct, retries, priority, fifo_timeout, actors, **kwargs)\u001b[0m\n\u001b[1;32m   2593\u001b[0m                     \u001b[0mshould_rejoin\u001b[0m \u001b[0;34m=\u001b[0m \u001b[0;32mFalse\u001b[0m\u001b[0;34m\u001b[0m\u001b[0;34m\u001b[0m\u001b[0m\n\u001b[1;32m   2594\u001b[0m             \u001b[0;32mtry\u001b[0m\u001b[0;34m:\u001b[0m\u001b[0;34m\u001b[0m\u001b[0;34m\u001b[0m\u001b[0m\n\u001b[0;32m-> 2595\u001b[0;31m                 \u001b[0mresults\u001b[0m \u001b[0;34m=\u001b[0m \u001b[0mself\u001b[0m\u001b[0;34m.\u001b[0m\u001b[0mgather\u001b[0m\u001b[0;34m(\u001b[0m\u001b[0mpacked\u001b[0m\u001b[0;34m,\u001b[0m \u001b[0masynchronous\u001b[0m\u001b[0;34m=\u001b[0m\u001b[0masynchronous\u001b[0m\u001b[0;34m,\u001b[0m \u001b[0mdirect\u001b[0m\u001b[0;34m=\u001b[0m\u001b[0mdirect\u001b[0m\u001b[0;34m)\u001b[0m\u001b[0;34m\u001b[0m\u001b[0;34m\u001b[0m\u001b[0m\n\u001b[0m\u001b[1;32m   2596\u001b[0m             \u001b[0;32mfinally\u001b[0m\u001b[0;34m:\u001b[0m\u001b[0;34m\u001b[0m\u001b[0;34m\u001b[0m\u001b[0m\n\u001b[1;32m   2597\u001b[0m                 \u001b[0;32mfor\u001b[0m \u001b[0mf\u001b[0m \u001b[0;32min\u001b[0m \u001b[0mfutures\u001b[0m\u001b[0;34m.\u001b[0m\u001b[0mvalues\u001b[0m\u001b[0;34m(\u001b[0m\u001b[0;34m)\u001b[0m\u001b[0;34m:\u001b[0m\u001b[0;34m\u001b[0m\u001b[0;34m\u001b[0m\u001b[0m\n",
      "\u001b[0;32m/glade/work/mclong/miniconda3/envs/cesm2-marbl/lib/python3.7/site-packages/distributed/client.py\u001b[0m in \u001b[0;36mgather\u001b[0;34m(self, futures, errors, direct, asynchronous)\u001b[0m\n\u001b[1;32m   1892\u001b[0m                 \u001b[0mdirect\u001b[0m\u001b[0;34m=\u001b[0m\u001b[0mdirect\u001b[0m\u001b[0;34m,\u001b[0m\u001b[0;34m\u001b[0m\u001b[0;34m\u001b[0m\u001b[0m\n\u001b[1;32m   1893\u001b[0m                 \u001b[0mlocal_worker\u001b[0m\u001b[0;34m=\u001b[0m\u001b[0mlocal_worker\u001b[0m\u001b[0;34m,\u001b[0m\u001b[0;34m\u001b[0m\u001b[0;34m\u001b[0m\u001b[0m\n\u001b[0;32m-> 1894\u001b[0;31m                 \u001b[0masynchronous\u001b[0m\u001b[0;34m=\u001b[0m\u001b[0masynchronous\u001b[0m\u001b[0;34m,\u001b[0m\u001b[0;34m\u001b[0m\u001b[0;34m\u001b[0m\u001b[0m\n\u001b[0m\u001b[1;32m   1895\u001b[0m             )\n\u001b[1;32m   1896\u001b[0m \u001b[0;34m\u001b[0m\u001b[0m\n",
      "\u001b[0;32m/glade/work/mclong/miniconda3/envs/cesm2-marbl/lib/python3.7/site-packages/distributed/client.py\u001b[0m in \u001b[0;36msync\u001b[0;34m(self, func, asynchronous, callback_timeout, *args, **kwargs)\u001b[0m\n\u001b[1;32m    776\u001b[0m         \u001b[0;32melse\u001b[0m\u001b[0;34m:\u001b[0m\u001b[0;34m\u001b[0m\u001b[0;34m\u001b[0m\u001b[0m\n\u001b[1;32m    777\u001b[0m             return sync(\n\u001b[0;32m--> 778\u001b[0;31m                 \u001b[0mself\u001b[0m\u001b[0;34m.\u001b[0m\u001b[0mloop\u001b[0m\u001b[0;34m,\u001b[0m \u001b[0mfunc\u001b[0m\u001b[0;34m,\u001b[0m \u001b[0;34m*\u001b[0m\u001b[0margs\u001b[0m\u001b[0;34m,\u001b[0m \u001b[0mcallback_timeout\u001b[0m\u001b[0;34m=\u001b[0m\u001b[0mcallback_timeout\u001b[0m\u001b[0;34m,\u001b[0m \u001b[0;34m**\u001b[0m\u001b[0mkwargs\u001b[0m\u001b[0;34m\u001b[0m\u001b[0;34m\u001b[0m\u001b[0m\n\u001b[0m\u001b[1;32m    779\u001b[0m             )\n\u001b[1;32m    780\u001b[0m \u001b[0;34m\u001b[0m\u001b[0m\n",
      "\u001b[0;32m/glade/work/mclong/miniconda3/envs/cesm2-marbl/lib/python3.7/site-packages/distributed/utils.py\u001b[0m in \u001b[0;36msync\u001b[0;34m(loop, func, callback_timeout, *args, **kwargs)\u001b[0m\n\u001b[1;32m    346\u001b[0m     \u001b[0;32mif\u001b[0m \u001b[0merror\u001b[0m\u001b[0;34m[\u001b[0m\u001b[0;36m0\u001b[0m\u001b[0;34m]\u001b[0m\u001b[0;34m:\u001b[0m\u001b[0;34m\u001b[0m\u001b[0;34m\u001b[0m\u001b[0m\n\u001b[1;32m    347\u001b[0m         \u001b[0mtyp\u001b[0m\u001b[0;34m,\u001b[0m \u001b[0mexc\u001b[0m\u001b[0;34m,\u001b[0m \u001b[0mtb\u001b[0m \u001b[0;34m=\u001b[0m \u001b[0merror\u001b[0m\u001b[0;34m[\u001b[0m\u001b[0;36m0\u001b[0m\u001b[0;34m]\u001b[0m\u001b[0;34m\u001b[0m\u001b[0;34m\u001b[0m\u001b[0m\n\u001b[0;32m--> 348\u001b[0;31m         \u001b[0;32mraise\u001b[0m \u001b[0mexc\u001b[0m\u001b[0;34m.\u001b[0m\u001b[0mwith_traceback\u001b[0m\u001b[0;34m(\u001b[0m\u001b[0mtb\u001b[0m\u001b[0;34m)\u001b[0m\u001b[0;34m\u001b[0m\u001b[0;34m\u001b[0m\u001b[0m\n\u001b[0m\u001b[1;32m    349\u001b[0m     \u001b[0;32melse\u001b[0m\u001b[0;34m:\u001b[0m\u001b[0;34m\u001b[0m\u001b[0;34m\u001b[0m\u001b[0m\n\u001b[1;32m    350\u001b[0m         \u001b[0;32mreturn\u001b[0m \u001b[0mresult\u001b[0m\u001b[0;34m[\u001b[0m\u001b[0;36m0\u001b[0m\u001b[0;34m]\u001b[0m\u001b[0;34m\u001b[0m\u001b[0;34m\u001b[0m\u001b[0m\n",
      "\u001b[0;32m/glade/work/mclong/miniconda3/envs/cesm2-marbl/lib/python3.7/site-packages/distributed/utils.py\u001b[0m in \u001b[0;36mf\u001b[0;34m()\u001b[0m\n\u001b[1;32m    330\u001b[0m             \u001b[0;32mif\u001b[0m \u001b[0mcallback_timeout\u001b[0m \u001b[0;32mis\u001b[0m \u001b[0;32mnot\u001b[0m \u001b[0;32mNone\u001b[0m\u001b[0;34m:\u001b[0m\u001b[0;34m\u001b[0m\u001b[0;34m\u001b[0m\u001b[0m\n\u001b[1;32m    331\u001b[0m                 \u001b[0mfuture\u001b[0m \u001b[0;34m=\u001b[0m \u001b[0masyncio\u001b[0m\u001b[0;34m.\u001b[0m\u001b[0mwait_for\u001b[0m\u001b[0;34m(\u001b[0m\u001b[0mfuture\u001b[0m\u001b[0;34m,\u001b[0m \u001b[0mcallback_timeout\u001b[0m\u001b[0;34m)\u001b[0m\u001b[0;34m\u001b[0m\u001b[0;34m\u001b[0m\u001b[0m\n\u001b[0;32m--> 332\u001b[0;31m             \u001b[0mresult\u001b[0m\u001b[0;34m[\u001b[0m\u001b[0;36m0\u001b[0m\u001b[0;34m]\u001b[0m \u001b[0;34m=\u001b[0m \u001b[0;32myield\u001b[0m \u001b[0mfuture\u001b[0m\u001b[0;34m\u001b[0m\u001b[0;34m\u001b[0m\u001b[0m\n\u001b[0m\u001b[1;32m    333\u001b[0m         \u001b[0;32mexcept\u001b[0m \u001b[0mException\u001b[0m \u001b[0;32mas\u001b[0m \u001b[0mexc\u001b[0m\u001b[0;34m:\u001b[0m\u001b[0;34m\u001b[0m\u001b[0;34m\u001b[0m\u001b[0m\n\u001b[1;32m    334\u001b[0m             \u001b[0merror\u001b[0m\u001b[0;34m[\u001b[0m\u001b[0;36m0\u001b[0m\u001b[0;34m]\u001b[0m \u001b[0;34m=\u001b[0m \u001b[0msys\u001b[0m\u001b[0;34m.\u001b[0m\u001b[0mexc_info\u001b[0m\u001b[0;34m(\u001b[0m\u001b[0;34m)\u001b[0m\u001b[0;34m\u001b[0m\u001b[0;34m\u001b[0m\u001b[0m\n",
      "\u001b[0;32m/glade/work/mclong/miniconda3/envs/cesm2-marbl/lib/python3.7/site-packages/tornado/gen.py\u001b[0m in \u001b[0;36mrun\u001b[0;34m(self)\u001b[0m\n\u001b[1;32m    733\u001b[0m \u001b[0;34m\u001b[0m\u001b[0m\n\u001b[1;32m    734\u001b[0m                     \u001b[0;32mtry\u001b[0m\u001b[0;34m:\u001b[0m\u001b[0;34m\u001b[0m\u001b[0;34m\u001b[0m\u001b[0m\n\u001b[0;32m--> 735\u001b[0;31m                         \u001b[0mvalue\u001b[0m \u001b[0;34m=\u001b[0m \u001b[0mfuture\u001b[0m\u001b[0;34m.\u001b[0m\u001b[0mresult\u001b[0m\u001b[0;34m(\u001b[0m\u001b[0;34m)\u001b[0m\u001b[0;34m\u001b[0m\u001b[0;34m\u001b[0m\u001b[0m\n\u001b[0m\u001b[1;32m    736\u001b[0m                     \u001b[0;32mexcept\u001b[0m \u001b[0mException\u001b[0m\u001b[0;34m:\u001b[0m\u001b[0;34m\u001b[0m\u001b[0;34m\u001b[0m\u001b[0m\n\u001b[1;32m    737\u001b[0m                         \u001b[0mexc_info\u001b[0m \u001b[0;34m=\u001b[0m \u001b[0msys\u001b[0m\u001b[0;34m.\u001b[0m\u001b[0mexc_info\u001b[0m\u001b[0;34m(\u001b[0m\u001b[0;34m)\u001b[0m\u001b[0;34m\u001b[0m\u001b[0;34m\u001b[0m\u001b[0m\n",
      "\u001b[0;32m/glade/work/mclong/miniconda3/envs/cesm2-marbl/lib/python3.7/site-packages/distributed/client.py\u001b[0m in \u001b[0;36m_gather\u001b[0;34m(self, futures, errors, direct, local_worker)\u001b[0m\n\u001b[1;32m   1751\u001b[0m                             \u001b[0mexc\u001b[0m \u001b[0;34m=\u001b[0m \u001b[0mCancelledError\u001b[0m\u001b[0;34m(\u001b[0m\u001b[0mkey\u001b[0m\u001b[0;34m)\u001b[0m\u001b[0;34m\u001b[0m\u001b[0;34m\u001b[0m\u001b[0m\n\u001b[1;32m   1752\u001b[0m                         \u001b[0;32melse\u001b[0m\u001b[0;34m:\u001b[0m\u001b[0;34m\u001b[0m\u001b[0;34m\u001b[0m\u001b[0m\n\u001b[0;32m-> 1753\u001b[0;31m                             \u001b[0;32mraise\u001b[0m \u001b[0mexception\u001b[0m\u001b[0;34m.\u001b[0m\u001b[0mwith_traceback\u001b[0m\u001b[0;34m(\u001b[0m\u001b[0mtraceback\u001b[0m\u001b[0;34m)\u001b[0m\u001b[0;34m\u001b[0m\u001b[0;34m\u001b[0m\u001b[0m\n\u001b[0m\u001b[1;32m   1754\u001b[0m                         \u001b[0;32mraise\u001b[0m \u001b[0mexc\u001b[0m\u001b[0;34m\u001b[0m\u001b[0;34m\u001b[0m\u001b[0m\n\u001b[1;32m   1755\u001b[0m                     \u001b[0;32mif\u001b[0m \u001b[0merrors\u001b[0m \u001b[0;34m==\u001b[0m \u001b[0;34m\"skip\"\u001b[0m\u001b[0;34m:\u001b[0m\u001b[0;34m\u001b[0m\u001b[0;34m\u001b[0m\u001b[0m\n",
      "\u001b[0;31mKilledWorker\u001b[0m: (\"('open_dataset-concatenate-9099bfb8e84bc869b2cb056382141362', 7, 0, 0, 0)\", <Worker 'tcp://10.12.205.13:44750', name: 904, memory: 0, processing: 8>)"
     ]
    }
   ],
   "source": [
    "%%time\n",
    "\n",
    "dsets_ts = {}\n",
    "dsets_map = {}\n",
    "for v in variables:\n",
    "    dsets_ts[v] = {}\n",
    "    dsets_map[v] = {}\n",
    "    for e in experiments:\n",
    "        \n",
    "        dsets_ts[v][e] = cmp[v][e].timeseries_ann(normalize=False,\n",
    "                                                  persist=True,\n",
    "                                                  clobber=False).compute()\n",
    "        \n",
    "        if e in time_slices:\n",
    "            dsets_map[v][e] = cmp[v][e].time_mean(time_slice=time_slices[e],\n",
    "                                                  persist=True,\n",
    "                                                  clobber=False).compute()                "
   ]
  },
  {
   "cell_type": "code",
   "execution_count": 48,
   "metadata": {},
   "outputs": [
    {
     "data": {
      "image/png": "[encoded data removed]",
      "text/plain": [
       "<Figure size 576x432 with 1 Axes>"
      ]
     },
     "metadata": {
      "needs_background": "light"
     },
     "output_type": "display_data"
    }
   ],
   "source": [
    "v = 'FG_CO2'\n",
    "\n",
    "nrow = 1\n",
    "ncol = 1\n",
    "fig, ax = plt.subplots(nrow, ncol, figsize=(4*ncol*2, 3*nrow*2),\n",
    "                       constrained_layout=True)\n",
    "\n",
    "for e in experiments:\n",
    "    if e == 'piControl': continue\n",
    "    ds = dsets[v][e]\n",
    "    for member_id in ds.member_id.values:\n",
    "        ax.plot(ds.time, ds[v].sel(member_id=member_id), '-', alpha=0.5, linewidth=1, color=exp_colors[e])\n",
    "    ax.plot(ds.time, ds[v].mean('member_id'), '-', linewidth=1, color=exp_colors[e], label=e)\n",
    "\n",
    "ax.set_ylabel(f'{variable_labels[v]} {[ds[v].units]}')    \n",
    "ax.set_xlabel('Year')\n",
    "plt.legend();"
   ]
  },
  {
   "cell_type": "markdown",
   "metadata": {},
   "source": [
    "sketching a \"Collection\" object below...."
   ]
  },
  {
   "cell_type": "code",
   "execution_count": null,
   "metadata": {},
   "outputs": [],
   "source": [
    "import intake\n",
    "catalog = intake.open_esm_datastore('data/campaign-cesm2-cmip6-timeseries.json', sep=':')\n",
    "variables = catalog.search(component='ocn').df.variable.unique()\n",
    "variables = sorted(variables)\n",
    "\n",
    "with open('all-ocn-vars.yml', 'w') as fid:\n",
    "    for v in variables:\n",
    "        fid.write(f'        - {v}\\n')"
   ]
  },
  {
   "cell_type": "code",
   "execution_count": null,
   "metadata": {},
   "outputs": [],
   "source": [
    "from itertools import product\n",
    "import pandas as pd\n",
    "\n",
    "class Collection(object):\n",
    "    \"\"\"class to aggregate multiple `Components`\"\"\"\n",
    "    \n",
    "    def __init__(self, **indexes):\n",
    "        keys = indexes.keys()\n",
    "\n",
    "        index = pd.MultiIndex.from_product(\n",
    "            [indexes[k] for k in keys], \n",
    "            names=keys,\n",
    "        )\n",
    "        \n",
    "        components = [fnl.Component(**{k: v for k, v in zip(keys, vals)})\n",
    "                      for vals in product(*[indexes[k] for k in keys])]\n",
    "        self._data = pd.DataFrame(components, index=index)\n",
    "    \n",
    "        \n",
    "x = Collection(\n",
    "    model=['cesm2'],\n",
    "    experiment=experiments,\n",
    "    variable=variables,\n",
    ")   \n",
    "print(x._data)"
   ]
  }
 ],
 "metadata": {
  "kernelspec": {
   "display_name": "Python [conda env:miniconda3-cesm2-marbl]",
   "language": "python",
   "name": "conda-env-miniconda3-cesm2-marbl-py"
  },
  "language_info": {
   "codemirror_mode": {
    "name": "ipython",
    "version": 3
   },
   "file_extension": ".py",
   "mimetype": "text/x-python",
   "name": "python",
   "nbconvert_exporter": "python",
   "pygments_lexer": "ipython3",
   "version": "3.7.6"
  }
 },
 "nbformat": 4,
 "nbformat_minor": 4
}
