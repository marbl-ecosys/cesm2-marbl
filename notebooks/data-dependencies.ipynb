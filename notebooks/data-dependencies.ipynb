{
 "cells": [
  {
   "cell_type": "code",
   "execution_count": 1,
   "id": "62f0b8d1-95aa-4268-b317-94246f5982bb",
   "metadata": {},
   "outputs": [],
   "source": [
    "import os\n",
    "from subprocess import check_call\n",
    "import yaml\n",
    "\n",
    "import intake\n",
    "\n",
    "import operators as ops\n",
    "import utils\n",
    "import funnel"
   ]
  },
  {
   "cell_type": "code",
   "execution_count": 2,
   "id": "d8ef94d0-ffa9-4f8d-adcf-c0d70df65e2b",
   "metadata": {},
   "outputs": [
    {
     "data": {
      "text/html": [
       "<p><strong>campaign-cesm2-cmip6-timeseries catalog with 239 dataset(s) from 312503 asset(s)</strong>:</p> <div>\n",
       "<style scoped>\n",
       "    .dataframe tbody tr th:only-of-type {\n",
       "        vertical-align: middle;\n",
       "    }\n",
       "\n",
       "    .dataframe tbody tr th {\n",
       "        vertical-align: top;\n",
       "    }\n",
       "\n",
       "    .dataframe thead th {\n",
       "        text-align: right;\n",
       "    }\n",
       "</style>\n",
       "<table border=\"1\" class=\"dataframe\">\n",
       "  <thead>\n",
       "    <tr style=\"text-align: right;\">\n",
       "      <th></th>\n",
       "      <th>unique</th>\n",
       "    </tr>\n",
       "  </thead>\n",
       "  <tbody>\n",
       "    <tr>\n",
       "      <th>Unnamed: 0</th>\n",
       "      <td>312503</td>\n",
       "    </tr>\n",
       "    <tr>\n",
       "      <th>experiment</th>\n",
       "      <td>13</td>\n",
       "    </tr>\n",
       "    <tr>\n",
       "      <th>case</th>\n",
       "      <td>33</td>\n",
       "    </tr>\n",
       "    <tr>\n",
       "      <th>component</th>\n",
       "      <td>6</td>\n",
       "    </tr>\n",
       "    <tr>\n",
       "      <th>stream</th>\n",
       "      <td>22</td>\n",
       "    </tr>\n",
       "    <tr>\n",
       "      <th>variable</th>\n",
       "      <td>2641</td>\n",
       "    </tr>\n",
       "    <tr>\n",
       "      <th>date_range</th>\n",
       "      <td>596</td>\n",
       "    </tr>\n",
       "    <tr>\n",
       "      <th>member_id</th>\n",
       "      <td>12</td>\n",
       "    </tr>\n",
       "    <tr>\n",
       "      <th>path</th>\n",
       "      <td>312503</td>\n",
       "    </tr>\n",
       "    <tr>\n",
       "      <th>ctrl_branch_year</th>\n",
       "      <td>18</td>\n",
       "    </tr>\n",
       "    <tr>\n",
       "      <th>ctrl_experiment</th>\n",
       "      <td>5</td>\n",
       "    </tr>\n",
       "    <tr>\n",
       "      <th>ctrl_member_id</th>\n",
       "      <td>5</td>\n",
       "    </tr>\n",
       "  </tbody>\n",
       "</table>\n",
       "</div>"
      ],
      "text/plain": [
       "<IPython.core.display.HTML object>"
      ]
     },
     "metadata": {},
     "output_type": "display_data"
    }
   ],
   "source": [
    "esm_collection_json = 'data/campaign-cesm2-cmip6-timeseries.json'\n",
    "catalog = intake.open_esm_datastore(esm_collection_json)\n",
    "catalog"
   ]
  },
  {
   "cell_type": "code",
   "execution_count": 3,
   "id": "2f481d98-e547-4dc0-9dbf-205b29e08cd1",
   "metadata": {},
   "outputs": [],
   "source": [
    "with open('datasets.yml') as fid:\n",
    "    datasets = yaml.safe_load(fid)"
   ]
  },
  {
   "cell_type": "code",
   "execution_count": 4,
   "id": "f15ed144-6f14-4c84-91c9-5048c1e2db24",
   "metadata": {},
   "outputs": [],
   "source": [
    "data_dir = f'/glade/scratch/{os.environ[\"USER\"]}/cesm2-marbl-data'\n",
    "if True:\n",
    "    check_call(['rm', '-fr', data_dir])\n",
    "os.makedirs(data_dir, exist_ok=True)        "
   ]
  },
  {
   "cell_type": "code",
   "execution_count": 5,
   "id": "5791cab9-27c4-410d-bb8c-f4226d15fb45",
   "metadata": {},
   "outputs": [
    {
     "data": {
      "text/plain": [
       "{'epoch_mean': {'experiment': {'historical': ['1990', '2014'],\n",
       "   'SSP5-RCP8.5': ['2086', '2100'],\n",
       "   'SSP1-2.6': ['2086', '2100'],\n",
       "   'SSP2-4.5': ['2086', '2100'],\n",
       "   'SSP3-7.0': ['2086', '2100'],\n",
       "   'SSP5-8.5': ['2086', '2100']}},\n",
       " 'global_mean_timeseries_ann': None,\n",
       " 'global_integral_timeseries_ann': None}"
      ]
     },
     "execution_count": 5,
     "metadata": {},
     "output_type": "execute_result"
    }
   ],
   "source": [
    "with open('_config_calc.yml') as fid:\n",
    "    config_dict = yaml.load(fid, Loader=yaml.Loader)\n",
    "\n",
    "_collections = config_dict['data_collections']\n",
    "_collections"
   ]
  },
  {
   "cell_type": "code",
   "execution_count": 6,
   "id": "72ed9d2c-0222-4b11-9844-c425dc1d8227",
   "metadata": {},
   "outputs": [
    {
     "data": {
      "text/html": [
       "<table style=\"border: 2px solid white;\">\n",
       "<tr>\n",
       "<td style=\"vertical-align: top; border: 0px solid white\">\n",
       "<h3 style=\"text-align: left;\">Client</h3>\n",
       "<ul style=\"text-align: left; list-style: none; margin: 0; padding: 0;\">\n",
       "  <li><b>Scheduler: </b>tcp://10.12.206.63:34640</li>\n",
       "  <li><b>Dashboard: </b><a href='https://jupyterhub.hpc.ucar.edu/stable/user/mclong/proxy/8787/status' target='_blank'>https://jupyterhub.hpc.ucar.edu/stable/user/mclong/proxy/8787/status</a>\n",
       "</ul>\n",
       "</td>\n",
       "<td style=\"vertical-align: top; border: 0px solid white\">\n",
       "<h3 style=\"text-align: left;\">Cluster</h3>\n",
       "<ul style=\"text-align: left; list-style:none; margin: 0; padding: 0;\">\n",
       "  <li><b>Workers: </b>0</li>\n",
       "  <li><b>Cores: </b>0</li>\n",
       "  <li><b>Memory: </b>0 B</li>\n",
       "</ul>\n",
       "</td>\n",
       "</tr>\n",
       "</table>"
      ],
      "text/plain": [
       "<Client: 'tcp://10.12.206.63:34640' processes=0 threads=0, memory=0 B>"
      ]
     },
     "execution_count": 6,
     "metadata": {},
     "output_type": "execute_result"
    }
   ],
   "source": [
    "cluster, client = utils.get_ClusterClient()\n",
    "cluster.scale(12) #adapt(minimum_jobs=0, maximum_jobs=24)\n",
    "client"
   ]
  },
  {
   "cell_type": "code",
   "execution_count": 10,
   "id": "b5d92e24-f821-4ed8-a9a5-e8e0efdd8577",
   "metadata": {
    "tags": []
   },
   "outputs": [
    {
     "name": "stdout",
     "output_type": "stream",
     "text": [
      "SST -- expecting single key, found: ['ocn.historical.pop.h', 'ocn.historical.pop.h.nday1']\n",
      "\n",
      "--> The keys in the returned dictionary of datasets are constructed as follows:\n",
      "\t'component.experiment.stream'\n"
     ]
    },
    {
     "data": {
      "text/html": [
       "\n",
       "    <div>\n",
       "        <style>\n",
       "            /* Turns off some styling */\n",
       "            progress {\n",
       "                /* gets rid of default border in Firefox and Opera. */\n",
       "                border: none;\n",
       "                /* Needs to be in here for Safari polyfill so background images work as expected. */\n",
       "                background-size: auto;\n",
       "            }\n",
       "            .progress-bar-interrupted, .progress-bar-interrupted::-webkit-progress-bar {\n",
       "                background: #F44336;\n",
       "            }\n",
       "        </style>\n",
       "      <progress value='1' class='' max='1' style='width:300px; height:20px; vertical-align: middle;'></progress>\n",
       "      100.00% [1/1 00:00<00:00]\n",
       "    </div>\n",
       "    "
      ],
      "text/plain": [
       "<IPython.core.display.HTML object>"
      ]
     },
     "metadata": {},
     "output_type": "display_data"
    },
    {
     "name": "stdout",
     "output_type": "stream",
     "text": [
      "\n",
      "--> The keys in the returned dictionary of datasets are constructed as follows:\n",
      "\t'component.experiment.stream'\n"
     ]
    },
    {
     "data": {
      "text/html": [
       "\n",
       "    <div>\n",
       "        <style>\n",
       "            /* Turns off some styling */\n",
       "            progress {\n",
       "                /* gets rid of default border in Firefox and Opera. */\n",
       "                border: none;\n",
       "                /* Needs to be in here for Safari polyfill so background images work as expected. */\n",
       "                background-size: auto;\n",
       "            }\n",
       "            .progress-bar-interrupted, .progress-bar-interrupted::-webkit-progress-bar {\n",
       "                background: #F44336;\n",
       "            }\n",
       "        </style>\n",
       "      <progress value='1' class='' max='1' style='width:300px; height:20px; vertical-align: middle;'></progress>\n",
       "      100.00% [1/1 00:00<00:00]\n",
       "    </div>\n",
       "    "
      ],
      "text/plain": [
       "<IPython.core.display.HTML object>"
      ]
     },
     "metadata": {},
     "output_type": "display_data"
    },
    {
     "name": "stdout",
     "output_type": "stream",
     "text": [
      "\n",
      "--> The keys in the returned dictionary of datasets are constructed as follows:\n",
      "\t'component.experiment.stream'\n"
     ]
    },
    {
     "data": {
      "text/html": [
       "\n",
       "    <div>\n",
       "        <style>\n",
       "            /* Turns off some styling */\n",
       "            progress {\n",
       "                /* gets rid of default border in Firefox and Opera. */\n",
       "                border: none;\n",
       "                /* Needs to be in here for Safari polyfill so background images work as expected. */\n",
       "                background-size: auto;\n",
       "            }\n",
       "            .progress-bar-interrupted, .progress-bar-interrupted::-webkit-progress-bar {\n",
       "                background: #F44336;\n",
       "            }\n",
       "        </style>\n",
       "      <progress value='1' class='' max='1' style='width:300px; height:20px; vertical-align: middle;'></progress>\n",
       "      100.00% [1/1 00:00<00:00]\n",
       "    </div>\n",
       "    "
      ],
      "text/plain": [
       "<IPython.core.display.HTML object>"
      ]
     },
     "metadata": {},
     "output_type": "display_data"
    },
    {
     "name": "stdout",
     "output_type": "stream",
     "text": [
      "\n",
      "--> The keys in the returned dictionary of datasets are constructed as follows:\n",
      "\t'component.experiment.stream'\n"
     ]
    },
    {
     "data": {
      "text/html": [
       "\n",
       "    <div>\n",
       "        <style>\n",
       "            /* Turns off some styling */\n",
       "            progress {\n",
       "                /* gets rid of default border in Firefox and Opera. */\n",
       "                border: none;\n",
       "                /* Needs to be in here for Safari polyfill so background images work as expected. */\n",
       "                background-size: auto;\n",
       "            }\n",
       "            .progress-bar-interrupted, .progress-bar-interrupted::-webkit-progress-bar {\n",
       "                background: #F44336;\n",
       "            }\n",
       "        </style>\n",
       "      <progress value='1' class='' max='1' style='width:300px; height:20px; vertical-align: middle;'></progress>\n",
       "      100.00% [1/1 00:00<00:00]\n",
       "    </div>\n",
       "    "
      ],
      "text/plain": [
       "<IPython.core.display.HTML object>"
      ]
     },
     "metadata": {},
     "output_type": "display_data"
    },
    {
     "name": "stdout",
     "output_type": "stream",
     "text": [
      "\n",
      "--> The keys in the returned dictionary of datasets are constructed as follows:\n",
      "\t'component.experiment.stream'\n"
     ]
    },
    {
     "data": {
      "text/html": [
       "\n",
       "    <div>\n",
       "        <style>\n",
       "            /* Turns off some styling */\n",
       "            progress {\n",
       "                /* gets rid of default border in Firefox and Opera. */\n",
       "                border: none;\n",
       "                /* Needs to be in here for Safari polyfill so background images work as expected. */\n",
       "                background-size: auto;\n",
       "            }\n",
       "            .progress-bar-interrupted, .progress-bar-interrupted::-webkit-progress-bar {\n",
       "                background: #F44336;\n",
       "            }\n",
       "        </style>\n",
       "      <progress value='1' class='' max='1' style='width:300px; height:20px; vertical-align: middle;'></progress>\n",
       "      100.00% [1/1 00:00<00:00]\n",
       "    </div>\n",
       "    "
      ],
      "text/plain": [
       "<IPython.core.display.HTML object>"
      ]
     },
     "metadata": {},
     "output_type": "display_data"
    },
    {
     "ename": "KeyError",
     "evalue": "'pop.h.nday1'",
     "output_type": "error",
     "traceback": [
      "\u001b[0;31m---------------------------------------------------------------------------\u001b[0m",
      "\u001b[0;31mKeyError\u001b[0m                                  Traceback (most recent call last)",
      "\u001b[0;32m<ipython-input-10-06cbba08f16f>\u001b[0m in \u001b[0;36m<module>\u001b[0;34m\u001b[0m\n\u001b[1;32m     62\u001b[0m \u001b[0;34m\u001b[0m\u001b[0m\n\u001b[1;32m     63\u001b[0m                 \u001b[0;31m# get the dataset\u001b[0m\u001b[0;34m\u001b[0m\u001b[0;34m\u001b[0m\u001b[0;34m\u001b[0m\u001b[0m\n\u001b[0;32m---> 64\u001b[0;31m                 \u001b[0mdsets\u001b[0m \u001b[0;34m=\u001b[0m \u001b[0mcat_sub\u001b[0m\u001b[0;34m.\u001b[0m\u001b[0mto_dataset_dict\u001b[0m\u001b[0;34m(\u001b[0m\u001b[0mcdf_kwargs\u001b[0m\u001b[0;34m=\u001b[0m\u001b[0mcdf_kwargs_stream\u001b[0m\u001b[0;34m[\u001b[0m\u001b[0mstream\u001b[0m\u001b[0;34m]\u001b[0m\u001b[0;34m)\u001b[0m\u001b[0;34m\u001b[0m\u001b[0;34m\u001b[0m\u001b[0m\n\u001b[0m\u001b[1;32m     65\u001b[0m                 \u001b[0m_\u001b[0m\u001b[0;34m,\u001b[0m \u001b[0mds\u001b[0m \u001b[0;34m=\u001b[0m \u001b[0mdsets\u001b[0m\u001b[0;34m.\u001b[0m\u001b[0mpopitem\u001b[0m\u001b[0;34m(\u001b[0m\u001b[0;34m)\u001b[0m\u001b[0;34m\u001b[0m\u001b[0;34m\u001b[0m\u001b[0m\n\u001b[1;32m     66\u001b[0m \u001b[0;34m\u001b[0m\u001b[0m\n",
      "\u001b[0;31mKeyError\u001b[0m: 'pop.h.nday1'"
     ]
    }
   ],
   "source": [
    "clobber = False\n",
    "\n",
    "cdf_kwargs_stream = {\n",
    "    'pop.h': dict(chunks={'time': 12}, decode_coords=False),\n",
    "    'pop.h.ecosys.nyear1': dict(chunks={'time': 1}, decode_coords=False),\n",
    "}\n",
    "\n",
    "dfs = {}; paths = {}\n",
    "for collection_type, exp_dict in datasets.items():\n",
    "    \n",
    "    for experiment, variable_list in exp_dict.items():\n",
    "            \n",
    "            cat = catalog.search(\n",
    "                experiment=experiment, \n",
    "                variable=variable_list, \n",
    "                component='ocn')\n",
    "            \n",
    "            for v in variable_list:\n",
    "                \n",
    "                # subset catalog\n",
    "                cat_sub = cat.search(variable=v)\n",
    "                keys = list(cat_sub.keys())\n",
    "                if not keys:\n",
    "                    print(f'missing: {collection_type}, {experiment}, {v}')\n",
    "                    continue\n",
    "                \n",
    "                elif len(keys) > 1:                \n",
    "                    #assert len(keys) == 1, f'expecting single key, found: {keys}'\n",
    "                    print(f'{v} -- expecting single key, found: {keys}')\n",
    "                    continue\n",
    "                    \n",
    "                # get info\n",
    "                key = keys[0]\n",
    "                key_info = funnel.core._intake_esm_get_keys_info(cat_sub)[key]                       \n",
    "                stream = key_info['stream']\n",
    "                \n",
    "                date_range = cat_sub.df.date_range.to_list()\n",
    "                date_range = '-'.join([date_range[0].split('-')[0], date_range[-1].split('-')[-1]]) \n",
    "                \n",
    "                # set operations\n",
    "                sel_dict = dict()\n",
    "                if collection_type == 'timeseries':\n",
    "                    pass \n",
    "                \n",
    "                elif collection_type == 'epoch_mean':\n",
    "                    time_range = _collections['epoch_mean']['experiment'][experiment]                    \n",
    "                    sel_dict = dict(time=slice(time_range[0], time_range[1]))                        \n",
    "                    \n",
    "                    if stream == 'pop.h':\n",
    "                        date_range = '-'.join([time_range[0]+'01', time_range[-1]+'12'])\n",
    "                    \n",
    "                    elif stream == 'pop.h.ecosys.nyear1':\n",
    "                        date_range = '-'.join([time_range[0], time_range[-1]])                    \n",
    "                \n",
    "                # name this dataset\n",
    "                name = f\"cesm2-cmip6.{experiment}.{stream}.{v}.{date_range}\"\n",
    "                file_out = f'{data_dir}/{name}.zarr'\n",
    "                \n",
    "                # to write or not to write? if not, move on\n",
    "                if os.path.exists(file_out) and not clobber:\n",
    "                    continue \n",
    "\n",
    "                # get the dataset\n",
    "                dsets = cat_sub.to_dataset_dict(cdf_kwargs=cdf_kwargs_stream[stream])\n",
    "                _, ds = dsets.popitem()\n",
    "                \n",
    "                # center the time axix\n",
    "                ds = ops.center_time(ds)\n",
    "\n",
    "                # apply operations                \n",
    "                if sel_dict:\n",
    "                    ds = ds.sel(**sel_dict)[[v]]\n",
    "                \n",
    "                # write\n",
    "                ds.to_zarr(file_out, mode='w')"
   ]
  },
  {
   "cell_type": "code",
   "execution_count": null,
   "id": "11e7d846-e26d-48cd-8bef-b03d7875d200",
   "metadata": {},
   "outputs": [],
   "source": [
    "# data_dir = f'/glade/scratch/{os.environ[\"USER\"]}/cesm2-marbl-data'\n",
    "# os.makedirs(data_dir, exist_ok=True)\n",
    "\n",
    "# data_vol_GB = {}\n",
    "# for key, paths in paths.items():\n",
    "#     data_vol_GB[key] = 0.\n",
    "#     for path in paths[key]:\n",
    "#         data_vol_GB[key] += os.stat(path).st_size / 1024**3\n",
    "#         check_call(['ln', '-sf', path, data_dir+'/.'])\n",
    "        \n",
    "#     print(f'Data volume {key}: {data_vol_GB[key]:0.2f} GB')    "
   ]
  },
  {
   "cell_type": "code",
   "execution_count": 8,
   "id": "c9893310-fe13-43d1-9d71-16e28e980926",
   "metadata": {},
   "outputs": [
    {
     "data": {
      "text/plain": [
       "'SST'"
      ]
     },
     "execution_count": 8,
     "metadata": {},
     "output_type": "execute_result"
    }
   ],
   "source": [
    "v\n"
   ]
  },
  {
   "cell_type": "code",
   "execution_count": null,
   "id": "999d8995-37a2-4029-ac72-85509b331ec7",
   "metadata": {},
   "outputs": [],
   "source": []
  }
 ],
 "metadata": {
  "kernelspec": {
   "display_name": "Python [conda env:miniconda3-cesm2-marbl]",
   "language": "python",
   "name": "conda-env-miniconda3-cesm2-marbl-py"
  },
  "language_info": {
   "codemirror_mode": {
    "name": "ipython",
    "version": 3
   },
   "file_extension": ".py",
   "mimetype": "text/x-python",
   "name": "python",
   "nbconvert_exporter": "python",
   "pygments_lexer": "ipython3",
   "version": "3.7.10"
  }
 },
 "nbformat": 4,
 "nbformat_minor": 5
}
