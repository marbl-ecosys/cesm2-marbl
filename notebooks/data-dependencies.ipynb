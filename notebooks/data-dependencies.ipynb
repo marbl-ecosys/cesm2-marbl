{
 "cells": [
  {
   "cell_type": "markdown",
   "id": "1c8d867f-db31-4da5-9b5e-f03affd07449",
   "metadata": {},
   "source": [
    "# Identify data dependencies"
   ]
  },
  {
   "cell_type": "code",
   "execution_count": 1,
   "id": "7aa808f6-2bca-4b1e-bf57-86db536b2d79",
   "metadata": {},
   "outputs": [],
   "source": [
    "%load_ext autoreload\n",
    "%autoreload 2"
   ]
  },
  {
   "cell_type": "code",
   "execution_count": 2,
   "id": "62f0b8d1-95aa-4268-b317-94246f5982bb",
   "metadata": {},
   "outputs": [],
   "source": [
    "import os\n",
    "from subprocess import check_call\n",
    "import yaml\n",
    "\n",
    "import intake\n",
    "\n",
    "import pandas as pd\n",
    "\n",
    "import operators as ops\n",
    "import utils\n",
    "import funnel"
   ]
  },
  {
   "cell_type": "markdown",
   "id": "1fb1b00e-fb66-4381-b9c7-8fb28067120d",
   "metadata": {},
   "source": [
    "## Post-processed assets"
   ]
  },
  {
   "cell_type": "code",
   "execution_count": 3,
   "id": "27371fe9-1cd0-4070-a6d5-88ba2daf7179",
   "metadata": {},
   "outputs": [
    {
     "data": {
      "text/html": [
       "<div>\n",
       "<style scoped>\n",
       "    .dataframe tbody tr th:only-of-type {\n",
       "        vertical-align: middle;\n",
       "    }\n",
       "\n",
       "    .dataframe tbody tr th {\n",
       "        vertical-align: top;\n",
       "    }\n",
       "\n",
       "    .dataframe thead th {\n",
       "        text-align: right;\n",
       "    }\n",
       "</style>\n",
       "<table border=\"1\" class=\"dataframe\">\n",
       "  <thead>\n",
       "    <tr style=\"text-align: right;\">\n",
       "      <th></th>\n",
       "      <th>component</th>\n",
       "      <th>experiment</th>\n",
       "      <th>stream</th>\n",
       "      <th>variable</th>\n",
       "      <th>name</th>\n",
       "      <th>path</th>\n",
       "    </tr>\n",
       "  </thead>\n",
       "  <tbody>\n",
       "    <tr>\n",
       "      <th>0</th>\n",
       "      <td>ocn</td>\n",
       "      <td>SSP5-8.5</td>\n",
       "      <td>pop.h</td>\n",
       "      <td>POC_FLUX_100m</td>\n",
       "      <td>global_integral_timeseries_ann</td>\n",
       "      <td>/glade/scratch/mclong/cesm2-marbl-archive/0050...</td>\n",
       "    </tr>\n",
       "    <tr>\n",
       "      <th>1</th>\n",
       "      <td>ocn</td>\n",
       "      <td>SSP3-7.0</td>\n",
       "      <td>pop.h</td>\n",
       "      <td>photoC_TOT_zint_100m</td>\n",
       "      <td>global_integral_timeseries_ann</td>\n",
       "      <td>/glade/scratch/mclong/cesm2-marbl-archive/0579...</td>\n",
       "    </tr>\n",
       "    <tr>\n",
       "      <th>2</th>\n",
       "      <td>ocn</td>\n",
       "      <td>SSP5-8.5</td>\n",
       "      <td>pop.h</td>\n",
       "      <td>photoC_TOT_zint_100m</td>\n",
       "      <td>global_integral_timeseries_ann</td>\n",
       "      <td>/glade/scratch/mclong/cesm2-marbl-archive/0714...</td>\n",
       "    </tr>\n",
       "    <tr>\n",
       "      <th>3</th>\n",
       "      <td>ocn</td>\n",
       "      <td>SSP5-8.5</td>\n",
       "      <td>pop.h</td>\n",
       "      <td>photoC_diat_zint_100m</td>\n",
       "      <td>global_integral_timeseries_ann</td>\n",
       "      <td>/glade/scratch/mclong/cesm2-marbl-archive/0b9f...</td>\n",
       "    </tr>\n",
       "    <tr>\n",
       "      <th>4</th>\n",
       "      <td>ocn</td>\n",
       "      <td>SSP1-2.6</td>\n",
       "      <td>pop.h</td>\n",
       "      <td>SST</td>\n",
       "      <td>global_mean_timeseries_ann</td>\n",
       "      <td>/glade/scratch/mclong/cesm2-marbl-archive/1122...</td>\n",
       "    </tr>\n",
       "    <tr>\n",
       "      <th>...</th>\n",
       "      <td>...</td>\n",
       "      <td>...</td>\n",
       "      <td>...</td>\n",
       "      <td>...</td>\n",
       "      <td>...</td>\n",
       "      <td>...</td>\n",
       "    </tr>\n",
       "    <tr>\n",
       "      <th>58</th>\n",
       "      <td>ocn</td>\n",
       "      <td>historical</td>\n",
       "      <td>pop.h</td>\n",
       "      <td>spC_zint_100m</td>\n",
       "      <td>epoch_mean</td>\n",
       "      <td>/glade/scratch/mclong/cesm2-marbl-archive/ec1d...</td>\n",
       "    </tr>\n",
       "    <tr>\n",
       "      <th>59</th>\n",
       "      <td>ocn</td>\n",
       "      <td>SSP2-4.5</td>\n",
       "      <td>pop.h</td>\n",
       "      <td>SST</td>\n",
       "      <td>global_mean_timeseries_ann</td>\n",
       "      <td>/glade/scratch/mclong/cesm2-marbl-archive/f585...</td>\n",
       "    </tr>\n",
       "    <tr>\n",
       "      <th>60</th>\n",
       "      <td>ocn</td>\n",
       "      <td>historical</td>\n",
       "      <td>pop.h</td>\n",
       "      <td>DOCt</td>\n",
       "      <td>epoch_mean</td>\n",
       "      <td>/glade/scratch/mclong/cesm2-marbl-archive/f730...</td>\n",
       "    </tr>\n",
       "    <tr>\n",
       "      <th>61</th>\n",
       "      <td>ocn</td>\n",
       "      <td>historical</td>\n",
       "      <td>pop.h</td>\n",
       "      <td>DOP</td>\n",
       "      <td>epoch_mean</td>\n",
       "      <td>/glade/scratch/mclong/cesm2-marbl-archive/f891...</td>\n",
       "    </tr>\n",
       "    <tr>\n",
       "      <th>62</th>\n",
       "      <td>ocn</td>\n",
       "      <td>historical</td>\n",
       "      <td>pop.h</td>\n",
       "      <td>DON</td>\n",
       "      <td>epoch_mean</td>\n",
       "      <td>/glade/scratch/mclong/cesm2-marbl-archive/ff72...</td>\n",
       "    </tr>\n",
       "  </tbody>\n",
       "</table>\n",
       "<p>63 rows × 6 columns</p>\n",
       "</div>"
      ],
      "text/plain": [
       "   component  experiment stream               variable  \\\n",
       "0        ocn    SSP5-8.5  pop.h          POC_FLUX_100m   \n",
       "1        ocn    SSP3-7.0  pop.h   photoC_TOT_zint_100m   \n",
       "2        ocn    SSP5-8.5  pop.h   photoC_TOT_zint_100m   \n",
       "3        ocn    SSP5-8.5  pop.h  photoC_diat_zint_100m   \n",
       "4        ocn    SSP1-2.6  pop.h                    SST   \n",
       "..       ...         ...    ...                    ...   \n",
       "58       ocn  historical  pop.h          spC_zint_100m   \n",
       "59       ocn    SSP2-4.5  pop.h                    SST   \n",
       "60       ocn  historical  pop.h                   DOCt   \n",
       "61       ocn  historical  pop.h                    DOP   \n",
       "62       ocn  historical  pop.h                    DON   \n",
       "\n",
       "                              name  \\\n",
       "0   global_integral_timeseries_ann   \n",
       "1   global_integral_timeseries_ann   \n",
       "2   global_integral_timeseries_ann   \n",
       "3   global_integral_timeseries_ann   \n",
       "4       global_mean_timeseries_ann   \n",
       "..                             ...   \n",
       "58                      epoch_mean   \n",
       "59      global_mean_timeseries_ann   \n",
       "60                      epoch_mean   \n",
       "61                      epoch_mean   \n",
       "62                      epoch_mean   \n",
       "\n",
       "                                                 path  \n",
       "0   /glade/scratch/mclong/cesm2-marbl-archive/0050...  \n",
       "1   /glade/scratch/mclong/cesm2-marbl-archive/0579...  \n",
       "2   /glade/scratch/mclong/cesm2-marbl-archive/0714...  \n",
       "3   /glade/scratch/mclong/cesm2-marbl-archive/0b9f...  \n",
       "4   /glade/scratch/mclong/cesm2-marbl-archive/1122...  \n",
       "..                                                ...  \n",
       "58  /glade/scratch/mclong/cesm2-marbl-archive/ec1d...  \n",
       "59  /glade/scratch/mclong/cesm2-marbl-archive/f585...  \n",
       "60  /glade/scratch/mclong/cesm2-marbl-archive/f730...  \n",
       "61  /glade/scratch/mclong/cesm2-marbl-archive/f891...  \n",
       "62  /glade/scratch/mclong/cesm2-marbl-archive/ff72...  \n",
       "\n",
       "[63 rows x 6 columns]"
      ]
     },
     "execution_count": 3,
     "metadata": {},
     "output_type": "execute_result"
    }
   ],
   "source": [
    "funnel_collection_json = funnel.to_intake_esm()\n",
    "funnel_cat = intake.open_esm_datastore(funnel_collection_json)\n",
    "funnel_cat.df"
   ]
  },
  {
   "cell_type": "markdown",
   "id": "b25f9ea7-a0b8-4c89-ae5a-1ced41465c39",
   "metadata": {},
   "source": [
    "## Raw data"
   ]
  },
  {
   "cell_type": "code",
   "execution_count": 4,
   "id": "d8ef94d0-ffa9-4f8d-adcf-c0d70df65e2b",
   "metadata": {},
   "outputs": [
    {
     "data": {
      "text/html": [
       "<p><strong>campaign-cesm2-cmip6-timeseries catalog with 239 dataset(s) from 312503 asset(s)</strong>:</p> <div>\n",
       "<style scoped>\n",
       "    .dataframe tbody tr th:only-of-type {\n",
       "        vertical-align: middle;\n",
       "    }\n",
       "\n",
       "    .dataframe tbody tr th {\n",
       "        vertical-align: top;\n",
       "    }\n",
       "\n",
       "    .dataframe thead th {\n",
       "        text-align: right;\n",
       "    }\n",
       "</style>\n",
       "<table border=\"1\" class=\"dataframe\">\n",
       "  <thead>\n",
       "    <tr style=\"text-align: right;\">\n",
       "      <th></th>\n",
       "      <th>unique</th>\n",
       "    </tr>\n",
       "  </thead>\n",
       "  <tbody>\n",
       "    <tr>\n",
       "      <th>Unnamed: 0</th>\n",
       "      <td>312503</td>\n",
       "    </tr>\n",
       "    <tr>\n",
       "      <th>experiment</th>\n",
       "      <td>13</td>\n",
       "    </tr>\n",
       "    <tr>\n",
       "      <th>case</th>\n",
       "      <td>33</td>\n",
       "    </tr>\n",
       "    <tr>\n",
       "      <th>component</th>\n",
       "      <td>6</td>\n",
       "    </tr>\n",
       "    <tr>\n",
       "      <th>stream</th>\n",
       "      <td>22</td>\n",
       "    </tr>\n",
       "    <tr>\n",
       "      <th>variable</th>\n",
       "      <td>2641</td>\n",
       "    </tr>\n",
       "    <tr>\n",
       "      <th>date_range</th>\n",
       "      <td>596</td>\n",
       "    </tr>\n",
       "    <tr>\n",
       "      <th>member_id</th>\n",
       "      <td>12</td>\n",
       "    </tr>\n",
       "    <tr>\n",
       "      <th>path</th>\n",
       "      <td>312503</td>\n",
       "    </tr>\n",
       "    <tr>\n",
       "      <th>ctrl_branch_year</th>\n",
       "      <td>18</td>\n",
       "    </tr>\n",
       "    <tr>\n",
       "      <th>ctrl_experiment</th>\n",
       "      <td>5</td>\n",
       "    </tr>\n",
       "    <tr>\n",
       "      <th>ctrl_member_id</th>\n",
       "      <td>5</td>\n",
       "    </tr>\n",
       "  </tbody>\n",
       "</table>\n",
       "</div>"
      ],
      "text/plain": [
       "<IPython.core.display.HTML object>"
      ]
     },
     "metadata": {},
     "output_type": "display_data"
    }
   ],
   "source": [
    "esm_collection_json = 'data/campaign-cesm2-cmip6-timeseries.json'\n",
    "catalog = intake.open_esm_datastore(esm_collection_json)\n",
    "catalog"
   ]
  },
  {
   "cell_type": "markdown",
   "id": "7306ff72-edd3-49c7-bdf3-3c54e4df79ac",
   "metadata": {},
   "source": [
    "### Write csv of data used"
   ]
  },
  {
   "cell_type": "code",
   "execution_count": 5,
   "id": "110caceb-1ca8-4dbc-9c79-2b06c5be2507",
   "metadata": {},
   "outputs": [
    {
     "data": {
      "text/html": [
       "<div>\n",
       "<style scoped>\n",
       "    .dataframe tbody tr th:only-of-type {\n",
       "        vertical-align: middle;\n",
       "    }\n",
       "\n",
       "    .dataframe tbody tr th {\n",
       "        vertical-align: top;\n",
       "    }\n",
       "\n",
       "    .dataframe thead th {\n",
       "        text-align: right;\n",
       "    }\n",
       "</style>\n",
       "<table border=\"1\" class=\"dataframe\">\n",
       "  <thead>\n",
       "    <tr style=\"text-align: right;\">\n",
       "      <th></th>\n",
       "      <th>collection</th>\n",
       "      <th>case</th>\n",
       "      <th>stream</th>\n",
       "      <th>variable</th>\n",
       "      <th>path</th>\n",
       "    </tr>\n",
       "  </thead>\n",
       "  <tbody>\n",
       "    <tr>\n",
       "      <th>0</th>\n",
       "      <td>epoch_mean</td>\n",
       "      <td>b.e21.BHIST.f09_g17.CMIP6-historical.001</td>\n",
       "      <td>pop.h</td>\n",
       "      <td>ABIO_DIC14</td>\n",
       "      <td>/glade/campaign/collections/cmip/CMIP6/timeser...</td>\n",
       "    </tr>\n",
       "    <tr>\n",
       "      <th>1</th>\n",
       "      <td>epoch_mean</td>\n",
       "      <td>b.e21.BHIST.f09_g17.CMIP6-historical.002</td>\n",
       "      <td>pop.h</td>\n",
       "      <td>ABIO_DIC14</td>\n",
       "      <td>/glade/campaign/collections/cmip/CMIP6/timeser...</td>\n",
       "    </tr>\n",
       "    <tr>\n",
       "      <th>2</th>\n",
       "      <td>epoch_mean</td>\n",
       "      <td>b.e21.BHIST.f09_g17.CMIP6-historical.003</td>\n",
       "      <td>pop.h</td>\n",
       "      <td>ABIO_DIC14</td>\n",
       "      <td>/glade/campaign/collections/cmip/CMIP6/timeser...</td>\n",
       "    </tr>\n",
       "    <tr>\n",
       "      <th>3</th>\n",
       "      <td>epoch_mean</td>\n",
       "      <td>b.e21.BHIST.f09_g17.CMIP6-historical.004</td>\n",
       "      <td>pop.h</td>\n",
       "      <td>ABIO_DIC14</td>\n",
       "      <td>/glade/campaign/collections/cmip/CMIP6/timeser...</td>\n",
       "    </tr>\n",
       "    <tr>\n",
       "      <th>4</th>\n",
       "      <td>epoch_mean</td>\n",
       "      <td>b.e21.BHIST.f09_g17.CMIP6-historical.005</td>\n",
       "      <td>pop.h</td>\n",
       "      <td>ABIO_DIC14</td>\n",
       "      <td>/glade/campaign/collections/cmip/CMIP6/timeser...</td>\n",
       "    </tr>\n",
       "    <tr>\n",
       "      <th>...</th>\n",
       "      <td>...</td>\n",
       "      <td>...</td>\n",
       "      <td>...</td>\n",
       "      <td>...</td>\n",
       "      <td>...</td>\n",
       "    </tr>\n",
       "    <tr>\n",
       "      <th>2109</th>\n",
       "      <td>global_integral_timeseries_ann</td>\n",
       "      <td>b.e21.BSSP585cmip6.f09_g17.CMIP6-SSP5-8.5.101</td>\n",
       "      <td>pop.h</td>\n",
       "      <td>POC_FLUX_100m</td>\n",
       "      <td>/glade/campaign/collections/cmip/CMIP6/timeser...</td>\n",
       "    </tr>\n",
       "    <tr>\n",
       "      <th>2110</th>\n",
       "      <td>global_integral_timeseries_ann</td>\n",
       "      <td>b.e21.BSSP585cmip6.f09_g17.CMIP6-SSP5-8.5.102</td>\n",
       "      <td>pop.h</td>\n",
       "      <td>POC_FLUX_100m</td>\n",
       "      <td>/glade/campaign/collections/cmip/CMIP6/timeser...</td>\n",
       "    </tr>\n",
       "    <tr>\n",
       "      <th>2111</th>\n",
       "      <td>global_integral_timeseries_ann</td>\n",
       "      <td>b.e21.BSSP585cmip6.f09_g17.CMIP6-SSP5-8.5.102</td>\n",
       "      <td>pop.h</td>\n",
       "      <td>POC_FLUX_100m</td>\n",
       "      <td>/glade/campaign/collections/cmip/CMIP6/timeser...</td>\n",
       "    </tr>\n",
       "    <tr>\n",
       "      <th>2112</th>\n",
       "      <td>global_integral_timeseries_ann</td>\n",
       "      <td>b.e21.BSSP585cmip6.f09_g17.CMIP6-SSP5-8.5.103</td>\n",
       "      <td>pop.h</td>\n",
       "      <td>POC_FLUX_100m</td>\n",
       "      <td>/glade/campaign/collections/cmip/CMIP6/timeser...</td>\n",
       "    </tr>\n",
       "    <tr>\n",
       "      <th>2113</th>\n",
       "      <td>global_integral_timeseries_ann</td>\n",
       "      <td>b.e21.BSSP585cmip6.f09_g17.CMIP6-SSP5-8.5.103</td>\n",
       "      <td>pop.h</td>\n",
       "      <td>POC_FLUX_100m</td>\n",
       "      <td>/glade/campaign/collections/cmip/CMIP6/timeser...</td>\n",
       "    </tr>\n",
       "  </tbody>\n",
       "</table>\n",
       "<p>2114 rows × 5 columns</p>\n",
       "</div>"
      ],
      "text/plain": [
       "                          collection  \\\n",
       "0                         epoch_mean   \n",
       "1                         epoch_mean   \n",
       "2                         epoch_mean   \n",
       "3                         epoch_mean   \n",
       "4                         epoch_mean   \n",
       "...                              ...   \n",
       "2109  global_integral_timeseries_ann   \n",
       "2110  global_integral_timeseries_ann   \n",
       "2111  global_integral_timeseries_ann   \n",
       "2112  global_integral_timeseries_ann   \n",
       "2113  global_integral_timeseries_ann   \n",
       "\n",
       "                                               case stream       variable  \\\n",
       "0          b.e21.BHIST.f09_g17.CMIP6-historical.001  pop.h     ABIO_DIC14   \n",
       "1          b.e21.BHIST.f09_g17.CMIP6-historical.002  pop.h     ABIO_DIC14   \n",
       "2          b.e21.BHIST.f09_g17.CMIP6-historical.003  pop.h     ABIO_DIC14   \n",
       "3          b.e21.BHIST.f09_g17.CMIP6-historical.004  pop.h     ABIO_DIC14   \n",
       "4          b.e21.BHIST.f09_g17.CMIP6-historical.005  pop.h     ABIO_DIC14   \n",
       "...                                             ...    ...            ...   \n",
       "2109  b.e21.BSSP585cmip6.f09_g17.CMIP6-SSP5-8.5.101  pop.h  POC_FLUX_100m   \n",
       "2110  b.e21.BSSP585cmip6.f09_g17.CMIP6-SSP5-8.5.102  pop.h  POC_FLUX_100m   \n",
       "2111  b.e21.BSSP585cmip6.f09_g17.CMIP6-SSP5-8.5.102  pop.h  POC_FLUX_100m   \n",
       "2112  b.e21.BSSP585cmip6.f09_g17.CMIP6-SSP5-8.5.103  pop.h  POC_FLUX_100m   \n",
       "2113  b.e21.BSSP585cmip6.f09_g17.CMIP6-SSP5-8.5.103  pop.h  POC_FLUX_100m   \n",
       "\n",
       "                                                   path  \n",
       "0     /glade/campaign/collections/cmip/CMIP6/timeser...  \n",
       "1     /glade/campaign/collections/cmip/CMIP6/timeser...  \n",
       "2     /glade/campaign/collections/cmip/CMIP6/timeser...  \n",
       "3     /glade/campaign/collections/cmip/CMIP6/timeser...  \n",
       "4     /glade/campaign/collections/cmip/CMIP6/timeser...  \n",
       "...                                                 ...  \n",
       "2109  /glade/campaign/collections/cmip/CMIP6/timeser...  \n",
       "2110  /glade/campaign/collections/cmip/CMIP6/timeser...  \n",
       "2111  /glade/campaign/collections/cmip/CMIP6/timeser...  \n",
       "2112  /glade/campaign/collections/cmip/CMIP6/timeser...  \n",
       "2113  /glade/campaign/collections/cmip/CMIP6/timeser...  \n",
       "\n",
       "[2114 rows x 5 columns]"
      ]
     },
     "execution_count": 5,
     "metadata": {},
     "output_type": "execute_result"
    }
   ],
   "source": [
    "with open('_datasets.yml') as fid:\n",
    "    datasets = yaml.safe_load(fid)    \n",
    "\n",
    "\n",
    "lines = [];\n",
    "for collection_type, exp_dict in datasets.items():   \n",
    "    for experiment, variable_list in exp_dict.items():\n",
    "            assert len(variable_list) == len(set(variable_list))\n",
    "                                         \n",
    "        \n",
    "            cat = catalog.search(\n",
    "                experiment=experiment, \n",
    "                variable=variable_list, \n",
    "                component='ocn')\n",
    "            \n",
    "            for v in variable_list:\n",
    "                \n",
    "                # subset catalog\n",
    "                cat_sub = cat.search(variable=v)\n",
    "                keys = list(cat_sub.keys())\n",
    "                if not keys:\n",
    "                    print(f'missing: {collection_type}, {experiment}, {v}')\n",
    "                    continue                \n",
    "                \n",
    "                elif len(keys) > 1:                \n",
    "                    #assert len(keys) == 1, f'expecting single key, found: {keys}'\n",
    "                    print(f'{v} -- expecting single key, found: {keys}')\n",
    "                    continue\n",
    "                \n",
    "                # get info\n",
    "                key = keys[0]\n",
    "                key_info = funnel.core.intake_esm_get_keys_info(cat_sub)[key]                       \n",
    "                stream = key_info['stream']\n",
    "                \n",
    "                date_range = cat_sub.df.date_range.to_list()\n",
    "\n",
    "                for i, row in cat_sub.df.iterrows():\n",
    "                    entry = {'collection': collection_type}\n",
    "                    for column in ['case', 'stream', 'variable', 'path']:\n",
    "                        entry[column] = row[column]\n",
    "                    \n",
    "                    lines.append(entry)\n",
    "                        \n",
    "                #paths.extend(cat_sub.df.path.to_list())\n",
    "\n",
    "#paths = sorted(list(set(paths)))\n",
    "#paths\n",
    "df = pd.DataFrame(lines).drop_duplicates(ignore_index=True)\n",
    "df.to_csv('data/data-dependencies.csv')\n",
    "df"
   ]
  },
  {
   "cell_type": "code",
   "execution_count": 6,
   "id": "f15ed144-6f14-4c84-91c9-5048c1e2db24",
   "metadata": {},
   "outputs": [],
   "source": [
    "data_dir = f'/glade/scratch/{os.environ[\"USER\"]}/cesm2-marbl-data'\n",
    "if True:\n",
    "    check_call(['rm', '-fr', data_dir])\n",
    "os.makedirs(data_dir, exist_ok=True)        "
   ]
  },
  {
   "cell_type": "code",
   "execution_count": 7,
   "id": "5791cab9-27c4-410d-bb8c-f4226d15fb45",
   "metadata": {},
   "outputs": [
    {
     "data": {
      "text/plain": [
       "{'epoch_mean': {'experiment': {'historical': ['1990', '2014'],\n",
       "   'SSP5-RCP8.5': ['2086', '2100'],\n",
       "   'SSP1-2.6': ['2086', '2100'],\n",
       "   'SSP2-4.5': ['2086', '2100'],\n",
       "   'SSP3-7.0': ['2086', '2100'],\n",
       "   'SSP5-8.5': ['2086', '2100']}},\n",
       " 'global_mean_timeseries_ann': None,\n",
       " 'global_integral_timeseries_ann': None}"
      ]
     },
     "execution_count": 7,
     "metadata": {},
     "output_type": "execute_result"
    }
   ],
   "source": [
    "with open('_config_calc.yml') as fid:\n",
    "    config_dict = yaml.load(fid, Loader=yaml.Loader)\n",
    "\n",
    "_collections = config_dict['data_collections']\n",
    "_collections"
   ]
  },
  {
   "cell_type": "code",
   "execution_count": 8,
   "id": "72ed9d2c-0222-4b11-9844-c425dc1d8227",
   "metadata": {},
   "outputs": [
    {
     "data": {
      "text/html": [
       "<table style=\"border: 2px solid white;\">\n",
       "<tr>\n",
       "<td style=\"vertical-align: top; border: 0px solid white\">\n",
       "<h3 style=\"text-align: left;\">Client</h3>\n",
       "<ul style=\"text-align: left; list-style: none; margin: 0; padding: 0;\">\n",
       "  <li><b>Scheduler: </b>tcp://10.12.206.63:44527</li>\n",
       "  <li><b>Dashboard: </b><a href='https://jupyterhub.hpc.ucar.edu/stable/user/mclong/proxy/8787/status' target='_blank'>https://jupyterhub.hpc.ucar.edu/stable/user/mclong/proxy/8787/status</a>\n",
       "</ul>\n",
       "</td>\n",
       "<td style=\"vertical-align: top; border: 0px solid white\">\n",
       "<h3 style=\"text-align: left;\">Cluster</h3>\n",
       "<ul style=\"text-align: left; list-style:none; margin: 0; padding: 0;\">\n",
       "  <li><b>Workers: </b>0</li>\n",
       "  <li><b>Cores: </b>0</li>\n",
       "  <li><b>Memory: </b>0 B</li>\n",
       "</ul>\n",
       "</td>\n",
       "</tr>\n",
       "</table>"
      ],
      "text/plain": [
       "<Client: 'tcp://10.12.206.63:44527' processes=0 threads=0, memory=0 B>"
      ]
     },
     "execution_count": 8,
     "metadata": {},
     "output_type": "execute_result"
    }
   ],
   "source": [
    "cluster, client = utils.get_ClusterClient()\n",
    "cluster.scale(12) #adapt(minimum_jobs=0, maximum_jobs=24)\n",
    "client"
   ]
  },
  {
   "cell_type": "code",
   "execution_count": 9,
   "id": "9f9ec164-16be-4975-becc-0d1bb61277c2",
   "metadata": {},
   "outputs": [
    {
     "data": {
      "text/plain": [
       "['FG_CO2',\n",
       " 'photoC_TOT_zint_100m',\n",
       " 'photoC_diat_zint_100m',\n",
       " 'POC_FLUX_100m',\n",
       " 'ATM_CO2',\n",
       " 'TEMP']"
      ]
     },
     "execution_count": 9,
     "metadata": {},
     "output_type": "execute_result"
    }
   ],
   "source": [
    "collections_w_full_ts = ['global_integral_timeseries_ann', 'global_mean_timeseries_ann']\n",
    "complete_records = []\n",
    "for collection_type in collections_w_full_ts:\n",
    "    complete_records.extend(datasets[collection_type]['historical'])\n",
    "complete_records                            "
   ]
  },
  {
   "cell_type": "code",
   "execution_count": 10,
   "id": "895cf245-b7ad-409d-8e4a-8798d3f56971",
   "metadata": {},
   "outputs": [
    {
     "data": {
      "text/plain": [
       "{'epoch_mean': {'historical': ['ABIO_DIC',\n",
       "   'ABIO_DIC14',\n",
       "   'ALK',\n",
       "   'CFC11',\n",
       "   'CFC12',\n",
       "   'CO3',\n",
       "   'CaCO3_FLUX_100m',\n",
       "   'DENITRIF',\n",
       "   'DIA_IMPVF_DOC',\n",
       "   'DIA_IMPVF_DOCr',\n",
       "   'DIC',\n",
       "   'DIC_ALT_CO2',\n",
       "   'DOC',\n",
       "   'DOCr',\n",
       "   'DON',\n",
       "   'DON_RIV_FLUX',\n",
       "   'DONr',\n",
       "   'DONr_RIV_FLUX',\n",
       "   'DOP',\n",
       "   'DOPr',\n",
       "   'Fe',\n",
       "   'Fe_RIV_FLUX',\n",
       "   'HDIFB_DOC',\n",
       "   'HDIFB_DOCr',\n",
       "   'IRON_FLUX',\n",
       "   'Jint_100m_DIC',\n",
       "   'NHx_SURFACE_EMIS',\n",
       "   'NHy_FLUX',\n",
       "   'NO3',\n",
       "   'NO3_RIV_FLUX',\n",
       "   'NOx_FLUX',\n",
       "   'PO4',\n",
       "   'POP_FLUX_100m',\n",
       "   'SALT',\n",
       "   'SedDenitrif',\n",
       "   'SiO2_FLUX_100m',\n",
       "   'SiO3',\n",
       "   'WT_DOC',\n",
       "   'WT_DOCr',\n",
       "   'co3_sat_arag',\n",
       "   'co3_sat_calc',\n",
       "   'diatC',\n",
       "   'diatChl',\n",
       "   'diat_Fe_lim_Cweight_avg_100m',\n",
       "   'diat_N_lim_Cweight_avg_100m',\n",
       "   'diat_P_lim_Cweight_avg_100m',\n",
       "   'diat_SiO3_lim_Cweight_avg_100m',\n",
       "   'diazC',\n",
       "   'diazChl',\n",
       "   'diaz_Fe_lim_Cweight_avg_100m',\n",
       "   'diaz_Nfix',\n",
       "   'diaz_P_lim_Cweight_avg_100m',\n",
       "   'dust_REMIN',\n",
       "   'pfeToSed',\n",
       "   'photoC_diaz_zint_100m',\n",
       "   'photoC_sp_zint_100m',\n",
       "   'ponToSed',\n",
       "   'spC',\n",
       "   'spChl',\n",
       "   'sp_Fe_lim_Cweight_avg_100m',\n",
       "   'sp_N_lim_Cweight_avg_100m',\n",
       "   'sp_P_lim_Cweight_avg_100m'],\n",
       "  'SSP1-2.6': [],\n",
       "  'SSP2-4.5': [],\n",
       "  'SSP3-7.0': [],\n",
       "  'SSP5-8.5': []},\n",
       " 'global_mean_timeseries_ann': {'historical': ['ATM_CO2', 'TEMP'],\n",
       "  'SSP1-2.6': ['ATM_CO2', 'TEMP'],\n",
       "  'SSP2-4.5': ['ATM_CO2', 'TEMP'],\n",
       "  'SSP3-7.0': ['ATM_CO2', 'TEMP'],\n",
       "  'SSP5-8.5': ['ATM_CO2', 'TEMP']},\n",
       " 'global_integral_timeseries_ann': {'historical': ['FG_CO2',\n",
       "   'POC_FLUX_100m',\n",
       "   'photoC_TOT_zint_100m',\n",
       "   'photoC_diat_zint_100m'],\n",
       "  'SSP1-2.6': ['FG_CO2',\n",
       "   'POC_FLUX_100m',\n",
       "   'photoC_TOT_zint_100m',\n",
       "   'photoC_diat_zint_100m'],\n",
       "  'SSP2-4.5': ['FG_CO2',\n",
       "   'POC_FLUX_100m',\n",
       "   'photoC_TOT_zint_100m',\n",
       "   'photoC_diat_zint_100m'],\n",
       "  'SSP3-7.0': ['FG_CO2',\n",
       "   'POC_FLUX_100m',\n",
       "   'photoC_TOT_zint_100m',\n",
       "   'photoC_diat_zint_100m'],\n",
       "  'SSP5-8.5': ['FG_CO2',\n",
       "   'POC_FLUX_100m',\n",
       "   'photoC_TOT_zint_100m',\n",
       "   'photoC_diat_zint_100m']}}"
      ]
     },
     "execution_count": 10,
     "metadata": {},
     "output_type": "execute_result"
    }
   ],
   "source": [
    "datasets_trimmed = {}\n",
    "for collection_type, exp_dict in datasets.items():\n",
    "    datasets_trimmed[collection_type] = {}\n",
    "    for experiment, variable_list in exp_dict.items():\n",
    "        if collection_type not in collections_w_full_ts:\n",
    "            datasets_trimmed[collection_type][experiment] = sorted([v for v in variable_list if v not in complete_records])\n",
    "        else:\n",
    "            datasets_trimmed[collection_type][experiment] = sorted(variable_list)\n",
    "datasets_trimmed"
   ]
  },
  {
   "cell_type": "markdown",
   "id": "66f65b33-f448-4e95-a68c-f59bf6157408",
   "metadata": {},
   "source": [
    "## Make a datasets with subsetting applied"
   ]
  },
  {
   "cell_type": "code",
   "execution_count": null,
   "id": "b5d92e24-f821-4ed8-a9a5-e8e0efdd8577",
   "metadata": {
    "tags": []
   },
   "outputs": [
    {
     "name": "stdout",
     "output_type": "stream",
     "text": [
      "\n",
      "--> The keys in the returned dictionary of datasets are constructed as follows:\n",
      "\t'component.experiment.stream'\n"
     ]
    },
    {
     "data": {
      "text/html": [
       "\n",
       "    <div>\n",
       "        <style>\n",
       "            /* Turns off some styling */\n",
       "            progress {\n",
       "                /* gets rid of default border in Firefox and Opera. */\n",
       "                border: none;\n",
       "                /* Needs to be in here for Safari polyfill so background images work as expected. */\n",
       "                background-size: auto;\n",
       "            }\n",
       "            .progress-bar-interrupted, .progress-bar-interrupted::-webkit-progress-bar {\n",
       "                background: #F44336;\n",
       "            }\n",
       "        </style>\n",
       "      <progress value='1' class='' max='1' style='width:300px; height:20px; vertical-align: middle;'></progress>\n",
       "      100.00% [1/1 00:00<00:00]\n",
       "    </div>\n",
       "    "
      ],
      "text/plain": [
       "<IPython.core.display.HTML object>"
      ]
     },
     "metadata": {},
     "output_type": "display_data"
    },
    {
     "name": "stdout",
     "output_type": "stream",
     "text": [
      "\n",
      "--> The keys in the returned dictionary of datasets are constructed as follows:\n",
      "\t'component.experiment.stream'\n"
     ]
    },
    {
     "data": {
      "text/html": [
       "\n",
       "    <div>\n",
       "        <style>\n",
       "            /* Turns off some styling */\n",
       "            progress {\n",
       "                /* gets rid of default border in Firefox and Opera. */\n",
       "                border: none;\n",
       "                /* Needs to be in here for Safari polyfill so background images work as expected. */\n",
       "                background-size: auto;\n",
       "            }\n",
       "            .progress-bar-interrupted, .progress-bar-interrupted::-webkit-progress-bar {\n",
       "                background: #F44336;\n",
       "            }\n",
       "        </style>\n",
       "      <progress value='1' class='' max='1' style='width:300px; height:20px; vertical-align: middle;'></progress>\n",
       "      100.00% [1/1 00:00<00:00]\n",
       "    </div>\n",
       "    "
      ],
      "text/plain": [
       "<IPython.core.display.HTML object>"
      ]
     },
     "metadata": {},
     "output_type": "display_data"
    },
    {
     "name": "stdout",
     "output_type": "stream",
     "text": [
      "\n",
      "--> The keys in the returned dictionary of datasets are constructed as follows:\n",
      "\t'component.experiment.stream'\n"
     ]
    },
    {
     "data": {
      "text/html": [
       "\n",
       "    <div>\n",
       "        <style>\n",
       "            /* Turns off some styling */\n",
       "            progress {\n",
       "                /* gets rid of default border in Firefox and Opera. */\n",
       "                border: none;\n",
       "                /* Needs to be in here for Safari polyfill so background images work as expected. */\n",
       "                background-size: auto;\n",
       "            }\n",
       "            .progress-bar-interrupted, .progress-bar-interrupted::-webkit-progress-bar {\n",
       "                background: #F44336;\n",
       "            }\n",
       "        </style>\n",
       "      <progress value='1' class='' max='1' style='width:300px; height:20px; vertical-align: middle;'></progress>\n",
       "      100.00% [1/1 00:00<00:00]\n",
       "    </div>\n",
       "    "
      ],
      "text/plain": [
       "<IPython.core.display.HTML object>"
      ]
     },
     "metadata": {},
     "output_type": "display_data"
    },
    {
     "name": "stdout",
     "output_type": "stream",
     "text": [
      "\n",
      "--> The keys in the returned dictionary of datasets are constructed as follows:\n",
      "\t'component.experiment.stream'\n"
     ]
    },
    {
     "data": {
      "text/html": [
       "\n",
       "    <div>\n",
       "        <style>\n",
       "            /* Turns off some styling */\n",
       "            progress {\n",
       "                /* gets rid of default border in Firefox and Opera. */\n",
       "                border: none;\n",
       "                /* Needs to be in here for Safari polyfill so background images work as expected. */\n",
       "                background-size: auto;\n",
       "            }\n",
       "            .progress-bar-interrupted, .progress-bar-interrupted::-webkit-progress-bar {\n",
       "                background: #F44336;\n",
       "            }\n",
       "        </style>\n",
       "      <progress value='1' class='' max='1' style='width:300px; height:20px; vertical-align: middle;'></progress>\n",
       "      100.00% [1/1 00:00<00:00]\n",
       "    </div>\n",
       "    "
      ],
      "text/plain": [
       "<IPython.core.display.HTML object>"
      ]
     },
     "metadata": {},
     "output_type": "display_data"
    },
    {
     "name": "stdout",
     "output_type": "stream",
     "text": [
      "\n",
      "--> The keys in the returned dictionary of datasets are constructed as follows:\n",
      "\t'component.experiment.stream'\n"
     ]
    },
    {
     "data": {
      "text/html": [
       "\n",
       "    <div>\n",
       "        <style>\n",
       "            /* Turns off some styling */\n",
       "            progress {\n",
       "                /* gets rid of default border in Firefox and Opera. */\n",
       "                border: none;\n",
       "                /* Needs to be in here for Safari polyfill so background images work as expected. */\n",
       "                background-size: auto;\n",
       "            }\n",
       "            .progress-bar-interrupted, .progress-bar-interrupted::-webkit-progress-bar {\n",
       "                background: #F44336;\n",
       "            }\n",
       "        </style>\n",
       "      <progress value='1' class='' max='1' style='width:300px; height:20px; vertical-align: middle;'></progress>\n",
       "      100.00% [1/1 00:00<00:00]\n",
       "    </div>\n",
       "    "
      ],
      "text/plain": [
       "<IPython.core.display.HTML object>"
      ]
     },
     "metadata": {},
     "output_type": "display_data"
    },
    {
     "name": "stdout",
     "output_type": "stream",
     "text": [
      "\n",
      "--> The keys in the returned dictionary of datasets are constructed as follows:\n",
      "\t'component.experiment.stream'\n"
     ]
    },
    {
     "data": {
      "text/html": [
       "\n",
       "    <div>\n",
       "        <style>\n",
       "            /* Turns off some styling */\n",
       "            progress {\n",
       "                /* gets rid of default border in Firefox and Opera. */\n",
       "                border: none;\n",
       "                /* Needs to be in here for Safari polyfill so background images work as expected. */\n",
       "                background-size: auto;\n",
       "            }\n",
       "            .progress-bar-interrupted, .progress-bar-interrupted::-webkit-progress-bar {\n",
       "                background: #F44336;\n",
       "            }\n",
       "        </style>\n",
       "      <progress value='1' class='' max='1' style='width:300px; height:20px; vertical-align: middle;'></progress>\n",
       "      100.00% [1/1 00:00<00:00]\n",
       "    </div>\n",
       "    "
      ],
      "text/plain": [
       "<IPython.core.display.HTML object>"
      ]
     },
     "metadata": {},
     "output_type": "display_data"
    },
    {
     "name": "stdout",
     "output_type": "stream",
     "text": [
      "\n",
      "--> The keys in the returned dictionary of datasets are constructed as follows:\n",
      "\t'component.experiment.stream'\n"
     ]
    },
    {
     "data": {
      "text/html": [
       "\n",
       "    <div>\n",
       "        <style>\n",
       "            /* Turns off some styling */\n",
       "            progress {\n",
       "                /* gets rid of default border in Firefox and Opera. */\n",
       "                border: none;\n",
       "                /* Needs to be in here for Safari polyfill so background images work as expected. */\n",
       "                background-size: auto;\n",
       "            }\n",
       "            .progress-bar-interrupted, .progress-bar-interrupted::-webkit-progress-bar {\n",
       "                background: #F44336;\n",
       "            }\n",
       "        </style>\n",
       "      <progress value='1' class='' max='1' style='width:300px; height:20px; vertical-align: middle;'></progress>\n",
       "      100.00% [1/1 00:00<00:00]\n",
       "    </div>\n",
       "    "
      ],
      "text/plain": [
       "<IPython.core.display.HTML object>"
      ]
     },
     "metadata": {},
     "output_type": "display_data"
    },
    {
     "name": "stdout",
     "output_type": "stream",
     "text": [
      "\n",
      "--> The keys in the returned dictionary of datasets are constructed as follows:\n",
      "\t'component.experiment.stream'\n"
     ]
    },
    {
     "data": {
      "text/html": [
       "\n",
       "    <div>\n",
       "        <style>\n",
       "            /* Turns off some styling */\n",
       "            progress {\n",
       "                /* gets rid of default border in Firefox and Opera. */\n",
       "                border: none;\n",
       "                /* Needs to be in here for Safari polyfill so background images work as expected. */\n",
       "                background-size: auto;\n",
       "            }\n",
       "            .progress-bar-interrupted, .progress-bar-interrupted::-webkit-progress-bar {\n",
       "                background: #F44336;\n",
       "            }\n",
       "        </style>\n",
       "      <progress value='1' class='' max='1' style='width:300px; height:20px; vertical-align: middle;'></progress>\n",
       "      100.00% [1/1 00:00<00:00]\n",
       "    </div>\n",
       "    "
      ],
      "text/plain": [
       "<IPython.core.display.HTML object>"
      ]
     },
     "metadata": {},
     "output_type": "display_data"
    },
    {
     "name": "stdout",
     "output_type": "stream",
     "text": [
      "\n",
      "--> The keys in the returned dictionary of datasets are constructed as follows:\n",
      "\t'component.experiment.stream'\n"
     ]
    },
    {
     "data": {
      "text/html": [
       "\n",
       "    <div>\n",
       "        <style>\n",
       "            /* Turns off some styling */\n",
       "            progress {\n",
       "                /* gets rid of default border in Firefox and Opera. */\n",
       "                border: none;\n",
       "                /* Needs to be in here for Safari polyfill so background images work as expected. */\n",
       "                background-size: auto;\n",
       "            }\n",
       "            .progress-bar-interrupted, .progress-bar-interrupted::-webkit-progress-bar {\n",
       "                background: #F44336;\n",
       "            }\n",
       "        </style>\n",
       "      <progress value='1' class='' max='1' style='width:300px; height:20px; vertical-align: middle;'></progress>\n",
       "      100.00% [1/1 00:00<00:00]\n",
       "    </div>\n",
       "    "
      ],
      "text/plain": [
       "<IPython.core.display.HTML object>"
      ]
     },
     "metadata": {},
     "output_type": "display_data"
    },
    {
     "name": "stdout",
     "output_type": "stream",
     "text": [
      "\n",
      "--> The keys in the returned dictionary of datasets are constructed as follows:\n",
      "\t'component.experiment.stream'\n"
     ]
    },
    {
     "data": {
      "text/html": [
       "\n",
       "    <div>\n",
       "        <style>\n",
       "            /* Turns off some styling */\n",
       "            progress {\n",
       "                /* gets rid of default border in Firefox and Opera. */\n",
       "                border: none;\n",
       "                /* Needs to be in here for Safari polyfill so background images work as expected. */\n",
       "                background-size: auto;\n",
       "            }\n",
       "            .progress-bar-interrupted, .progress-bar-interrupted::-webkit-progress-bar {\n",
       "                background: #F44336;\n",
       "            }\n",
       "        </style>\n",
       "      <progress value='1' class='' max='1' style='width:300px; height:20px; vertical-align: middle;'></progress>\n",
       "      100.00% [1/1 00:00<00:00]\n",
       "    </div>\n",
       "    "
      ],
      "text/plain": [
       "<IPython.core.display.HTML object>"
      ]
     },
     "metadata": {},
     "output_type": "display_data"
    },
    {
     "name": "stdout",
     "output_type": "stream",
     "text": [
      "\n",
      "--> The keys in the returned dictionary of datasets are constructed as follows:\n",
      "\t'component.experiment.stream'\n"
     ]
    },
    {
     "data": {
      "text/html": [
       "\n",
       "    <div>\n",
       "        <style>\n",
       "            /* Turns off some styling */\n",
       "            progress {\n",
       "                /* gets rid of default border in Firefox and Opera. */\n",
       "                border: none;\n",
       "                /* Needs to be in here for Safari polyfill so background images work as expected. */\n",
       "                background-size: auto;\n",
       "            }\n",
       "            .progress-bar-interrupted, .progress-bar-interrupted::-webkit-progress-bar {\n",
       "                background: #F44336;\n",
       "            }\n",
       "        </style>\n",
       "      <progress value='1' class='' max='1' style='width:300px; height:20px; vertical-align: middle;'></progress>\n",
       "      100.00% [1/1 00:00<00:00]\n",
       "    </div>\n",
       "    "
      ],
      "text/plain": [
       "<IPython.core.display.HTML object>"
      ]
     },
     "metadata": {},
     "output_type": "display_data"
    },
    {
     "name": "stdout",
     "output_type": "stream",
     "text": [
      "\n",
      "--> The keys in the returned dictionary of datasets are constructed as follows:\n",
      "\t'component.experiment.stream'\n"
     ]
    },
    {
     "data": {
      "text/html": [
       "\n",
       "    <div>\n",
       "        <style>\n",
       "            /* Turns off some styling */\n",
       "            progress {\n",
       "                /* gets rid of default border in Firefox and Opera. */\n",
       "                border: none;\n",
       "                /* Needs to be in here for Safari polyfill so background images work as expected. */\n",
       "                background-size: auto;\n",
       "            }\n",
       "            .progress-bar-interrupted, .progress-bar-interrupted::-webkit-progress-bar {\n",
       "                background: #F44336;\n",
       "            }\n",
       "        </style>\n",
       "      <progress value='1' class='' max='1' style='width:300px; height:20px; vertical-align: middle;'></progress>\n",
       "      100.00% [1/1 00:00<00:00]\n",
       "    </div>\n",
       "    "
      ],
      "text/plain": [
       "<IPython.core.display.HTML object>"
      ]
     },
     "metadata": {},
     "output_type": "display_data"
    },
    {
     "name": "stdout",
     "output_type": "stream",
     "text": [
      "\n",
      "--> The keys in the returned dictionary of datasets are constructed as follows:\n",
      "\t'component.experiment.stream'\n"
     ]
    },
    {
     "data": {
      "text/html": [
       "\n",
       "    <div>\n",
       "        <style>\n",
       "            /* Turns off some styling */\n",
       "            progress {\n",
       "                /* gets rid of default border in Firefox and Opera. */\n",
       "                border: none;\n",
       "                /* Needs to be in here for Safari polyfill so background images work as expected. */\n",
       "                background-size: auto;\n",
       "            }\n",
       "            .progress-bar-interrupted, .progress-bar-interrupted::-webkit-progress-bar {\n",
       "                background: #F44336;\n",
       "            }\n",
       "        </style>\n",
       "      <progress value='1' class='' max='1' style='width:300px; height:20px; vertical-align: middle;'></progress>\n",
       "      100.00% [1/1 00:00<00:00]\n",
       "    </div>\n",
       "    "
      ],
      "text/plain": [
       "<IPython.core.display.HTML object>"
      ]
     },
     "metadata": {},
     "output_type": "display_data"
    },
    {
     "name": "stdout",
     "output_type": "stream",
     "text": [
      "\n",
      "--> The keys in the returned dictionary of datasets are constructed as follows:\n",
      "\t'component.experiment.stream'\n"
     ]
    },
    {
     "data": {
      "text/html": [
       "\n",
       "    <div>\n",
       "        <style>\n",
       "            /* Turns off some styling */\n",
       "            progress {\n",
       "                /* gets rid of default border in Firefox and Opera. */\n",
       "                border: none;\n",
       "                /* Needs to be in here for Safari polyfill so background images work as expected. */\n",
       "                background-size: auto;\n",
       "            }\n",
       "            .progress-bar-interrupted, .progress-bar-interrupted::-webkit-progress-bar {\n",
       "                background: #F44336;\n",
       "            }\n",
       "        </style>\n",
       "      <progress value='1' class='' max='1' style='width:300px; height:20px; vertical-align: middle;'></progress>\n",
       "      100.00% [1/1 00:00<00:00]\n",
       "    </div>\n",
       "    "
      ],
      "text/plain": [
       "<IPython.core.display.HTML object>"
      ]
     },
     "metadata": {},
     "output_type": "display_data"
    },
    {
     "name": "stdout",
     "output_type": "stream",
     "text": [
      "\n",
      "--> The keys in the returned dictionary of datasets are constructed as follows:\n",
      "\t'component.experiment.stream'\n"
     ]
    },
    {
     "data": {
      "text/html": [
       "\n",
       "    <div>\n",
       "        <style>\n",
       "            /* Turns off some styling */\n",
       "            progress {\n",
       "                /* gets rid of default border in Firefox and Opera. */\n",
       "                border: none;\n",
       "                /* Needs to be in here for Safari polyfill so background images work as expected. */\n",
       "                background-size: auto;\n",
       "            }\n",
       "            .progress-bar-interrupted, .progress-bar-interrupted::-webkit-progress-bar {\n",
       "                background: #F44336;\n",
       "            }\n",
       "        </style>\n",
       "      <progress value='1' class='' max='1' style='width:300px; height:20px; vertical-align: middle;'></progress>\n",
       "      100.00% [1/1 00:00<00:00]\n",
       "    </div>\n",
       "    "
      ],
      "text/plain": [
       "<IPython.core.display.HTML object>"
      ]
     },
     "metadata": {},
     "output_type": "display_data"
    },
    {
     "name": "stdout",
     "output_type": "stream",
     "text": [
      "\n",
      "--> The keys in the returned dictionary of datasets are constructed as follows:\n",
      "\t'component.experiment.stream'\n"
     ]
    },
    {
     "data": {
      "text/html": [
       "\n",
       "    <div>\n",
       "        <style>\n",
       "            /* Turns off some styling */\n",
       "            progress {\n",
       "                /* gets rid of default border in Firefox and Opera. */\n",
       "                border: none;\n",
       "                /* Needs to be in here for Safari polyfill so background images work as expected. */\n",
       "                background-size: auto;\n",
       "            }\n",
       "            .progress-bar-interrupted, .progress-bar-interrupted::-webkit-progress-bar {\n",
       "                background: #F44336;\n",
       "            }\n",
       "        </style>\n",
       "      <progress value='1' class='' max='1' style='width:300px; height:20px; vertical-align: middle;'></progress>\n",
       "      100.00% [1/1 00:00<00:00]\n",
       "    </div>\n",
       "    "
      ],
      "text/plain": [
       "<IPython.core.display.HTML object>"
      ]
     },
     "metadata": {},
     "output_type": "display_data"
    },
    {
     "name": "stdout",
     "output_type": "stream",
     "text": [
      "\n",
      "--> The keys in the returned dictionary of datasets are constructed as follows:\n",
      "\t'component.experiment.stream'\n"
     ]
    },
    {
     "data": {
      "text/html": [
       "\n",
       "    <div>\n",
       "        <style>\n",
       "            /* Turns off some styling */\n",
       "            progress {\n",
       "                /* gets rid of default border in Firefox and Opera. */\n",
       "                border: none;\n",
       "                /* Needs to be in here for Safari polyfill so background images work as expected. */\n",
       "                background-size: auto;\n",
       "            }\n",
       "            .progress-bar-interrupted, .progress-bar-interrupted::-webkit-progress-bar {\n",
       "                background: #F44336;\n",
       "            }\n",
       "        </style>\n",
       "      <progress value='1' class='' max='1' style='width:300px; height:20px; vertical-align: middle;'></progress>\n",
       "      100.00% [1/1 00:00<00:00]\n",
       "    </div>\n",
       "    "
      ],
      "text/plain": [
       "<IPython.core.display.HTML object>"
      ]
     },
     "metadata": {},
     "output_type": "display_data"
    },
    {
     "name": "stdout",
     "output_type": "stream",
     "text": [
      "\n",
      "--> The keys in the returned dictionary of datasets are constructed as follows:\n",
      "\t'component.experiment.stream'\n"
     ]
    },
    {
     "data": {
      "text/html": [
       "\n",
       "    <div>\n",
       "        <style>\n",
       "            /* Turns off some styling */\n",
       "            progress {\n",
       "                /* gets rid of default border in Firefox and Opera. */\n",
       "                border: none;\n",
       "                /* Needs to be in here for Safari polyfill so background images work as expected. */\n",
       "                background-size: auto;\n",
       "            }\n",
       "            .progress-bar-interrupted, .progress-bar-interrupted::-webkit-progress-bar {\n",
       "                background: #F44336;\n",
       "            }\n",
       "        </style>\n",
       "      <progress value='1' class='' max='1' style='width:300px; height:20px; vertical-align: middle;'></progress>\n",
       "      100.00% [1/1 00:00<00:00]\n",
       "    </div>\n",
       "    "
      ],
      "text/plain": [
       "<IPython.core.display.HTML object>"
      ]
     },
     "metadata": {},
     "output_type": "display_data"
    },
    {
     "name": "stdout",
     "output_type": "stream",
     "text": [
      "\n",
      "--> The keys in the returned dictionary of datasets are constructed as follows:\n",
      "\t'component.experiment.stream'\n"
     ]
    },
    {
     "data": {
      "text/html": [
       "\n",
       "    <div>\n",
       "        <style>\n",
       "            /* Turns off some styling */\n",
       "            progress {\n",
       "                /* gets rid of default border in Firefox and Opera. */\n",
       "                border: none;\n",
       "                /* Needs to be in here for Safari polyfill so background images work as expected. */\n",
       "                background-size: auto;\n",
       "            }\n",
       "            .progress-bar-interrupted, .progress-bar-interrupted::-webkit-progress-bar {\n",
       "                background: #F44336;\n",
       "            }\n",
       "        </style>\n",
       "      <progress value='1' class='' max='1' style='width:300px; height:20px; vertical-align: middle;'></progress>\n",
       "      100.00% [1/1 00:00<00:00]\n",
       "    </div>\n",
       "    "
      ],
      "text/plain": [
       "<IPython.core.display.HTML object>"
      ]
     },
     "metadata": {},
     "output_type": "display_data"
    },
    {
     "name": "stdout",
     "output_type": "stream",
     "text": [
      "\n",
      "--> The keys in the returned dictionary of datasets are constructed as follows:\n",
      "\t'component.experiment.stream'\n"
     ]
    },
    {
     "data": {
      "text/html": [
       "\n",
       "    <div>\n",
       "        <style>\n",
       "            /* Turns off some styling */\n",
       "            progress {\n",
       "                /* gets rid of default border in Firefox and Opera. */\n",
       "                border: none;\n",
       "                /* Needs to be in here for Safari polyfill so background images work as expected. */\n",
       "                background-size: auto;\n",
       "            }\n",
       "            .progress-bar-interrupted, .progress-bar-interrupted::-webkit-progress-bar {\n",
       "                background: #F44336;\n",
       "            }\n",
       "        </style>\n",
       "      <progress value='1' class='' max='1' style='width:300px; height:20px; vertical-align: middle;'></progress>\n",
       "      100.00% [1/1 00:00<00:00]\n",
       "    </div>\n",
       "    "
      ],
      "text/plain": [
       "<IPython.core.display.HTML object>"
      ]
     },
     "metadata": {},
     "output_type": "display_data"
    },
    {
     "name": "stdout",
     "output_type": "stream",
     "text": [
      "\n",
      "--> The keys in the returned dictionary of datasets are constructed as follows:\n",
      "\t'component.experiment.stream'\n"
     ]
    },
    {
     "data": {
      "text/html": [
       "\n",
       "    <div>\n",
       "        <style>\n",
       "            /* Turns off some styling */\n",
       "            progress {\n",
       "                /* gets rid of default border in Firefox and Opera. */\n",
       "                border: none;\n",
       "                /* Needs to be in here for Safari polyfill so background images work as expected. */\n",
       "                background-size: auto;\n",
       "            }\n",
       "            .progress-bar-interrupted, .progress-bar-interrupted::-webkit-progress-bar {\n",
       "                background: #F44336;\n",
       "            }\n",
       "        </style>\n",
       "      <progress value='1' class='' max='1' style='width:300px; height:20px; vertical-align: middle;'></progress>\n",
       "      100.00% [1/1 00:00<00:00]\n",
       "    </div>\n",
       "    "
      ],
      "text/plain": [
       "<IPython.core.display.HTML object>"
      ]
     },
     "metadata": {},
     "output_type": "display_data"
    },
    {
     "name": "stdout",
     "output_type": "stream",
     "text": [
      "\n",
      "--> The keys in the returned dictionary of datasets are constructed as follows:\n",
      "\t'component.experiment.stream'\n"
     ]
    },
    {
     "data": {
      "text/html": [
       "\n",
       "    <div>\n",
       "        <style>\n",
       "            /* Turns off some styling */\n",
       "            progress {\n",
       "                /* gets rid of default border in Firefox and Opera. */\n",
       "                border: none;\n",
       "                /* Needs to be in here for Safari polyfill so background images work as expected. */\n",
       "                background-size: auto;\n",
       "            }\n",
       "            .progress-bar-interrupted, .progress-bar-interrupted::-webkit-progress-bar {\n",
       "                background: #F44336;\n",
       "            }\n",
       "        </style>\n",
       "      <progress value='1' class='' max='1' style='width:300px; height:20px; vertical-align: middle;'></progress>\n",
       "      100.00% [1/1 00:00<00:00]\n",
       "    </div>\n",
       "    "
      ],
      "text/plain": [
       "<IPython.core.display.HTML object>"
      ]
     },
     "metadata": {},
     "output_type": "display_data"
    },
    {
     "name": "stdout",
     "output_type": "stream",
     "text": [
      "\n",
      "--> The keys in the returned dictionary of datasets are constructed as follows:\n",
      "\t'component.experiment.stream'\n"
     ]
    },
    {
     "data": {
      "text/html": [
       "\n",
       "    <div>\n",
       "        <style>\n",
       "            /* Turns off some styling */\n",
       "            progress {\n",
       "                /* gets rid of default border in Firefox and Opera. */\n",
       "                border: none;\n",
       "                /* Needs to be in here for Safari polyfill so background images work as expected. */\n",
       "                background-size: auto;\n",
       "            }\n",
       "            .progress-bar-interrupted, .progress-bar-interrupted::-webkit-progress-bar {\n",
       "                background: #F44336;\n",
       "            }\n",
       "        </style>\n",
       "      <progress value='1' class='' max='1' style='width:300px; height:20px; vertical-align: middle;'></progress>\n",
       "      100.00% [1/1 00:00<00:00]\n",
       "    </div>\n",
       "    "
      ],
      "text/plain": [
       "<IPython.core.display.HTML object>"
      ]
     },
     "metadata": {},
     "output_type": "display_data"
    },
    {
     "name": "stdout",
     "output_type": "stream",
     "text": [
      "\n",
      "--> The keys in the returned dictionary of datasets are constructed as follows:\n",
      "\t'component.experiment.stream'\n"
     ]
    },
    {
     "data": {
      "text/html": [
       "\n",
       "    <div>\n",
       "        <style>\n",
       "            /* Turns off some styling */\n",
       "            progress {\n",
       "                /* gets rid of default border in Firefox and Opera. */\n",
       "                border: none;\n",
       "                /* Needs to be in here for Safari polyfill so background images work as expected. */\n",
       "                background-size: auto;\n",
       "            }\n",
       "            .progress-bar-interrupted, .progress-bar-interrupted::-webkit-progress-bar {\n",
       "                background: #F44336;\n",
       "            }\n",
       "        </style>\n",
       "      <progress value='1' class='' max='1' style='width:300px; height:20px; vertical-align: middle;'></progress>\n",
       "      100.00% [1/1 00:00<00:00]\n",
       "    </div>\n",
       "    "
      ],
      "text/plain": [
       "<IPython.core.display.HTML object>"
      ]
     },
     "metadata": {},
     "output_type": "display_data"
    },
    {
     "name": "stdout",
     "output_type": "stream",
     "text": [
      "\n",
      "--> The keys in the returned dictionary of datasets are constructed as follows:\n",
      "\t'component.experiment.stream'\n"
     ]
    },
    {
     "data": {
      "text/html": [
       "\n",
       "    <div>\n",
       "        <style>\n",
       "            /* Turns off some styling */\n",
       "            progress {\n",
       "                /* gets rid of default border in Firefox and Opera. */\n",
       "                border: none;\n",
       "                /* Needs to be in here for Safari polyfill so background images work as expected. */\n",
       "                background-size: auto;\n",
       "            }\n",
       "            .progress-bar-interrupted, .progress-bar-interrupted::-webkit-progress-bar {\n",
       "                background: #F44336;\n",
       "            }\n",
       "        </style>\n",
       "      <progress value='1' class='' max='1' style='width:300px; height:20px; vertical-align: middle;'></progress>\n",
       "      100.00% [1/1 00:00<00:00]\n",
       "    </div>\n",
       "    "
      ],
      "text/plain": [
       "<IPython.core.display.HTML object>"
      ]
     },
     "metadata": {},
     "output_type": "display_data"
    },
    {
     "name": "stdout",
     "output_type": "stream",
     "text": [
      "\n",
      "--> The keys in the returned dictionary of datasets are constructed as follows:\n",
      "\t'component.experiment.stream'\n"
     ]
    },
    {
     "data": {
      "text/html": [
       "\n",
       "    <div>\n",
       "        <style>\n",
       "            /* Turns off some styling */\n",
       "            progress {\n",
       "                /* gets rid of default border in Firefox and Opera. */\n",
       "                border: none;\n",
       "                /* Needs to be in here for Safari polyfill so background images work as expected. */\n",
       "                background-size: auto;\n",
       "            }\n",
       "            .progress-bar-interrupted, .progress-bar-interrupted::-webkit-progress-bar {\n",
       "                background: #F44336;\n",
       "            }\n",
       "        </style>\n",
       "      <progress value='1' class='' max='1' style='width:300px; height:20px; vertical-align: middle;'></progress>\n",
       "      100.00% [1/1 00:00<00:00]\n",
       "    </div>\n",
       "    "
      ],
      "text/plain": [
       "<IPython.core.display.HTML object>"
      ]
     },
     "metadata": {},
     "output_type": "display_data"
    },
    {
     "name": "stdout",
     "output_type": "stream",
     "text": [
      "\n",
      "--> The keys in the returned dictionary of datasets are constructed as follows:\n",
      "\t'component.experiment.stream'\n"
     ]
    },
    {
     "data": {
      "text/html": [
       "\n",
       "    <div>\n",
       "        <style>\n",
       "            /* Turns off some styling */\n",
       "            progress {\n",
       "                /* gets rid of default border in Firefox and Opera. */\n",
       "                border: none;\n",
       "                /* Needs to be in here for Safari polyfill so background images work as expected. */\n",
       "                background-size: auto;\n",
       "            }\n",
       "            .progress-bar-interrupted, .progress-bar-interrupted::-webkit-progress-bar {\n",
       "                background: #F44336;\n",
       "            }\n",
       "        </style>\n",
       "      <progress value='1' class='' max='1' style='width:300px; height:20px; vertical-align: middle;'></progress>\n",
       "      100.00% [1/1 00:00<00:00]\n",
       "    </div>\n",
       "    "
      ],
      "text/plain": [
       "<IPython.core.display.HTML object>"
      ]
     },
     "metadata": {},
     "output_type": "display_data"
    },
    {
     "name": "stdout",
     "output_type": "stream",
     "text": [
      "\n",
      "--> The keys in the returned dictionary of datasets are constructed as follows:\n",
      "\t'component.experiment.stream'\n"
     ]
    },
    {
     "data": {
      "text/html": [
       "\n",
       "    <div>\n",
       "        <style>\n",
       "            /* Turns off some styling */\n",
       "            progress {\n",
       "                /* gets rid of default border in Firefox and Opera. */\n",
       "                border: none;\n",
       "                /* Needs to be in here for Safari polyfill so background images work as expected. */\n",
       "                background-size: auto;\n",
       "            }\n",
       "            .progress-bar-interrupted, .progress-bar-interrupted::-webkit-progress-bar {\n",
       "                background: #F44336;\n",
       "            }\n",
       "        </style>\n",
       "      <progress value='1' class='' max='1' style='width:300px; height:20px; vertical-align: middle;'></progress>\n",
       "      100.00% [1/1 00:00<00:00]\n",
       "    </div>\n",
       "    "
      ],
      "text/plain": [
       "<IPython.core.display.HTML object>"
      ]
     },
     "metadata": {},
     "output_type": "display_data"
    },
    {
     "name": "stdout",
     "output_type": "stream",
     "text": [
      "\n",
      "--> The keys in the returned dictionary of datasets are constructed as follows:\n",
      "\t'component.experiment.stream'\n"
     ]
    },
    {
     "data": {
      "text/html": [
       "\n",
       "    <div>\n",
       "        <style>\n",
       "            /* Turns off some styling */\n",
       "            progress {\n",
       "                /* gets rid of default border in Firefox and Opera. */\n",
       "                border: none;\n",
       "                /* Needs to be in here for Safari polyfill so background images work as expected. */\n",
       "                background-size: auto;\n",
       "            }\n",
       "            .progress-bar-interrupted, .progress-bar-interrupted::-webkit-progress-bar {\n",
       "                background: #F44336;\n",
       "            }\n",
       "        </style>\n",
       "      <progress value='1' class='' max='1' style='width:300px; height:20px; vertical-align: middle;'></progress>\n",
       "      100.00% [1/1 00:00<00:00]\n",
       "    </div>\n",
       "    "
      ],
      "text/plain": [
       "<IPython.core.display.HTML object>"
      ]
     },
     "metadata": {},
     "output_type": "display_data"
    },
    {
     "name": "stdout",
     "output_type": "stream",
     "text": [
      "\n",
      "--> The keys in the returned dictionary of datasets are constructed as follows:\n",
      "\t'component.experiment.stream'\n"
     ]
    },
    {
     "data": {
      "text/html": [
       "\n",
       "    <div>\n",
       "        <style>\n",
       "            /* Turns off some styling */\n",
       "            progress {\n",
       "                /* gets rid of default border in Firefox and Opera. */\n",
       "                border: none;\n",
       "                /* Needs to be in here for Safari polyfill so background images work as expected. */\n",
       "                background-size: auto;\n",
       "            }\n",
       "            .progress-bar-interrupted, .progress-bar-interrupted::-webkit-progress-bar {\n",
       "                background: #F44336;\n",
       "            }\n",
       "        </style>\n",
       "      <progress value='1' class='' max='1' style='width:300px; height:20px; vertical-align: middle;'></progress>\n",
       "      100.00% [1/1 00:00<00:00]\n",
       "    </div>\n",
       "    "
      ],
      "text/plain": [
       "<IPython.core.display.HTML object>"
      ]
     },
     "metadata": {},
     "output_type": "display_data"
    },
    {
     "name": "stdout",
     "output_type": "stream",
     "text": [
      "\n",
      "--> The keys in the returned dictionary of datasets are constructed as follows:\n",
      "\t'component.experiment.stream'\n"
     ]
    },
    {
     "data": {
      "text/html": [
       "\n",
       "    <div>\n",
       "        <style>\n",
       "            /* Turns off some styling */\n",
       "            progress {\n",
       "                /* gets rid of default border in Firefox and Opera. */\n",
       "                border: none;\n",
       "                /* Needs to be in here for Safari polyfill so background images work as expected. */\n",
       "                background-size: auto;\n",
       "            }\n",
       "            .progress-bar-interrupted, .progress-bar-interrupted::-webkit-progress-bar {\n",
       "                background: #F44336;\n",
       "            }\n",
       "        </style>\n",
       "      <progress value='1' class='' max='1' style='width:300px; height:20px; vertical-align: middle;'></progress>\n",
       "      100.00% [1/1 00:00<00:00]\n",
       "    </div>\n",
       "    "
      ],
      "text/plain": [
       "<IPython.core.display.HTML object>"
      ]
     },
     "metadata": {},
     "output_type": "display_data"
    },
    {
     "name": "stdout",
     "output_type": "stream",
     "text": [
      "\n",
      "--> The keys in the returned dictionary of datasets are constructed as follows:\n",
      "\t'component.experiment.stream'\n"
     ]
    },
    {
     "data": {
      "text/html": [
       "\n",
       "    <div>\n",
       "        <style>\n",
       "            /* Turns off some styling */\n",
       "            progress {\n",
       "                /* gets rid of default border in Firefox and Opera. */\n",
       "                border: none;\n",
       "                /* Needs to be in here for Safari polyfill so background images work as expected. */\n",
       "                background-size: auto;\n",
       "            }\n",
       "            .progress-bar-interrupted, .progress-bar-interrupted::-webkit-progress-bar {\n",
       "                background: #F44336;\n",
       "            }\n",
       "        </style>\n",
       "      <progress value='1' class='' max='1' style='width:300px; height:20px; vertical-align: middle;'></progress>\n",
       "      100.00% [1/1 00:00<00:00]\n",
       "    </div>\n",
       "    "
      ],
      "text/plain": [
       "<IPython.core.display.HTML object>"
      ]
     },
     "metadata": {},
     "output_type": "display_data"
    },
    {
     "name": "stdout",
     "output_type": "stream",
     "text": [
      "\n",
      "--> The keys in the returned dictionary of datasets are constructed as follows:\n",
      "\t'component.experiment.stream'\n"
     ]
    },
    {
     "data": {
      "text/html": [
       "\n",
       "    <div>\n",
       "        <style>\n",
       "            /* Turns off some styling */\n",
       "            progress {\n",
       "                /* gets rid of default border in Firefox and Opera. */\n",
       "                border: none;\n",
       "                /* Needs to be in here for Safari polyfill so background images work as expected. */\n",
       "                background-size: auto;\n",
       "            }\n",
       "            .progress-bar-interrupted, .progress-bar-interrupted::-webkit-progress-bar {\n",
       "                background: #F44336;\n",
       "            }\n",
       "        </style>\n",
       "      <progress value='1' class='' max='1' style='width:300px; height:20px; vertical-align: middle;'></progress>\n",
       "      100.00% [1/1 00:00<00:00]\n",
       "    </div>\n",
       "    "
      ],
      "text/plain": [
       "<IPython.core.display.HTML object>"
      ]
     },
     "metadata": {},
     "output_type": "display_data"
    },
    {
     "name": "stdout",
     "output_type": "stream",
     "text": [
      "\n",
      "--> The keys in the returned dictionary of datasets are constructed as follows:\n",
      "\t'component.experiment.stream'\n"
     ]
    },
    {
     "data": {
      "text/html": [
       "\n",
       "    <div>\n",
       "        <style>\n",
       "            /* Turns off some styling */\n",
       "            progress {\n",
       "                /* gets rid of default border in Firefox and Opera. */\n",
       "                border: none;\n",
       "                /* Needs to be in here for Safari polyfill so background images work as expected. */\n",
       "                background-size: auto;\n",
       "            }\n",
       "            .progress-bar-interrupted, .progress-bar-interrupted::-webkit-progress-bar {\n",
       "                background: #F44336;\n",
       "            }\n",
       "        </style>\n",
       "      <progress value='1' class='' max='1' style='width:300px; height:20px; vertical-align: middle;'></progress>\n",
       "      100.00% [1/1 00:00<00:00]\n",
       "    </div>\n",
       "    "
      ],
      "text/plain": [
       "<IPython.core.display.HTML object>"
      ]
     },
     "metadata": {},
     "output_type": "display_data"
    },
    {
     "name": "stdout",
     "output_type": "stream",
     "text": [
      "\n",
      "--> The keys in the returned dictionary of datasets are constructed as follows:\n",
      "\t'component.experiment.stream'\n"
     ]
    },
    {
     "data": {
      "text/html": [
       "\n",
       "    <div>\n",
       "        <style>\n",
       "            /* Turns off some styling */\n",
       "            progress {\n",
       "                /* gets rid of default border in Firefox and Opera. */\n",
       "                border: none;\n",
       "                /* Needs to be in here for Safari polyfill so background images work as expected. */\n",
       "                background-size: auto;\n",
       "            }\n",
       "            .progress-bar-interrupted, .progress-bar-interrupted::-webkit-progress-bar {\n",
       "                background: #F44336;\n",
       "            }\n",
       "        </style>\n",
       "      <progress value='1' class='' max='1' style='width:300px; height:20px; vertical-align: middle;'></progress>\n",
       "      100.00% [1/1 00:00<00:00]\n",
       "    </div>\n",
       "    "
      ],
      "text/plain": [
       "<IPython.core.display.HTML object>"
      ]
     },
     "metadata": {},
     "output_type": "display_data"
    },
    {
     "name": "stdout",
     "output_type": "stream",
     "text": [
      "\n",
      "--> The keys in the returned dictionary of datasets are constructed as follows:\n",
      "\t'component.experiment.stream'\n"
     ]
    },
    {
     "data": {
      "text/html": [
       "\n",
       "    <div>\n",
       "        <style>\n",
       "            /* Turns off some styling */\n",
       "            progress {\n",
       "                /* gets rid of default border in Firefox and Opera. */\n",
       "                border: none;\n",
       "                /* Needs to be in here for Safari polyfill so background images work as expected. */\n",
       "                background-size: auto;\n",
       "            }\n",
       "            .progress-bar-interrupted, .progress-bar-interrupted::-webkit-progress-bar {\n",
       "                background: #F44336;\n",
       "            }\n",
       "        </style>\n",
       "      <progress value='1' class='' max='1' style='width:300px; height:20px; vertical-align: middle;'></progress>\n",
       "      100.00% [1/1 00:00<00:00]\n",
       "    </div>\n",
       "    "
      ],
      "text/plain": [
       "<IPython.core.display.HTML object>"
      ]
     },
     "metadata": {},
     "output_type": "display_data"
    },
    {
     "name": "stdout",
     "output_type": "stream",
     "text": [
      "\n",
      "--> The keys in the returned dictionary of datasets are constructed as follows:\n",
      "\t'component.experiment.stream'\n"
     ]
    },
    {
     "data": {
      "text/html": [
       "\n",
       "    <div>\n",
       "        <style>\n",
       "            /* Turns off some styling */\n",
       "            progress {\n",
       "                /* gets rid of default border in Firefox and Opera. */\n",
       "                border: none;\n",
       "                /* Needs to be in here for Safari polyfill so background images work as expected. */\n",
       "                background-size: auto;\n",
       "            }\n",
       "            .progress-bar-interrupted, .progress-bar-interrupted::-webkit-progress-bar {\n",
       "                background: #F44336;\n",
       "            }\n",
       "        </style>\n",
       "      <progress value='1' class='' max='1' style='width:300px; height:20px; vertical-align: middle;'></progress>\n",
       "      100.00% [1/1 00:00<00:00]\n",
       "    </div>\n",
       "    "
      ],
      "text/plain": [
       "<IPython.core.display.HTML object>"
      ]
     },
     "metadata": {},
     "output_type": "display_data"
    }
   ],
   "source": [
    "clobber = False\n",
    "file_format = 'zarr'\n",
    "\n",
    "cdf_kwargs_stream = {\n",
    "    'pop.h': dict(chunks={'time': 12}, decode_coords=False),\n",
    "    'pop.h.ecosys.nyear1': dict(chunks={'time': 1}, decode_coords=False),\n",
    "}\n",
    "\n",
    "assert file_format in ['zarr', 'nc']\n",
    "\n",
    "dfs = {}; paths = {}\n",
    "for collection_type, exp_dict in datasets_trimmed.items():\n",
    "    \n",
    "    for experiment, variable_list in exp_dict.items():\n",
    "            \n",
    "            cat = catalog.search(\n",
    "                experiment=experiment, \n",
    "                variable=variable_list, \n",
    "                component='ocn')\n",
    "            \n",
    "            for v in variable_list:\n",
    "                \n",
    "                # subset catalog\n",
    "                cat_sub = cat.search(variable=v)\n",
    "                keys = list(cat_sub.keys())\n",
    "                if not keys:\n",
    "                    print(f'missing: {collection_type}, {experiment}, {v}')\n",
    "                    continue\n",
    "                \n",
    "                elif len(keys) > 1:                \n",
    "                    #assert len(keys) == 1, f'expecting single key, found: {keys}'\n",
    "                    print(f'{v} -- expecting single key, found: {keys}')\n",
    "                    continue\n",
    "                    \n",
    "                # get info\n",
    "                key = keys[0]\n",
    "                key_info = funnel.core.intake_esm_get_keys_info(cat_sub)[key]                       \n",
    "                stream = key_info['stream']\n",
    "                \n",
    "                date_range = cat_sub.df.date_range.to_list()\n",
    "                date_range = '-'.join([date_range[0].split('-')[0], date_range[-1].split('-')[-1]]) \n",
    "                \n",
    "                # set operations\n",
    "                sel_dict = dict()\n",
    "                if collection_type == 'timeseries':\n",
    "                    pass \n",
    "                \n",
    "                elif collection_type == 'epoch_mean':\n",
    "                    time_range = _collections['epoch_mean']['experiment'][experiment]                    \n",
    "                    sel_dict = dict(time=slice(time_range[0], time_range[1]))                        \n",
    "                    \n",
    "                    if stream == 'pop.h':\n",
    "                        date_range = '-'.join([time_range[0]+'01', time_range[-1]+'12'])\n",
    "                    \n",
    "                    elif stream == 'pop.h.ecosys.nyear1':\n",
    "                        date_range = '-'.join([time_range[0], time_range[-1]])\n",
    "                        \n",
    "                    else:\n",
    "                        raise ValueError(f'{stream} not handled')\n",
    "                \n",
    "                # name this dataset\n",
    "                name = f\"cesm2-cmip6.{experiment}.{stream}.{v}.{date_range}\"\n",
    "                file_out = f'{data_dir}/{name}.{file_format}'\n",
    "                \n",
    "                # to write or not to write? if not, move on\n",
    "                if os.path.exists(file_out) and not clobber:\n",
    "                    continue \n",
    "                    \n",
    "                case_list = sorted(list(set(cat_sub.df.case.to_list())))\n",
    "\n",
    "                # get the dataset\n",
    "                dsets = cat_sub.to_dataset_dict(cdf_kwargs=cdf_kwargs_stream[stream])\n",
    "                _, ds = dsets.popitem()\n",
    "                \n",
    "                ds.attrs['cases'] = ','.join(case_list)\n",
    "                \n",
    "                # center the time axix\n",
    "                ds = ops.center_time(ds)\n",
    "\n",
    "                # apply operations                \n",
    "                if sel_dict:\n",
    "                    ds = ds.sel(**sel_dict)[[v]]\n",
    "                \n",
    "                # write\n",
    "                if file_format == 'zarr':\n",
    "                    ds.to_zarr(file_out, mode='w', consolidated=True)\n",
    "                else:\n",
    "                    ds.to_netcdf(file_out, unlimited_dims=['time'])"
   ]
  },
  {
   "cell_type": "code",
   "execution_count": null,
   "id": "11e7d846-e26d-48cd-8bef-b03d7875d200",
   "metadata": {},
   "outputs": [],
   "source": [
    "# data_dir = f'/glade/scratch/{os.environ[\"USER\"]}/cesm2-marbl-data'\n",
    "# os.makedirs(data_dir, exist_ok=True)\n",
    "\n",
    "# data_vol_GB = {}\n",
    "# for key, paths in paths.items():\n",
    "#     data_vol_GB[key] = 0.\n",
    "#     for path in paths[key]:\n",
    "#         data_vol_GB[key] += os.stat(path).st_size / 1024**3\n",
    "#         check_call(['ln', '-sf', path, data_dir+'/.'])\n",
    "        \n",
    "#     print(f'Data volume {key}: {data_vol_GB[key]:0.2f} GB')    "
   ]
  },
  {
   "cell_type": "code",
   "execution_count": null,
   "id": "c9893310-fe13-43d1-9d71-16e28e980926",
   "metadata": {},
   "outputs": [],
   "source": [
    "v\n"
   ]
  },
  {
   "cell_type": "code",
   "execution_count": null,
   "id": "999d8995-37a2-4029-ac72-85509b331ec7",
   "metadata": {},
   "outputs": [],
   "source": []
  }
 ],
 "metadata": {
  "kernelspec": {
   "display_name": "Python [conda env:miniconda3-cesm2-marbl]",
   "language": "python",
   "name": "conda-env-miniconda3-cesm2-marbl-py"
  },
  "language_info": {
   "codemirror_mode": {
    "name": "ipython",
    "version": 3
   },
   "file_extension": ".py",
   "mimetype": "text/x-python",
   "name": "python",
   "nbconvert_exporter": "python",
   "pygments_lexer": "ipython3",
   "version": "3.7.10"
  }
 },
 "nbformat": 4,
 "nbformat_minor": 5
}
