{
 "cells": [
  {
   "cell_type": "markdown",
   "metadata": {},
   "source": [
    "## Nutrient Limitation\n",
    "\n",
    "Compute biomass-weighted-mean limitation terms in the upper ocean (i.e., top 150 m).\n",
    "\n",
    "Make 3 panel plot: maps of most limiting nutrient for each phytoplankton taxa (diatom, small phyto, diazotrophs)."
   ]
  },
  {
   "cell_type": "code",
   "execution_count": 1,
   "metadata": {},
   "outputs": [
    {
     "name": "stderr",
     "output_type": "stream",
     "text": [
      "/glade/work/mclong/miniconda3/envs/co2-hole/lib/python3.7/site-packages/ncar_jobqueue/cluster.py:31: UserWarning: Unable to determine which NCAR cluster you are running on... Using an instance of `distributed.LocalCluster` class.\n",
      "  'Unable to determine which NCAR cluster you are running on... Using an instance of `distributed.LocalCluster` class.'\n"
     ]
    }
   ],
   "source": [
    "%matplotlib inline\n",
    "import os\n",
    "\n",
    "import cftime\n",
    "\n",
    "import xarray as xr\n",
    "import numpy as np\n",
    "\n",
    "import matplotlib.pyplot as plt\n",
    "import matplotlib.gridspec as gridspec\n",
    "import matplotlib.colors as colors\n",
    "from matplotlib.colors import ListedColormap\n",
    "\n",
    "import seaborn as sns\n",
    "\n",
    "import cartopy\n",
    "import cartopy.crs as ccrs\n",
    "\n",
    "import intake\n",
    "import intake_esm\n",
    "import ann_avg_utils as aau\n",
    "\n",
    "import ncar_jobqueue\n",
    "from dask.distributed import Client\n",
    "\n",
    "import xpersist as xp\n",
    "# Set up xperist cache\n",
    "cache_dir = os.path.join(os.path.sep, 'glade', 'p', 'cgd', 'oce', 'projects', 'cesm2-marbl', 'xpersist_cache')\n",
    "if (os.path.isdir(cache_dir)):\n",
    "    xp.settings['cache_dir'] = cache_dir\n",
    "xp_dir = 'nutrient_limitation'\n",
    "os.makedirs(os.path.join(xp.settings['cache_dir'], xp_dir), exist_ok=True)\n",
    "\n",
    "import utils\n",
    "\n",
    "# MCL: commenting this out, getting type error\n",
    "#%load_ext watermark\n",
    "#%watermark -a \"Mike Levy\" -d -iv -m -g -h"
   ]
  },
  {
   "cell_type": "code",
   "execution_count": 2,
   "metadata": {},
   "outputs": [
    {
     "name": "stderr",
     "output_type": "stream",
     "text": [
      "/glade/work/mclong/miniconda3/envs/co2-hole/lib/python3.7/site-packages/distributed/dashboard/core.py:79: UserWarning: \n",
      "Port 8787 is already in use. \n",
      "Perhaps you already have a cluster running?\n",
      "Hosting the diagnostics dashboard on a random port instead.\n",
      "  warnings.warn(\"\\n\" + msg)\n"
     ]
    },
    {
     "data": {
      "text/html": [
       "<table style=\"border: 2px solid white;\">\n",
       "<tr>\n",
       "<td style=\"vertical-align: top; border: 0px solid white\">\n",
       "<h3 style=\"text-align: left;\">Client</h3>\n",
       "<ul style=\"text-align: left; list-style: none; margin: 0; padding: 0;\">\n",
       "  <li><b>Scheduler: </b>tcp://10.12.206.63:33696</li>\n",
       "  <li><b>Dashboard: </b><a href='https://jupyterhub.hpc.ucar.edu/stable/user/mclong/proxy/37262/status' target='_blank'>https://jupyterhub.hpc.ucar.edu/stable/user/mclong/proxy/37262/status</a>\n",
       "</ul>\n",
       "</td>\n",
       "<td style=\"vertical-align: top; border: 0px solid white\">\n",
       "<h3 style=\"text-align: left;\">Cluster</h3>\n",
       "<ul style=\"text-align: left; list-style:none; margin: 0; padding: 0;\">\n",
       "  <li><b>Workers: </b>0</li>\n",
       "  <li><b>Cores: </b>0</li>\n",
       "  <li><b>Memory: </b>0 B</li>\n",
       "</ul>\n",
       "</td>\n",
       "</tr>\n",
       "</table>"
      ],
      "text/plain": [
       "<Client: 'tcp://10.12.206.63:33696' processes=0 threads=0, memory=0 B>"
      ]
     },
     "execution_count": 2,
     "metadata": {},
     "output_type": "execute_result"
    }
   ],
   "source": [
    "cluster, client = utils.get_ClusterClient()\n",
    "cluster.scale(12) #adapt(minimum_jobs=0, maximum_jobs=24)\n",
    "client"
   ]
  },
  {
   "cell_type": "code",
   "execution_count": 3,
   "metadata": {},
   "outputs": [],
   "source": [
    "global_vars = aau.global_vars()\n",
    "\n",
    "exp = 'cesm2_hist'\n",
    "time_slices = global_vars['time_slices']\n",
    "experiment_dict = global_vars['experiment_dict']"
   ]
  },
  {
   "cell_type": "code",
   "execution_count": 4,
   "metadata": {},
   "outputs": [
    {
     "name": "stdout",
     "output_type": "stream",
     "text": [
      "assuming cache is correct\n",
      "reading cached file: /glade/p/cgd/oce/projects/cesm2-marbl/xpersist_cache/nutrient_limitation/sp_lim.nc\n",
      "assuming cache is correct\n",
      "reading cached file: /glade/p/cgd/oce/projects/cesm2-marbl/xpersist_cache/nutrient_limitation/diat_lim.nc\n",
      "Reading data for diaz_P_lim_Cweight_avg_100m\n",
      "\n",
      "--> The keys in the returned dictionary of datasets are constructed as follows:\n",
      "\t'component:experiment:stream'\n"
     ]
    },
    {
     "data": {
      "text/html": [
       "\n",
       "    <div>\n",
       "        <style>\n",
       "            /* Turns off some styling */\n",
       "            progress {\n",
       "                /* gets rid of default border in Firefox and Opera. */\n",
       "                border: none;\n",
       "                /* Needs to be in here for Safari polyfill so background images work as expected. */\n",
       "                background-size: auto;\n",
       "            }\n",
       "            .progress-bar-interrupted, .progress-bar-interrupted::-webkit-progress-bar {\n",
       "                background: #F44336;\n",
       "            }\n",
       "        </style>\n",
       "      <progress value='1' class='' max='1' style='width:300px; height:20px; vertical-align: middle;'></progress>\n",
       "      100.00% [1/1 00:00<00:00]\n",
       "    </div>\n",
       "    "
      ],
      "text/plain": [
       "<IPython.core.display.HTML object>"
      ]
     },
     "metadata": {},
     "output_type": "display_data"
    },
    {
     "name": "stdout",
     "output_type": "stream",
     "text": [
      "Reading data for diaz_Fe_lim_Cweight_avg_100m\n",
      "\n",
      "--> The keys in the returned dictionary of datasets are constructed as follows:\n",
      "\t'component:experiment:stream'\n"
     ]
    },
    {
     "data": {
      "text/html": [
       "\n",
       "    <div>\n",
       "        <style>\n",
       "            /* Turns off some styling */\n",
       "            progress {\n",
       "                /* gets rid of default border in Firefox and Opera. */\n",
       "                border: none;\n",
       "                /* Needs to be in here for Safari polyfill so background images work as expected. */\n",
       "                background-size: auto;\n",
       "            }\n",
       "            .progress-bar-interrupted, .progress-bar-interrupted::-webkit-progress-bar {\n",
       "                background: #F44336;\n",
       "            }\n",
       "        </style>\n",
       "      <progress value='1' class='' max='1' style='width:300px; height:20px; vertical-align: middle;'></progress>\n",
       "      100.00% [1/1 00:00<00:00]\n",
       "    </div>\n",
       "    "
      ],
      "text/plain": [
       "<IPython.core.display.HTML object>"
      ]
     },
     "metadata": {},
     "output_type": "display_data"
    },
    {
     "name": "stdout",
     "output_type": "stream",
     "text": [
      "Will not pair diaz and N\n",
      "Will not pair diaz and SiO3\n",
      "\n",
      "--> The keys in the returned dictionary of datasets are constructed as follows:\n",
      "\t'component:experiment:stream'\n"
     ]
    },
    {
     "data": {
      "text/html": [
       "\n",
       "    <div>\n",
       "        <style>\n",
       "            /* Turns off some styling */\n",
       "            progress {\n",
       "                /* gets rid of default border in Firefox and Opera. */\n",
       "                border: none;\n",
       "                /* Needs to be in here for Safari polyfill so background images work as expected. */\n",
       "                background-size: auto;\n",
       "            }\n",
       "            .progress-bar-interrupted, .progress-bar-interrupted::-webkit-progress-bar {\n",
       "                background: #F44336;\n",
       "            }\n",
       "        </style>\n",
       "      <progress value='1' class='' max='1' style='width:300px; height:20px; vertical-align: middle;'></progress>\n",
       "      100.00% [1/1 00:00<00:00]\n",
       "    </div>\n",
       "    "
      ],
      "text/plain": [
       "<IPython.core.display.HTML object>"
      ]
     },
     "metadata": {},
     "output_type": "display_data"
    },
    {
     "name": "stdout",
     "output_type": "stream",
     "text": [
      "writing cache file: /glade/p/cgd/oce/projects/cesm2-marbl/xpersist_cache/nutrient_limitation/diaz_lim.nc\n",
      "CPU times: user 4.85 s, sys: 534 ms, total: 5.38 s\n",
      "Wall time: 1min 44s\n"
     ]
    },
    {
     "data": {
      "text/plain": [
       "{'sp': <xarray.Dataset>\n",
       " Dimensions:   (nlat: 384, nlon: 320, nutrient: 3)\n",
       " Coordinates:\n",
       "     TLONG     (nlat, nlon) float64 320.6 321.7 322.8 323.9 ... 318.9 319.4 319.8\n",
       "     TLAT      (nlat, nlon) float64 -79.22 -79.22 -79.22 ... 72.2 72.19 72.19\n",
       "   * nutrient  (nutrient) object 'P' 'Fe' 'N'\n",
       " Dimensions without coordinates: nlat, nlon\n",
       " Data variables:\n",
       "     sp_lim    (nutrient, nlat, nlon) float32 nan nan nan nan ... nan nan nan nan,\n",
       " 'diat': <xarray.Dataset>\n",
       " Dimensions:   (nlat: 384, nlon: 320, nutrient: 4)\n",
       " Coordinates:\n",
       "     TLONG     (nlat, nlon) float64 320.6 321.7 322.8 323.9 ... 318.9 319.4 319.8\n",
       "     TLAT      (nlat, nlon) float64 -79.22 -79.22 -79.22 ... 72.2 72.19 72.19\n",
       "   * nutrient  (nutrient) object 'P' 'Fe' 'N' 'SiO3'\n",
       " Dimensions without coordinates: nlat, nlon\n",
       " Data variables:\n",
       "     diat_lim  (nutrient, nlat, nlon) float32 nan nan nan nan ... nan nan nan nan,\n",
       " 'diaz': <xarray.Dataset>\n",
       " Dimensions:   (nlat: 384, nlon: 320, nutrient: 3)\n",
       " Coordinates:\n",
       "     TLONG     (nlat, nlon) float64 320.6 321.7 322.8 323.9 ... 318.9 319.4 319.8\n",
       "     TLAT      (nlat, nlon) float64 -79.22 -79.22 -79.22 ... 72.2 72.19 72.19\n",
       "   * nutrient  (nutrient) <U4 'P' 'Fe' 'TEMP'\n",
       " Dimensions without coordinates: nlat, nlon\n",
       " Data variables:\n",
       "     diaz_lim  (nutrient, nlat, nlon) float64 nan nan nan nan ... 0.0 0.0 0.0 0.0}"
      ]
     },
     "execution_count": 4,
     "metadata": {},
     "output_type": "execute_result"
    }
   ],
   "source": [
    "%%time\n",
    "\n",
    "temp_thres_diaz = 15.\n",
    "\n",
    "def _get_all_limitation_vars(autotroph):\n",
    "    catalog = intake.open_esm_datastore('data/campaign-cesm2-cmip6-timeseries.json', \n",
    "                                        sep=':')\n",
    "\n",
    "    darrays = []\n",
    "    nutrient_dim = []\n",
    "    for nutrient in nutrients:\n",
    "        if (autotroph, nutrient) not in omit:\n",
    "            if nutrient == 'TEMP':\n",
    "                var = 'TEMP'\n",
    "                da = catalog.search(\n",
    "                        experiment=experiment_dict[exp][1], \n",
    "                        variable=var\n",
    "                    ).to_dataset_dict(\n",
    "                        cdf_kwargs={'chunks':{'time' : 180}}\n",
    "                    )['ocn:historical:pop.h'].drop(['ULAT', 'ULONG']).sel(\n",
    "                        time=time_slices[exp],\n",
    "                    ).isel(\n",
    "                        z_t=0,\n",
    "                        drop=True,\n",
    "                    )[var].mean(['time', 'member_id'])\n",
    "\n",
    "                da = xr.where(da > temp_thres_diaz, 1., 0.)\n",
    "                darrays.append(da)                \n",
    "            else:\n",
    "                var = f'{autotroph}_{nutrient}_lim_Cweight_avg_100m'\n",
    "                print(f'Reading data for {var}')\n",
    "                # Looking at historical run\n",
    "                darrays.append(\n",
    "                    catalog.search(\n",
    "                        experiment=experiment_dict[exp][1], \n",
    "                        variable=var\n",
    "                    ).to_dataset_dict(\n",
    "                        cdf_kwargs={'chunks':{'time' : 180}}\n",
    "                    )['ocn:historical:pop.h'].drop(['ULAT', 'ULONG']).sel(\n",
    "                        time=time_slices[exp]\n",
    "                    )[var].mean(['time', 'member_id'])\n",
    "                )\n",
    "            variables.append(var)\n",
    "            nutrient_dim.append(nutrient)\n",
    "        else:\n",
    "            print(f'Will not pair {autotroph} and {nutrient}')\n",
    "    datasets = xr.concat([da.to_dataset(name=f'{autotroph}_lim') for da in darrays], dim='nutrient')\n",
    "    datasets['nutrient'] = nutrient_dim\n",
    "    \n",
    "    return(datasets.compute())\n",
    "\n",
    "variables = []\n",
    "nutrients = ['P', 'Fe', 'N', 'SiO3', 'TEMP']\n",
    "omit = [('sp', 'SiO3'), ('diaz', 'SiO3'), ('diaz', 'N'), ('sp', 'TEMP'), ('diat', 'TEMP')]\n",
    "darrays = dict()\n",
    "datasets = dict()\n",
    "dsets_plot = dict()\n",
    "for autotroph in ['sp', 'diat', 'diaz']:\n",
    "    xp_func = xp.persist_ds(_get_all_limitation_vars, name=f'{xp_dir}/{autotroph}_lim', trust_cache=True)\n",
    "    datasets[autotroph] = xp_func(autotroph)\n",
    "    dsets_plot[autotroph] = utils.pop_add_cyclic(datasets[autotroph])\n",
    "datasets"
   ]
  },
  {
   "cell_type": "code",
   "execution_count": 5,
   "metadata": {},
   "outputs": [
    {
     "data": {
      "text/plain": [
       "{'sp': <xarray.Dataset>\n",
       " Dimensions:   (nlat: 384, nlon: 321, nutrient: 5)\n",
       " Coordinates:\n",
       "   * nutrient  (nutrient) object 'Fe' 'N' 'P' 'SiO3' 'TEMP'\n",
       " Dimensions without coordinates: nlat, nlon\n",
       " Data variables:\n",
       "     TLAT      (nlat, nlon) float64 -79.22 -79.22 -79.22 ... 80.31 80.31 80.31\n",
       "     TLONG     (nlat, nlon) float64 -220.6 -219.4 -218.3 ... -39.29 -39.57 -39.86\n",
       "     sp_lim    (nutrient, nlat, nlon) float32 nan nan nan ... 100.0 100.0 100.0,\n",
       " 'diat': <xarray.Dataset>\n",
       " Dimensions:   (nlat: 384, nlon: 321, nutrient: 5)\n",
       " Coordinates:\n",
       "   * nutrient  (nutrient) object 'Fe' 'N' 'P' 'SiO3' 'TEMP'\n",
       " Dimensions without coordinates: nlat, nlon\n",
       " Data variables:\n",
       "     TLAT      (nlat, nlon) float64 -79.22 -79.22 -79.22 ... 80.31 80.31 80.31\n",
       "     TLONG     (nlat, nlon) float64 -220.6 -219.4 -218.3 ... -39.29 -39.57 -39.86\n",
       "     diat_lim  (nutrient, nlat, nlon) float32 nan nan nan ... 100.0 100.0 100.0,\n",
       " 'diaz': <xarray.Dataset>\n",
       " Dimensions:   (nlat: 384, nlon: 321, nutrient: 5)\n",
       " Coordinates:\n",
       "   * nutrient  (nutrient) object 'Fe' 'N' 'P' 'SiO3' 'TEMP'\n",
       " Dimensions without coordinates: nlat, nlon\n",
       " Data variables:\n",
       "     TLAT      (nlat, nlon) float64 -79.22 -79.22 -79.22 ... 80.31 80.31 80.31\n",
       "     TLONG     (nlat, nlon) float64 -220.6 -219.4 -218.3 ... -39.29 -39.57 -39.86\n",
       "     diaz_lim  (nutrient, nlat, nlon) float64 nan nan nan nan ... 0.0 0.0 0.0 0.0}"
      ]
     },
     "execution_count": 5,
     "metadata": {},
     "output_type": "execute_result"
    }
   ],
   "source": [
    "dsets_aligned = xr.align(*[ds for ds in dsets_plot.values()], join='outer', fill_value=100.)\n",
    "dsets_plot = {k: ds for k, ds in zip(['sp', 'diat', 'diaz'], dsets_aligned)}\n",
    "dsets_plot"
   ]
  },
  {
   "cell_type": "code",
   "execution_count": 6,
   "metadata": {},
   "outputs": [
    {
     "data": {
      "image/png": "[encoded data removed]",
      "text/plain": [
       "<Figure size 360x72 with 1 Axes>"
      ]
     },
     "metadata": {
      "needs_background": "light"
     },
     "output_type": "display_data"
    }
   ],
   "source": [
    "current_palette = sns.color_palette('colorblind', 5)\n",
    "cmap = ListedColormap(current_palette.as_hex())\n",
    "sns.palplot(current_palette)"
   ]
  },
  {
   "cell_type": "code",
   "execution_count": 7,
   "metadata": {},
   "outputs": [
    {
     "data": {
      "image/png": "[encoded data removed]",
      "text/plain": [
       "<Figure size 864x252 with 4 Axes>"
      ]
     },
     "metadata": {
      "needs_background": "light"
     },
     "output_type": "display_data"
    }
   ],
   "source": [
    "fig = plt.figure(figsize=(12,3.5))\n",
    "gs = gridspec.GridSpec(nrows=1, ncols=4, width_ratios=(1, 1, 1, 0.02))\n",
    "\n",
    "prj = ccrs.Robinson(central_longitude=305.0)\n",
    "\n",
    "ocn_mask = np.where(np.isnan(dsets_plot['sp']['sp_lim'].isel(nutrient=0).data), False, True)\n",
    "levels = np.arange(6)\n",
    "norm = colors.BoundaryNorm(levels, ncolors=5)\n",
    "\n",
    "\n",
    "current_palette = sns.color_palette('colorblind', 5)\n",
    "cmap = ListedColormap(current_palette.as_hex())\n",
    "\n",
    "autotroph_names = dict(\n",
    "    sp='Small phytoplankton',\n",
    "    diat='Diatoms',\n",
    "    diaz='Diazotrophs',\n",
    ")\n",
    "\n",
    "maps = []\n",
    "for n, autotroph in enumerate(['sp', 'diat', 'diaz']):\n",
    "    ds = dsets_plot[autotroph]\n",
    "    da = ds[f'{autotroph}_lim']\n",
    "    ax = fig.add_subplot(gs[0, n], projection=prj)\n",
    "    maps.append(ax)\n",
    "    ax.set_title(autotroph_names[autotroph], fontsize=12)\n",
    "    \n",
    "    pc = ax.contourf(ds['TLONG'].data,\n",
    "                     ds['TLAT'].data,\n",
    "                     da.argmin(dim='nutrient', skipna=False).where(ocn_mask).data+0.5,\n",
    "                     levels=levels,\n",
    "                     norm=norm,\n",
    "                     cmap=cmap,\n",
    "                     transform=ccrs.PlateCarree())\n",
    "    \n",
    "    land = ax.add_feature(\n",
    "        cartopy.feature.NaturalEarthFeature(\n",
    "            'physical','land','110m',\n",
    "            edgecolor='face',\n",
    "            facecolor='lightgray'\n",
    "        )\n",
    "    )        \n",
    "\n",
    "# add colorbar\n",
    "gs.update(left=0.05, right=0.95, hspace=0.05, wspace=0.05)\n",
    "cax_vert_shrink = 0.7\n",
    "cbar_ax = plt.subplot(gs[0, -1])\n",
    "p0 = cbar_ax.get_position()\n",
    "shift_up = p0.height * (1. - cax_vert_shrink) / 2\n",
    "cbar_ax.set_position([p0.x0, p0.y0 + shift_up, p0.width, p0.height * cax_vert_shrink])\n",
    "\n",
    "cbar = fig.colorbar(pc, cax=cbar_ax, ticks=levels+.5, orientation='vertical')\n",
    "\n",
    "cbar.ax.set_yticklabels([f'{nutrient}' for nutrient in dsets_plot['sp'].nutrient.values]);\n",
    "cbar.ax.tick_params(length=0);\n",
    "\n",
    "utils.label_plots(fig, maps, xoff=0.02, yoff=0)   \n",
    "utils.savefig('nutrient-limitation-maps.pdf')"
   ]
  }
 ],
 "metadata": {
  "kernelspec": {
   "display_name": "Python [conda env:miniconda3-co2-hole]",
   "language": "python",
   "name": "conda-env-miniconda3-co2-hole-py"
  },
  "language_info": {
   "codemirror_mode": {
    "name": "ipython",
    "version": 3
   },
   "file_extension": ".py",
   "mimetype": "text/x-python",
   "name": "python",
   "nbconvert_exporter": "python",
   "pygments_lexer": "ipython3",
   "version": "3.7.8"
  }
 },
 "nbformat": 4,
 "nbformat_minor": 4
}
