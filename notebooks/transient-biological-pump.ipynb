{
 "cells": [
  {
   "cell_type": "code",
   "execution_count": 1,
   "id": "widespread-tracker",
   "metadata": {},
   "outputs": [],
   "source": [
    "%load_ext autoreload\n",
    "%autoreload 2"
   ]
  },
  {
   "cell_type": "code",
   "execution_count": 2,
   "id": "turkish-biology",
   "metadata": {},
   "outputs": [],
   "source": [
    "import os\n",
    "\n",
    "from itertools import product\n",
    "\n",
    "import pandas as pd\n",
    "import numpy as np\n",
    "import xarray as xr\n",
    "\n",
    "import matplotlib.pyplot as plt\n",
    "import matplotlib.gridspec as gridspec\n",
    "import matplotlib.colors as colors\n",
    "import cmocean\n",
    "\n",
    "import cartopy\n",
    "import cartopy.crs as ccrs\n",
    "\n",
    "import xpersist as xp\n",
    "cache_dir = '/glade/p/cgd/oce/projects/cesm2-marbl/xpersist_cache/3d_fields'\n",
    "if (os.path.isdir(cache_dir)):\n",
    "    xp.settings['cache_dir'] = cache_dir\n",
    "os.makedirs(cache_dir, exist_ok=True)\n",
    "\n",
    "os.environ['CESMDATAROOT'] = '/glade/scratch/mclong/inputdata'\n",
    "import pop_tools\n",
    "\n",
    "\n",
    "import climo_utils as cu\n",
    "import utils\n",
    "import discrete_obs \n",
    "\n",
    "import plot"
   ]
  },
  {
   "cell_type": "code",
   "execution_count": 3,
   "id": "enabling-mirror",
   "metadata": {},
   "outputs": [
    {
     "name": "stderr",
     "output_type": "stream",
     "text": [
      "/glade/work/mclong/miniconda3/envs/cesm2-marbl/lib/python3.7/site-packages/numba/np/ufunc/parallel.py:365: NumbaWarning: The TBB threading layer requires TBB version 2019.5 or later i.e., TBB_INTERFACE_VERSION >= 11005. Found TBB_INTERFACE_VERSION = 6103. The TBB threading layer is disabled.\n",
      "  warnings.warn(problem)\n"
     ]
    },
    {
     "data": {
      "text/plain": [
       "<matplotlib.collections.QuadMesh at 0x2ae6a2472710>"
      ]
     },
     "execution_count": 3,
     "metadata": {},
     "output_type": "execute_result"
    },
    {
     "data": {
      "image/png": "[encoded data removed]",
      "text/plain": [
       "<Figure size 432x288 with 2 Axes>"
      ]
     },
     "metadata": {
      "needs_background": "light"
     },
     "output_type": "display_data"
    }
   ],
   "source": [
    "ds_grid = pop_tools.get_grid('POP_gx1v7')\n",
    "masked_area = ds_grid.TAREA.where(ds_grid.REGION_MASK > 0).fillna(0.).expand_dims('region')\n",
    "masked_area.plot()"
   ]
  },
  {
   "cell_type": "code",
   "execution_count": 4,
   "id": "solar-visitor",
   "metadata": {},
   "outputs": [
    {
     "name": "stderr",
     "output_type": "stream",
     "text": [
      "/glade/work/mclong/miniconda3/envs/cesm2-marbl/lib/python3.7/site-packages/distributed/dashboard/core.py:79: UserWarning: \n",
      "Port 8787 is already in use. \n",
      "Perhaps you already have a cluster running?\n",
      "Hosting the diagnostics dashboard on a random port instead.\n",
      "  warnings.warn(\"\\n\" + msg)\n"
     ]
    },
    {
     "data": {
      "text/html": [
       "<table style=\"border: 2px solid white;\">\n",
       "<tr>\n",
       "<td style=\"vertical-align: top; border: 0px solid white\">\n",
       "<h3 style=\"text-align: left;\">Client</h3>\n",
       "<ul style=\"text-align: left; list-style: none; margin: 0; padding: 0;\">\n",
       "  <li><b>Scheduler: </b>tcp://10.12.206.32:36719</li>\n",
       "  <li><b>Dashboard: </b><a href='https://jupyterhub.hpc.ucar.edu/stable/user/mclong/proxy/35014/status' target='_blank'>https://jupyterhub.hpc.ucar.edu/stable/user/mclong/proxy/35014/status</a>\n",
       "</ul>\n",
       "</td>\n",
       "<td style=\"vertical-align: top; border: 0px solid white\">\n",
       "<h3 style=\"text-align: left;\">Cluster</h3>\n",
       "<ul style=\"text-align: left; list-style:none; margin: 0; padding: 0;\">\n",
       "  <li><b>Workers: </b>0</li>\n",
       "  <li><b>Cores: </b>0</li>\n",
       "  <li><b>Memory: </b>0 B</li>\n",
       "</ul>\n",
       "</td>\n",
       "</tr>\n",
       "</table>"
      ],
      "text/plain": [
       "<Client: 'tcp://10.12.206.32:36719' processes=0 threads=0, memory=0 B>"
      ]
     },
     "execution_count": 4,
     "metadata": {},
     "output_type": "execute_result"
    }
   ],
   "source": [
    "cluster, client = utils.get_ClusterClient()\n",
    "cluster.scale(12) #adapt(minimum_jobs=0, maximum_jobs=24)\n",
    "client"
   ]
  },
  {
   "cell_type": "code",
   "execution_count": 5,
   "id": "floppy-franchise",
   "metadata": {},
   "outputs": [],
   "source": [
    "experiments = [\n",
    "    'piControl',\n",
    "    'historical',\n",
    "    'SSP1-2.6',\n",
    "    'SSP2-4.5',\n",
    "    'SSP3-7.0',\n",
    "    'SSP5-8.5',\n",
    "]\n",
    "\n",
    "time_slice = {\n",
    "    'historical': slice(\"1990-01-15\", \"2015-01-15\"),\n",
    "    'SSP1-2.6': slice(\"2086-01-15\", \"2101-01-15\"),\n",
    "    'SSP2-4.5': slice(\"2086-01-15\", \"2101-01-15\"),\n",
    "    'SSP3-7.0': slice(\"2086-01-15\", \"2101-01-15\"),\n",
    "    'SSP5-8.5': slice(\"2086-01-15\", \"2101-01-15\"),\n",
    "}\n",
    "\n",
    "varlist = [\n",
    "    'photoC_TOT_zint_100m',\n",
    "    'photoC_diat_zint_100m',\n",
    "    'photoC_diaz_zint_100m',\n",
    "    'photoC_sp_zint_100m',\n",
    "    'POC_FLUX_100m', \n",
    "]"
   ]
  },
  {
   "cell_type": "code",
   "execution_count": 6,
   "id": "pregnant-minute",
   "metadata": {},
   "outputs": [
    {
     "name": "stdout",
     "output_type": "stream",
     "text": [
      "assuming cache is correct\n",
      "reading cached file: /glade/p/cgd/oce/projects/cesm2-marbl/xpersist_cache/3d_fields/epoch-historical-photoC_TOT_zint_100m.nc\n",
      "\n",
      "--> The keys in the returned dictionary of datasets are constructed as follows:\n",
      "\t'component.experiment.stream'\n"
     ]
    },
    {
     "data": {
      "text/html": [
       "\n",
       "    <div>\n",
       "        <style>\n",
       "            /* Turns off some styling */\n",
       "            progress {\n",
       "                /* gets rid of default border in Firefox and Opera. */\n",
       "                border: none;\n",
       "                /* Needs to be in here for Safari polyfill so background images work as expected. */\n",
       "                background-size: auto;\n",
       "            }\n",
       "            .progress-bar-interrupted, .progress-bar-interrupted::-webkit-progress-bar {\n",
       "                background: #F44336;\n",
       "            }\n",
       "        </style>\n",
       "      <progress value='1' class='' max='1' style='width:300px; height:20px; vertical-align: middle;'></progress>\n",
       "      100.00% [1/1 00:00<00:00]\n",
       "    </div>\n",
       "    "
      ],
      "text/plain": [
       "<IPython.core.display.HTML object>"
      ]
     },
     "metadata": {},
     "output_type": "display_data"
    },
    {
     "name": "stdout",
     "output_type": "stream",
     "text": [
      "writing cache file: /glade/p/cgd/oce/projects/cesm2-marbl/xpersist_cache/3d_fields/epoch-historical-photoC_diat_zint_100m.nc\n",
      "\n",
      "--> The keys in the returned dictionary of datasets are constructed as follows:\n",
      "\t'component.experiment.stream'\n"
     ]
    },
    {
     "data": {
      "text/html": [
       "\n",
       "    <div>\n",
       "        <style>\n",
       "            /* Turns off some styling */\n",
       "            progress {\n",
       "                /* gets rid of default border in Firefox and Opera. */\n",
       "                border: none;\n",
       "                /* Needs to be in here for Safari polyfill so background images work as expected. */\n",
       "                background-size: auto;\n",
       "            }\n",
       "            .progress-bar-interrupted, .progress-bar-interrupted::-webkit-progress-bar {\n",
       "                background: #F44336;\n",
       "            }\n",
       "        </style>\n",
       "      <progress value='1' class='' max='1' style='width:300px; height:20px; vertical-align: middle;'></progress>\n",
       "      100.00% [1/1 00:00<00:00]\n",
       "    </div>\n",
       "    "
      ],
      "text/plain": [
       "<IPython.core.display.HTML object>"
      ]
     },
     "metadata": {},
     "output_type": "display_data"
    },
    {
     "name": "stdout",
     "output_type": "stream",
     "text": [
      "writing cache file: /glade/p/cgd/oce/projects/cesm2-marbl/xpersist_cache/3d_fields/epoch-historical-photoC_diaz_zint_100m.nc\n",
      "\n",
      "--> The keys in the returned dictionary of datasets are constructed as follows:\n",
      "\t'component.experiment.stream'\n"
     ]
    },
    {
     "data": {
      "text/html": [
       "\n",
       "    <div>\n",
       "        <style>\n",
       "            /* Turns off some styling */\n",
       "            progress {\n",
       "                /* gets rid of default border in Firefox and Opera. */\n",
       "                border: none;\n",
       "                /* Needs to be in here for Safari polyfill so background images work as expected. */\n",
       "                background-size: auto;\n",
       "            }\n",
       "            .progress-bar-interrupted, .progress-bar-interrupted::-webkit-progress-bar {\n",
       "                background: #F44336;\n",
       "            }\n",
       "        </style>\n",
       "      <progress value='1' class='' max='1' style='width:300px; height:20px; vertical-align: middle;'></progress>\n",
       "      100.00% [1/1 00:00<00:00]\n",
       "    </div>\n",
       "    "
      ],
      "text/plain": [
       "<IPython.core.display.HTML object>"
      ]
     },
     "metadata": {},
     "output_type": "display_data"
    },
    {
     "name": "stdout",
     "output_type": "stream",
     "text": [
      "writing cache file: /glade/p/cgd/oce/projects/cesm2-marbl/xpersist_cache/3d_fields/epoch-historical-photoC_sp_zint_100m.nc\n",
      "assuming cache is correct\n",
      "reading cached file: /glade/p/cgd/oce/projects/cesm2-marbl/xpersist_cache/3d_fields/epoch-historical-POC_FLUX_100m.nc\n",
      "assuming cache is correct\n",
      "reading cached file: /glade/p/cgd/oce/projects/cesm2-marbl/xpersist_cache/3d_fields/epoch-SSP1-2.6-photoC_TOT_zint_100m.nc\n",
      "\n",
      "--> The keys in the returned dictionary of datasets are constructed as follows:\n",
      "\t'component.experiment.stream'\n"
     ]
    },
    {
     "data": {
      "text/html": [
       "\n",
       "    <div>\n",
       "        <style>\n",
       "            /* Turns off some styling */\n",
       "            progress {\n",
       "                /* gets rid of default border in Firefox and Opera. */\n",
       "                border: none;\n",
       "                /* Needs to be in here for Safari polyfill so background images work as expected. */\n",
       "                background-size: auto;\n",
       "            }\n",
       "            .progress-bar-interrupted, .progress-bar-interrupted::-webkit-progress-bar {\n",
       "                background: #F44336;\n",
       "            }\n",
       "        </style>\n",
       "      <progress value='1' class='' max='1' style='width:300px; height:20px; vertical-align: middle;'></progress>\n",
       "      100.00% [1/1 00:00<00:00]\n",
       "    </div>\n",
       "    "
      ],
      "text/plain": [
       "<IPython.core.display.HTML object>"
      ]
     },
     "metadata": {},
     "output_type": "display_data"
    },
    {
     "name": "stdout",
     "output_type": "stream",
     "text": [
      "writing cache file: /glade/p/cgd/oce/projects/cesm2-marbl/xpersist_cache/3d_fields/epoch-SSP1-2.6-photoC_diat_zint_100m.nc\n",
      "\n",
      "--> The keys in the returned dictionary of datasets are constructed as follows:\n",
      "\t'component.experiment.stream'\n"
     ]
    },
    {
     "data": {
      "text/html": [
       "\n",
       "    <div>\n",
       "        <style>\n",
       "            /* Turns off some styling */\n",
       "            progress {\n",
       "                /* gets rid of default border in Firefox and Opera. */\n",
       "                border: none;\n",
       "                /* Needs to be in here for Safari polyfill so background images work as expected. */\n",
       "                background-size: auto;\n",
       "            }\n",
       "            .progress-bar-interrupted, .progress-bar-interrupted::-webkit-progress-bar {\n",
       "                background: #F44336;\n",
       "            }\n",
       "        </style>\n",
       "      <progress value='1' class='' max='1' style='width:300px; height:20px; vertical-align: middle;'></progress>\n",
       "      100.00% [1/1 00:00<00:00]\n",
       "    </div>\n",
       "    "
      ],
      "text/plain": [
       "<IPython.core.display.HTML object>"
      ]
     },
     "metadata": {},
     "output_type": "display_data"
    },
    {
     "name": "stdout",
     "output_type": "stream",
     "text": [
      "writing cache file: /glade/p/cgd/oce/projects/cesm2-marbl/xpersist_cache/3d_fields/epoch-SSP1-2.6-photoC_diaz_zint_100m.nc\n",
      "\n",
      "--> The keys in the returned dictionary of datasets are constructed as follows:\n",
      "\t'component.experiment.stream'\n"
     ]
    },
    {
     "data": {
      "text/html": [
       "\n",
       "    <div>\n",
       "        <style>\n",
       "            /* Turns off some styling */\n",
       "            progress {\n",
       "                /* gets rid of default border in Firefox and Opera. */\n",
       "                border: none;\n",
       "                /* Needs to be in here for Safari polyfill so background images work as expected. */\n",
       "                background-size: auto;\n",
       "            }\n",
       "            .progress-bar-interrupted, .progress-bar-interrupted::-webkit-progress-bar {\n",
       "                background: #F44336;\n",
       "            }\n",
       "        </style>\n",
       "      <progress value='1' class='' max='1' style='width:300px; height:20px; vertical-align: middle;'></progress>\n",
       "      100.00% [1/1 00:00<00:00]\n",
       "    </div>\n",
       "    "
      ],
      "text/plain": [
       "<IPython.core.display.HTML object>"
      ]
     },
     "metadata": {},
     "output_type": "display_data"
    },
    {
     "name": "stdout",
     "output_type": "stream",
     "text": [
      "writing cache file: /glade/p/cgd/oce/projects/cesm2-marbl/xpersist_cache/3d_fields/epoch-SSP1-2.6-photoC_sp_zint_100m.nc\n",
      "assuming cache is correct\n",
      "reading cached file: /glade/p/cgd/oce/projects/cesm2-marbl/xpersist_cache/3d_fields/epoch-SSP1-2.6-POC_FLUX_100m.nc\n",
      "assuming cache is correct\n",
      "reading cached file: /glade/p/cgd/oce/projects/cesm2-marbl/xpersist_cache/3d_fields/epoch-SSP2-4.5-photoC_TOT_zint_100m.nc\n",
      "\n",
      "--> The keys in the returned dictionary of datasets are constructed as follows:\n",
      "\t'component.experiment.stream'\n"
     ]
    },
    {
     "data": {
      "text/html": [
       "\n",
       "    <div>\n",
       "        <style>\n",
       "            /* Turns off some styling */\n",
       "            progress {\n",
       "                /* gets rid of default border in Firefox and Opera. */\n",
       "                border: none;\n",
       "                /* Needs to be in here for Safari polyfill so background images work as expected. */\n",
       "                background-size: auto;\n",
       "            }\n",
       "            .progress-bar-interrupted, .progress-bar-interrupted::-webkit-progress-bar {\n",
       "                background: #F44336;\n",
       "            }\n",
       "        </style>\n",
       "      <progress value='1' class='' max='1' style='width:300px; height:20px; vertical-align: middle;'></progress>\n",
       "      100.00% [1/1 00:00<00:00]\n",
       "    </div>\n",
       "    "
      ],
      "text/plain": [
       "<IPython.core.display.HTML object>"
      ]
     },
     "metadata": {},
     "output_type": "display_data"
    },
    {
     "name": "stdout",
     "output_type": "stream",
     "text": [
      "writing cache file: /glade/p/cgd/oce/projects/cesm2-marbl/xpersist_cache/3d_fields/epoch-SSP2-4.5-photoC_diat_zint_100m.nc\n",
      "\n",
      "--> The keys in the returned dictionary of datasets are constructed as follows:\n",
      "\t'component.experiment.stream'\n"
     ]
    },
    {
     "data": {
      "text/html": [
       "\n",
       "    <div>\n",
       "        <style>\n",
       "            /* Turns off some styling */\n",
       "            progress {\n",
       "                /* gets rid of default border in Firefox and Opera. */\n",
       "                border: none;\n",
       "                /* Needs to be in here for Safari polyfill so background images work as expected. */\n",
       "                background-size: auto;\n",
       "            }\n",
       "            .progress-bar-interrupted, .progress-bar-interrupted::-webkit-progress-bar {\n",
       "                background: #F44336;\n",
       "            }\n",
       "        </style>\n",
       "      <progress value='1' class='' max='1' style='width:300px; height:20px; vertical-align: middle;'></progress>\n",
       "      100.00% [1/1 00:00<00:00]\n",
       "    </div>\n",
       "    "
      ],
      "text/plain": [
       "<IPython.core.display.HTML object>"
      ]
     },
     "metadata": {},
     "output_type": "display_data"
    },
    {
     "name": "stdout",
     "output_type": "stream",
     "text": [
      "writing cache file: /glade/p/cgd/oce/projects/cesm2-marbl/xpersist_cache/3d_fields/epoch-SSP2-4.5-photoC_diaz_zint_100m.nc\n",
      "\n",
      "--> The keys in the returned dictionary of datasets are constructed as follows:\n",
      "\t'component.experiment.stream'\n"
     ]
    },
    {
     "data": {
      "text/html": [
       "\n",
       "    <div>\n",
       "        <style>\n",
       "            /* Turns off some styling */\n",
       "            progress {\n",
       "                /* gets rid of default border in Firefox and Opera. */\n",
       "                border: none;\n",
       "                /* Needs to be in here for Safari polyfill so background images work as expected. */\n",
       "                background-size: auto;\n",
       "            }\n",
       "            .progress-bar-interrupted, .progress-bar-interrupted::-webkit-progress-bar {\n",
       "                background: #F44336;\n",
       "            }\n",
       "        </style>\n",
       "      <progress value='1' class='' max='1' style='width:300px; height:20px; vertical-align: middle;'></progress>\n",
       "      100.00% [1/1 00:00<00:00]\n",
       "    </div>\n",
       "    "
      ],
      "text/plain": [
       "<IPython.core.display.HTML object>"
      ]
     },
     "metadata": {},
     "output_type": "display_data"
    },
    {
     "name": "stdout",
     "output_type": "stream",
     "text": [
      "writing cache file: /glade/p/cgd/oce/projects/cesm2-marbl/xpersist_cache/3d_fields/epoch-SSP2-4.5-photoC_sp_zint_100m.nc\n",
      "assuming cache is correct\n",
      "reading cached file: /glade/p/cgd/oce/projects/cesm2-marbl/xpersist_cache/3d_fields/epoch-SSP2-4.5-POC_FLUX_100m.nc\n",
      "assuming cache is correct\n",
      "reading cached file: /glade/p/cgd/oce/projects/cesm2-marbl/xpersist_cache/3d_fields/epoch-SSP3-7.0-photoC_TOT_zint_100m.nc\n",
      "\n",
      "--> The keys in the returned dictionary of datasets are constructed as follows:\n",
      "\t'component.experiment.stream'\n"
     ]
    },
    {
     "data": {
      "text/html": [
       "\n",
       "    <div>\n",
       "        <style>\n",
       "            /* Turns off some styling */\n",
       "            progress {\n",
       "                /* gets rid of default border in Firefox and Opera. */\n",
       "                border: none;\n",
       "                /* Needs to be in here for Safari polyfill so background images work as expected. */\n",
       "                background-size: auto;\n",
       "            }\n",
       "            .progress-bar-interrupted, .progress-bar-interrupted::-webkit-progress-bar {\n",
       "                background: #F44336;\n",
       "            }\n",
       "        </style>\n",
       "      <progress value='1' class='' max='1' style='width:300px; height:20px; vertical-align: middle;'></progress>\n",
       "      100.00% [1/1 00:00<00:00]\n",
       "    </div>\n",
       "    "
      ],
      "text/plain": [
       "<IPython.core.display.HTML object>"
      ]
     },
     "metadata": {},
     "output_type": "display_data"
    },
    {
     "name": "stdout",
     "output_type": "stream",
     "text": [
      "writing cache file: /glade/p/cgd/oce/projects/cesm2-marbl/xpersist_cache/3d_fields/epoch-SSP3-7.0-photoC_diat_zint_100m.nc\n",
      "\n",
      "--> The keys in the returned dictionary of datasets are constructed as follows:\n",
      "\t'component.experiment.stream'\n"
     ]
    },
    {
     "data": {
      "text/html": [
       "\n",
       "    <div>\n",
       "        <style>\n",
       "            /* Turns off some styling */\n",
       "            progress {\n",
       "                /* gets rid of default border in Firefox and Opera. */\n",
       "                border: none;\n",
       "                /* Needs to be in here for Safari polyfill so background images work as expected. */\n",
       "                background-size: auto;\n",
       "            }\n",
       "            .progress-bar-interrupted, .progress-bar-interrupted::-webkit-progress-bar {\n",
       "                background: #F44336;\n",
       "            }\n",
       "        </style>\n",
       "      <progress value='1' class='' max='1' style='width:300px; height:20px; vertical-align: middle;'></progress>\n",
       "      100.00% [1/1 00:00<00:00]\n",
       "    </div>\n",
       "    "
      ],
      "text/plain": [
       "<IPython.core.display.HTML object>"
      ]
     },
     "metadata": {},
     "output_type": "display_data"
    },
    {
     "name": "stdout",
     "output_type": "stream",
     "text": [
      "writing cache file: /glade/p/cgd/oce/projects/cesm2-marbl/xpersist_cache/3d_fields/epoch-SSP3-7.0-photoC_diaz_zint_100m.nc\n",
      "\n",
      "--> The keys in the returned dictionary of datasets are constructed as follows:\n",
      "\t'component.experiment.stream'\n"
     ]
    },
    {
     "data": {
      "text/html": [
       "\n",
       "    <div>\n",
       "        <style>\n",
       "            /* Turns off some styling */\n",
       "            progress {\n",
       "                /* gets rid of default border in Firefox and Opera. */\n",
       "                border: none;\n",
       "                /* Needs to be in here for Safari polyfill so background images work as expected. */\n",
       "                background-size: auto;\n",
       "            }\n",
       "            .progress-bar-interrupted, .progress-bar-interrupted::-webkit-progress-bar {\n",
       "                background: #F44336;\n",
       "            }\n",
       "        </style>\n",
       "      <progress value='1' class='' max='1' style='width:300px; height:20px; vertical-align: middle;'></progress>\n",
       "      100.00% [1/1 00:00<00:00]\n",
       "    </div>\n",
       "    "
      ],
      "text/plain": [
       "<IPython.core.display.HTML object>"
      ]
     },
     "metadata": {},
     "output_type": "display_data"
    },
    {
     "name": "stdout",
     "output_type": "stream",
     "text": [
      "writing cache file: /glade/p/cgd/oce/projects/cesm2-marbl/xpersist_cache/3d_fields/epoch-SSP3-7.0-photoC_sp_zint_100m.nc\n",
      "assuming cache is correct\n",
      "reading cached file: /glade/p/cgd/oce/projects/cesm2-marbl/xpersist_cache/3d_fields/epoch-SSP3-7.0-POC_FLUX_100m.nc\n",
      "assuming cache is correct\n",
      "reading cached file: /glade/p/cgd/oce/projects/cesm2-marbl/xpersist_cache/3d_fields/epoch-SSP5-8.5-photoC_TOT_zint_100m.nc\n",
      "\n",
      "--> The keys in the returned dictionary of datasets are constructed as follows:\n",
      "\t'component.experiment.stream'\n"
     ]
    },
    {
     "data": {
      "text/html": [
       "\n",
       "    <div>\n",
       "        <style>\n",
       "            /* Turns off some styling */\n",
       "            progress {\n",
       "                /* gets rid of default border in Firefox and Opera. */\n",
       "                border: none;\n",
       "                /* Needs to be in here for Safari polyfill so background images work as expected. */\n",
       "                background-size: auto;\n",
       "            }\n",
       "            .progress-bar-interrupted, .progress-bar-interrupted::-webkit-progress-bar {\n",
       "                background: #F44336;\n",
       "            }\n",
       "        </style>\n",
       "      <progress value='1' class='' max='1' style='width:300px; height:20px; vertical-align: middle;'></progress>\n",
       "      100.00% [1/1 00:00<00:00]\n",
       "    </div>\n",
       "    "
      ],
      "text/plain": [
       "<IPython.core.display.HTML object>"
      ]
     },
     "metadata": {},
     "output_type": "display_data"
    },
    {
     "name": "stdout",
     "output_type": "stream",
     "text": [
      "writing cache file: /glade/p/cgd/oce/projects/cesm2-marbl/xpersist_cache/3d_fields/epoch-SSP5-8.5-photoC_diat_zint_100m.nc\n",
      "\n",
      "--> The keys in the returned dictionary of datasets are constructed as follows:\n",
      "\t'component.experiment.stream'\n"
     ]
    },
    {
     "data": {
      "text/html": [
       "\n",
       "    <div>\n",
       "        <style>\n",
       "            /* Turns off some styling */\n",
       "            progress {\n",
       "                /* gets rid of default border in Firefox and Opera. */\n",
       "                border: none;\n",
       "                /* Needs to be in here for Safari polyfill so background images work as expected. */\n",
       "                background-size: auto;\n",
       "            }\n",
       "            .progress-bar-interrupted, .progress-bar-interrupted::-webkit-progress-bar {\n",
       "                background: #F44336;\n",
       "            }\n",
       "        </style>\n",
       "      <progress value='1' class='' max='1' style='width:300px; height:20px; vertical-align: middle;'></progress>\n",
       "      100.00% [1/1 00:00<00:00]\n",
       "    </div>\n",
       "    "
      ],
      "text/plain": [
       "<IPython.core.display.HTML object>"
      ]
     },
     "metadata": {},
     "output_type": "display_data"
    },
    {
     "name": "stdout",
     "output_type": "stream",
     "text": [
      "writing cache file: /glade/p/cgd/oce/projects/cesm2-marbl/xpersist_cache/3d_fields/epoch-SSP5-8.5-photoC_diaz_zint_100m.nc\n",
      "\n",
      "--> The keys in the returned dictionary of datasets are constructed as follows:\n",
      "\t'component.experiment.stream'\n"
     ]
    },
    {
     "data": {
      "text/html": [
       "\n",
       "    <div>\n",
       "        <style>\n",
       "            /* Turns off some styling */\n",
       "            progress {\n",
       "                /* gets rid of default border in Firefox and Opera. */\n",
       "                border: none;\n",
       "                /* Needs to be in here for Safari polyfill so background images work as expected. */\n",
       "                background-size: auto;\n",
       "            }\n",
       "            .progress-bar-interrupted, .progress-bar-interrupted::-webkit-progress-bar {\n",
       "                background: #F44336;\n",
       "            }\n",
       "        </style>\n",
       "      <progress value='1' class='' max='1' style='width:300px; height:20px; vertical-align: middle;'></progress>\n",
       "      100.00% [1/1 00:00<00:00]\n",
       "    </div>\n",
       "    "
      ],
      "text/plain": [
       "<IPython.core.display.HTML object>"
      ]
     },
     "metadata": {},
     "output_type": "display_data"
    },
    {
     "name": "stdout",
     "output_type": "stream",
     "text": [
      "writing cache file: /glade/p/cgd/oce/projects/cesm2-marbl/xpersist_cache/3d_fields/epoch-SSP5-8.5-photoC_sp_zint_100m.nc\n",
      "assuming cache is correct\n",
      "reading cached file: /glade/p/cgd/oce/projects/cesm2-marbl/xpersist_cache/3d_fields/epoch-SSP5-8.5-POC_FLUX_100m.nc\n"
     ]
    },
    {
     "data": {
      "text/plain": [
       "{'historical': <xarray.Dataset>\n",
       " Dimensions:                (nlat: 384, nlon: 320, z_t: 60)\n",
       " Coordinates:\n",
       "   * z_t                    (z_t) float32 500.0 1.5e+03 ... 5.125e+05 5.375e+05\n",
       "     TLONG                  (nlat, nlon) float64 320.6 321.7 ... 319.4 319.8\n",
       "     TLAT                   (nlat, nlon) float64 -79.22 -79.22 ... 72.19 72.19\n",
       "     ULONG                  (nlat, nlon) float64 321.1 322.3 ... 319.6 320.0\n",
       "     ULAT                   (nlat, nlon) float64 -78.95 -78.95 ... 72.41 72.41\n",
       " Dimensions without coordinates: nlat, nlon\n",
       " Data variables:\n",
       "     REGION_MASK            (nlat, nlon) float64 0.0 0.0 0.0 0.0 ... 0.0 0.0 0.0\n",
       "     dz                     (z_t) float32 1e+03 1e+03 1e+03 ... 2.5e+04 2.5e+04\n",
       "     TAREA                  (nlat, nlon) float64 1.125e+13 ... 7.432e+12\n",
       "     KMT                    (nlat, nlon) float64 0.0 0.0 0.0 0.0 ... 0.0 0.0 0.0\n",
       "     photoC_TOT_zint_100m   (nlat, nlon) float32 ...\n",
       "     photoC_diat_zint_100m  (nlat, nlon) float32 nan nan nan nan ... nan nan nan\n",
       "     photoC_diaz_zint_100m  (nlat, nlon) float32 nan nan nan nan ... nan nan nan\n",
       "     photoC_sp_zint_100m    (nlat, nlon) float32 nan nan nan nan ... nan nan nan\n",
       "     POC_FLUX_100m          (nlat, nlon) float32 ...,\n",
       " 'SSP1-2.6': <xarray.Dataset>\n",
       " Dimensions:                (nlat: 384, nlon: 320, z_t: 60)\n",
       " Coordinates:\n",
       "   * z_t                    (z_t) float32 500.0 1.5e+03 ... 5.125e+05 5.375e+05\n",
       "     TLONG                  (nlat, nlon) float64 320.6 321.7 ... 319.4 319.8\n",
       "     TLAT                   (nlat, nlon) float64 -79.22 -79.22 ... 72.19 72.19\n",
       "     ULONG                  (nlat, nlon) float64 321.1 322.3 ... 319.6 320.0\n",
       "     ULAT                   (nlat, nlon) float64 -78.95 -78.95 ... 72.41 72.41\n",
       " Dimensions without coordinates: nlat, nlon\n",
       " Data variables:\n",
       "     REGION_MASK            (nlat, nlon) float64 0.0 0.0 0.0 0.0 ... 0.0 0.0 0.0\n",
       "     dz                     (z_t) float32 1e+03 1e+03 1e+03 ... 2.5e+04 2.5e+04\n",
       "     TAREA                  (nlat, nlon) float64 1.125e+13 ... 7.432e+12\n",
       "     KMT                    (nlat, nlon) float64 0.0 0.0 0.0 0.0 ... 0.0 0.0 0.0\n",
       "     photoC_TOT_zint_100m   (nlat, nlon) float32 ...\n",
       "     photoC_diat_zint_100m  (nlat, nlon) float32 nan nan nan nan ... nan nan nan\n",
       "     photoC_diaz_zint_100m  (nlat, nlon) float32 nan nan nan nan ... nan nan nan\n",
       "     photoC_sp_zint_100m    (nlat, nlon) float32 nan nan nan nan ... nan nan nan\n",
       "     POC_FLUX_100m          (nlat, nlon) float32 ...,\n",
       " 'SSP2-4.5': <xarray.Dataset>\n",
       " Dimensions:                (nlat: 384, nlon: 320, z_t: 60)\n",
       " Coordinates:\n",
       "   * z_t                    (z_t) float32 500.0 1.5e+03 ... 5.125e+05 5.375e+05\n",
       "     TLONG                  (nlat, nlon) float64 320.6 321.7 ... 319.4 319.8\n",
       "     TLAT                   (nlat, nlon) float64 -79.22 -79.22 ... 72.19 72.19\n",
       "     ULONG                  (nlat, nlon) float64 321.1 322.3 ... 319.6 320.0\n",
       "     ULAT                   (nlat, nlon) float64 -78.95 -78.95 ... 72.41 72.41\n",
       " Dimensions without coordinates: nlat, nlon\n",
       " Data variables:\n",
       "     REGION_MASK            (nlat, nlon) float64 0.0 0.0 0.0 0.0 ... 0.0 0.0 0.0\n",
       "     dz                     (z_t) float32 1e+03 1e+03 1e+03 ... 2.5e+04 2.5e+04\n",
       "     TAREA                  (nlat, nlon) float64 1.125e+13 ... 7.432e+12\n",
       "     KMT                    (nlat, nlon) float64 0.0 0.0 0.0 0.0 ... 0.0 0.0 0.0\n",
       "     photoC_TOT_zint_100m   (nlat, nlon) float32 ...\n",
       "     photoC_diat_zint_100m  (nlat, nlon) float32 nan nan nan nan ... nan nan nan\n",
       "     photoC_diaz_zint_100m  (nlat, nlon) float32 nan nan nan nan ... nan nan nan\n",
       "     photoC_sp_zint_100m    (nlat, nlon) float32 nan nan nan nan ... nan nan nan\n",
       "     POC_FLUX_100m          (nlat, nlon) float32 ...,\n",
       " 'SSP3-7.0': <xarray.Dataset>\n",
       " Dimensions:                (nlat: 384, nlon: 320, z_t: 60)\n",
       " Coordinates:\n",
       "   * z_t                    (z_t) float32 500.0 1.5e+03 ... 5.125e+05 5.375e+05\n",
       "     TLONG                  (nlat, nlon) float64 320.6 321.7 ... 319.4 319.8\n",
       "     TLAT                   (nlat, nlon) float64 -79.22 -79.22 ... 72.19 72.19\n",
       "     ULONG                  (nlat, nlon) float64 321.1 322.3 ... 319.6 320.0\n",
       "     ULAT                   (nlat, nlon) float64 -78.95 -78.95 ... 72.41 72.41\n",
       " Dimensions without coordinates: nlat, nlon\n",
       " Data variables:\n",
       "     REGION_MASK            (nlat, nlon) float64 0.0 0.0 0.0 0.0 ... 0.0 0.0 0.0\n",
       "     dz                     (z_t) float32 1e+03 1e+03 1e+03 ... 2.5e+04 2.5e+04\n",
       "     TAREA                  (nlat, nlon) float64 1.125e+13 ... 7.432e+12\n",
       "     KMT                    (nlat, nlon) float64 0.0 0.0 0.0 0.0 ... 0.0 0.0 0.0\n",
       "     photoC_TOT_zint_100m   (nlat, nlon) float32 ...\n",
       "     photoC_diat_zint_100m  (nlat, nlon) float32 nan nan nan nan ... nan nan nan\n",
       "     photoC_diaz_zint_100m  (nlat, nlon) float32 nan nan nan nan ... nan nan nan\n",
       "     photoC_sp_zint_100m    (nlat, nlon) float32 nan nan nan nan ... nan nan nan\n",
       "     POC_FLUX_100m          (nlat, nlon) float32 ...,\n",
       " 'SSP5-8.5': <xarray.Dataset>\n",
       " Dimensions:                (nlat: 384, nlon: 320, z_t: 60)\n",
       " Coordinates:\n",
       "   * z_t                    (z_t) float32 500.0 1.5e+03 ... 5.125e+05 5.375e+05\n",
       "     TLONG                  (nlat, nlon) float64 320.6 321.7 ... 319.4 319.8\n",
       "     TLAT                   (nlat, nlon) float64 -79.22 -79.22 ... 72.19 72.19\n",
       "     ULONG                  (nlat, nlon) float64 321.1 322.3 ... 319.6 320.0\n",
       "     ULAT                   (nlat, nlon) float64 -78.95 -78.95 ... 72.41 72.41\n",
       " Dimensions without coordinates: nlat, nlon\n",
       " Data variables:\n",
       "     REGION_MASK            (nlat, nlon) float64 0.0 0.0 0.0 0.0 ... 0.0 0.0 0.0\n",
       "     dz                     (z_t) float32 1e+03 1e+03 1e+03 ... 2.5e+04 2.5e+04\n",
       "     TAREA                  (nlat, nlon) float64 1.125e+13 ... 7.432e+12\n",
       "     KMT                    (nlat, nlon) float64 0.0 0.0 0.0 0.0 ... 0.0 0.0 0.0\n",
       "     photoC_TOT_zint_100m   (nlat, nlon) float32 ...\n",
       "     photoC_diat_zint_100m  (nlat, nlon) float32 nan nan nan nan ... nan nan nan\n",
       "     photoC_diaz_zint_100m  (nlat, nlon) float32 nan nan nan nan ... nan nan nan\n",
       "     photoC_sp_zint_100m    (nlat, nlon) float32 nan nan nan nan ... nan nan nan\n",
       "     POC_FLUX_100m          (nlat, nlon) float32 ...}"
      ]
     },
     "execution_count": 6,
     "metadata": {},
     "output_type": "execute_result"
    }
   ],
   "source": [
    "dsets_epoch = {}\n",
    "for experiment in experiments:\n",
    "\n",
    "    if experiment == 'piControl': \n",
    "        continue\n",
    "        \n",
    "    ds_list = []\n",
    "    for variable in varlist:\n",
    "        xp_func = xp.persist_ds(cu.read_CESM_var, \n",
    "                                name=f'epoch-{experiment}-{variable}', \n",
    "                                trust_cache=True,)\n",
    "        \n",
    "       \n",
    "        ds_list.append(\n",
    "            xp_func(\n",
    "                time_slice=time_slice[experiment], \n",
    "                variable=variable, \n",
    "                experiment=experiment,\n",
    "                mean_dims=['member_id', 'time'],\n",
    "            )\n",
    "        )\n",
    "\n",
    "    dsets_epoch[experiment] = xr.merge(ds_list)\n",
    "    \n",
    "dsets_epoch"
   ]
  },
  {
   "cell_type": "code",
   "execution_count": null,
   "id": "portuguese-uncertainty",
   "metadata": {},
   "outputs": [],
   "source": [
    "nmols_to_PgCyr = 1e-9 * 86400. * 365. * 12e-15\n",
    "\n",
    "C_flux_vars = [\n",
    "    'FG_CO2', 'photoC_TOT_zint_100m', 'photoC_diat_zint_100m', 'photoC_diaz_zint_100m',\n",
    "    'photoC_sp_zint_100m', 'POC_FLUX_100m',\n",
    "]\n",
    "\n",
    "def global_ann_mean(ds, normalize=True):\n",
    "    masked_area = ds.TAREA.where(ds.REGION_MASK > 0).fillna(0.)\n",
    "    compute_vars = [\n",
    "        v for v in ds \n",
    "        if 'time' in ds[v].dims and ('nlat', 'nlon') == ds[v].dims[-2:]\n",
    "    ]\n",
    "    \n",
    "    nyr = int(len(ds.time) / 12)\n",
    "    \n",
    "    tb_name = ds.time.attrs['bounds']\n",
    "    dim = ds[tb_name].dims[-1]\n",
    "    ds['time'] = ds[tb_name].compute().mean(dim).squeeze()   \n",
    "    \n",
    "    weights = ds[tb_name].compute().diff(dim).squeeze()\n",
    "    weights = weights.groupby('time.year') / weights.groupby('time.year').sum()\n",
    "    np.testing.assert_allclose(weights.groupby('time.year').sum().values, np.ones(nyr))\n",
    "    \n",
    "    with xr.set_options(keep_attrs=True):\n",
    "        \n",
    "        dso = (ds[compute_vars] * masked_area).sum(['nlat', 'nlon'])    \n",
    "        if normalize:\n",
    "            dso = dso[compute_vars] / masked_area.sum(['nlat', 'nlon'])\n",
    "        else:\n",
    "            for v in C_flux_vars:\n",
    "                if v in cflux_vars:\n",
    "                    dso[v] = dso[v] * nmols_to_PgCyr\n",
    "                    dso[v].attrs['units'] = 'Pg C yr$^{-1}$'\n",
    "                \n",
    "        return (dso * weights).groupby('time.year').sum(dim='time')\n"
   ]
  },
  {
   "cell_type": "code",
   "execution_count": null,
   "id": "million-federation",
   "metadata": {},
   "outputs": [
    {
     "name": "stdout",
     "output_type": "stream",
     "text": [
      "assuming cache is correct\n",
      "reading cached file: /glade/p/cgd/oce/projects/cesm2-marbl/xpersist_cache/3d_fields/transient-piControl-photoC_TOT_zint_100m.nc\n",
      "\n",
      "--> The keys in the returned dictionary of datasets are constructed as follows:\n",
      "\t'component.experiment.stream'\n"
     ]
    },
    {
     "data": {
      "text/html": [
       "\n",
       "    <div>\n",
       "        <style>\n",
       "            /* Turns off some styling */\n",
       "            progress {\n",
       "                /* gets rid of default border in Firefox and Opera. */\n",
       "                border: none;\n",
       "                /* Needs to be in here for Safari polyfill so background images work as expected. */\n",
       "                background-size: auto;\n",
       "            }\n",
       "            .progress-bar-interrupted, .progress-bar-interrupted::-webkit-progress-bar {\n",
       "                background: #F44336;\n",
       "            }\n",
       "        </style>\n",
       "      <progress value='1' class='' max='1' style='width:300px; height:20px; vertical-align: middle;'></progress>\n",
       "      100.00% [1/1 00:00<00:00]\n",
       "    </div>\n",
       "    "
      ],
      "text/plain": [
       "<IPython.core.display.HTML object>"
      ]
     },
     "metadata": {},
     "output_type": "display_data"
    },
    {
     "name": "stdout",
     "output_type": "stream",
     "text": [
      "writing cache file: /glade/p/cgd/oce/projects/cesm2-marbl/xpersist_cache/3d_fields/transient-piControl-photoC_diat_zint_100m.nc\n",
      "\n",
      "--> The keys in the returned dictionary of datasets are constructed as follows:\n",
      "\t'component.experiment.stream'\n"
     ]
    },
    {
     "data": {
      "text/html": [
       "\n",
       "    <div>\n",
       "        <style>\n",
       "            /* Turns off some styling */\n",
       "            progress {\n",
       "                /* gets rid of default border in Firefox and Opera. */\n",
       "                border: none;\n",
       "                /* Needs to be in here for Safari polyfill so background images work as expected. */\n",
       "                background-size: auto;\n",
       "            }\n",
       "            .progress-bar-interrupted, .progress-bar-interrupted::-webkit-progress-bar {\n",
       "                background: #F44336;\n",
       "            }\n",
       "        </style>\n",
       "      <progress value='1' class='' max='1' style='width:300px; height:20px; vertical-align: middle;'></progress>\n",
       "      100.00% [1/1 00:00<00:00]\n",
       "    </div>\n",
       "    "
      ],
      "text/plain": [
       "<IPython.core.display.HTML object>"
      ]
     },
     "metadata": {},
     "output_type": "display_data"
    },
    {
     "name": "stdout",
     "output_type": "stream",
     "text": [
      "writing cache file: /glade/p/cgd/oce/projects/cesm2-marbl/xpersist_cache/3d_fields/transient-piControl-photoC_diaz_zint_100m.nc\n",
      "\n",
      "--> The keys in the returned dictionary of datasets are constructed as follows:\n",
      "\t'component.experiment.stream'\n"
     ]
    },
    {
     "data": {
      "text/html": [
       "\n",
       "    <div>\n",
       "        <style>\n",
       "            /* Turns off some styling */\n",
       "            progress {\n",
       "                /* gets rid of default border in Firefox and Opera. */\n",
       "                border: none;\n",
       "                /* Needs to be in here for Safari polyfill so background images work as expected. */\n",
       "                background-size: auto;\n",
       "            }\n",
       "            .progress-bar-interrupted, .progress-bar-interrupted::-webkit-progress-bar {\n",
       "                background: #F44336;\n",
       "            }\n",
       "        </style>\n",
       "      <progress value='1' class='' max='1' style='width:300px; height:20px; vertical-align: middle;'></progress>\n",
       "      100.00% [1/1 00:00<00:00]\n",
       "    </div>\n",
       "    "
      ],
      "text/plain": [
       "<IPython.core.display.HTML object>"
      ]
     },
     "metadata": {},
     "output_type": "display_data"
    }
   ],
   "source": [
    "dsets_ts = {}\n",
    "for experiment in experiments:\n",
    "    \n",
    "    ds_list = []\n",
    "    for variable in varlist:\n",
    "        xp_func = xp.persist_ds(cu.read_CESM_var, \n",
    "                                name=f'transient-{experiment}-{variable}', \n",
    "                                trust_cache=True,)\n",
    "        \n",
    "        normalize = variable in C_flux_vars\n",
    "        \n",
    "        ds_list.append(\n",
    "            xp_func(\n",
    "                time_slice=None, \n",
    "                variable=variable, \n",
    "                postprocess=global_ann_mean,\n",
    "                postprocess_kwargs=dict(normalize=normalize),\n",
    "                experiment=experiment,\n",
    "            )\n",
    "        )\n",
    "\n",
    "    dsets_ts[experiment] = xr.merge(ds_list)\n",
    "    \n",
    "dsets_ts"
   ]
  },
  {
   "cell_type": "code",
   "execution_count": null,
   "id": "empirical-torture",
   "metadata": {},
   "outputs": [],
   "source": [
    "import seaborn as sns\n",
    "\n",
    "current_palette = sns.color_palette('colorblind', 8)\n",
    "sns.palplot(current_palette)\n",
    "\n",
    "exp_colors = {\n",
    "    'PI': current_palette.as_hex()[-1],\n",
    "    'historical': 'k',\n",
    "    'SSP1-2.6': current_palette.as_hex()[0],\n",
    "    'SSP2-4.5': current_palette.as_hex()[1],\n",
    "    'SSP3-7.0': current_palette.as_hex()[2],\n",
    "    'SSP5-8.5': current_palette.as_hex()[3],\n",
    "}"
   ]
  },
  {
   "cell_type": "code",
   "execution_count": null,
   "id": "patent-burning",
   "metadata": {},
   "outputs": [],
   "source": [
    "variable_labels = dict(\n",
    "    year='Year',\n",
    "    FG_CO2='Air-sea CO$_2$ flux [Pg C yr$^{-1}$]',\n",
    "    photoC_TOT_zint_100m='NPP (z > -100m) [Pg C yr$^{-1}$]',\n",
    "    photoC_TOT_zint='NPP [Pg C yr$^{-1}$]',\n",
    "    POC_FLUX_100m='POC flux (100 m) [Pg C yr$^{-1}$]',\n",
    "    ATM_CO2='Atmospheric CO$_2$ [ppm]',\n",
    "    SST='Temperature [°C]'\n",
    ")"
   ]
  },
  {
   "cell_type": "code",
   "execution_count": null,
   "id": "ethical-planet",
   "metadata": {},
   "outputs": [],
   "source": [
    "nrow = 2\n",
    "ncol = 2\n",
    "#fig, axs = plt.subplots(nrow, ncol, figsize=(4*ncol, 3*nrow), constrained_layout=False)\n",
    "\n",
    "fig = plt.figure(figsize=(12, 9))\n",
    "gs = gridspec.GridSpec(\n",
    "    nrows=2, ncols=2, \n",
    "    hspace=0.25,\n",
    "    wspace=0.22,\n",
    ")\n",
    "axs = np.empty((2, 2)).astype(object)\n",
    "for i, j in product(range(2), range(2)):\n",
    "    axs[i, j] = plt.subplot(gs[i, j])\n",
    "\n",
    "\n",
    "X = [['year', 'year'], ['year', 'year'],]\n",
    "Y = [['photoC_TOT_zint_100m', 'POC_FLUX_100m'], ['photoC_TOT_zint_100m', 'POC_FLUX_100m'],]\n",
    "\n",
    "for i, j in product(range(2), range(2)):\n",
    "    ax = axs[i, j]\n",
    "    x = X[i][j]\n",
    "    y = Y[i][j]\n",
    "    for exp in experiments:\n",
    "        if exp == 'piControl':\n",
    "            continue\n",
    "        ds = dsets_ts[exp]\n",
    "        #for member_id in ds.member_id.values:\n",
    "        #    ax.plot(ds.time, ds[v].sel(member_id=member_id), '-', alpha=0.25, linewidth=1, color=exp_colors[exp])\n",
    "        ax.plot(ds[x], ds[y].mean('member_id'), '-', linewidth=2, color=exp_colors[exp], label=exp)\n",
    "\n",
    "    ax.set_ylabel(variable_labels[y])    \n",
    "    ax.legend()\n",
    "    ax.set_xlabel(variable_labels[x])\n",
    "utils.label_plots(fig, [ax for ax in axs.ravel()], xoff=-0.03, yoff=0.015)   \n",
    "\n",
    "#utils.savefig(f'global-timeseries-bio-pump.pdf')"
   ]
  },
  {
   "cell_type": "code",
   "execution_count": null,
   "id": "atmospheric-target",
   "metadata": {},
   "outputs": [],
   "source": [
    "ds_glb"
   ]
  },
  {
   "cell_type": "code",
   "execution_count": null,
   "id": "beginning-freeware",
   "metadata": {},
   "outputs": [],
   "source": [
    "del client\n",
    "del cluster"
   ]
  },
  {
   "cell_type": "code",
   "execution_count": null,
   "id": "consecutive-imagination",
   "metadata": {},
   "outputs": [],
   "source": [
    "with xr.open_dataset('/glade/p/cgd/oce/projects/cesm2-marbl/fgco2-MPI-SOM-FFN_POP_gx1v7.nc') as ds_obs:\n",
    "    with xr.set_options(keep_attrs=True):\n",
    "        ds_obs = monthly_clim(ds_obs.sel(time=slice('1990', '2014'))).load()\n",
    "\n",
    "ds_obs_glb = (masked_area * ds_obs['fgco2_smoothed'].mean('time')).sum(['nlat', 'nlon']) * 12e-15 * 1e-4\n",
    "\n",
    "import intake\n",
    "cat = intake.open_catalog('catalogs/fgco2_MPI-SOM-FFN.yml')\n",
    "with xr.set_options(keep_attrs=True):\n",
    "    ds_tmp = monthly_clim(cat.fgco2_MPI_SOM_FFN().to_dask()[['fgco2_smoothed']].sel(time=slice('1990', '2014'))).compute()\n",
    "    ds_obs_za = ds_tmp.mean('lon')\n",
    "\n",
    "#for v in ['fgco2_smoothed', 'fgco2_raw']:\n",
    "#     ds_obs[v].encoding['_FillValue'] = -1e36\n",
    "         \n",
    "#ds_obs['time'] = ds_obs.time.astype(np.int32)"
   ]
  },
  {
   "cell_type": "code",
   "execution_count": null,
   "id": "effective-niger",
   "metadata": {},
   "outputs": [],
   "source": [
    "ds_obs_glb"
   ]
  },
  {
   "cell_type": "code",
   "execution_count": null,
   "id": "limited-training",
   "metadata": {},
   "outputs": [],
   "source": [
    "ds_obs.fgco2_raw.isel(time=-1).plot() #('time').plot()"
   ]
  },
  {
   "cell_type": "code",
   "execution_count": null,
   "id": "latin-joshua",
   "metadata": {},
   "outputs": [],
   "source": [
    "ds.FG_CO2.mean('time').plot()"
   ]
  },
  {
   "cell_type": "code",
   "execution_count": null,
   "id": "frozen-valuation",
   "metadata": {},
   "outputs": [],
   "source": [
    "mask2d = utils.get_pop_region_mask_za(mask_type='2D')\n",
    "mask2d.plot()"
   ]
  },
  {
   "cell_type": "code",
   "execution_count": null,
   "id": "hundred-location",
   "metadata": {},
   "outputs": [],
   "source": [
    "#\n",
    "ds_za = utils.zonal_mean_via_fortran(ds, grid='POP_gx1v7', region_mask=mask2d,)\n",
    "ds_za"
   ]
  },
  {
   "cell_type": "code",
   "execution_count": null,
   "id": "atmospheric-kennedy",
   "metadata": {},
   "outputs": [],
   "source": []
  },
  {
   "cell_type": "code",
   "execution_count": null,
   "id": "blind-nursing",
   "metadata": {},
   "outputs": [],
   "source": [
    "ds_za.FG_CO2.isel(basins=0).plot()"
   ]
  },
  {
   "cell_type": "code",
   "execution_count": null,
   "id": "minimal-wheel",
   "metadata": {},
   "outputs": [],
   "source": [
    "ds_obs_za.fgco2_smoothed.plot()"
   ]
  },
  {
   "cell_type": "code",
   "execution_count": null,
   "id": "important-security",
   "metadata": {},
   "outputs": [],
   "source": [
    "dsa = ds.mean('time').rename({'FG_CO2': 'fgco2'})\n",
    "dsa['fgco2_obs'] = ds_obs.fgco2_smoothed.mean('time')\n",
    "dsa = utils.pop_add_cyclic(dsa)\n",
    "dsa"
   ]
  },
  {
   "cell_type": "code",
   "execution_count": null,
   "id": "posted-karma",
   "metadata": {},
   "outputs": [],
   "source": [
    "fig = plt.figure(figsize=(12, 6))\n",
    "prj = ccrs.Robinson(central_longitude=305.0)\n",
    "\n",
    "gs = gridspec.GridSpec(\n",
    "    nrows=2, ncols=6, \n",
    "    width_ratios=(1, 0.01, 0.3, 0.3, 0.25, 0.02),\n",
    "    wspace=0.1, \n",
    "    hspace=0.15,\n",
    ")\n",
    "\n",
    "axs = np.empty((nrow, ncol)).astype(object)\n",
    "\n",
    "axs_map = [\n",
    "    plt.subplot(gs[0, 0], projection=prj),\n",
    "    plt.subplot(gs[1, 0], projection=prj),\n",
    "]\n",
    "cax = plt.subplot(gs[:, -1])\n",
    "\n",
    "axs_za = [\n",
    "    plt.subplot(gs[:, 2]),\n",
    "    plt.subplot(gs[:, 3]),\n",
    "]\n",
    "\n",
    "ax_za_mean = plt.subplot(gs[:, 4])\n",
    "\n",
    "cmap = cmocean.cm.balance\n",
    "\n",
    "levels = np.arange(-3.6, 3.8, 0.2)\n",
    "\n",
    "for field, ax in zip(['fgco2', 'fgco2_obs'], axs_map):\n",
    "       \n",
    "    cf = ax.contourf(\n",
    "        dsa.TLONG, dsa.TLAT, dsa[field],\n",
    "        levels=levels,\n",
    "        extend='both',\n",
    "        cmap=cmap, \n",
    "        norm=colors.BoundaryNorm(levels, ncolors=cmap.N),\n",
    "        transform=ccrs.PlateCarree(),\n",
    "    )\n",
    "    \n",
    "    land = ax.add_feature(\n",
    "        cartopy.feature.NaturalEarthFeature(\n",
    "            'physical','land','110m',\n",
    "            edgecolor='face',\n",
    "            facecolor='gray'\n",
    "        )\n",
    "    )      \n",
    "    \n",
    "    \n",
    "axs_map[0].set_title(f'CESM: {ds_glb.FG_CO2.values[0]:0.2f} Pg C yr$^{{-1}}$')\n",
    "axs_map[1].set_title(f'SOM-FFN: {ds_obs_glb.values[0]:0.2f} Pg C yr$^{{-1}}$')\n",
    "\n",
    "axs_za[0].pcolormesh(\n",
    "    np.arange(0, 13, 1), \n",
    "    ds_za.lat_t_edges, \n",
    "    ds_za.FG_CO2.isel(basins=0).T, \n",
    "    cmap=cmap, \n",
    "    norm=colors.BoundaryNorm(levels, ncolors=cmap.N),\n",
    ")\n",
    "\n",
    "axs_za[1].pcolormesh(\n",
    "    np.arange(0, 13, 1), \n",
    "    ds_obs_za.lat,\n",
    "    ds_obs_za.fgco2_smoothed.T,\n",
    "    cmap=cmap, \n",
    "    norm=colors.BoundaryNorm(levels, ncolors=cmap.N),\n",
    ")\n",
    "\n",
    "ax_za_mean.plot(ds_za.FG_CO2.isel(basins=0).mean('time'), ds_za.lat_t, '-', color='tab:blue', label='CESM2')\n",
    "ax_za_mean.plot(ds_obs_za.fgco2_smoothed.mean('time'), ds_obs_za.lat, '-', color='tab:red', label='SOM-FFN')\n",
    "\n",
    "monlabs = np.array([\"J\", \"F\", \"M\", \"A\", \"M\", \"J\", \"J\", \"A\", \"S\", \"O\", \"N\", \"D\"])\n",
    "\n",
    "for ax in axs_za:\n",
    "    ax.set_ylim([-80, 90.])\n",
    "    ax.set_yticks(np.arange(-75, 90, 15))\n",
    "    ax.set_xticks(np.arange(0, 13))\n",
    "    ax.set_xticklabels([f'   {m}' for m in monlabs]+['']);\n",
    "axs_za[0].set_ylabel('Latitude [°N]')\n",
    "axs_za[1].set_yticklabels([])\n",
    "\n",
    "axs_za[0].set_title('CESM')\n",
    "axs_za[1].set_title('SOM-FFN')\n",
    "\n",
    "ax_za_mean.set_ylim([-80, 90.])\n",
    "ax_za_mean.set_yticks(np.arange(-75, 90, 15))\n",
    "ax_za_mean.set_yticklabels([])\n",
    "ax_za_mean.set_xticks(np.arange(-2.5, 1.5, 0.5))\n",
    "ax_za_mean.set_xticklabels(['', '-2', '', -1, '', '0', '', '1'])\n",
    "ax_za_mean.axvline(0., linewidth=0.5, color='k',)\n",
    "ax_za_mean.set_xlabel('mol m$^{-2}$ yr$^{-1}$')\n",
    "\n",
    "ax_za_mean.legend(loc=(0.03, 0.45), frameon=False, handlelength=1.0, fontsize=8, handletextpad=0.5)\n",
    "\n",
    "utils.label_plots(fig, [ax for ax in axs_map], xoff=0.02, yoff=0)       \n",
    "utils.label_plots(fig, [ax for ax in axs_za + [ax_za_mean]], xoff=-0.01, start=2)\n",
    "\n",
    "plt.colorbar(cf, cax=cax)\n",
    "cax.set_title('mol m$^{-2}$ yr$^{-1}$')\n",
    "\n",
    "utils.savefig('fgco2.pdf')"
   ]
  },
  {
   "cell_type": "code",
   "execution_count": null,
   "id": "continent-hydrogen",
   "metadata": {},
   "outputs": [],
   "source": []
  }
 ],
 "metadata": {
  "kernelspec": {
   "display_name": "Python [conda env:miniconda3-cesm2-marbl]",
   "language": "python",
   "name": "conda-env-miniconda3-cesm2-marbl-py"
  },
  "language_info": {
   "codemirror_mode": {
    "name": "ipython",
    "version": 3
   },
   "file_extension": ".py",
   "mimetype": "text/x-python",
   "name": "python",
   "nbconvert_exporter": "python",
   "pygments_lexer": "ipython3",
   "version": "3.7.10"
  }
 },
 "nbformat": 4,
 "nbformat_minor": 5
}
