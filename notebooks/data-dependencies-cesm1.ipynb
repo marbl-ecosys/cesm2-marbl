{
 "cells": [
  {
   "cell_type": "markdown",
   "id": "1c8d867f-db31-4da5-9b5e-f03affd07449",
   "metadata": {},
   "source": [
    "# Identify CESM1 data dependencies"
   ]
  },
  {
   "cell_type": "code",
   "execution_count": 1,
   "id": "7aa808f6-2bca-4b1e-bf57-86db536b2d79",
   "metadata": {},
   "outputs": [],
   "source": [
    "%load_ext autoreload\n",
    "%autoreload 2"
   ]
  },
  {
   "cell_type": "code",
   "execution_count": 2,
   "id": "62f0b8d1-95aa-4268-b317-94246f5982bb",
   "metadata": {},
   "outputs": [],
   "source": [
    "import os\n",
    "from subprocess import check_call\n",
    "import yaml\n",
    "\n",
    "import intake\n",
    "\n",
    "import pandas as pd\n",
    "import xarray as xr\n",
    "\n",
    "import ann_avg_utils as aau\n",
    "import funnel\n",
    "import operators as ops\n",
    "import utils"
   ]
  },
  {
   "cell_type": "markdown",
   "id": "b25f9ea7-a0b8-4c89-ae5a-1ced41465c39",
   "metadata": {},
   "source": [
    "## Raw data"
   ]
  },
  {
   "cell_type": "code",
   "execution_count": 3,
   "id": "d8ef94d0-ffa9-4f8d-adcf-c0d70df65e2b",
   "metadata": {},
   "outputs": [
    {
     "data": {
      "text/html": [
       "<p><strong>glade-cesm1-cmip5-timeseries catalog with 9 dataset(s) from 2124 asset(s)</strong>:</p> <div>\n",
       "<style scoped>\n",
       "    .dataframe tbody tr th:only-of-type {\n",
       "        vertical-align: middle;\n",
       "    }\n",
       "\n",
       "    .dataframe tbody tr th {\n",
       "        vertical-align: top;\n",
       "    }\n",
       "\n",
       "    .dataframe thead th {\n",
       "        text-align: right;\n",
       "    }\n",
       "</style>\n",
       "<table border=\"1\" class=\"dataframe\">\n",
       "  <thead>\n",
       "    <tr style=\"text-align: right;\">\n",
       "      <th></th>\n",
       "      <th>unique</th>\n",
       "    </tr>\n",
       "  </thead>\n",
       "  <tbody>\n",
       "    <tr>\n",
       "      <th>experiment</th>\n",
       "      <td>9</td>\n",
       "    </tr>\n",
       "    <tr>\n",
       "      <th>case</th>\n",
       "      <td>9</td>\n",
       "    </tr>\n",
       "    <tr>\n",
       "      <th>component</th>\n",
       "      <td>1</td>\n",
       "    </tr>\n",
       "    <tr>\n",
       "      <th>stream</th>\n",
       "      <td>1</td>\n",
       "    </tr>\n",
       "    <tr>\n",
       "      <th>variable</th>\n",
       "      <td>12</td>\n",
       "    </tr>\n",
       "    <tr>\n",
       "      <th>date_range</th>\n",
       "      <td>133</td>\n",
       "    </tr>\n",
       "    <tr>\n",
       "      <th>member_id</th>\n",
       "      <td>1</td>\n",
       "    </tr>\n",
       "    <tr>\n",
       "      <th>path</th>\n",
       "      <td>2124</td>\n",
       "    </tr>\n",
       "    <tr>\n",
       "      <th>ctrl_branch_year</th>\n",
       "      <td>4</td>\n",
       "    </tr>\n",
       "  </tbody>\n",
       "</table>\n",
       "</div>"
      ],
      "text/plain": [
       "<IPython.core.display.HTML object>"
      ]
     },
     "metadata": {},
     "output_type": "display_data"
    }
   ],
   "source": [
    "esm_collection_json = \"data/glade-cesm1-cmip5-timeseries.json\"\n",
    "catalog = intake.open_esm_datastore(esm_collection_json)\n",
    "catalog"
   ]
  },
  {
   "cell_type": "code",
   "execution_count": 4,
   "id": "29028357-f42e-4120-a259-ee637ebadc3b",
   "metadata": {},
   "outputs": [
    {
     "data": {
      "text/plain": [
       "['photoC_TOT_zint_100m',\n",
       " 'photoC_diat_zint_100m',\n",
       " 'photoC_TOT_zint',\n",
       " 'photoC_diat_zint',\n",
       " 'POC_FLUX_100m',\n",
       " 'CaCO3_FLUX_100m',\n",
       " 'SiO2_FLUX_100m',\n",
       " 'diaz_Nfix',\n",
       " 'NOx_FLUX',\n",
       " 'NHy_FLUX',\n",
       " 'NHx_SURFACE_EMIS',\n",
       " 'DENITRIF',\n",
       " 'SedDenitrif',\n",
       " 'DON_RIV_FLUX',\n",
       " 'DONr_RIV_FLUX',\n",
       " 'NO3_RIV_FLUX',\n",
       " 'ponToSed',\n",
       " 'FG_CO2',\n",
       " 'O2',\n",
       " 'O2_under_thres']"
      ]
     },
     "execution_count": 4,
     "metadata": {},
     "output_type": "execute_result"
    }
   ],
   "source": [
    "variable_list = aau.global_vars()['vars']\n",
    "variable_list"
   ]
  },
  {
   "cell_type": "code",
   "execution_count": 5,
   "id": "ef15cd1e-3b10-499a-ae9c-141deb999bb8",
   "metadata": {},
   "outputs": [
    {
     "data": {
      "text/plain": [
       "['DENITRIF',\n",
       " 'IRON_FLUX',\n",
       " 'NHy_FLUX',\n",
       " 'NOx_FLUX',\n",
       " 'CaCO3_FLUX_IN',\n",
       " 'FG_CO2',\n",
       " 'O2',\n",
       " 'POC_FLUX_IN',\n",
       " 'diaz_Nfix',\n",
       " 'photoC_diat',\n",
       " 'photoC_diaz',\n",
       " 'photoC_sp']"
      ]
     },
     "execution_count": 5,
     "metadata": {},
     "output_type": "execute_result"
    }
   ],
   "source": [
    "catalog_vars = list(catalog.df.variable.unique())\n",
    "catalog_vars"
   ]
  },
  {
   "cell_type": "code",
   "execution_count": 6,
   "id": "7ef97d6c-540e-4431-935e-dd2e11dff49f",
   "metadata": {},
   "outputs": [],
   "source": [
    "table_vars = ['photoC_diat', \n",
    "              'photoC_diaz', \n",
    "              'photoC_diaz',\n",
    "              'POC_FLUX_IN',\n",
    "              'CaCO3_FLUX_IN',\n",
    "              'diaz_Nfix',\n",
    "              'NHy_FLUX', 'NOx_FLUX',\n",
    "              'DENITRIF',\n",
    "              'FG_CO2',\n",
    "              'IRON_FLUX',\n",
    "             ]\n",
    "missing_vars = set(table_vars) - set(catalog_vars)\n",
    "assert not missing_vars"
   ]
  },
  {
   "cell_type": "code",
   "execution_count": 7,
   "id": "6096ab8d-fd58-4dab-9f00-37892cf2e3d4",
   "metadata": {},
   "outputs": [
    {
     "name": "stderr",
     "output_type": "stream",
     "text": [
      "/glade/work/mclong/miniconda3/envs/cesm2-marbl/lib/python3.7/site-packages/distributed/dashboard/core.py:79: UserWarning: \n",
      "Port 8787 is already in use. \n",
      "Perhaps you already have a cluster running?\n",
      "Hosting the diagnostics dashboard on a random port instead.\n",
      "  warnings.warn(\"\\n\" + msg)\n"
     ]
    },
    {
     "data": {
      "text/html": [
       "<table style=\"border: 2px solid white;\">\n",
       "<tr>\n",
       "<td style=\"vertical-align: top; border: 0px solid white\">\n",
       "<h3 style=\"text-align: left;\">Client</h3>\n",
       "<ul style=\"text-align: left; list-style: none; margin: 0; padding: 0;\">\n",
       "  <li><b>Scheduler: </b>tcp://10.12.206.42:46226</li>\n",
       "  <li><b>Dashboard: </b><a href='https://jupyterhub.hpc.ucar.edu/stable/user/mclong/proxy/42332/status' target='_blank'>https://jupyterhub.hpc.ucar.edu/stable/user/mclong/proxy/42332/status</a>\n",
       "</ul>\n",
       "</td>\n",
       "<td style=\"vertical-align: top; border: 0px solid white\">\n",
       "<h3 style=\"text-align: left;\">Cluster</h3>\n",
       "<ul style=\"text-align: left; list-style:none; margin: 0; padding: 0;\">\n",
       "  <li><b>Workers: </b>0</li>\n",
       "  <li><b>Cores: </b>0</li>\n",
       "  <li><b>Memory: </b>0 B</li>\n",
       "</ul>\n",
       "</td>\n",
       "</tr>\n",
       "</table>"
      ],
      "text/plain": [
       "<Client: 'tcp://10.12.206.42:46226' processes=0 threads=0, memory=0 B>"
      ]
     },
     "execution_count": 7,
     "metadata": {},
     "output_type": "execute_result"
    }
   ],
   "source": [
    "cluster, client = utils.get_ClusterClient()\n",
    "cluster.scale(12) #adapt(minimum_jobs=0, maximum_jobs=24)\n",
    "client"
   ]
  },
  {
   "cell_type": "code",
   "execution_count": 8,
   "id": "a69141ae-438e-46df-905d-91a1907b678d",
   "metadata": {},
   "outputs": [
    {
     "data": {
      "text/plain": [
       "{'piControl': {'slices': [slice(120, 320, None)],\n",
       "  'date_ranges': ['012101-032012'],\n",
       "  'type': 'isel'},\n",
       " 'historical': {'slices': [slice('1981-01-15', '2006-01-15', None)],\n",
       "  'date_ranges': ['198101-200512'],\n",
       "  'type': 'sel'},\n",
       " 'RCP-8.5': {'slices': [slice('2090-01-15', '2100-01-15', None),\n",
       "   slice('2005-01-15', '2015-01-15', None)],\n",
       "  'date_ranges': ['209001-210012', '200501-201412'],\n",
       "  'type': 'sel'}}"
      ]
     },
     "execution_count": 8,
     "metadata": {},
     "output_type": "execute_result"
    }
   ],
   "source": [
    "experiment_list = [\n",
    "    \"piControl\", \"historical\", \"RCP-8.5\",\n",
    "]\n",
    "time_slices_dict = {\n",
    "    'piControl': {\n",
    "        'slices': [slice(120, 320)], \n",
    "        'date_ranges': ['012101-032012'],\n",
    "        'type': 'isel',\n",
    "    },\n",
    "    'historical': {\n",
    "        'slices': [slice(\"1981-01-15\", \"2006-01-15\")],\n",
    "        'date_ranges': ['198101-200512'],\n",
    "        'type': 'sel',\n",
    "    },\n",
    "    'RCP-8.5': {\n",
    "        'slices': [\n",
    "            slice(\"2090-01-15\", \"2100-01-15\"), \n",
    "            slice(\"2005-01-15\", \"2015-01-15\")\n",
    "        ],\n",
    "        'date_ranges': ['209001-210012', '200501-201412'],\n",
    "        'type': 'sel',\n",
    "    },\n",
    "}\n",
    "time_slices_dict"
   ]
  },
  {
   "cell_type": "code",
   "execution_count": null,
   "id": "cf92959f-b320-4919-b0c5-fbaca7268574",
   "metadata": {},
   "outputs": [
    {
     "name": "stdout",
     "output_type": "stream",
     "text": [
      "\n",
      "--> The keys in the returned dictionary of datasets are constructed as follows:\n",
      "\t'component.experiment.stream'\n"
     ]
    }
   ],
   "source": [
    "clobber = False\n",
    "file_format = \"zarr\"\n",
    "\n",
    "data_dir = f'/glade/scratch/{os.environ[\"USER\"]}/cesm2-marbl-data-v2'\n",
    "\n",
    "cdf_kwargs_stream = {\n",
    "    'pop.h': dict(chunks={'time': 12}, decode_coords=False),\n",
    "    'pop.h.ecosys.nyear1': dict(chunks={'time': 1}, decode_coords=False),\n",
    "}\n",
    "\n",
    "for experiment in experiment_list:\n",
    "    slice_info = time_slices_dict[experiment]\n",
    "    slices = slice_info[\"slices\"]\n",
    "    date_ranges = slice_info[\"date_ranges\"]\n",
    "    slice_type = slice_info[\"type\"]\n",
    "    \n",
    "    for this_slice, date_range in zip(slices, date_ranges):\n",
    "        \n",
    "        for v in table_vars:\n",
    "            cat_sub = catalog.search(\n",
    "                experiment=experiment, \n",
    "                variable=v,\n",
    "            )\n",
    "\n",
    "            keys = list(cat_sub.keys())\n",
    "            if not keys:\n",
    "                print(f'missing: {collection_type}, {experiment}, {v}')\n",
    "                continue\n",
    "\n",
    "            elif len(keys) > 1:                \n",
    "                print(f'{v} -- expecting single key, found: {keys}')\n",
    "                continue\n",
    "\n",
    "            key = keys[0]\n",
    "            key_info = funnel.core.intake_esm_get_keys_info(cat_sub)[key]                       \n",
    "            stream = key_info['stream']\n",
    "\n",
    "            name = f\"cesm1-cmip5.{experiment}.{stream}.{v}.{date_range}\"\n",
    "            file_out = f'{data_dir}/{name}.{file_format}'\n",
    "\n",
    "            # to write or not to write? if not, move on\n",
    "            if os.path.exists(file_out) and not clobber:\n",
    "                continue \n",
    "\n",
    "            dsets = cat_sub.to_dataset_dict(cdf_kwargs=cdf_kwargs_stream[\"pop.h\"])        \n",
    "            case_list = sorted(list(set(cat_sub.df.case.to_list())))\n",
    "\n",
    "            # get the dataset\n",
    "            dsets = cat_sub.to_dataset_dict(cdf_kwargs=cdf_kwargs_stream[stream])\n",
    "            _, ds = dsets.popitem()\n",
    "\n",
    "            ds.attrs['cases'] = ','.join(case_list)\n",
    "\n",
    "            # center the time axix\n",
    "            #ds = ops.center_time(ds)\n",
    "\n",
    "            # apply operations        \n",
    "            if slice_type == \"sel\":\n",
    "                ds = ds.sel(time=this_slice)\n",
    "            else:\n",
    "                ds = ds.isel(time=this_slice)\n",
    "\n",
    "            # write\n",
    "            if file_format == 'zarr':\n",
    "                ds.to_zarr(file_out, mode='w', consolidated=True)\n",
    "            else:\n",
    "                ds.to_netcdf(file_out, unlimited_dims=['time'])"
   ]
  },
  {
   "cell_type": "code",
   "execution_count": null,
   "id": "999d8995-37a2-4029-ac72-85509b331ec7",
   "metadata": {},
   "outputs": [],
   "source": [
    "!"
   ]
  },
  {
   "cell_type": "code",
   "execution_count": null,
   "id": "9777e35f-6f4d-4aee-b90e-063bce0eb51b",
   "metadata": {},
   "outputs": [],
   "source": []
  }
 ],
 "metadata": {
  "kernelspec": {
   "display_name": "Python [conda env:miniconda3-cesm2-marbl]",
   "language": "python",
   "name": "conda-env-miniconda3-cesm2-marbl-py"
  },
  "language_info": {
   "codemirror_mode": {
    "name": "ipython",
    "version": 3
   },
   "file_extension": ".py",
   "mimetype": "text/x-python",
   "name": "python",
   "nbconvert_exporter": "python",
   "pygments_lexer": "ipython3",
   "version": "3.7.10"
  }
 },
 "nbformat": 4,
 "nbformat_minor": 5
}
