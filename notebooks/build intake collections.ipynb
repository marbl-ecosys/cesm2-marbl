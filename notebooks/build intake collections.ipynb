{
 "cells": [
  {
   "cell_type": "markdown",
   "metadata": {},
   "source": [
    "## Script to Create New `intake-esm` Collections (csv.gz) from Old Collections (nc)\n",
    "\n",
    "This notebook assumes a netcdf collection  already exists.\n",
    "If needed, create nc collection files in `~/.intake_esm/collections` from the YAML files in `intake-esm-collection-defs`.\n",
    "E.g. to make `CESM1-CMIP5.nc`:\n",
    "\n",
    "```\n",
    "$ conda activate /glade/work/abanihi/softwares/miniconda3/envs/legacy-intake-esm/\n",
    "(legacy-intake-esm)$ intake-esm-builder -cdef glade-cesm1-cmip5-collection.yaml\n",
    "```\n",
    "\n",
    "Note that I needed to update that old version of `intake-esm` to make `CESM2-CMIP6.nc`.\n",
    "I did this in a slightly modified conda environment based on my `intake-esm` sandbox:\n",
    "\n",
    "```\n",
    "$ conda activate /glade/work/mlevy/miniconda3/envs/legacy_intake/\n",
    "(legacy_intake) $ intake-esm-builder -cdef glade-cesm2-cmip6-collection.yaml\n",
    "```\n",
    "\n",
    "I believe that the above conda environment just needs `intake-esm` v2019.8.23;\n",
    "work is in progress to be able to point `intake-esm-builder` to a directory and have it generate the `csv.gz` collection."
   ]
  },
  {
   "cell_type": "code",
   "execution_count": 1,
   "metadata": {},
   "outputs": [],
   "source": [
    "import xarray as xr\n",
    "import numpy as np\n",
    "\n",
    "def prune_bad_collection_data(df):\n",
    "    df = df.copy()\n",
    "    bad_data = np.zeros(len(df), dtype=bool)\n",
    "    bad_data = (bad_data \n",
    "                | df.date_range.isin(['185002-190001', '190002-195001', '195002-200001', '200002-201412']) \n",
    "                | df.path.str.contains('\\.back/|\\.back2/|\\.backup\\.04012019/'))\n",
    "    print(f\"Removing {sum(bad_data)} entries\")\n",
    "    return df[~bad_data]\n",
    "\n",
    "def netcdf_to_df(file_in):\n",
    "    \"\"\"\n",
    "       file_in: netcdf file generated from intake-esm-builder\n",
    "    \"\"\"\n",
    "    df = xr.open_dataset(file_in).to_dataframe()\n",
    "    df = df.drop(columns=['resource', 'resource_type', 'direct_access', 'file_basename', 'year_offset', 'sequence_order', 'grid'])\n",
    "    df = df.rename(columns = {'file_fullpath' : 'path'})\n",
    "    return(df)"
   ]
  },
  {
   "cell_type": "markdown",
   "metadata": {},
   "source": [
    "### Generate the collection dataframe\n",
    "\n",
    "There are two different `CESM2-CMIP6.nc` files.\n",
    "The one in `~mclong/` points to data in `/glade/collections/cdg/timeseries-cmip6`; those runs are being moved to `/glade/campaign/collections/cmip/CMIP6/timeseries-cmip6`.\n",
    "\n",
    "There is also a collection for `CESM1-CMIP5.nc`, which assumes data has been copied from HPSS to `/glade/p/cgd/oce/projects/cesm2-marbl/intake-esm-data`.\n",
    "The `get_ocn_cmip5_files.sh` script can be used to add more data to those directories."
   ]
  },
  {
   "cell_type": "code",
   "execution_count": 2,
   "metadata": {},
   "outputs": [
    {
     "name": "stdout",
     "output_type": "stream",
     "text": [
      "Dataframe from Mike's netcdf file (generated from /glade/p/cgd/oce/projects/cesm2-marbl/intake-esm-data)\n",
      "----\n",
      "        experiment                           case component stream   variable  \\\n",
      "index                                                                           \n",
      "0      1pctCO2-rad  b40.1850_ramp.1deg.ncbcrd.002       ocn  pop.h   DENITRIF   \n",
      "1      1pctCO2-rad  b40.1850_ramp.1deg.ncbcrd.002       ocn  pop.h   DENITRIF   \n",
      "2      1pctCO2-rad  b40.1850_ramp.1deg.ncbcrd.002       ocn  pop.h   DENITRIF   \n",
      "3      1pctCO2-rad  b40.1850_ramp.1deg.ncbcrd.002       ocn  pop.h   DENITRIF   \n",
      "4      1pctCO2-rad  b40.1850_ramp.1deg.ncbcrd.002       ocn  pop.h   DENITRIF   \n",
      "...            ...                            ...       ...    ...        ...   \n",
      "2119   esm-RCP-8.5       b40.rcp8_5.1deg.bprp.002       ocn  pop.h  photoC_sp   \n",
      "2120   esm-RCP-8.5       b40.rcp8_5.1deg.bprp.002       ocn  pop.h  photoC_sp   \n",
      "2121   esm-RCP-8.5       b40.rcp8_5.1deg.bprp.002       ocn  pop.h  photoC_sp   \n",
      "2122   esm-RCP-8.5       b40.rcp8_5.1deg.bprp.002       ocn  pop.h  photoC_sp   \n",
      "2123   esm-RCP-8.5       b40.rcp8_5.1deg.bprp.002       ocn  pop.h  photoC_sp   \n",
      "\n",
      "          date_range  member_id  \\\n",
      "index                             \n",
      "0      000101-000912          0   \n",
      "1      001001-001912          0   \n",
      "2      002001-002912          0   \n",
      "3      003001-003912          0   \n",
      "4      004001-004912          0   \n",
      "...              ...        ...   \n",
      "2119   206001-206912          0   \n",
      "2120   207001-207912          0   \n",
      "2121   208001-208912          0   \n",
      "2122   209001-209912          0   \n",
      "2123   210001-210012          0   \n",
      "\n",
      "                                                    path  ctrl_branch_year  \n",
      "index                                                                       \n",
      "0      /glade/p/cgd/oce/projects/cesm2-marbl/intake-e...               151  \n",
      "1      /glade/p/cgd/oce/projects/cesm2-marbl/intake-e...               151  \n",
      "2      /glade/p/cgd/oce/projects/cesm2-marbl/intake-e...               151  \n",
      "3      /glade/p/cgd/oce/projects/cesm2-marbl/intake-e...               151  \n",
      "4      /glade/p/cgd/oce/projects/cesm2-marbl/intake-e...               151  \n",
      "...                                                  ...               ...  \n",
      "2119   /glade/p/cgd/oce/projects/cesm2-marbl/intake-e...              2005  \n",
      "2120   /glade/p/cgd/oce/projects/cesm2-marbl/intake-e...              2005  \n",
      "2121   /glade/p/cgd/oce/projects/cesm2-marbl/intake-e...              2005  \n",
      "2122   /glade/p/cgd/oce/projects/cesm2-marbl/intake-e...              2005  \n",
      "2123   /glade/p/cgd/oce/projects/cesm2-marbl/intake-e...              2005  \n",
      "\n",
      "[2124 rows x 9 columns]\n"
     ]
    }
   ],
   "source": [
    "# CESM2_CMIP6 = prune_bad_collection_data(netcdf_to_df('/glade/u/home/mlevy/.intake_esm/collections/CESM2-CMIP6.nc'))\n",
    "# print(\"Dataframe from Mike's netcdf file (generated from /glade/campaign on Casper)\\n----\\n{}\".format(CESM2_CMIP6))\n",
    "\n",
    "CESM1_CMIP5 = netcdf_to_df('/glade/u/home/mlevy/.intake_esm/collections/CESM1-CMIP5.nc')\n",
    "print(\"Dataframe from Mike's netcdf file (generated from /glade/p/cgd/oce/projects/cesm2-marbl/intake-esm-data)\\n----\\n{}\".format(CESM1_CMIP5))\n"
   ]
  },
  {
   "cell_type": "markdown",
   "metadata": {},
   "source": [
    "### Write`JSON` and `csv` Files Defining Collection\n",
    "\n",
    "`intake-esm` wants the dataframe written as a `csv` file (it is okay to compress with `gzip`).\n",
    "Additionally, there is a JSON file that points to the `.csv.gz` file and also defines the different columns."
   ]
  },
  {
   "cell_type": "code",
   "execution_count": 3,
   "metadata": {},
   "outputs": [],
   "source": [
    "# df.to_csv('/glade/work/mlevy/intake-esm-collection/CESM1-CMIP5_only-NOT_CMORIZED.csv.gz', compression='gzip', index=False)\n",
    "import os\n",
    "import json\n",
    "\n",
    "def write_collection(df, root_dir, collection_name, desc):\n",
    "    \"\"\"\n",
    "       Write df as a csv file (file name is collection_name+'.csv.gz'; written to root_dir+'/csv.gz/')\n",
    "       Write json file describing collection (file name is collection_name+'.json'; written to root_dir+'/json/')\n",
    "    \"\"\"\n",
    "\n",
    "    # Make sure output directories exist\n",
    "    dir_not_found = False\n",
    "    csv_dir = os.path.join(root_dir, 'csv.gz')\n",
    "    json_dir = os.path.join(root_dir, 'json')\n",
    "    if not os.path.isdir(csv_dir):\n",
    "        dir_not_found = True\n",
    "        print('Can not find directory {}'.format(csv_dir))\n",
    "    if not os.path.isdir(json_dir):\n",
    "        dir_not_found = True\n",
    "        print('Can not find directory {}'.format(json_dir))\n",
    "    if dir_not_found:\n",
    "        raise ValueError('Can not find needed subdirectories in {}'.format(root_dir))\n",
    "\n",
    "    # Write csv file\n",
    "    csv_file = os.path.join(csv_dir, collection_name+'.csv.gz')\n",
    "    df.to_csv(csv_file, compression='gzip', index=False)\n",
    "\n",
    "    # Write json_file\n",
    "    json_file = os.path.join(json_dir, collection_name+'.json')\n",
    "    collection = dict()\n",
    "    collection[\"esmcat_version\"] = \"0.1.0\"\n",
    "    collection[\"id\"] = collection_name\n",
    "    collection[\"description\"] = desc\n",
    "    collection[\"catalog_file\"] = csv_file\n",
    "    collection[\"attributes\"] = []\n",
    "    for col in df.columns:\n",
    "        collection[\"attributes\"].append({\"column_name\" : col, \"vocabulary\" : \"\"})\n",
    "    collection[\"assets\"] = {\"column_name\" : \"path\", \"format\" : \"netcdf\"}\n",
    "    collection[\"aggregation_control\"] = dict()\n",
    "    collection[\"aggregation_control\"][\"variable_column_name\"] = \"variable\"\n",
    "    collection[\"aggregation_control\"][\"groupby_attrs\"] = [\"component\", \"experiment\", \"stream\"]\n",
    "    collection[\"aggregation_control\"][\"aggregations\"] = []\n",
    "    collection[\"aggregation_control\"][\"aggregations\"].append({\"type\" : \"union\", \"attribute_name\" : \"variable\"})\n",
    "    collection[\"aggregation_control\"][\"aggregations\"].append({\"type\" : \"join_existing\", \"attribute_name\" : \"date_range\", \"options\" : {\"dim\" : \"time\", \"coords\" : \"minimal\", \"compat\": \"override\"}})\n",
    "    collection[\"aggregation_control\"][\"aggregations\"].append({\"type\" : \"join_new\", \"attribute_name\" : \"member_id\", \"options\" : {\"coords\" : \"minimal\", \"compat\": \"override\"}})\n",
    "    \n",
    "    with open(json_file, \"w\") as f:\n",
    "        f.write(json.dumps(collection, indent=2))"
   ]
  },
  {
   "cell_type": "code",
   "execution_count": 4,
   "metadata": {},
   "outputs": [],
   "source": [
    "#write_collection(CESM2_CMIP6, '/glade/work/mlevy/intake-esm-collection', 'campaign-cesm2-cmip6-timeseries',\n",
    "#                 desc=\"ESM collection for the CESM2 raw output that went into CMIP6 data. Located in campaign storage, accessible via GLADE on casper at /glade/campaign/collections/cmip/CMIP6/timeseries-cmip6\")\n",
    "\n",
    "write_collection(CESM1_CMIP5, '/glade/work/mlevy/intake-esm-collection', 'glade-cesm1-cmip5-timeseries',\n",
    "                 desc=\"ESM collection for the CESM1 raw output that went into CMIP5 data. Located on glade at /glade/p/cgd/oce/projects/cesm2-marbl/intake-esm-data\")"
   ]
  }
 ],
 "metadata": {
  "kernelspec": {
   "display_name": "Python [conda env:cesm2-marbl]",
   "language": "python",
   "name": "conda-env-cesm2-marbl-py"
  },
  "language_info": {
   "codemirror_mode": {
    "name": "ipython",
    "version": 3
   },
   "file_extension": ".py",
   "mimetype": "text/x-python",
   "name": "python",
   "nbconvert_exporter": "python",
   "pygments_lexer": "ipython3",
   "version": "3.7.3"
  }
 },
 "nbformat": 4,
 "nbformat_minor": 4
}
