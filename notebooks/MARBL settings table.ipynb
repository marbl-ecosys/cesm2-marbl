{
 "cells": [
  {
   "cell_type": "code",
   "execution_count": 1,
   "metadata": {},
   "outputs": [
    {
     "name": "stdout",
     "output_type": "stream",
     "text": [
      "pandas 1.0.3\n",
      "yaml   5.3.1\n",
      "2020-05-08 \n",
      "\n",
      "compiler   : GCC 7.3.0\n",
      "system     : Linux\n",
      "release    : 3.10.0-693.21.1.el7.x86_64\n",
      "machine    : x86_64\n",
      "processor  : x86_64\n",
      "CPU cores  : 72\n",
      "interpreter: 64bit\n",
      "host name  : casper21\n",
      "Git hash   : 3a69d4ecbc39b859f2c5f30fab965453a31b0ce8\n"
     ]
    }
   ],
   "source": [
    "import MARBL_tools # Note: I softlinked $MARBL/MARBL_tools into the defaults directory\n",
    "                   #       I also needed to update some of the python to grab more data from the JSON file\n",
    "    \n",
    "import yaml\n",
    "import pandas as pd\n",
    "\n",
    "%load_ext watermark\n",
    "%watermark -d -iv -m -g -h"
   ]
  },
  {
   "cell_type": "code",
   "execution_count": 2,
   "metadata": {},
   "outputs": [],
   "source": [
    "with open('MARBL_settings.yaml', encoding='utf-8') as file_in:\n",
    "    config_dict = yaml.safe_load(file_in)\n",
    "MARBL_settings = MARBL_tools.MARBL_settings_class('defaults/json/settings_cesm2.1.json',\n",
    "                                                  config_dict['defaults']['saved_state_source'],\n",
    "                                                  config_dict['defaults']['grid']\n",
    "                                                 )"
   ]
  },
  {
   "cell_type": "code",
   "execution_count": 3,
   "metadata": {},
   "outputs": [],
   "source": [
    "# I think the easiest way to have consistency in units is to create a function here\n",
    "def _unit_conversion(old_units):\n",
    "    new_units = None\n",
    "    \n",
    "    if old_units == \"1/day\":\n",
    "        new_units = \"$\\mathrm{d^{-1}}$\"\n",
    "    if new_units is not None:\n",
    "        return new_units\n",
    "    return old_units"
   ]
  },
  {
   "cell_type": "code",
   "execution_count": 4,
   "metadata": {},
   "outputs": [],
   "source": [
    "table_dict = {}\n",
    "table_dict['Parameter'] = []\n",
    "table_dict['Value'] = []\n",
    "table_dict['Units'] = []\n",
    "table_dict['Description'] = []\n",
    "for varname in config_dict['Parameters']:\n",
    "    # Parameters column contains variable name unless a different label was specified\n",
    "    try:\n",
    "        table_dict['Parameter'].append(f\"{config_dict['Parameters'][varname]['label']}\")\n",
    "    except:\n",
    "        table_dict['Parameter'].append(varname)\n",
    "\n",
    "    # Need a way to standardize units\n",
    "    table_dict['Units'].append(_unit_conversion(MARBL_settings.settings_dict[varname]['units']))\n",
    "\n",
    "    # Description column contains variable longname unless a different description was specified\n",
    "    try:\n",
    "        table_dict['Description'].append(config_dict['Parameters'][varname]['description'])\n",
    "    except:\n",
    "        table_dict['Description'].append(MARBL_settings.settings_dict[varname]['longname'])\n",
    "    # value comes from parsing the JSON file\n",
    "    table_dict['Value'].append(MARBL_settings.settings_dict[varname]['value'])\n"
   ]
  },
  {
   "cell_type": "code",
   "execution_count": 5,
   "metadata": {},
   "outputs": [
    {
     "data": {
      "text/html": [
       "<div>\n",
       "<style scoped>\n",
       "    .dataframe tbody tr th:only-of-type {\n",
       "        vertical-align: middle;\n",
       "    }\n",
       "\n",
       "    .dataframe tbody tr th {\n",
       "        vertical-align: top;\n",
       "    }\n",
       "\n",
       "    .dataframe thead th {\n",
       "        text-align: right;\n",
       "    }\n",
       "</style>\n",
       "<table border=\"1\" class=\"dataframe\">\n",
       "  <thead>\n",
       "    <tr style=\"text-align: right;\">\n",
       "      <th></th>\n",
       "      <th>Parameter</th>\n",
       "      <th>Value</th>\n",
       "      <th>Units</th>\n",
       "      <th>Description</th>\n",
       "    </tr>\n",
       "  </thead>\n",
       "  <tbody>\n",
       "    <tr>\n",
       "      <th>0</th>\n",
       "      <td>$\\mu_{\\mathrm{ref},\\mathrm{sp}}$</td>\n",
       "      <td>5.0</td>\n",
       "      <td>$\\mathrm{d^{-1}}$</td>\n",
       "      <td>Maximum C-spec growth rate at Tref</td>\n",
       "    </tr>\n",
       "    <tr>\n",
       "      <th>1</th>\n",
       "      <td>$\\mu_{\\mathrm{ref},\\mathrm{diat}}$</td>\n",
       "      <td>5.0</td>\n",
       "      <td>$\\mathrm{d^{-1}}$</td>\n",
       "      <td>Maximum C-spec growth rate at Tref</td>\n",
       "    </tr>\n",
       "    <tr>\n",
       "      <th>2</th>\n",
       "      <td>$\\mu_{\\mathrm{ref},\\mathrm{diaz}}$</td>\n",
       "      <td>2.5</td>\n",
       "      <td>$\\mathrm{d^{-1}}$</td>\n",
       "      <td>Maximum C-spec growth rate at Tref</td>\n",
       "    </tr>\n",
       "  </tbody>\n",
       "</table>\n",
       "</div>"
      ],
      "text/plain": [
       "                            Parameter  Value              Units  \\\n",
       "0    $\\mu_{\\mathrm{ref},\\mathrm{sp}}$    5.0  $\\mathrm{d^{-1}}$   \n",
       "1  $\\mu_{\\mathrm{ref},\\mathrm{diat}}$    5.0  $\\mathrm{d^{-1}}$   \n",
       "2  $\\mu_{\\mathrm{ref},\\mathrm{diaz}}$    2.5  $\\mathrm{d^{-1}}$   \n",
       "\n",
       "                          Description  \n",
       "0  Maximum C-spec growth rate at Tref  \n",
       "1  Maximum C-spec growth rate at Tref  \n",
       "2  Maximum C-spec growth rate at Tref  "
      ]
     },
     "execution_count": 5,
     "metadata": {},
     "output_type": "execute_result"
    }
   ],
   "source": [
    "# Make table\n",
    "pd.DataFrame(table_dict)"
   ]
  },
  {
   "cell_type": "code",
   "execution_count": 6,
   "metadata": {},
   "outputs": [
    {
     "name": "stdout",
     "output_type": "stream",
     "text": [
      "\\begin{tabular}{lrll}\n",
      "\\toprule\n",
      "                          Parameter &  Value &              Units &                         Description \\\\\n",
      "\\midrule\n",
      "   $\\mu_{\\mathrm{ref},\\mathrm{sp}}$ &    5.0 &  $\\mathrm{d^{-1}}$ &  Maximum C-spec growth rate at Tref \\\\\n",
      " $\\mu_{\\mathrm{ref},\\mathrm{diat}}$ &    5.0 &  $\\mathrm{d^{-1}}$ &  Maximum C-spec growth rate at Tref \\\\\n",
      " $\\mu_{\\mathrm{ref},\\mathrm{diaz}}$ &    2.5 &  $\\mathrm{d^{-1}}$ &  Maximum C-spec growth rate at Tref \\\\\n",
      "\\bottomrule\n",
      "\\end{tabular}\n",
      "\n"
     ]
    }
   ],
   "source": [
    "print(pd.DataFrame(table_dict).to_latex(index=False, escape=False))"
   ]
  }
 ],
 "metadata": {
  "kernelspec": {
   "display_name": "Python [conda env:cesm2-marbl]",
   "language": "python",
   "name": "conda-env-cesm2-marbl-py"
  },
  "language_info": {
   "codemirror_mode": {
    "name": "ipython",
    "version": 3
   },
   "file_extension": ".py",
   "mimetype": "text/x-python",
   "name": "python",
   "nbconvert_exporter": "python",
   "pygments_lexer": "ipython3",
   "version": "3.7.6"
  }
 },
 "nbformat": 4,
 "nbformat_minor": 4
}
